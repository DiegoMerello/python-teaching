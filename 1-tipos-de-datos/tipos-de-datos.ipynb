{
 "cells": [
  {
   "cell_type": "markdown",
   "id": "f26e2470",
   "metadata": {},
   "source": [
    "# Program 1"
   ]
  },
  {
   "cell_type": "code",
   "execution_count": 1,
   "id": "ec1ea50f",
   "metadata": {},
   "outputs": [
    {
     "name": "stdout",
     "output_type": "stream",
     "text": [
      "Introduzca el primer número 1\n"
     ]
    }
   ],
   "source": [
    "num_1 = int(input(\"Introduzca el primer número \"))"
   ]
  },
  {
   "cell_type": "code",
   "execution_count": 2,
   "id": "6f519c99",
   "metadata": {},
   "outputs": [
    {
     "name": "stdout",
     "output_type": "stream",
     "text": [
      "Introduzca el segundo número 3\n"
     ]
    }
   ],
   "source": [
    "num_2 = int(input(\"Introduzca el segundo número \"))"
   ]
  },
  {
   "cell_type": "code",
   "execution_count": 3,
   "id": "3eb551ea",
   "metadata": {},
   "outputs": [
    {
     "name": "stdout",
     "output_type": "stream",
     "text": [
      "La media es: 2.0\n"
     ]
    }
   ],
   "source": [
    "average = (num_1 + num_2)/2\n",
    "print(\"La media es: \" + str(average))"
   ]
  },
  {
   "cell_type": "markdown",
   "id": "b79d9e22",
   "metadata": {},
   "source": [
    "# Program 2"
   ]
  },
  {
   "cell_type": "code",
   "execution_count": 4,
   "id": "9d816403",
   "metadata": {},
   "outputs": [],
   "source": [
    "def introducir_producto():\n",
    "    cod = int(input(\"Introduzca el código \"))\n",
    "    price = float(input(\"Introduzca el precio \"))\n",
    "    producto = (cod, price)\n",
    "    return producto"
   ]
  },
  {
   "cell_type": "code",
   "execution_count": 5,
   "id": "b594ea8a",
   "metadata": {},
   "outputs": [
    {
     "data": {
      "text/plain": [
       "tuple"
      ]
     },
     "execution_count": 5,
     "metadata": {},
     "output_type": "execute_result"
    }
   ],
   "source": [
    "producto = (2,3)\n",
    "type(producto)"
   ]
  },
  {
   "cell_type": "code",
   "execution_count": 6,
   "id": "afe25fb8",
   "metadata": {},
   "outputs": [
    {
     "data": {
      "text/plain": [
       "list"
      ]
     },
     "execution_count": 6,
     "metadata": {},
     "output_type": "execute_result"
    }
   ],
   "source": [
    "producto = [2,3]\n",
    "type(producto)"
   ]
  },
  {
   "cell_type": "markdown",
   "id": "5ca244da",
   "metadata": {},
   "source": [
    "Métodos de listas:\n",
    "\n",
    "https://www.analyticsvidhya.com/blog/2021/06/15-functions-you-should-know-to-master-lists-in-python/"
   ]
  },
  {
   "cell_type": "code",
   "execution_count": 7,
   "id": "0e6d8357",
   "metadata": {},
   "outputs": [
    {
     "name": "stdout",
     "output_type": "stream",
     "text": [
      "Introduzca el código 1\n",
      "Introduzca el precio 20\n"
     ]
    }
   ],
   "source": [
    "p1 = introducir_producto()"
   ]
  },
  {
   "cell_type": "code",
   "execution_count": 8,
   "id": "98d75750",
   "metadata": {},
   "outputs": [
    {
     "name": "stdout",
     "output_type": "stream",
     "text": [
      "Introduzca el código 2\n",
      "Introduzca el precio 300\n"
     ]
    }
   ],
   "source": [
    "p2 = introducir_producto()"
   ]
  },
  {
   "cell_type": "code",
   "execution_count": 9,
   "id": "344a5727",
   "metadata": {},
   "outputs": [
    {
     "name": "stdout",
     "output_type": "stream",
     "text": [
      "Introduzca el código 3\n",
      "Introduzca el precio 200\n"
     ]
    }
   ],
   "source": [
    "p3 = introducir_producto()"
   ]
  },
  {
   "cell_type": "markdown",
   "id": "ebcb0a2c",
   "metadata": {},
   "source": [
    "### Opción 1:"
   ]
  },
  {
   "cell_type": "code",
   "execution_count": 15,
   "id": "8837e675",
   "metadata": {},
   "outputs": [
    {
     "name": "stdout",
     "output_type": "stream",
     "text": [
      "CODE\tPRICE\n",
      "================\n",
      "1\t20.0\n"
     ]
    }
   ],
   "source": [
    "print(\"CODE\\tPRICE\\n================\")\n",
    "print(str(p1[0])+\"\\t\"+str(p1[1]))"
   ]
  },
  {
   "cell_type": "code",
   "execution_count": 20,
   "id": "b04a8ccc",
   "metadata": {},
   "outputs": [
    {
     "name": "stdout",
     "output_type": "stream",
     "text": [
      "CODE\tPRICE\n",
      "================\n",
      "1\t20.0\n",
      "2\t300.0\n",
      "3\t200.0\n"
     ]
    }
   ],
   "source": [
    "print(\"CODE\\tPRICE\\n================\")\n",
    "print(str(p1[0])+\"\\t\"+str(p1[1]))\n",
    "print(\"{uno}\\t{dos}\".format(uno=p2[0],dos=p2[1]))\n",
    "print(\"{uno}\\t{dos}\".format(uno=p3[0],dos=p3[1]))"
   ]
  },
  {
   "cell_type": "markdown",
   "id": "52a1077d",
   "metadata": {},
   "source": [
    "### Opción 2:"
   ]
  },
  {
   "cell_type": "code",
   "execution_count": 22,
   "id": "1b0183b0",
   "metadata": {},
   "outputs": [],
   "source": [
    "def imprimir_productos(lista_productos):\n",
    "    print(\"CODE\\tPRICE\\n================\")\n",
    "    \n",
    "    for producto in lista_productos:\n",
    "        print(\"{code}\\t{precio}\".format(code=producto[0], precio=producto[1]))"
   ]
  },
  {
   "cell_type": "code",
   "execution_count": 23,
   "id": "a2745f1f",
   "metadata": {},
   "outputs": [],
   "source": [
    "lista = [p1,p2,p3]"
   ]
  },
  {
   "cell_type": "code",
   "execution_count": 24,
   "id": "ff3364be",
   "metadata": {},
   "outputs": [
    {
     "name": "stdout",
     "output_type": "stream",
     "text": [
      "CODE\tPRICE\n",
      "================\n",
      "1\t20.0\n",
      "2\t300.0\n",
      "3\t200.0\n"
     ]
    }
   ],
   "source": [
    "imprimir_productos(lista)"
   ]
  },
  {
   "cell_type": "markdown",
   "id": "6cfb3c35",
   "metadata": {},
   "source": [
    "# Program 3"
   ]
  },
  {
   "cell_type": "code",
   "execution_count": 27,
   "id": "0b4df0ea",
   "metadata": {},
   "outputs": [],
   "source": [
    "def celsius_a_farenheit(temp_celsius):\n",
    "        temp_farenheit = 1.8*temp_celsius + 32\n",
    "        return temp_farenheit"
   ]
  },
  {
   "cell_type": "code",
   "execution_count": 28,
   "id": "420cb7ae",
   "metadata": {},
   "outputs": [],
   "source": [
    "def farenheit_a_celsius(temp_farenheit):\n",
    "        temp_celsius = (temp_farenheit - 32)/1.8\n",
    "        return temp_celsius"
   ]
  },
  {
   "cell_type": "code",
   "execution_count": 29,
   "id": "7c2f9a58",
   "metadata": {},
   "outputs": [
    {
     "data": {
      "text/plain": [
       "68.0"
      ]
     },
     "execution_count": 29,
     "metadata": {},
     "output_type": "execute_result"
    }
   ],
   "source": [
    "celsius_a_farenheit(20)"
   ]
  },
  {
   "cell_type": "code",
   "execution_count": 30,
   "id": "123422fa",
   "metadata": {},
   "outputs": [
    {
     "data": {
      "text/plain": [
       "20.0"
      ]
     },
     "execution_count": 30,
     "metadata": {},
     "output_type": "execute_result"
    }
   ],
   "source": [
    "farenheit_a_celsius(68)"
   ]
  },
  {
   "cell_type": "code",
   "execution_count": 31,
   "id": "06060e14",
   "metadata": {},
   "outputs": [
    {
     "data": {
      "text/plain": [
       "20.0"
      ]
     },
     "execution_count": 31,
     "metadata": {},
     "output_type": "execute_result"
    }
   ],
   "source": [
    "farenheit_a_celsius( celsius_a_farenheit(20) )"
   ]
  },
  {
   "cell_type": "markdown",
   "id": "3e9141e9",
   "metadata": {},
   "source": [
    "# Program 4"
   ]
  },
  {
   "cell_type": "code",
   "execution_count": 34,
   "id": "a8043666",
   "metadata": {},
   "outputs": [
    {
     "name": "stdout",
     "output_type": "stream",
     "text": [
      "Introduzca su nombre: Nico\n",
      "Introduzca su direccion: Calle A\n"
     ]
    }
   ],
   "source": [
    "nombre = input(\"Introduzca su nombre: \")\n",
    "direccion = input(\"Introduzca su direccion: \")"
   ]
  },
  {
   "cell_type": "code",
   "execution_count": 36,
   "id": "aafe656d",
   "metadata": {},
   "outputs": [
    {
     "name": "stdout",
     "output_type": "stream",
     "text": [
      "Su nombre es: Nico\n",
      "Su dirección es: Calle A\n"
     ]
    }
   ],
   "source": [
    "print(\"Su nombre es: \" + nombre + \"\\nSu dirección es: \" + direccion)"
   ]
  },
  {
   "cell_type": "markdown",
   "id": "47b0106f",
   "metadata": {},
   "source": [
    "# Opcional 1"
   ]
  },
  {
   "cell_type": "code",
   "execution_count": 37,
   "id": "d3ed04e1",
   "metadata": {},
   "outputs": [
    {
     "name": "stdout",
     "output_type": "stream",
     "text": [
      "Introduzca su año de nacimiento: 1999\n"
     ]
    }
   ],
   "source": [
    "ano_nac = int(input(\"Introduzca su año de nacimiento: \"))"
   ]
  },
  {
   "cell_type": "code",
   "execution_count": 38,
   "id": "5c04e951",
   "metadata": {},
   "outputs": [],
   "source": [
    "import datetime"
   ]
  },
  {
   "cell_type": "code",
   "execution_count": 39,
   "id": "31111d3d",
   "metadata": {},
   "outputs": [
    {
     "data": {
      "text/plain": [
       "datetime.datetime(2021, 10, 6, 18, 54, 57, 439335)"
      ]
     },
     "execution_count": 39,
     "metadata": {},
     "output_type": "execute_result"
    }
   ],
   "source": [
    "datetime.datetime.now()"
   ]
  },
  {
   "cell_type": "code",
   "execution_count": 40,
   "id": "9f4caee3",
   "metadata": {},
   "outputs": [],
   "source": [
    "now = datetime.datetime.now()"
   ]
  },
  {
   "cell_type": "code",
   "execution_count": 41,
   "id": "9b993f00",
   "metadata": {},
   "outputs": [
    {
     "data": {
      "text/plain": [
       "2021"
      ]
     },
     "execution_count": 41,
     "metadata": {},
     "output_type": "execute_result"
    }
   ],
   "source": [
    "now.year"
   ]
  },
  {
   "cell_type": "code",
   "execution_count": 42,
   "id": "21d4ddb9",
   "metadata": {},
   "outputs": [],
   "source": [
    "edad = now.year - ano_nac"
   ]
  },
  {
   "cell_type": "code",
   "execution_count": 43,
   "id": "ff5f32f0",
   "metadata": {},
   "outputs": [
    {
     "name": "stdout",
     "output_type": "stream",
     "text": [
      "Tu edad es: 22\n"
     ]
    }
   ],
   "source": [
    "print(\"Tu edad es: \" + str(edad))"
   ]
  },
  {
   "cell_type": "markdown",
   "id": "924cd91c",
   "metadata": {},
   "source": [
    "# Opcional 2"
   ]
  },
  {
   "cell_type": "code",
   "execution_count": 44,
   "id": "b9372450",
   "metadata": {},
   "outputs": [
    {
     "name": "stdout",
     "output_type": "stream",
     "text": [
      "Cantidad monedas 1ct: 1\n",
      "Cantidad monedas 2ct: 2\n",
      "Cantidad monedas 5ct: 3\n",
      "Cantidad monedas 10ct: 4\n",
      "Cantidad monedas 20ct: 5\n",
      "Cantidad monedas 50ct: 6\n"
     ]
    }
   ],
   "source": [
    "one_cent = int(input(\"Cantidad monedas 1ct: \"))\n",
    "two_cent = int(input(\"Cantidad monedas 2ct: \"))\n",
    "five_cent = int(input(\"Cantidad monedas 5ct: \"))\n",
    "ten_cent = int(input(\"Cantidad monedas 10ct: \"))\n",
    "twenty_cent = int(input(\"Cantidad monedas 20ct: \"))\n",
    "fifty_cent = int(input(\"Cantidad monedas 50ct: \"))"
   ]
  },
  {
   "cell_type": "code",
   "execution_count": 46,
   "id": "3f1994be",
   "metadata": {},
   "outputs": [
    {
     "name": "stdout",
     "output_type": "stream",
     "text": [
      "Tienes 4.6 euros\n"
     ]
    }
   ],
   "source": [
    "euros = (one_cent*1 + two_cent*2 + five_cent*5 + ten_cent*10+ twenty_cent*20+fifty_cent*50)/100\n",
    "print(\"Tienes \" + str(euros) + \" euros\")"
   ]
  },
  {
   "cell_type": "code",
   "execution_count": null,
   "id": "23da6e19",
   "metadata": {},
   "outputs": [],
   "source": []
  }
 ],
 "metadata": {
  "kernelspec": {
   "display_name": "Python 3 (ipykernel)",
   "language": "python",
   "name": "python3"
  },
  "language_info": {
   "codemirror_mode": {
    "name": "ipython",
    "version": 3
   },
   "file_extension": ".py",
   "mimetype": "text/x-python",
   "name": "python",
   "nbconvert_exporter": "python",
   "pygments_lexer": "ipython3",
   "version": "3.7.8rc1"
  }
 },
 "nbformat": 4,
 "nbformat_minor": 5
}
