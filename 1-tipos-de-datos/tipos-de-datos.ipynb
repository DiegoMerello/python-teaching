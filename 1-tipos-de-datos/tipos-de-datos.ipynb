{
 "cells": [
  {
   "cell_type": "markdown",
   "id": "73a39e10",
   "metadata": {},
   "source": [
    "# Program 1"
   ]
  },
  {
   "cell_type": "code",
   "execution_count": 2,
   "id": "baab1728",
   "metadata": {},
   "outputs": [
    {
     "name": "stdout",
     "output_type": "stream",
     "text": [
      "Introduzca el primer número 1\n"
     ]
    }
   ],
   "source": [
    "num_1 = int(input(\"Introduzca el primer número \"))"
   ]
  },
  {
   "cell_type": "code",
   "execution_count": 3,
   "id": "25c23f31",
   "metadata": {},
   "outputs": [
    {
     "name": "stdout",
     "output_type": "stream",
     "text": [
      "Introduzca el segundo número 3\n"
     ]
    }
   ],
   "source": [
    "num_2 = int(input(\"Introduzca el segundo número \"))"
   ]
  },
  {
   "cell_type": "code",
   "execution_count": 6,
   "id": "a7276b82",
   "metadata": {},
   "outputs": [
    {
     "name": "stdout",
     "output_type": "stream",
     "text": [
      "La media es: 2.0\n"
     ]
    }
   ],
   "source": [
    "average = (num_1 + num_2)/2\n",
    "print(\"La media es: \" + str(average))"
   ]
  },
  {
   "cell_type": "markdown",
   "id": "e8d214d9",
   "metadata": {},
   "source": [
    "# Program 2"
   ]
  },
  {
   "cell_type": "code",
   "execution_count": 14,
   "id": "01562b3e",
   "metadata": {},
   "outputs": [],
   "source": [
    "def introducir_producto():\n",
    "    cod = int(input(\"Introduzca el código \"))\n",
    "    price = float(input(\"Introduzca el precio \"))\n",
    "    producto = (cod, price)\n",
    "    return "
   ]
  },
  {
   "cell_type": "code",
   "execution_count": 12,
   "id": "d799c2fb",
   "metadata": {},
   "outputs": [
    {
     "data": {
      "text/plain": [
       "tuple"
      ]
     },
     "execution_count": 12,
     "metadata": {},
     "output_type": "execute_result"
    }
   ],
   "source": [
    "producto = (2,3)\n",
    "type(producto)"
   ]
  },
  {
   "cell_type": "code",
   "execution_count": 13,
   "id": "bd080ef9",
   "metadata": {},
   "outputs": [
    {
     "data": {
      "text/plain": [
       "list"
      ]
     },
     "execution_count": 13,
     "metadata": {},
     "output_type": "execute_result"
    }
   ],
   "source": [
    "producto = [2,3]\n",
    "type(producto)"
   ]
  },
  {
   "cell_type": "markdown",
   "id": "1a827957",
   "metadata": {},
   "source": [
    "Métodos de listas:\n",
    "\n",
    "https://www.analyticsvidhya.com/blog/2021/06/15-functions-you-should-know-to-master-lists-in-python/"
   ]
  },
  {
   "cell_type": "code",
   "execution_count": 15,
   "id": "e403f768",
   "metadata": {},
   "outputs": [
    {
     "name": "stdout",
     "output_type": "stream",
     "text": [
      "Introduzca el código 1\n",
      "Introduzca el precio 20\n"
     ]
    }
   ],
   "source": [
    "p1 = introducir_producto()"
   ]
  },
  {
   "cell_type": "code",
   "execution_count": 16,
   "id": "37f0b94d",
   "metadata": {},
   "outputs": [
    {
     "name": "stdout",
     "output_type": "stream",
     "text": [
      "Introduzca el código 2\n",
      "Introduzca el precio 400\n"
     ]
    }
   ],
   "source": [
    "p2 = introducir_producto()"
   ]
  },
  {
   "cell_type": "code",
   "execution_count": 17,
   "id": "6e039e0f",
   "metadata": {},
   "outputs": [
    {
     "name": "stdout",
     "output_type": "stream",
     "text": [
      "Introduzca el código 3\n",
      "Introduzca el precio 50\n"
     ]
    }
   ],
   "source": [
    "p3 = introducir_producto()"
   ]
  },
  {
   "cell_type": "code",
   "execution_count": null,
   "id": "bdfc8748",
   "metadata": {},
   "outputs": [],
   "source": []
  }
 ],
 "metadata": {
  "kernelspec": {
   "display_name": "Python 3 (ipykernel)",
   "language": "python",
   "name": "python3"
  },
  "language_info": {
   "codemirror_mode": {
    "name": "ipython",
    "version": 3
   },
   "file_extension": ".py",
   "mimetype": "text/x-python",
   "name": "python",
   "nbconvert_exporter": "python",
   "pygments_lexer": "ipython3",
   "version": "3.7.8rc1"
  }
 },
 "nbformat": 4,
 "nbformat_minor": 5
}
