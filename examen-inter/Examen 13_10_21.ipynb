{
 "cells": [
  {
   "cell_type": "markdown",
   "metadata": {},
   "source": [
    "# Introducción a la Programación\n",
    "\n",
    "# Prueba intermedia 13-10-2021\n",
    "\n",
    "* Duración 90 minutos\n",
    "* No se permite el uso de documentación\n",
    "\n",
    "\n",
    "### Nombre y apellidos:  Preba\n",
    "### ID de estudiante:  \n",
    "### Grupo: E6-Analytics\n"
   ]
  },
  {
   "cell_type": "markdown",
   "metadata": {},
   "source": [
    "### Ejercicio 1 Validación de datos de entrada (2 puntos)\n",
    "Validar que una persona tiene una edad entre 18 y 25 años. Para ello, el programa debe solicitar al usuario el año de nacimiento. No se tiene en cuenta ni el mes ni el día de nacimiento, es decir, si se ha nacido en 2019 da igual que se haya nacido en enero o diciembre se tendra a día de hoy 2 años. Si la edad está fuera del rango, se debe mostrar un mensaje de error y solicitar de nuevo un nuevo año de nacimiento. Una vez superada la validación se debe mostrar en mensaje \"Bienvenido a la fiesta\"."
   ]
  },
  {
   "cell_type": "code",
   "execution_count": 1,
   "metadata": {},
   "outputs": [
    {
     "name": "stdout",
     "output_type": "stream",
     "text": [
      "Introduce el año que naciste: 1999\n",
      "Bienvenido a la fiesta\n"
     ]
    }
   ],
   "source": [
    "edad=int(input(\"Introduce el año que naciste: \"))\n",
    "while (edad>2003 or edad<1996):\n",
    "    print(\"Error\")\n",
    "    int(input(\"Introduce de nuevo el año que naciste: \"))\n",
    "else:\n",
    "    print(\"Bienvenido a la fiesta\")\n"
   ]
  },
  {
   "cell_type": "code",
   "execution_count": 4,
   "metadata": {},
   "outputs": [
    {
     "name": "stdout",
     "output_type": "stream",
     "text": [
      "Introduce año de nacimiento: 1993\n",
      "Error\n",
      "Introduce año de nacimiento: 1999\n",
      "Bienvenido a la fiesta\n"
     ]
    }
   ],
   "source": [
    "año=float(input(\"Introduce año de nacimiento: \"))\n",
    "while (año>2003 or año<1996):\n",
    "    print(\"Error\")\n",
    "    año=float(input(\"Introduce año de nacimiento: \"))\n",
    "else:\n",
    "    print(\"Bienvenido a la fiesta\")"
   ]
  },
  {
   "cell_type": "markdown",
   "metadata": {},
   "source": [
    "### Ejercicio 2  Recorrer un rango (2 puntos)\n",
    "Obtener el número impar que ocupa la posición 127 entre los números 25340 y 58765 ambos incluídos.  \n",
    "Nota: El programa debe funcionar para cualquier rango de valores, no sólo para este ejemplo.  "
   ]
  },
  {
   "cell_type": "code",
   "execution_count": 13,
   "metadata": {},
   "outputs": [],
   "source": [
    "lim_inf=25340\n",
    "lim_sup=58765\n",
    "\n",
    "posicion_impar = 0\n",
    "numero_buscado = -1 # Lo puedo inicializar a lo que quiera\n",
    "for num in range (lim_inf, lim_sup+1):\n",
    "    if(num%2!=0): # Si el número es impar entra aquí\n",
    "        posicion_impar = posicion_impar + 1 # Aumento la posición del número impar\n",
    "        if posicion_impar == 127: # Es el número que busco\n",
    "            numero_buscado = num"
   ]
  },
  {
   "cell_type": "code",
   "execution_count": 14,
   "metadata": {},
   "outputs": [
    {
     "data": {
      "text/plain": [
       "25593"
      ]
     },
     "execution_count": 14,
     "metadata": {},
     "output_type": "execute_result"
    }
   ],
   "source": [
    "numero_buscado"
   ]
  },
  {
   "cell_type": "code",
   "execution_count": 17,
   "metadata": {},
   "outputs": [
    {
     "name": "stdout",
     "output_type": "stream",
     "text": [
      "Intro limite inferior: 25340\n",
      "Intro limite superior: 58765\n"
     ]
    }
   ],
   "source": [
    "# SI quiero que valga para cualquier rango de valores:\n",
    "lim_inf=int(input(\"Intro limite inferior: \")) \n",
    "lim_sup=int(input(\"Intro limite superior: \")) \n",
    "\n",
    "posicion_impar = 0\n",
    "numero_buscado = -1 # Lo puedo inicializar a lo que quiera\n",
    "for num in range (lim_inf, lim_sup+1):\n",
    "    if(num%2!=0): # Si el número es impar entra aquí\n",
    "        posicion_impar = posicion_impar + 1 # Aumento la posición del número impar\n",
    "        if posicion_impar == 127: # Es el número que busco\n",
    "            numero_buscado = num"
   ]
  },
  {
   "cell_type": "code",
   "execution_count": 18,
   "metadata": {},
   "outputs": [
    {
     "data": {
      "text/plain": [
       "25593"
      ]
     },
     "execution_count": 18,
     "metadata": {},
     "output_type": "execute_result"
    }
   ],
   "source": [
    "numero_buscado"
   ]
  },
  {
   "cell_type": "markdown",
   "metadata": {},
   "source": [
    "### Ejercicio 3 Carta de productos y sabores (2,5 puntos)\n",
    "Supongamos que tenemos una lista de *productos*: caramelo, piruleta, chicle y chupachups y otra lista de *sabores*: fresa, cereza, limón, naranja y piña. Se pide mostrar todas las combinaciones posibles, de forma automática, como por ejemplo:  \n",
    "caramelo de fresa  \n",
    "piruleta de fresa  \n",
    "...  \n",
    "chicle de piña  \n",
    "chupachups de piña  \n",
    "Nota: El programa debe funcionar para cualquier listas, no sólo para este ejemplo.  "
   ]
  },
  {
   "cell_type": "code",
   "execution_count": 19,
   "metadata": {},
   "outputs": [],
   "source": [
    "productos=[\"Caramelo\",\"Piruleta\", \"Chicle\", \"Chupachups\"]\n",
    "sabores=[\"fresa\", \"cereza\",\"limon\",\"naranja\",\"piña\"]"
   ]
  },
  {
   "cell_type": "code",
   "execution_count": 21,
   "metadata": {},
   "outputs": [],
   "source": [
    "combinaciones = []\n",
    "for producto in productos:\n",
    "    for sabor in sabores:\n",
    "        combinacion = producto + \" de \" + sabor\n",
    "        combinaciones.append(combinacion)"
   ]
  },
  {
   "cell_type": "code",
   "execution_count": 23,
   "metadata": {},
   "outputs": [
    {
     "name": "stdout",
     "output_type": "stream",
     "text": [
      "['Caramelo de fresa', 'Caramelo de cereza', 'Caramelo de limon', 'Caramelo de naranja', 'Caramelo de piña', 'Piruleta de fresa', 'Piruleta de cereza', 'Piruleta de limon', 'Piruleta de naranja', 'Piruleta de piña', 'Chicle de fresa', 'Chicle de cereza', 'Chicle de limon', 'Chicle de naranja', 'Chicle de piña', 'Chupachups de fresa', 'Chupachups de cereza', 'Chupachups de limon', 'Chupachups de naranja', 'Chupachups de piña']\n"
     ]
    }
   ],
   "source": [
    "print(combinaciones)"
   ]
  },
  {
   "cell_type": "markdown",
   "metadata": {},
   "source": [
    "### Ejercicio 4 Creación de una lista (3,5 puntos)\n",
    "Dada la lista de cadenas, *milista1*, se desea crear otra lista *milista2* con aquellos elementos de la lista *milista1* que tengan más de dos caracteres y que su primer y último caracter sean iguales.\n",
    "\n",
    "Ejemplo:   \n",
    "Si *milista1* contiene las cadenas: 'abca', 'def', 'z' y 'wtyw'\n",
    "  \n",
    "Al ejecutar el programa se obtiene la lista *milista2* con 'abca' y 'wtyw'\n",
    "  \n",
    "NOTA: El programa debe funcionar para cualquier lista."
   ]
  },
  {
   "cell_type": "code",
   "execution_count": 24,
   "metadata": {},
   "outputs": [],
   "source": [
    "milista1 = [\"abca\", \"def\", \"z\", \"wtyw\"]\n",
    "milista2 = []"
   ]
  },
  {
   "cell_type": "code",
   "execution_count": 26,
   "metadata": {},
   "outputs": [],
   "source": [
    "for elemento in milista1:\n",
    "    if len(elemento) >2:  # El elemento tiene más de dos caracteres\n",
    "        if elemento[0] == elemento[-1]: # La primera y la última letra son la misma\n",
    "            milista2.append(elemento)"
   ]
  },
  {
   "cell_type": "code",
   "execution_count": 27,
   "metadata": {},
   "outputs": [
    {
     "data": {
      "text/plain": [
       "['abca', 'wtyw']"
      ]
     },
     "execution_count": 27,
     "metadata": {},
     "output_type": "execute_result"
    }
   ],
   "source": [
    "milista2"
   ]
  }
 ],
 "metadata": {
  "kernelspec": {
   "display_name": "Python 3 (ipykernel)",
   "language": "python",
   "name": "python3"
  },
  "language_info": {
   "codemirror_mode": {
    "name": "ipython",
    "version": 3
   },
   "file_extension": ".py",
   "mimetype": "text/x-python",
   "name": "python",
   "nbconvert_exporter": "python",
   "pygments_lexer": "ipython3",
   "version": "3.7.8rc1"
  }
 },
 "nbformat": 4,
 "nbformat_minor": 4
}
