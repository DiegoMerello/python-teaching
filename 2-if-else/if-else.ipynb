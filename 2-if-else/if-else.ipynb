{
 "cells": [
  {
   "cell_type": "markdown",
   "id": "0bd99d1d",
   "metadata": {},
   "source": [
    "# Program 1"
   ]
  },
  {
   "cell_type": "code",
   "execution_count": 63,
   "id": "8c44b898",
   "metadata": {},
   "outputs": [],
   "source": [
    "import math"
   ]
  },
  {
   "cell_type": "markdown",
   "id": "423cf321",
   "metadata": {},
   "source": [
    "Se introducen los datos y se validan"
   ]
  },
  {
   "cell_type": "code",
   "execution_count": 66,
   "id": "3f17c9aa",
   "metadata": {},
   "outputs": [
    {
     "name": "stdout",
     "output_type": "stream",
     "text": [
      "Grados: 30\n",
      "Precision: 4\n"
     ]
    }
   ],
   "source": [
    "ok = 0\n",
    "while ok ==0:\n",
    "    angulo_grados = float(input(\"Grados: \"))\n",
    "    precision = int(input(\"Precision: \"))\n",
    "    \n",
    "    if (angulo_grados >= 0) & (angulo_grados <= 360) & (precision > 0):\n",
    "        ok = 1\n",
    "    else:\n",
    "        print(\"Introduzca valores válidos para los parámetros\\n\")\n",
    "            "
   ]
  },
  {
   "cell_type": "markdown",
   "id": "4358424c",
   "metadata": {},
   "source": [
    "Se calculan los radianes"
   ]
  },
  {
   "cell_type": "code",
   "execution_count": 67,
   "id": "6b51a608",
   "metadata": {},
   "outputs": [],
   "source": [
    "angulo_radianes = angulo_grados * 2 *math.pi / 360"
   ]
  },
  {
   "cell_type": "markdown",
   "id": "de0f54dc",
   "metadata": {},
   "source": [
    "Se calcula la aproximación del seno:"
   ]
  },
  {
   "cell_type": "markdown",
   "id": "180d509c",
   "metadata": {},
   "source": [
    "Primero vemos cómo funciona range"
   ]
  },
  {
   "cell_type": "code",
   "execution_count": 68,
   "id": "9d06efd4",
   "metadata": {},
   "outputs": [
    {
     "name": "stdout",
     "output_type": "stream",
     "text": [
      "0\n",
      "1\n",
      "2\n",
      "3\n"
     ]
    }
   ],
   "source": [
    "for i in range(precision):\n",
    "    print(i)"
   ]
  },
  {
   "cell_type": "markdown",
   "id": "48ec6c72",
   "metadata": {},
   "source": [
    "Ahora vemos cómo hacemos lo de la \"i\":\n",
    "¿Cómo relaciono la \"i\" con el exponente y con el signo?"
   ]
  },
  {
   "cell_type": "code",
   "execution_count": 69,
   "id": "8d240a72",
   "metadata": {},
   "outputs": [
    {
     "name": "stdout",
     "output_type": "stream",
     "text": [
      "1\n",
      "1\n",
      "3\n",
      "-1\n",
      "5\n",
      "1\n",
      "7\n",
      "-1\n"
     ]
    }
   ],
   "source": [
    "for i in range(1,precision+1):\n",
    "    exponente = i*2-1\n",
    "    #signo = (-1)**i\n",
    "    signo = -(-1)**i\n",
    "    print(exponente)\n",
    "    print(signo)"
   ]
  },
  {
   "cell_type": "code",
   "execution_count": 70,
   "id": "e6767311",
   "metadata": {},
   "outputs": [
    {
     "name": "stdout",
     "output_type": "stream",
     "text": [
      "0.4999999918690232\n"
     ]
    }
   ],
   "source": [
    "valor = 0\n",
    "for i in range(1,precision+1):\n",
    "    exponente = i*2-1\n",
    "    signo = -(-1)**i\n",
    "    \n",
    "    valor = valor + signo * angulo_radianes**exponente/math.factorial(exponente)\n",
    "    \n",
    "print(valor)"
   ]
  },
  {
   "cell_type": "code",
   "execution_count": 71,
   "id": "10256cbe",
   "metadata": {},
   "outputs": [
    {
     "name": "stdout",
     "output_type": "stream",
     "text": [
      "0.5\n"
     ]
    }
   ],
   "source": [
    "print(round(valor,2))"
   ]
  },
  {
   "cell_type": "code",
   "execution_count": 72,
   "id": "bf3f9336",
   "metadata": {},
   "outputs": [
    {
     "data": {
      "text/plain": [
       "0.49999999999999994"
      ]
     },
     "execution_count": 72,
     "metadata": {},
     "output_type": "execute_result"
    }
   ],
   "source": [
    "math.sin(angulo_radianes)"
   ]
  },
  {
   "cell_type": "markdown",
   "id": "90a2d8b7",
   "metadata": {},
   "source": [
    "# Program 2"
   ]
  },
  {
   "cell_type": "code",
   "execution_count": 73,
   "id": "cd41f1cf",
   "metadata": {},
   "outputs": [],
   "source": [
    "def print_Menu():\n",
    "    print(\"\\n=== MENU ===\")\n",
    "    print(\"1. Area of  circle\")\n",
    "    print(\"2. Perimeter of a square\")\n",
    "    print(\"3. Perimeter of a triangle\")\n",
    "    print(\"4. Exit\")\n",
    "    opcion = int(input(\"Introduzca la opción escogida: \"))\n",
    "    return opcion"
   ]
  },
  {
   "cell_type": "code",
   "execution_count": 74,
   "id": "f726e3e0",
   "metadata": {},
   "outputs": [],
   "source": [
    "def area_circle():\n",
    "    radio = float(input(\"Introduzca el radio: \"))\n",
    "    area = math.pi * 2 * radio\n",
    "    print(\"El área del círculo es: \" + str(area))"
   ]
  },
  {
   "cell_type": "code",
   "execution_count": 75,
   "id": "9c6938c2",
   "metadata": {},
   "outputs": [],
   "source": [
    "def perimeter_square():\n",
    "    lado = float(input(\"Introduzca el lado: \"))\n",
    "    perim = 4 * lado\n",
    "    print(\"El perímetro del cuadrado es: \" + str(perim))"
   ]
  },
  {
   "cell_type": "code",
   "execution_count": 76,
   "id": "096f1fca",
   "metadata": {},
   "outputs": [],
   "source": [
    "def perimeter_tirangle():\n",
    "    lado1 = float(input(\"Introduzca el lado 1: \"))\n",
    "    lado2 = float(input(\"Introduzca el lado 2: \"))\n",
    "    lado3 = float(input(\"Introduzca el lado 3: \"))\n",
    "    perim = lado1 + lado2 + lado3\n",
    "    print(\"El perímetro del triángulo es: \" + str(perim))"
   ]
  },
  {
   "cell_type": "code",
   "execution_count": 77,
   "id": "c00590f3",
   "metadata": {},
   "outputs": [
    {
     "name": "stdout",
     "output_type": "stream",
     "text": [
      "\n",
      "=== MENU ===\n",
      "1. Area of  circle\n",
      "2. Perimeter of a square\n",
      "3. Perimeter of a triangle\n",
      "4. Exit\n",
      "Introduzca la opción escogida: 4\n"
     ]
    }
   ],
   "source": [
    "opcion = 0\n",
    "while opcion != 4:\n",
    "    opcion = print_Menu()\n",
    "    if opcion == 1:\n",
    "        area_circle()\n",
    "    elif opcion == 2:\n",
    "        perimeter_square()\n",
    "    elif opcion == 3:\n",
    "        perimeter_tirangle()"
   ]
  },
  {
   "cell_type": "markdown",
   "id": "fd60fa1c",
   "metadata": {},
   "source": [
    "# Program 3"
   ]
  },
  {
   "cell_type": "code",
   "execution_count": 82,
   "id": "84ccaf95",
   "metadata": {},
   "outputs": [],
   "source": [
    "def check_prime(number_to_check):\n",
    "    half_number = int(number_to_check/2)\n",
    "    descendiente = half_number\n",
    "    \n",
    "    primo = 1\n",
    "    while descendiente > 1 & primo == 1:\n",
    "        resto = number_to_check%descendiente\n",
    "        #print(str(descendiente))\n",
    "        #print(str(resto))\n",
    "        descendiente = descendiente -1\n",
    "        if resto == 0:\n",
    "            primo = 0\n",
    "    return primo        "
   ]
  },
  {
   "cell_type": "code",
   "execution_count": 83,
   "id": "f11ad9cb",
   "metadata": {},
   "outputs": [
    {
     "name": "stdout",
     "output_type": "stream",
     "text": [
      "\n",
      "Introduzca el número: 1\n",
      "El numero es primo\n",
      "¿Quieres repetir la operación? y\n",
      "\n",
      "Introduzca el número: 2\n",
      "El numero es primo\n",
      "¿Quieres repetir la operación? y\n",
      "\n",
      "Introduzca el número: 4\n",
      "El numero no es primo\n",
      "¿Quieres repetir la operación? n\n"
     ]
    }
   ],
   "source": [
    "repetir = 1\n",
    "\n",
    "while repetir == 1:\n",
    "    numero = int(input(\"\\nIntroduzca el número: \"))\n",
    "    primo = check_prime(numero)\n",
    "    if primo == 1:\n",
    "        print(\"El numero es primo\")\n",
    "    else:\n",
    "        print(\"El numero no es primo\")\n",
    "    \n",
    "    respuesta = input(\"¿Quieres repetir la operación? \")\n",
    "    if respuesta != \"y\":\n",
    "        repetir = 0"
   ]
  },
  {
   "cell_type": "markdown",
   "id": "a4966193",
   "metadata": {},
   "source": [
    "# Program 4"
   ]
  },
  {
   "cell_type": "code",
   "execution_count": 97,
   "id": "a3c4a38c",
   "metadata": {},
   "outputs": [
    {
     "name": "stdout",
     "output_type": "stream",
     "text": [
      "Número de validaciones? 3\n",
      "Feet: 2\n",
      "Inches: 3\n"
     ]
    }
   ],
   "source": [
    "num_validaciones = int(input(\"Número de validaciones? \"))\n",
    "while (num_validaciones> 0):\n",
    "    feet = float(input(\"Feet: \"))\n",
    "    inches = int(input(\"Inches: \"))\n",
    "    \n",
    "    if (feet >= 0) & (inches >= 0):\n",
    "        num_validaciones = 0\n",
    "    else:\n",
    "        print(\"Introduzca valores válidos para los parámetros\\n\")\n",
    "        num_validaciones = num_validaciones -1\n",
    "            "
   ]
  },
  {
   "cell_type": "code",
   "execution_count": 98,
   "id": "1a22196b",
   "metadata": {},
   "outputs": [
    {
     "name": "stdout",
     "output_type": "stream",
     "text": [
      "Medida en centímetros: 68.58\n"
     ]
    }
   ],
   "source": [
    "centimetros = feet * 30.48 + inches * 2.54\n",
    "print(\"Medida en centímetros: \" + str(centimetros))"
   ]
  },
  {
   "cell_type": "code",
   "execution_count": null,
   "id": "3ea921ef",
   "metadata": {},
   "outputs": [],
   "source": []
  }
 ],
 "metadata": {
  "kernelspec": {
   "display_name": "Python 3 (ipykernel)",
   "language": "python",
   "name": "python3"
  },
  "language_info": {
   "codemirror_mode": {
    "name": "ipython",
    "version": 3
   },
   "file_extension": ".py",
   "mimetype": "text/x-python",
   "name": "python",
   "nbconvert_exporter": "python",
   "pygments_lexer": "ipython3",
   "version": "3.7.8rc1"
  }
 },
 "nbformat": 4,
 "nbformat_minor": 5
}
