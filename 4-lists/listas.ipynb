{
 "cells": [
  {
   "cell_type": "markdown",
   "id": "3da581a4",
   "metadata": {},
   "source": [
    "# Program 1"
   ]
  },
  {
   "cell_type": "code",
   "execution_count": 1,
   "id": "cc35d457",
   "metadata": {},
   "outputs": [],
   "source": [
    "codes = [200, 201, 202]\n",
    "balances = [100, 150, 300]\n",
    "wealthy = []"
   ]
  },
  {
   "cell_type": "code",
   "execution_count": 2,
   "id": "dd22b041",
   "metadata": {},
   "outputs": [],
   "source": [
    "def validar_mayor_cero(numero):\n",
    "    ok = False\n",
    "    if numero >= 0:\n",
    "        ok = True\n",
    "    return ok"
   ]
  },
  {
   "cell_type": "code",
   "execution_count": 3,
   "id": "cfd94178",
   "metadata": {},
   "outputs": [],
   "source": [
    "def print_Menu():\n",
    "    print(\"\\n=== MENU ===\")\n",
    "    print(\"1. Operación\")\n",
    "    print(\"2. Buscar cliente\")\n",
    "    print(\"3. Mostrar información\")\n",
    "    print(\"4. Exit\")\n",
    "    opcion = int(input(\"Introduzca la opción escogida: \"))\n",
    "    return opcion"
   ]
  },
  {
   "cell_type": "code",
   "execution_count": 4,
   "id": "77515ed9",
   "metadata": {},
   "outputs": [],
   "source": [
    "def operacion():\n",
    "    print(\"1. Retirar\")\n",
    "    print(\"2. Depositar\")\n",
    "    opcion_operacion = int(input(\"Introduzca la opción escogida: \"))\n",
    "    \n",
    "    if opcion_operacion == 1:\n",
    "        sacar_dinero()\n",
    "    elif opcion_operacion ==2:\n",
    "        depositar_dinero()\n",
    "    else:\n",
    "        print(\"No se ha hecho ninguna operación\")"
   ]
  },
  {
   "cell_type": "code",
   "execution_count": 5,
   "id": "b83a9567",
   "metadata": {},
   "outputs": [],
   "source": [
    "def sacar_dinero():\n",
    "    \n",
    "    codigo_cliente = int(input(\"Introduzca codigo cliente: \"))\n",
    "    \n",
    "    if codigo_cliente in codes:\n",
    "        cantidad_retirar = float(input(\"Introduzca cantidad a retirar: \"))\n",
    "        if validar(cantidad_retirar):\n",
    "            \n",
    "            posicion_codigo = codes.index(codigo_cliente)\n",
    "            balance_actual = balances[posicion_codigo]           \n",
    "            if cantidad_retirar > balance_actual:\n",
    "                print(\"Cantidad a retirar es mayor que balance\")\n",
    "            else:\n",
    "                # Hacemos operacion\n",
    "                nuevo_balance = balance_actual - cantidad_retirar\n",
    "                balances[posicion_codigo] = nuevo_balance                \n",
    "                print(\"Se ha retirado {0} euros, quedan {1} euros en la cuenta.\".format(cantidad_retirar, nuevo_balance))     \n",
    "        else:\n",
    "            print(\"La cantidad a retirar no puede ser negativa\")\n",
    "    else:\n",
    "        print(\"El cliente no existe\") "
   ]
  },
  {
   "cell_type": "code",
   "execution_count": 6,
   "id": "fa6ffe0d",
   "metadata": {},
   "outputs": [],
   "source": [
    "def depositar_dinero():\n",
    "    codigo_cliente = int(input(\"Introduzca codigo cliente: \"))\n",
    "    \n",
    "    if (codigo_cliente in codes) and (validar_mayor_cero(codigo_cliente)):\n",
    "        cantidad_depositar = float(input(\"Introduzca cantidad a depositar: \"))\n",
    "        if validar(cantidad_depositar):\n",
    "            \n",
    "            posicion_codigo = codes.index(codigo_cliente)\n",
    "            balance_actual = balances[posicion_codigo]           \n",
    "            \n",
    "            nuevo_balance = balance_actual + cantidad_depositar\n",
    "            balances[posicion_codigo] = nuevo_balance                \n",
    "            \n",
    "            print(\"Se ha depositado {0} euros, hay {1} euros en la cuenta.\".format(cantidad_depositar, nuevo_balance))     \n",
    "        else:\n",
    "            print(\"La cantidad a depositar no puede ser negativa\")\n",
    "    else:\n",
    "        print(\"El cliente no existe\")"
   ]
  },
  {
   "cell_type": "code",
   "execution_count": 7,
   "id": "f1c4b832",
   "metadata": {},
   "outputs": [],
   "source": [
    "def buscar_cliente():\n",
    "    limite = int(input(\"Introduzca límite dinero: \"))\n",
    "    if validar_mayor_cero(limite): \n",
    "        \n",
    "        for i in range(len(balances)):\n",
    "            if balances[i] > limite:\n",
    "                posicion_balance = i\n",
    "                codigo_wealthy = codes[posicion_balance]\n",
    "                if codigo_wealthy not in (wealthy):\n",
    "                    wealthy.append(codigo_wealthy)\n",
    "            \n",
    "        print(\"Operación realizada\")\n",
    "        print(wealthy)\n",
    "        \n",
    "    else:\n",
    "        print(\"La cantidad límite no puede ser negativa\")\n",
    "    "
   ]
  },
  {
   "cell_type": "code",
   "execution_count": 8,
   "id": "085b3d2e",
   "metadata": {},
   "outputs": [],
   "source": [
    "def mostrar_info():\n",
    "    for i in range(len(codes)):\n",
    "        print(\"COD {0}: {1}€\".format(codes[i], balances[i]))"
   ]
  },
  {
   "cell_type": "code",
   "execution_count": 9,
   "id": "9f0fb198",
   "metadata": {},
   "outputs": [
    {
     "name": "stdout",
     "output_type": "stream",
     "text": [
      "\n",
      "=== MENU ===\n",
      "1. Operación\n",
      "2. Buscar cliente\n",
      "3. Mostrar información\n",
      "4. Exit\n",
      "Introduzca la opción escogida: 4\n",
      "Cerrando programa...\n"
     ]
    }
   ],
   "source": [
    "opcion = 0\n",
    "while opcion != 4:\n",
    "    opcion = print_Menu()\n",
    "    if opcion == 1:\n",
    "        operacion()\n",
    "    elif opcion == 2:\n",
    "        buscar_cliente()\n",
    "    elif opcion == 3:\n",
    "        mostrar_info()\n",
    "    elif opcion == 4:\n",
    "        print(\"Cerrando programa...\")\n",
    "    else:\n",
    "        print(\"Escoja una opción válida\")"
   ]
  },
  {
   "cell_type": "markdown",
   "id": "99698102",
   "metadata": {},
   "source": [
    "# Program 2"
   ]
  },
  {
   "cell_type": "code",
   "execution_count": 10,
   "id": "b1412e08",
   "metadata": {},
   "outputs": [],
   "source": [
    "import math\n",
    "import numpy as np"
   ]
  },
  {
   "cell_type": "code",
   "execution_count": 12,
   "id": "7c50fd38",
   "metadata": {},
   "outputs": [
    {
     "name": "stdout",
     "output_type": "stream",
     "text": [
      "Introduzca nombres: Juan Pedro Felipe\n"
     ]
    }
   ],
   "source": [
    "nombres = input(\"Introduzca nombres: \")\n",
    "lista_nombres = nombres.split(\" \")"
   ]
  },
  {
   "cell_type": "code",
   "execution_count": 13,
   "id": "475b0b6c",
   "metadata": {},
   "outputs": [
    {
     "data": {
      "text/plain": [
       "['Juan', 'Pedro', 'Felipe']"
      ]
     },
     "execution_count": 13,
     "metadata": {},
     "output_type": "execute_result"
    }
   ],
   "source": [
    "lista_nombres"
   ]
  },
  {
   "cell_type": "code",
   "execution_count": 14,
   "id": "d2d6b8e2",
   "metadata": {},
   "outputs": [
    {
     "name": "stdout",
     "output_type": "stream",
     "text": [
      "Introduzca notas: 2.3 6 9\n"
     ]
    }
   ],
   "source": [
    "notas = input(\"Introduzca notas: \")\n",
    "lista_notas = notas.split(\" \")"
   ]
  },
  {
   "cell_type": "code",
   "execution_count": 15,
   "id": "4d8ca906",
   "metadata": {},
   "outputs": [],
   "source": [
    "for i in range(len(lista_notas)):\n",
    "    lista_notas[i] = float(lista_notas[i])"
   ]
  },
  {
   "cell_type": "code",
   "execution_count": 16,
   "id": "5b903226",
   "metadata": {},
   "outputs": [
    {
     "data": {
      "text/plain": [
       "[2.3, 6.0, 9.0]"
      ]
     },
     "execution_count": 16,
     "metadata": {},
     "output_type": "execute_result"
    }
   ],
   "source": [
    "lista_notas"
   ]
  },
  {
   "cell_type": "code",
   "execution_count": 18,
   "id": "e5358717",
   "metadata": {},
   "outputs": [],
   "source": [
    "def print_Menu():\n",
    "    print(\"\\n=== MENU ===\")\n",
    "    print(\"1. Media\")\n",
    "    print(\"2. Máximo\")\n",
    "    print(\"3. Mínimo\")\n",
    "    print(\"4. Exit\")\n",
    "    opcion = int(input(\"Introduzca la opción escogida: \"))\n",
    "    return opcion"
   ]
  },
  {
   "cell_type": "code",
   "execution_count": 19,
   "id": "46c13253",
   "metadata": {},
   "outputs": [
    {
     "name": "stdout",
     "output_type": "stream",
     "text": [
      "\n",
      "=== MENU ===\n",
      "1. Media\n",
      "2. Máximo\n",
      "3. Mínimo\n",
      "4. Exit\n",
      "Introduzca la opción escogida: 1\n",
      "5.766666666666667\n",
      "\n",
      "=== MENU ===\n",
      "1. Media\n",
      "2. Máximo\n",
      "3. Mínimo\n",
      "4. Exit\n",
      "Introduzca la opción escogida: 2\n",
      "9.0\n",
      "\n",
      "=== MENU ===\n",
      "1. Media\n",
      "2. Máximo\n",
      "3. Mínimo\n",
      "4. Exit\n",
      "Introduzca la opción escogida: 3\n",
      "2.3\n",
      "\n",
      "=== MENU ===\n",
      "1. Media\n",
      "2. Máximo\n",
      "3. Mínimo\n",
      "4. Exit\n",
      "Introduzca la opción escogida: 4\n",
      "Cerrando programa...\n"
     ]
    }
   ],
   "source": [
    "opcion = 0\n",
    "while opcion != 4:\n",
    "    opcion = print_Menu()\n",
    "    if opcion == 1:\n",
    "        print(np.average(lista_notas))\n",
    "    elif opcion == 2:\n",
    "        print(np.max(lista_notas))\n",
    "    elif opcion == 3:\n",
    "        print(np.min(lista_notas))\n",
    "    elif opcion == 4:\n",
    "        print(\"Cerrando programa...\")\n",
    "    else:\n",
    "        print(\"Escoja una opción válida\")"
   ]
  },
  {
   "cell_type": "code",
   "execution_count": null,
   "id": "6d579758",
   "metadata": {},
   "outputs": [],
   "source": []
  }
 ],
 "metadata": {
  "kernelspec": {
   "display_name": "Python 3 (ipykernel)",
   "language": "python",
   "name": "python3"
  },
  "language_info": {
   "codemirror_mode": {
    "name": "ipython",
    "version": 3
   },
   "file_extension": ".py",
   "mimetype": "text/x-python",
   "name": "python",
   "nbconvert_exporter": "python",
   "pygments_lexer": "ipython3",
   "version": "3.7.8rc1"
  }
 },
 "nbformat": 4,
 "nbformat_minor": 5
}
