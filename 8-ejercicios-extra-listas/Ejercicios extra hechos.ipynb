{
 "cells": [
  {
   "cell_type": "markdown",
   "id": "74d60558",
   "metadata": {},
   "source": [
    "Ejercicios mayoritariamente seleccionados de entre los propuestos en:\n",
    "https://www.w3resource.com/python-exercises/"
   ]
  },
  {
   "cell_type": "markdown",
   "id": "f19bac34",
   "metadata": {},
   "source": [
    "**1. Write a Python program to sum all the items in a list.**"
   ]
  },
  {
   "cell_type": "code",
   "execution_count": 1,
   "id": "750eadc8",
   "metadata": {},
   "outputs": [],
   "source": [
    "lista = [1, 2, 3]"
   ]
  },
  {
   "cell_type": "code",
   "execution_count": 2,
   "id": "a8c873fe",
   "metadata": {},
   "outputs": [
    {
     "name": "stdout",
     "output_type": "stream",
     "text": [
      "6\n"
     ]
    }
   ],
   "source": [
    "suma = 0\n",
    "for elemento in lista:\n",
    "    suma = suma + elemento\n",
    "print(suma)"
   ]
  },
  {
   "cell_type": "markdown",
   "id": "d5a9bdb8",
   "metadata": {},
   "source": [
    "**2. Write a Python program to get the largest number from a list.**2"
   ]
  },
  {
   "cell_type": "code",
   "execution_count": 3,
   "id": "ebafbc3a",
   "metadata": {},
   "outputs": [],
   "source": [
    "lista = [50, 67, 12, 65]"
   ]
  },
  {
   "cell_type": "code",
   "execution_count": 4,
   "id": "bdbfa13d",
   "metadata": {},
   "outputs": [
    {
     "name": "stdout",
     "output_type": "stream",
     "text": [
      "67\n"
     ]
    }
   ],
   "source": [
    "max_num = lista[0] # asumimos que el primer numero es el maximo\n",
    "for elemento in lista:\n",
    "    if elemento > max_num: # para cada elemento comprobamos si es mayor que el máximo actual\n",
    "        max_num = elemento # Si es mayor lo guardamos como máximo\n",
    "print(max_num)"
   ]
  },
  {
   "cell_type": "markdown",
   "id": "e5954374",
   "metadata": {},
   "source": [
    "Mirad el ejercicio 5 de aquí, es el del examen:\n",
    "https://www.w3resource.com/python-exercises/list/\n",
    "\n",
    "5. Write a Python program to count the number of strings where the string length is 2 or more and the first and last character are same from a given list of strings. Go to the editor\n",
    "Sample List : ['abc', 'xyz', 'aba', '1221']\n",
    "Expected Result : 2"
   ]
  },
  {
   "cell_type": "markdown",
   "id": "15a5a1dd",
   "metadata": {},
   "source": [
    "**3. Write a Python function that takes two lists and returns True if they have at least one common member.**"
   ]
  },
  {
   "cell_type": "code",
   "execution_count": 5,
   "id": "653d03c0",
   "metadata": {},
   "outputs": [],
   "source": [
    "lista1 = [1,5,7,9]\n",
    "lista2 = [23, 34, 1]\n",
    "lista3 = [0, 2, 8]"
   ]
  },
  {
   "cell_type": "code",
   "execution_count": 7,
   "id": "80c6ff36",
   "metadata": {},
   "outputs": [],
   "source": [
    "def miembroEnComun(lista_a_comprobar_1, lista_a_comprobar_2):\n",
    "    elemento_en_comun = False # asumimos que no tienen\n",
    "    for elemento in lista_a_comprobar_1:\n",
    "        if elemento in lista_a_comprobar_2: # Si encontramos un elemento, ponemos elemento_en_comun a True\n",
    "            elemento_en_comun = True\n",
    "    return elemento_en_comun # devolvemos esto"
   ]
  },
  {
   "cell_type": "code",
   "execution_count": 8,
   "id": "e10c9bca",
   "metadata": {},
   "outputs": [
    {
     "data": {
      "text/plain": [
       "True"
      ]
     },
     "execution_count": 8,
     "metadata": {},
     "output_type": "execute_result"
    }
   ],
   "source": [
    "miembroEnComun(lista1, lista2)"
   ]
  },
  {
   "cell_type": "code",
   "execution_count": 9,
   "id": "cd380caf",
   "metadata": {},
   "outputs": [
    {
     "data": {
      "text/plain": [
       "False"
      ]
     },
     "execution_count": 9,
     "metadata": {},
     "output_type": "execute_result"
    }
   ],
   "source": [
    "miembroEnComun(lista1, lista3)"
   ]
  },
  {
   "cell_type": "markdown",
   "id": "e25105d2",
   "metadata": {},
   "source": [
    "**4. Write a Python program to convert a list of characters into a string.**"
   ]
  },
  {
   "cell_type": "code",
   "execution_count": 11,
   "id": "1fb2e971",
   "metadata": {},
   "outputs": [],
   "source": [
    "lista_caracteres = [\"a\", \"b\", \"c\"]\n",
    "resultado_esperado = \"abc\""
   ]
  },
  {
   "cell_type": "code",
   "execution_count": 12,
   "id": "577d8c96",
   "metadata": {},
   "outputs": [],
   "source": [
    "resultado_esperado = \"\"\n",
    "for elemento in lista_caracteres:\n",
    "    resultado_esperado = resultado_esperado + elemento"
   ]
  },
  {
   "cell_type": "code",
   "execution_count": 13,
   "id": "991be31a",
   "metadata": {},
   "outputs": [
    {
     "data": {
      "text/plain": [
       "'abc'"
      ]
     },
     "execution_count": 13,
     "metadata": {},
     "output_type": "execute_result"
    }
   ],
   "source": [
    "resultado_esperado"
   ]
  },
  {
   "cell_type": "markdown",
   "id": "8663898e",
   "metadata": {},
   "source": [
    "**5. Write a Python program to find the second smallest number in a list.**"
   ]
  },
  {
   "cell_type": "code",
   "execution_count": 3,
   "id": "84b1a4ee",
   "metadata": {},
   "outputs": [
    {
     "name": "stdout",
     "output_type": "stream",
     "text": [
      "2\n"
     ]
    }
   ],
   "source": [
    "lista = [50, 67, 12, 65, 2, 4, 1 ]\n",
    "\n",
    "min_numero = lista[0]\n",
    "second_smallest = lista[0]\n",
    "\n",
    "for elemento in lista:\n",
    "    if elemento < min_numero:\n",
    "        # Si es menor que el mínimo, pasa a ser el nuevo minimo y el minimo antiguo pasa a ser el second smallest\n",
    "        second_smallest = min_numero\n",
    "        min_numero = elemento \n",
    "        \n",
    "    elif elemento < second_smallest: # Es mayor que el minimo pero menor que second_smallest\n",
    "        second_smallest = elemento # Pasa a ser el second_smallest\n",
    "    \n",
    "print(second_smallest)"
   ]
  },
  {
   "cell_type": "markdown",
   "id": "29d2ba84",
   "metadata": {},
   "source": [
    "**6. Write a Python program to move up one position all elements in a list**"
   ]
  },
  {
   "cell_type": "code",
   "execution_count": 8,
   "id": "7c1685d7",
   "metadata": {},
   "outputs": [],
   "source": [
    "lista_inicial = [1, \"a\", 23, 5.6, \"ad\"]\n",
    "resultado_esperado = [\"ad\", 1, \"a\", 23, 5.6]"
   ]
  },
  {
   "cell_type": "code",
   "execution_count": 9,
   "id": "a4724181",
   "metadata": {},
   "outputs": [],
   "source": [
    "lista_inicial = [1, \"a\", 23, 5.6, \"ad\"]\n",
    "ultimo_elemento = lista_inicial.pop(-1) # Lo seleccionamos y se elimna de la lista"
   ]
  },
  {
   "cell_type": "code",
   "execution_count": 10,
   "id": "b2cbe6bc",
   "metadata": {},
   "outputs": [
    {
     "data": {
      "text/plain": [
       "'ad'"
      ]
     },
     "execution_count": 10,
     "metadata": {},
     "output_type": "execute_result"
    }
   ],
   "source": [
    "ultimo_elemento"
   ]
  },
  {
   "cell_type": "code",
   "execution_count": 11,
   "id": "f9959576",
   "metadata": {},
   "outputs": [
    {
     "data": {
      "text/plain": [
       "[1, 'a', 23, 5.6]"
      ]
     },
     "execution_count": 11,
     "metadata": {},
     "output_type": "execute_result"
    }
   ],
   "source": [
    "lista_inicial"
   ]
  },
  {
   "cell_type": "code",
   "execution_count": 12,
   "id": "b47c46f9",
   "metadata": {},
   "outputs": [],
   "source": [
    "lista_inicial.insert(0, ultimo_elemento)"
   ]
  },
  {
   "cell_type": "code",
   "execution_count": 13,
   "id": "dd717292",
   "metadata": {},
   "outputs": [
    {
     "data": {
      "text/plain": [
       "['ad', 1, 'a', 23, 5.6]"
      ]
     },
     "execution_count": 13,
     "metadata": {},
     "output_type": "execute_result"
    }
   ],
   "source": [
    "lista_inicial"
   ]
  },
  {
   "cell_type": "markdown",
   "id": "7efa0642",
   "metadata": {},
   "source": [
    "Si lo hacemos todo en un for:"
   ]
  },
  {
   "cell_type": "code",
   "execution_count": 15,
   "id": "e4685e68",
   "metadata": {},
   "outputs": [
    {
     "name": "stdout",
     "output_type": "stream",
     "text": [
      "['ad', 1, 'a', 23, 5.6, 'ad']\n",
      "['ad', 1, 'a', 23, 5.6]\n"
     ]
    }
   ],
   "source": [
    "lista_inicial = [1, \"a\", 23, 5.6, \"ad\"]\n",
    "resultado_final = []\n",
    "\n",
    "ultimo_elemento = lista_inicial[-1]\n",
    "resultado_final.append(ultimo_elemento) # Antes de entrar en el for añadimos el último elemento como el nuevo primero\n",
    "\n",
    "for elemento in lista_inicial:\n",
    "    resultado_final.append(elemento)\n",
    "\n",
    "# Ojo que se ha copiado el últmio elemento\n",
    "print(resultado_final)\n",
    "# Por lo tanto, lo elimino\n",
    "resultado_final.pop(-1)\n",
    "print(resultado_final)"
   ]
  },
  {
   "cell_type": "markdown",
   "id": "91ceae85",
   "metadata": {},
   "source": [
    "**7. Count the total number of digits in a number**"
   ]
  },
  {
   "cell_type": "code",
   "execution_count": 17,
   "id": "a78b48ee",
   "metadata": {},
   "outputs": [],
   "source": [
    "numero = 57382\n",
    "resultado_esperado = 5"
   ]
  },
  {
   "cell_type": "code",
   "execution_count": 19,
   "id": "ec906bcd",
   "metadata": {},
   "outputs": [
    {
     "name": "stdout",
     "output_type": "stream",
     "text": [
      "5\n"
     ]
    }
   ],
   "source": [
    "numero_digitos = 0\n",
    "numero_string = str(numero) # Paso el número a string y cuento dígitos\n",
    "for letra in numero_string:\n",
    "    numero_digitos = numero_digitos +1\n",
    "    \n",
    "print(numero_digitos)"
   ]
  },
  {
   "cell_type": "markdown",
   "id": "313cd5cd",
   "metadata": {},
   "source": [
    "**8. Remove all words starting with a letter (introduced by the user) from a list of strings**"
   ]
  },
  {
   "cell_type": "code",
   "execution_count": 21,
   "id": "26fa9735",
   "metadata": {},
   "outputs": [],
   "source": [
    "lista_inicial = [\"kweas\", \"sdad\", \"k\", \"adsp\"]\n",
    "\n",
    "# Introduzca la letra\n",
    "letra = \"k\"\n",
    "\n",
    "# Programa\n",
    "\n",
    "resultado_esperado = [\"sdad\", \"adsp\"]"
   ]
  },
  {
   "cell_type": "code",
   "execution_count": 22,
   "id": "35a22f91",
   "metadata": {},
   "outputs": [
    {
     "name": "stdout",
     "output_type": "stream",
     "text": [
      "Introduzca la letra: k\n",
      "['sdad', 'adsp']\n"
     ]
    }
   ],
   "source": [
    "letra = input(\"Introduzca la letra: \")\n",
    "resultado_final = []\n",
    "for elemento in lista_inicial:\n",
    "    if elemento[0] != letra: # Si la primera letra NO es la introducida por el usuario, copiamos la palabra\n",
    "        resultado_final.append(elemento)\n",
    "\n",
    "print(resultado_final)"
   ]
  },
  {
   "cell_type": "markdown",
   "id": "d37a39d7",
   "metadata": {},
   "source": [
    "**9. Remove duplicated elements from list**\n"
   ]
  },
  {
   "cell_type": "code",
   "execution_count": 30,
   "id": "b362a01c",
   "metadata": {},
   "outputs": [],
   "source": [
    "lista_inicial = [2, 5, 6, 6, \"asad\",  \"aw\", 2, \"asad\"]\n",
    "resultado_esperado = [5, 6,  \"aw\", 2, \"asad\"] # Pueden aparecer en otro orden"
   ]
  },
  {
   "cell_type": "code",
   "execution_count": 37,
   "id": "f1eed1c1",
   "metadata": {},
   "outputs": [
    {
     "name": "stdout",
     "output_type": "stream",
     "text": [
      "[5, 6, 'aw', 2, 'asad']\n"
     ]
    }
   ],
   "source": [
    "lista_inicial = [2, 5, 6, 6, \"asad\",  \"aw\", 2, \"asad\"]\n",
    "resultado_final = []\n",
    "lista_inicial_copia = lista_inicial.copy() # IMPORTANTE\n",
    "lista_elementos_leidos = []\n",
    "\n",
    "for elemento in lista_inicial: # Lo hacemos con índices para hacer el pop\n",
    "    \n",
    "    indice_elemento = lista_inicial_copia.index(elemento)    \n",
    "    lista_inicial_copia.pop(indice_elemento) # Quitamos el elemento de la lista copiada\n",
    "    \n",
    "    # Si el elemento NO está, es que no estaba repetido. En caso de que estuviera, significa que estaba repetido\n",
    "    if elemento not in lista_inicial_copia:\n",
    "        resultado_final.append(elemento)\n",
    "\n",
    "\n",
    "    \n",
    "print(resultado_final)"
   ]
  },
  {
   "cell_type": "markdown",
   "id": "6445bb5c",
   "metadata": {},
   "source": [
    "Una manera más fácil"
   ]
  },
  {
   "cell_type": "code",
   "execution_count": 26,
   "id": "24e13cc4",
   "metadata": {},
   "outputs": [
    {
     "name": "stdout",
     "output_type": "stream",
     "text": [
      "['a', 'b', 'c']\n"
     ]
    }
   ],
   "source": [
    "mylist = [\"a\", \"b\", \"a\", \"c\", \"c\"]\n",
    "mylist = list( dict.fromkeys(mylist) )\n",
    "print(mylist)"
   ]
  },
  {
   "cell_type": "markdown",
   "id": "4385aafa",
   "metadata": {},
   "source": [
    "**NO VER ESTO, NO ES LO PEDIDO. ESTE SOLO SE QUEDA CON LOS NO REPETIDOS**"
   ]
  },
  {
   "cell_type": "code",
   "execution_count": 39,
   "id": "85b8facd",
   "metadata": {},
   "outputs": [
    {
     "name": "stdout",
     "output_type": "stream",
     "text": [
      "[5, 'aw']\n"
     ]
    }
   ],
   "source": [
    "lista_inicial = [2, 5, 6, 6, \"asad\",  \"aw\", 2, \"asad\"]\n",
    "resultado_final = []\n",
    "lista_inicial_copia = lista_inicial.copy() # IMPORTANTE\n",
    "lista_elementos_leidos = []\n",
    "\n",
    "for elemento in lista_inicial: # Lo hacemos con índices para hacer el pop\n",
    "    \n",
    "    indice_elemento = lista_inicial_copia.index(elemento)\n",
    "    \n",
    "    lista_inicial_copia.pop(indice_elemento) # Quitamos el elemento de la lista copiada\n",
    "    \n",
    "    # Si el elemento NO está, es que no estaba repetido. En caso de que estuviera, significa que estaba repetido\n",
    "    if elemento not in lista_inicial_copia:\n",
    "        # Tenemos que comprobar que tampoco lo habíamos eliminado/leído antes. \n",
    "        if elemento not in lista_elementos_leidos:\n",
    "            resultado_final.append(elemento)\n",
    "\n",
    "    lista_elementos_leidos.append(elemento) # Añadimos el elemento a los ya leidos        \n",
    "\n",
    "    \n",
    "print(resultado_final)"
   ]
  },
  {
   "cell_type": "markdown",
   "id": "fa7bcae3",
   "metadata": {},
   "source": [
    "**10. Duplicate all elements in a list**"
   ]
  },
  {
   "cell_type": "code",
   "execution_count": 41,
   "id": "7f0835c0",
   "metadata": {},
   "outputs": [],
   "source": [
    "lista_inicial = [2,3,4,5]\n",
    "resultado_esperado = [2,2,3,3,4,4,5,5]"
   ]
  },
  {
   "cell_type": "code",
   "execution_count": 42,
   "id": "c21ba2d9",
   "metadata": {},
   "outputs": [],
   "source": [
    "resultado_final = []\n",
    "for elemento in lista_inicial:\n",
    "    resultado_final.append(elemento)\n",
    "    resultado_final.append(elemento)"
   ]
  },
  {
   "cell_type": "code",
   "execution_count": 43,
   "id": "b144874c",
   "metadata": {},
   "outputs": [
    {
     "data": {
      "text/plain": [
       "[2, 2, 3, 3, 4, 4, 5, 5]"
      ]
     },
     "execution_count": 43,
     "metadata": {},
     "output_type": "execute_result"
    }
   ],
   "source": [
    "resultado_final"
   ]
  },
  {
   "cell_type": "code",
   "execution_count": null,
   "id": "09cf902a",
   "metadata": {},
   "outputs": [],
   "source": []
  }
 ],
 "metadata": {
  "kernelspec": {
   "display_name": "Python 3 (ipykernel)",
   "language": "python",
   "name": "python3"
  },
  "language_info": {
   "codemirror_mode": {
    "name": "ipython",
    "version": 3
   },
   "file_extension": ".py",
   "mimetype": "text/x-python",
   "name": "python",
   "nbconvert_exporter": "python",
   "pygments_lexer": "ipython3",
   "version": "3.7.8rc1"
  }
 },
 "nbformat": 4,
 "nbformat_minor": 5
}
