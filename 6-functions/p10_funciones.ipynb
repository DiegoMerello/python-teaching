{
 "cells": [
  {
   "cell_type": "markdown",
   "id": "462ba0d1",
   "metadata": {},
   "source": [
    "# Programa 1"
   ]
  },
  {
   "cell_type": "markdown",
   "id": "b30b8963",
   "metadata": {},
   "source": [
    "Primero creamos los datos para el ejercicio"
   ]
  },
  {
   "cell_type": "code",
   "execution_count": 1,
   "id": "363b837b",
   "metadata": {},
   "outputs": [],
   "source": [
    "d_sospechosos = {\n",
    "    1023: [\"Pedro Delincuente\", \"Robo con fuerza\",         \"51728345K\", \"Calle A\", 601750163],\n",
    "    1045: [\"Lucas Delincuente\", \"Hurto\",                   \"50421224G\", \"Calle B\", 687175223],\n",
    "    1006: [\"Cris Delincuente\",  \"Blanqueo de capitales\",   \"36737841A\", \"Calle C\", 682871456],\n",
    "    3481: [\"María Delincuente\", \"Agresión contra policía\", \"51710462P\", \"Calle D\", 743401912],\n",
    "}"
   ]
  },
  {
   "cell_type": "code",
   "execution_count": 2,
   "id": "16baf4a5",
   "metadata": {},
   "outputs": [
    {
     "data": {
      "text/plain": [
       "['Pedro Delincuente', 'Robo con fuerza', '51728345K', 'Calle A', 601750163]"
      ]
     },
     "execution_count": 2,
     "metadata": {},
     "output_type": "execute_result"
    }
   ],
   "source": [
    "d_sospechosos[1023]"
   ]
  },
  {
   "cell_type": "markdown",
   "id": "fb0e7508",
   "metadata": {},
   "source": [
    "Ahora las funciones que nos piden"
   ]
  },
  {
   "cell_type": "code",
   "execution_count": 3,
   "id": "5a854b25",
   "metadata": {},
   "outputs": [],
   "source": [
    "def separarNumero(dni_recibido):\n",
    "    \n",
    "    string_numero_dni = dni_recibido[:-1] # [:-1] coge todas las posiciones de la cadena menos la última (letra)\n",
    "    \n",
    "    numero_dni = int(string_numero_dni) # Convertimos la string a integer\n",
    "    \n",
    "    return numero_dni"
   ]
  },
  {
   "cell_type": "code",
   "execution_count": 4,
   "id": "ddb5ad60",
   "metadata": {},
   "outputs": [
    {
     "data": {
      "text/plain": [
       "'51728345K'"
      ]
     },
     "execution_count": 4,
     "metadata": {},
     "output_type": "execute_result"
    }
   ],
   "source": [
    "d_sospechosos[1023][2]"
   ]
  },
  {
   "cell_type": "code",
   "execution_count": 5,
   "id": "c394c28a",
   "metadata": {},
   "outputs": [
    {
     "data": {
      "text/plain": [
       "51728345"
      ]
     },
     "execution_count": 5,
     "metadata": {},
     "output_type": "execute_result"
    }
   ],
   "source": [
    "separarNumero(d_sospechosos[1023][2])"
   ]
  },
  {
   "cell_type": "markdown",
   "id": "c8d65508",
   "metadata": {},
   "source": [
    "Antes de hacer la función de la resta, necesitamos tener la información que relacione `resto` con `letra`"
   ]
  },
  {
   "cell_type": "code",
   "execution_count": 6,
   "id": "fac11530",
   "metadata": {},
   "outputs": [],
   "source": [
    "# Ahora una lista con las letras correspondientes\n",
    "letras_correspondientes = [\"T\", \"R\", \"W\", \"A\", \"G\", \"M\", \"Y\", \"F\", \"P\", \"D\", \"X\", \"B\", \"N\", \"J\", \"Z\", \"S\", \"Q\", \"V\", \"H\", \"L\", \"C\", \"K\", \"E\"]\n",
    "# La letra en la posición 0 es \"T\". Cuando el resto sea 0, llamaremos a letras_correspondientes[0] y nos devolverá \"T\""
   ]
  },
  {
   "cell_type": "code",
   "execution_count": 7,
   "id": "69aa2173",
   "metadata": {},
   "outputs": [],
   "source": [
    "def calculoLetra(numero_pasado):\n",
    "    # Calculamos el resto\n",
    "    resto = numero_pasado%23\n",
    "    \n",
    "    # Obtenemos la letra correcta\n",
    "    letra_correspondiente = letras_correspondientes[resto]\n",
    "    \n",
    "    # Unimos numero y letra\n",
    "    dni_correcto = str(numero_pasado) + letra_correspondiente\n",
    "    \n",
    "    return dni_correcto"
   ]
  },
  {
   "cell_type": "markdown",
   "id": "3d0e1294",
   "metadata": {},
   "source": [
    "Finalmente, hacemos el ejercicio"
   ]
  },
  {
   "cell_type": "code",
   "execution_count": 8,
   "id": "a1b150b6",
   "metadata": {},
   "outputs": [
    {
     "name": "stdout",
     "output_type": "stream",
     "text": [
      "Diccionario inicial\n",
      "{1023: ['Pedro Delincuente', 'Robo con fuerza', '51728345K', 'Calle A', 601750163], 1045: ['Lucas Delincuente', 'Hurto', '50421224G', 'Calle B', 687175223], 1006: ['Cris Delincuente', 'Blanqueo de capitales', '36737841A', 'Calle C', 682871456], 3481: ['María Delincuente', 'Agresión contra policía', '51710462P', 'Calle D', 743401912]}\n",
      "\n",
      "Nuevo diccionario\n",
      "{1023: ['Pedro Delincuente', 'Robo con fuerza', '51728345B', 'Calle A', 601750163], 1045: ['Lucas Delincuente', 'Hurto', '50421224A', 'Calle B', 687175223], 1006: ['Cris Delincuente', 'Blanqueo de capitales', '36737841X', 'Calle C', 682871456], 3481: ['María Delincuente', 'Agresión contra policía', '51710462E', 'Calle D', 743401912]}\n"
     ]
    }
   ],
   "source": [
    "d_sospechosos = {\n",
    "    1023: [\"Pedro Delincuente\", \"Robo con fuerza\",         \"51728345K\", \"Calle A\", 601750163],\n",
    "    1045: [\"Lucas Delincuente\", \"Hurto\",                   \"50421224G\", \"Calle B\", 687175223],\n",
    "    1006: [\"Cris Delincuente\",  \"Blanqueo de capitales\",   \"36737841A\", \"Calle C\", 682871456],\n",
    "    3481: [\"María Delincuente\", \"Agresión contra policía\", \"51710462P\", \"Calle D\", 743401912],\n",
    "}\n",
    "\n",
    "print(\"Diccionario inicial\")\n",
    "print(d_sospechosos)\n",
    "\n",
    "for clave, valor in d_sospechosos.items():\n",
    "    \n",
    "    # 'valor' es una lista\n",
    "    # Esto es importante entenderlo. La clave 1023 devuelve un valor que es una lista [\"Pedro delincuente\", ...]\n",
    "    \n",
    "    # La posición 2 de esa lista es el dni\n",
    "    dni_erroneo = valor[2]\n",
    "    \n",
    "    # Obtenemos el número\n",
    "    numero_dni = separarNumero(dni_erroneo)\n",
    "    \n",
    "    # Obtenemos el DNI correcto\n",
    "    dni_correcto = calculoLetra(numero_dni)\n",
    "    \n",
    "    # Sobreescribimos el valor del diccionario\n",
    "    d_sospechosos[clave][2] = dni_correcto # La posición 2 del valor correspondiente a d_sospechosos[clave] es el dni. \n",
    "    \n",
    "# Fuera del for imprimimos el diccionario\n",
    "print(\"\\nNuevo diccionario\")\n",
    "print(d_sospechosos)"
   ]
  },
  {
   "cell_type": "markdown",
   "id": "90412944",
   "metadata": {},
   "source": [
    "# Programa 2"
   ]
  },
  {
   "cell_type": "code",
   "execution_count": 9,
   "id": "06916e3e",
   "metadata": {},
   "outputs": [],
   "source": [
    "import random"
   ]
  },
  {
   "cell_type": "markdown",
   "id": "45615393",
   "metadata": {},
   "source": [
    "Primero creamos las funciones necesarias del programa"
   ]
  },
  {
   "cell_type": "code",
   "execution_count": 10,
   "id": "defecdac",
   "metadata": {},
   "outputs": [],
   "source": [
    "baraja = []\n",
    "for i in range(0,4): # Repetimos esto 4 veces (una por cada palo de la baraja)\n",
    "    baraja.append([1]*12) # Añandimos una nueva lista con 12 \"1\" representando las 12 cartas"
   ]
  },
  {
   "cell_type": "code",
   "execution_count": 11,
   "id": "4532b711",
   "metadata": {},
   "outputs": [
    {
     "data": {
      "text/plain": [
       "[[1, 1, 1, 1, 1, 1, 1, 1, 1, 1, 1, 1],\n",
       " [1, 1, 1, 1, 1, 1, 1, 1, 1, 1, 1, 1],\n",
       " [1, 1, 1, 1, 1, 1, 1, 1, 1, 1, 1, 1],\n",
       " [1, 1, 1, 1, 1, 1, 1, 1, 1, 1, 1, 1]]"
      ]
     },
     "execution_count": 11,
     "metadata": {},
     "output_type": "execute_result"
    }
   ],
   "source": [
    "baraja"
   ]
  },
  {
   "cell_type": "markdown",
   "id": "b98d6afc",
   "metadata": {},
   "source": [
    "Vamos a hacer una función que reinicie la baraja para usarla luego cada vez que reiniciemos partida"
   ]
  },
  {
   "cell_type": "code",
   "execution_count": 12,
   "id": "7258675c",
   "metadata": {},
   "outputs": [],
   "source": [
    "def reiniciarBaraja():\n",
    "    baraja = []\n",
    "    for i in range(0,4):\n",
    "         baraja.append([1]*12)\n",
    "    return baraja"
   ]
  },
  {
   "cell_type": "code",
   "execution_count": 13,
   "id": "6b1be433",
   "metadata": {},
   "outputs": [
    {
     "data": {
      "text/plain": [
       "[[1, 1, 1, 1, 1, 1, 1, 1, 1, 1, 1, 1],\n",
       " [1, 1, 1, 1, 1, 1, 1, 1, 1, 1, 1, 1],\n",
       " [1, 1, 1, 1, 1, 1, 1, 1, 1, 1, 1, 1],\n",
       " [1, 1, 1, 1, 1, 1, 1, 1, 1, 1, 1, 1]]"
      ]
     },
     "execution_count": 13,
     "metadata": {},
     "output_type": "execute_result"
    }
   ],
   "source": [
    "baraja = reiniciarBaraja()\n",
    "baraja"
   ]
  },
  {
   "cell_type": "markdown",
   "id": "562e707e",
   "metadata": {},
   "source": [
    "Ahora la función para sacar las cartas"
   ]
  },
  {
   "cell_type": "code",
   "execution_count": 14,
   "id": "86ff84ac",
   "metadata": {},
   "outputs": [],
   "source": [
    "def nuevaCarta():\n",
    "    palo = random.randint(0,3) # Número entre el 0 y el 3 (ambos incluidos) para elegir posición en la lista \"baraja\" (fila)\n",
    "    \n",
    "    carta = 7 # Ponemos un valor erróneo para que entre en el while\n",
    "    while (carta == 7) or (carta == 8): # No podemos sacar ni un 8 ni un 9. Recuerda que la posición 0 es la primer carta (AS). Por lo tanto carta = 7 representa un 8, y carta = 8 representa un 9\n",
    "        carta = random.randint(0,11)\n",
    "    \n",
    "    return palo, carta    "
   ]
  },
  {
   "cell_type": "markdown",
   "id": "3fbc82b2",
   "metadata": {},
   "source": [
    "Otra opción de nuevaCarta() tratando el while de otra manera. Ambas dan resultados correctos"
   ]
  },
  {
   "cell_type": "code",
   "execution_count": 15,
   "id": "c4ddafd2",
   "metadata": {},
   "outputs": [],
   "source": [
    "def nuevaCarta():\n",
    "    palo = random.randint(0,3) # Número entre el 0 y el 3 (ambos incluidos) para elegir posición en la lista \"baraja\" (fila)\n",
    "    \n",
    "    carta = random.randint(0,11)\n",
    "    while (carta == 7) or (carta == 8): # No podemos sacar ni un 8 ni un 9. Recuerda que la posición 0 es la primer carta (AS). Por lo tanto carta = 7 representa un 8, y carta = 8 representa un 9\n",
    "        carta = random.randint(0,11)\n",
    "    \n",
    "    return palo, carta    "
   ]
  },
  {
   "cell_type": "markdown",
   "id": "23557537",
   "metadata": {},
   "source": [
    "Ahora hacemos el programa"
   ]
  },
  {
   "cell_type": "code",
   "execution_count": 23,
   "id": "fa40339c",
   "metadata": {},
   "outputs": [
    {
     "name": "stdout",
     "output_type": "stream",
     "text": [
      "\n",
      "¿Empezar a jugar? (y/n) y\n",
      "\n",
      "=======================\n",
      "La baraja se ha creado\n",
      "=======================\n",
      "Nueva carta:\n",
      "Palo: 3, Carta: 2\n",
      "Suma: 2\n",
      "\n",
      "¿Quieres otra carta? (y/n) y\n",
      "Nueva carta:\n",
      "Palo: 1, Carta: 7\n",
      "Suma: 9\n",
      "Te has pasado. Has perdido\n",
      "\n",
      "¿Quieres volver a jugar? (y/n) y\n",
      "\n",
      "=======================\n",
      "La baraja se ha creado\n",
      "=======================\n",
      "Nueva carta:\n",
      "Palo: 4, Carta: 10\n",
      "Suma: 0.5\n",
      "\n",
      "¿Quieres otra carta? (y/n) y\n",
      "Nueva carta:\n",
      "Palo: 1, Carta: 6\n",
      "Suma: 6.5\n",
      "\n",
      "¿Quieres otra carta? (y/n) n\n",
      "\n",
      "Te has plantado\n",
      "\n",
      "La banca saca ahora su carta\n",
      "La carta es: \n",
      "Palo: 4, Carta: 2\n",
      "Suma: 2\n",
      "Has ganado!\n",
      "\n",
      "¿Quieres volver a jugar? (y/n) n\n"
     ]
    }
   ],
   "source": [
    "nueva_partida =  input(\"\\n¿Empezar a jugar? (y/n) \")\n",
    "while nueva_partida == \"y\":\n",
    "    \n",
    "    \n",
    "    # Lo primero, crear la baraja\n",
    "    baraja = reiniciarBaraja()\n",
    "    print(\"\\n=======================\")\n",
    "    print(\"La baraja se ha creado\")\n",
    "    print(\"=======================\")\n",
    "    \n",
    "    suma_jugador = 0\n",
    "    quiero_otra_carta = \"y\"\n",
    "    while quiero_otra_carta ==\"y\":\n",
    "        \n",
    "        # Sacamos una carta\n",
    "        nuevo_palo, nueva_carta = nuevaCarta()\n",
    "        \n",
    "        # Comprobamos que la carta aun está en la baraja\n",
    "        # Si NO entra en el if, es que no estaba. Volverá entonces al principio del while y volverá a sacar carta\n",
    "        if baraja[nuevo_palo][nueva_carta] == 1:\n",
    "            \n",
    "            # Si entramos en este if es que estaba la carta en la baraja\n",
    "            \n",
    "            # Quitamos la carta de la baraja\n",
    "            baraja[nuevo_palo][nueva_carta] = 0\n",
    "            \n",
    "            # Decimos al usuario que carta ha sacado:\n",
    "            print(\"Nueva carta:\")\n",
    "            print(\"Palo: {0}, Carta: {1}\".format(nuevo_palo+1, nueva_carta+1))\n",
    "            \n",
    "            # Sumamos el valor a su suma total:\n",
    "            if nueva_carta > 8:\n",
    "                # Las cartas 9, 10 y 11 representan la sota, el caballo y el rey. Estos valen 0.5\n",
    "                suma_jugador = suma_jugador +0.5\n",
    "                \n",
    "            else:\n",
    "                # Por ejemplo, la nueva_carta es el AS. Este suma 1\n",
    "                suma_jugador = suma_jugador + (nueva_carta +1)\n",
    "            \n",
    "            # Avisamos al usuario:\n",
    "            print(\"Suma: {0}\".format(suma_jugador))\n",
    "            \n",
    "            if suma_jugador >7.5:\n",
    "                print(\"Te has pasado. Has perdido\")\n",
    "                quiero_otra_carta = \"n\" # Importante para salir del bucle while de pedir más cartas\n",
    "            else:\n",
    "                # Preguntamos si quiere sacar otra carta\n",
    "                quiero_otra_carta = input(\"\\n¿Quieres otra carta? (y/n) \")\n",
    "        \n",
    "    \n",
    "    # Aquí estamos ya fuera del while. Ahora sacamos carta para la banca\n",
    "    # SOLO sacamos para la banca si el jugador NO ha perdido\n",
    "    if suma_jugador<= 7.5:\n",
    "        print(\"\\nTe has plantado\")\n",
    "        print(\"\\nLa banca saca ahora su carta\")\n",
    "\n",
    "        nuevo_palo, nueva_carta = nuevaCarta()\n",
    "        # Si la carta no está en la baraja seguimos hasta que esté\n",
    "        while baraja[nuevo_palo][nueva_carta]==0:\n",
    "            nuevo_palo, nueva_carta = nuevaCarta()\n",
    "\n",
    "        # Contamos los puntos de la banca\n",
    "        suma_banca = 0\n",
    "        if nueva_carta > 8:\n",
    "            suma_banca = 0.5\n",
    "        else:\n",
    "            suma_banca = nueva_carta +1\n",
    "\n",
    "        print(\"La carta es: \")\n",
    "        print(\"Palo: {0}, Carta: {1}\".format(nuevo_palo+1, nueva_carta+1))\n",
    "        print(\"Suma: {0}\".format(suma_banca))\n",
    "\n",
    "        if suma_banca >= suma_jugador:\n",
    "            print(\"La banca ha ganado\")\n",
    "        else:\n",
    "            print(\"Has ganado!\")\n",
    "        \n",
    "    # Preguntamos si quiere volver a jugar\n",
    "    nueva_partida = input(\"\\n¿Quieres volver a jugar? (y/n) \")\n",
    "\n"
   ]
  },
  {
   "cell_type": "code",
   "execution_count": null,
   "id": "0b709843",
   "metadata": {},
   "outputs": [],
   "source": []
  }
 ],
 "metadata": {
  "kernelspec": {
   "display_name": "Python 3 (ipykernel)",
   "language": "python",
   "name": "python3"
  },
  "language_info": {
   "codemirror_mode": {
    "name": "ipython",
    "version": 3
   },
   "file_extension": ".py",
   "mimetype": "text/x-python",
   "name": "python",
   "nbconvert_exporter": "python",
   "pygments_lexer": "ipython3",
   "version": "3.7.8rc1"
  }
 },
 "nbformat": 4,
 "nbformat_minor": 5
}
