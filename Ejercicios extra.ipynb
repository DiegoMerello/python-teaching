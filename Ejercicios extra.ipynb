{
 "cells": [
  {
   "cell_type": "markdown",
   "id": "74d60558",
   "metadata": {},
   "source": [
    "Ejercicios mayoritariamente seleccionados de entre los propuestos en:\n",
    "https://www.w3resource.com/python-exercises/"
   ]
  },
  {
   "cell_type": "markdown",
   "id": "f19bac34",
   "metadata": {},
   "source": [
    "**1. Write a Python program to sum all the items in a list.**"
   ]
  },
  {
   "cell_type": "code",
   "execution_count": null,
   "id": "750eadc8",
   "metadata": {},
   "outputs": [],
   "source": []
  },
  {
   "cell_type": "markdown",
   "id": "d5a9bdb8",
   "metadata": {},
   "source": [
    "**2. Write a Python program to get the largest number from a list.**2"
   ]
  },
  {
   "cell_type": "code",
   "execution_count": null,
   "id": "ebafbc3a",
   "metadata": {},
   "outputs": [],
   "source": []
  },
  {
   "cell_type": "markdown",
   "id": "e5954374",
   "metadata": {},
   "source": [
    "Mirad el ejercicio 5 de aquí, es el del examen:\n",
    "https://www.w3resource.com/python-exercises/list/\n",
    "\n",
    "5. Write a Python program to count the number of strings where the string length is 2 or more and the first and last character are same from a given list of strings. Go to the editor\n",
    "Sample List : ['abc', 'xyz', 'aba', '1221']\n",
    "Expected Result : 2"
   ]
  },
  {
   "cell_type": "markdown",
   "id": "15a5a1dd",
   "metadata": {},
   "source": [
    "**3. Write a Python function that takes two lists and returns True if they have at least one common member.**"
   ]
  },
  {
   "cell_type": "code",
   "execution_count": null,
   "id": "653d03c0",
   "metadata": {},
   "outputs": [],
   "source": []
  },
  {
   "cell_type": "markdown",
   "id": "e25105d2",
   "metadata": {},
   "source": [
    "**4. Write a Python program to convert a list of characters into a string.**"
   ]
  },
  {
   "cell_type": "code",
   "execution_count": 3,
   "id": "1fb2e971",
   "metadata": {},
   "outputs": [],
   "source": [
    "lista_caracteres = [\"a\", \"b\", \"c\"]\n",
    "resultado_esperado = \"abc\""
   ]
  },
  {
   "cell_type": "code",
   "execution_count": null,
   "id": "577d8c96",
   "metadata": {},
   "outputs": [],
   "source": []
  },
  {
   "cell_type": "markdown",
   "id": "8663898e",
   "metadata": {},
   "source": [
    "**5. Write a Python program to find the second smallest number in a list.**"
   ]
  },
  {
   "cell_type": "code",
   "execution_count": null,
   "id": "84b1a4ee",
   "metadata": {},
   "outputs": [],
   "source": []
  },
  {
   "cell_type": "markdown",
   "id": "29d2ba84",
   "metadata": {},
   "source": [
    "**6. Write a Python program to move up one position all elements in a list**"
   ]
  },
  {
   "cell_type": "code",
   "execution_count": 4,
   "id": "7c1685d7",
   "metadata": {},
   "outputs": [],
   "source": [
    "lista_inicial = [1, \"a\", 23, 5.6, \"ad\"]\n",
    "resultado_esperado = [\"ad\", 1, \"a\", 23, 5.6]"
   ]
  },
  {
   "cell_type": "code",
   "execution_count": null,
   "id": "a4724181",
   "metadata": {},
   "outputs": [],
   "source": []
  },
  {
   "cell_type": "markdown",
   "id": "91ceae85",
   "metadata": {},
   "source": [
    "**7. Count the total number of digits in a number**"
   ]
  },
  {
   "cell_type": "code",
   "execution_count": 5,
   "id": "a78b48ee",
   "metadata": {},
   "outputs": [],
   "source": [
    "numero = 57382\n",
    "resultado_esperado = 5"
   ]
  },
  {
   "cell_type": "code",
   "execution_count": null,
   "id": "ec906bcd",
   "metadata": {},
   "outputs": [],
   "source": []
  },
  {
   "cell_type": "markdown",
   "id": "313cd5cd",
   "metadata": {},
   "source": [
    "**8. Remove all words starting with a letter (introduced by the user) from a list of strings**"
   ]
  },
  {
   "cell_type": "code",
   "execution_count": 7,
   "id": "26fa9735",
   "metadata": {},
   "outputs": [],
   "source": [
    "lista_inicial = [\"kweas\", \"sdad\", \"k\", \"adsp\"]\n",
    "\n",
    "# Introduzca la letra\n",
    "letra = \"k\"\n",
    "\n",
    "# Programa\n",
    "\n",
    "resultado_esperado = [\"sdad\", \"adsp\"]"
   ]
  },
  {
   "cell_type": "code",
   "execution_count": null,
   "id": "3ecafe11",
   "metadata": {},
   "outputs": [],
   "source": []
  },
  {
   "cell_type": "markdown",
   "id": "d37a39d7",
   "metadata": {},
   "source": [
    "**9. Remove duplicated elements from list**\n"
   ]
  },
  {
   "cell_type": "code",
   "execution_count": 9,
   "id": "b362a01c",
   "metadata": {},
   "outputs": [],
   "source": [
    "lista_inicial = [2, 5, 6, 6, \"asad\",  \"aw\", 2, \"asad\"]\n",
    "resultado_esperado = [5, 6,  \"aw\", 2, \"asad\"] # Pueden aparecer en otro orden"
   ]
  },
  {
   "cell_type": "code",
   "execution_count": null,
   "id": "f1eed1c1",
   "metadata": {},
   "outputs": [],
   "source": []
  },
  {
   "cell_type": "markdown",
   "id": "fa7bcae3",
   "metadata": {},
   "source": [
    "**10. Duplicate all elements in a list**"
   ]
  },
  {
   "cell_type": "code",
   "execution_count": 10,
   "id": "7f0835c0",
   "metadata": {},
   "outputs": [],
   "source": [
    "lista_inicial = [2,3,4,5]\n",
    "resultado_esperado = [2,2,3,3,4,4,5,5]"
   ]
  },
  {
   "cell_type": "code",
   "execution_count": null,
   "id": "c21ba2d9",
   "metadata": {},
   "outputs": [],
   "source": []
  }
 ],
 "metadata": {
  "kernelspec": {
   "display_name": "Python 3 (ipykernel)",
   "language": "python",
   "name": "python3"
  },
  "language_info": {
   "codemirror_mode": {
    "name": "ipython",
    "version": 3
   },
   "file_extension": ".py",
   "mimetype": "text/x-python",
   "name": "python",
   "nbconvert_exporter": "python",
   "pygments_lexer": "ipython3",
   "version": "3.7.8rc1"
  }
 },
 "nbformat": 4,
 "nbformat_minor": 5
}
