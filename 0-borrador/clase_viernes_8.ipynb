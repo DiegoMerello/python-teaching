{
 "cells": [
  {
   "cell_type": "code",
   "execution_count": 1,
   "id": "16668aed",
   "metadata": {},
   "outputs": [],
   "source": [
    "import math"
   ]
  },
  {
   "cell_type": "code",
   "execution_count": 2,
   "id": "a22a270f",
   "metadata": {},
   "outputs": [
    {
     "name": "stdout",
     "output_type": "stream",
     "text": [
      "Grados: 30\n",
      "Precision: 5\n"
     ]
    }
   ],
   "source": [
    "angulo_grados = float(input(\"Grados: \"))\n",
    "precision = int(input(\"Precision: \"))"
   ]
  },
  {
   "cell_type": "code",
   "execution_count": 3,
   "id": "f3fcf19c",
   "metadata": {},
   "outputs": [],
   "source": [
    "# pasamos a radianes\n",
    "angulo_radianes = angulo_grados * 2 *math.pi / 360"
   ]
  },
  {
   "cell_type": "code",
   "execution_count": 4,
   "id": "64253f01",
   "metadata": {
    "scrolled": true
   },
   "outputs": [
    {
     "name": "stdout",
     "output_type": "stream",
     "text": [
      "0\n",
      "1\n",
      "2\n",
      "3\n",
      "4\n"
     ]
    }
   ],
   "source": [
    "valor_acumulado_2 = 0\n",
    "for i in range(precision):\n",
    "    print(i)\n",
    "    exponente = 2*i +1 \n",
    "    denom = math.factorial(2*i +1)\n",
    "    \n",
    "    # Signo no asdadskmadksl -1 1 asdadkalkd\n",
    "    signo = 1\n",
    "    \n",
    "    \n",
    "    valor_acumulado_2 = valor_acumulado_2 + signo * (angulo_radianes**exponente) /denom\n",
    "    \n",
    "    "
   ]
  },
  {
   "cell_type": "code",
   "execution_count": 5,
   "id": "3aab4303",
   "metadata": {},
   "outputs": [
    {
     "data": {
      "text/plain": [
       "0.5478534738676885"
      ]
     },
     "execution_count": 5,
     "metadata": {},
     "output_type": "execute_result"
    }
   ],
   "source": [
    "valor_acumulado_2"
   ]
  },
  {
   "cell_type": "code",
   "execution_count": 6,
   "id": "7e625a21",
   "metadata": {},
   "outputs": [
    {
     "data": {
      "text/plain": [
       "0"
      ]
     },
     "execution_count": 6,
     "metadata": {},
     "output_type": "execute_result"
    }
   ],
   "source": [
    "valor_acumulado = 0\n",
    "valor_acumulado"
   ]
  },
  {
   "cell_type": "code",
   "execution_count": 7,
   "id": "b74d973b",
   "metadata": {},
   "outputs": [
    {
     "data": {
      "text/plain": [
       "1"
      ]
     },
     "execution_count": 7,
     "metadata": {},
     "output_type": "execute_result"
    }
   ],
   "source": [
    "valor_acumulado = valor_acumulado + 1\n",
    "valor_acumulado "
   ]
  },
  {
   "cell_type": "code",
   "execution_count": 8,
   "id": "3b481c8f",
   "metadata": {},
   "outputs": [
    {
     "data": {
      "text/plain": [
       "3"
      ]
     },
     "execution_count": 8,
     "metadata": {},
     "output_type": "execute_result"
    }
   ],
   "source": [
    "valor_acumulado = valor_acumulado + 2\n",
    "valor_acumulado "
   ]
  },
  {
   "cell_type": "code",
   "execution_count": 9,
   "id": "8c2be486",
   "metadata": {},
   "outputs": [
    {
     "data": {
      "text/plain": [
       "6"
      ]
     },
     "execution_count": 9,
     "metadata": {},
     "output_type": "execute_result"
    }
   ],
   "source": [
    "valor_acumulado = valor_acumulado + 3\n",
    "valor_acumulado "
   ]
  },
  {
   "cell_type": "code",
   "execution_count": 10,
   "id": "30e2a24e",
   "metadata": {},
   "outputs": [],
   "source": [
    "# 2x+1\n",
    "# (-1)**i\n",
    "# %"
   ]
  },
  {
   "cell_type": "code",
   "execution_count": 11,
   "id": "8f346945",
   "metadata": {},
   "outputs": [
    {
     "data": {
      "text/plain": [
       "-1"
      ]
     },
     "execution_count": 11,
     "metadata": {},
     "output_type": "execute_result"
    }
   ],
   "source": [
    "-(-1)**0 "
   ]
  },
  {
   "cell_type": "code",
   "execution_count": 12,
   "id": "15c59719",
   "metadata": {},
   "outputs": [
    {
     "data": {
      "text/plain": [
       "1"
      ]
     },
     "execution_count": 12,
     "metadata": {},
     "output_type": "execute_result"
    }
   ],
   "source": [
    "-(-1)**1 "
   ]
  },
  {
   "cell_type": "code",
   "execution_count": 13,
   "id": "b7a18459",
   "metadata": {},
   "outputs": [
    {
     "data": {
      "text/plain": [
       "-1"
      ]
     },
     "execution_count": 13,
     "metadata": {},
     "output_type": "execute_result"
    }
   ],
   "source": [
    "-(-1)**2"
   ]
  },
  {
   "cell_type": "code",
   "execution_count": null,
   "id": "afa88cd2",
   "metadata": {},
   "outputs": [],
   "source": []
  },
  {
   "cell_type": "code",
   "execution_count": 15,
   "id": "234cc6b5",
   "metadata": {},
   "outputs": [
    {
     "name": "stdout",
     "output_type": "stream",
     "text": [
      "Grados: 30\n"
     ]
    }
   ],
   "source": [
    "ok = 0\n",
    "while ok == 0:\n",
    "    angulo_grados = float(input(\"Grados: \"))\n",
    "    \n",
    "    if angulo_grados < 0:\n",
    "        print(\"Error\")\n",
    "    else:\n",
    "        ok = 1\n",
    "###########\n",
    "\n",
    "\n",
    "# Resto del código"
   ]
  },
  {
   "cell_type": "code",
   "execution_count": null,
   "id": "e40347d2",
   "metadata": {},
   "outputs": [],
   "source": []
  },
  {
   "cell_type": "code",
   "execution_count": 16,
   "id": "98c62507",
   "metadata": {},
   "outputs": [
    {
     "name": "stdout",
     "output_type": "stream",
     "text": [
      "Introduzca una frase: Esta es una frase\n"
     ]
    }
   ],
   "source": [
    "linea_de_texto = input(\"Introduzca una frase: \")"
   ]
  },
  {
   "cell_type": "code",
   "execution_count": 18,
   "id": "21266721",
   "metadata": {},
   "outputs": [],
   "source": [
    "# Recorriendo letra a letra la frase\n",
    "    # Esta es letra es vocal lowercase?\n",
    "        # YES -> meterla en frase_2\n",
    "        # NO -> nada"
   ]
  },
  {
   "cell_type": "code",
   "execution_count": 24,
   "id": "366ca668",
   "metadata": {},
   "outputs": [
    {
     "data": {
      "text/plain": [
       "'asdasdasdalkjds'"
      ]
     },
     "execution_count": 24,
     "metadata": {},
     "output_type": "execute_result"
    }
   ],
   "source": [
    "a = \"asdasd\"\n",
    "b = \"asdalkjds\"\n",
    "a+b"
   ]
  },
  {
   "cell_type": "code",
   "execution_count": 25,
   "id": "260567b6",
   "metadata": {},
   "outputs": [
    {
     "name": "stdout",
     "output_type": "stream",
     "text": [
      "E\n",
      "Es\n",
      "Est\n",
      "Esta\n",
      "Esta \n",
      "Esta e\n",
      "Esta es\n",
      "Esta es \n",
      "Esta es u\n",
      "Esta es un\n",
      "Esta es una\n",
      "Esta es una \n",
      "Esta es una f\n",
      "Esta es una fr\n",
      "Esta es una fra\n",
      "Esta es una fras\n",
      "Esta es una frase\n"
     ]
    }
   ],
   "source": [
    "frase_2 = \"\"\n",
    "for letra in linea_de_texto:\n",
    "    if True: #Letra es no (vocal minuscula)\n",
    "        frase_2 = frase_2 + letra\n",
    "        print(frase_2)"
   ]
  },
  {
   "cell_type": "code",
   "execution_count": 35,
   "id": "1145cff9",
   "metadata": {},
   "outputs": [
    {
     "name": "stdout",
     "output_type": "stream",
     "text": [
      "No Entro\n"
     ]
    }
   ],
   "source": [
    "#vocales_minusculas = [\"a\", \"e\", \"i\", \"o\", \"u\",]\n",
    "vocales_minusculas = [\"aeiou\"]\n",
    "letra = \"aeiou\"\n",
    "if letra not in vocales_minusculas:\n",
    "    print(\"Entro\")\n",
    "else:\n",
    "    print(\"No Entro\")"
   ]
  },
  {
   "cell_type": "code",
   "execution_count": 36,
   "id": "a923a30e",
   "metadata": {},
   "outputs": [],
   "source": [
    "vocales_minusculas = \"aeiou\""
   ]
  },
  {
   "cell_type": "code",
   "execution_count": 54,
   "id": "c91e514f",
   "metadata": {},
   "outputs": [
    {
     "name": "stdout",
     "output_type": "stream",
     "text": [
      "a\n",
      "e\n",
      "i\n",
      "o\n",
      "u\n"
     ]
    }
   ],
   "source": [
    "lista_vocales_mimnusculas = []\n",
    "for vocal in vocales_minusculas:\n",
    "    print(vocal)\n",
    "    lista_vocales_mimnusculas.append(vocal)\n",
    "    #lista_vocales_mimnusculas.append(vocal)\n",
    "    "
   ]
  },
  {
   "cell_type": "code",
   "execution_count": 45,
   "id": "9501fea5",
   "metadata": {},
   "outputs": [
    {
     "data": {
      "text/plain": [
       "['a', 'e', 'i', 'o', 'u']"
      ]
     },
     "execution_count": 45,
     "metadata": {},
     "output_type": "execute_result"
    }
   ],
   "source": [
    "lista_vocales_mimnusculas"
   ]
  },
  {
   "cell_type": "code",
   "execution_count": 50,
   "id": "c45cace5",
   "metadata": {},
   "outputs": [
    {
     "name": "stdout",
     "output_type": "stream",
     "text": [
      "Introduzca una frase: Esta es una frase\n"
     ]
    }
   ],
   "source": [
    "linea_de_texto = input(\"Introduzca una frase: \")"
   ]
  },
  {
   "cell_type": "code",
   "execution_count": null,
   "id": "89d112d6",
   "metadata": {},
   "outputs": [],
   "source": [
    "# Dime la palabra a buscar\n",
    "# BUscar palabra en frase\n",
    "# Tengo que buscar la palabra en una lista -- qué lista?\n",
    "# La lista son las palabras de la frase"
   ]
  },
  {
   "cell_type": "code",
   "execution_count": 51,
   "id": "da38e0c7",
   "metadata": {},
   "outputs": [],
   "source": [
    "# Dime la palabra a buscar\n",
    "# Convertir frase a lista de palabras\n",
    "# Mirar si a_buscar está en la lista\n",
    "    # YES: indicar la posición\n",
    "    # NO: No está"
   ]
  },
  {
   "cell_type": "code",
   "execution_count": 62,
   "id": "aadee190",
   "metadata": {},
   "outputs": [
    {
     "name": "stdout",
     "output_type": "stream",
     "text": [
      "Introduzca una frase: Esta es una frase\n",
      "Introduzca palabra: una\n",
      "3\n"
     ]
    }
   ],
   "source": [
    "linea_de_texto = input(\"Introduzca una frase: \")\n",
    "palabra_a_buscar = input(\"Introduzca palabra: \")\n",
    "\n",
    "lista_de_palabras = linea_de_texto.split(\" \")\n",
    "\n",
    "if palabra_a_buscar in lista_de_palabras:\n",
    "    indice = lista_de_palabras.index(palabra_a_buscar)+1\n",
    "    print(indice)\n",
    "else:\n",
    "    print(\"No existe la palabra\")"
   ]
  },
  {
   "cell_type": "code",
   "execution_count": null,
   "id": "edd7e717",
   "metadata": {},
   "outputs": [],
   "source": []
  },
  {
   "cell_type": "code",
   "execution_count": 81,
   "id": "b345390f",
   "metadata": {},
   "outputs": [
    {
     "name": "stdout",
     "output_type": "stream",
     "text": [
      "Introduzca una frase: Esta es Otra frase Con mayusculas\n"
     ]
    }
   ],
   "source": [
    "string_1 = input(\"Introduzca una frase: \")"
   ]
  },
  {
   "cell_type": "code",
   "execution_count": 65,
   "id": "ce04a83e",
   "metadata": {},
   "outputs": [],
   "source": [
    "# Pasar frase a lista para tener palabras\n",
    "# Encontrar la primera letra de cada palabra\n",
    "# Comprobar si es mayúscula\n",
    " # YES: añadir a strin_2\n",
    " # Nada\n"
   ]
  },
  {
   "cell_type": "code",
   "execution_count": 82,
   "id": "9fe28442",
   "metadata": {},
   "outputs": [
    {
     "data": {
      "text/plain": [
       "['Esta', 'es', 'Otra', 'frase', 'Con', 'mayusculas']"
      ]
     },
     "execution_count": 82,
     "metadata": {},
     "output_type": "execute_result"
    }
   ],
   "source": [
    "lista_palabras = string_1.split(\" \")\n",
    "lista_palabras"
   ]
  },
  {
   "cell_type": "code",
   "execution_count": 85,
   "id": "31a7fc94",
   "metadata": {},
   "outputs": [
    {
     "name": "stdout",
     "output_type": "stream",
     "text": [
      "EOC\n"
     ]
    }
   ],
   "source": [
    "string_2 = \"\"\n",
    "for palabra in lista_palabras:\n",
    "    primera_letra = palabra[0]\n",
    "    \n",
    "    if primera_letra == primera_letra.upper(): # Si mayúscula\n",
    "        string_2 = string_2 + primera_letra\n",
    "        \n",
    "print(string_2)"
   ]
  },
  {
   "cell_type": "code",
   "execution_count": 76,
   "id": "f0fef5fc",
   "metadata": {},
   "outputs": [
    {
     "data": {
      "text/plain": [
       "'B'"
      ]
     },
     "execution_count": 76,
     "metadata": {},
     "output_type": "execute_result"
    }
   ],
   "source": [
    "let = \"B\"\n",
    "let.upper()"
   ]
  },
  {
   "cell_type": "code",
   "execution_count": 73,
   "id": "a7791178",
   "metadata": {},
   "outputs": [
    {
     "name": "stdout",
     "output_type": "stream",
     "text": [
      "No es mayuscula\n"
     ]
    }
   ],
   "source": [
    "if let == let.upper()  :\n",
    "    print(\"Es mayuscula\")\n",
    "else:\n",
    "    print(\"No es mayuscula\")"
   ]
  },
  {
   "cell_type": "code",
   "execution_count": null,
   "id": "5d491bab",
   "metadata": {},
   "outputs": [],
   "source": []
  }
 ],
 "metadata": {
  "kernelspec": {
   "display_name": "Python 3 (ipykernel)",
   "language": "python",
   "name": "python3"
  },
  "language_info": {
   "codemirror_mode": {
    "name": "ipython",
    "version": 3
   },
   "file_extension": ".py",
   "mimetype": "text/x-python",
   "name": "python",
   "nbconvert_exporter": "python",
   "pygments_lexer": "ipython3",
   "version": "3.7.8rc1"
  }
 },
 "nbformat": 4,
 "nbformat_minor": 5
}
