{
 "cells": [
  {
   "cell_type": "markdown",
   "id": "38f79c98",
   "metadata": {},
   "source": [
    "# Program 1 - Primero hecho con listas"
   ]
  },
  {
   "cell_type": "markdown",
   "id": "04401d73",
   "metadata": {},
   "source": [
    "Queremos una matriz de estudiantes y notas:\n",
    "\n",
    "$$\\begin{bmatrix}  & Asignatura 1 & Asignatura 2 & ...\\\\ Alumno 1 & 7 & 8 & ...\\\\ Alumno 2 & 8 & 6 & ...\\\\ ... & ... & ... & ... \\end{bmatrix}$$"
   ]
  },
  {
   "cell_type": "markdown",
   "id": "867c7c13",
   "metadata": {},
   "source": [
    "Lo único que al final vamos a guardar en la matriz son los números (7, 8, 8, 6...)\n"
   ]
  },
  {
   "cell_type": "markdown",
   "id": "c65b0394",
   "metadata": {},
   "source": [
    "Primero estamos definiendo las columnas de la matriz"
   ]
  },
  {
   "cell_type": "code",
   "execution_count": 39,
   "id": "144d2710",
   "metadata": {},
   "outputs": [
    {
     "name": "stdout",
     "output_type": "stream",
     "text": [
      "Introduzca el nombre de la clase: Fisica\n",
      "Introduzca el nombre de la clase: Calculo\n"
     ]
    }
   ],
   "source": [
    "numero_courses = 2 # Esto lo podríamos peridr también por teclado. Por simplificar lo dejamos así\n",
    "courses = [] # Inicializamos lista vacía de courses\n",
    "\n",
    "i = 0;\n",
    "while i<numero_courses:\n",
    "    name = input(\"Introduzca el nombre de la clase: \") # Mejor introducirlas sin tildes\n",
    "    courses.append(name)\n",
    "    i = i+1"
   ]
  },
  {
   "cell_type": "code",
   "execution_count": 40,
   "id": "a9c479c3",
   "metadata": {},
   "outputs": [
    {
     "data": {
      "text/plain": [
       "['Fisica', 'Calculo']"
      ]
     },
     "execution_count": 40,
     "metadata": {},
     "output_type": "execute_result"
    }
   ],
   "source": [
    "courses"
   ]
  },
  {
   "cell_type": "markdown",
   "id": "457fceb3",
   "metadata": {},
   "source": [
    "Este sería un método para crear la matriz"
   ]
  },
  {
   "cell_type": "code",
   "execution_count": 41,
   "id": "a2670144",
   "metadata": {},
   "outputs": [
    {
     "name": "stdout",
     "output_type": "stream",
     "text": [
      "Alumno 1. Nota de Fisica: 5\n",
      "Alumno 1. Nota de Calculo: 6\n",
      "Alumno 2. Nota de Fisica: 7\n",
      "Alumno 2. Nota de Calculo: 8\n",
      "Alumno 3. Nota de Fisica: 5\n",
      "Alumno 3. Nota de Calculo: 9\n"
     ]
    }
   ],
   "source": [
    "numero_alumnos = 3\n",
    "grades = []\n",
    "\n",
    "for i in range(numero_alumnos):\n",
    "    notas_alumno = [] # Primero creamos un vector vacío. Esto sera una \"fila\" de nuestra matriz final\n",
    "    for j in range(numero_courses):\n",
    "        nota = input(\"Alumno {0}. Nota de {1}: \".format(i+1,courses[j]))\n",
    "        notas_alumno.append(nota) # Ahora vamos rellenando cada una de las casillas de esa fila vacía que hemos creado\n",
    "        #grades[i][j] = nota # Esto nos da error, porque al haber creado la matriz vacía, no tiene posición [i][j] para meterlo\n",
    "    grades.append(notas_alumno) # Añadimos la fila a la matriz general"
   ]
  },
  {
   "cell_type": "code",
   "execution_count": 42,
   "id": "81260b89",
   "metadata": {},
   "outputs": [
    {
     "name": "stdout",
     "output_type": "stream",
     "text": [
      "[['5', '6'], ['7', '8'], ['5', '9']]\n"
     ]
    }
   ],
   "source": [
    "print(grades)"
   ]
  },
  {
   "cell_type": "markdown",
   "id": "0df4bfad",
   "metadata": {},
   "source": [
    "Este sería otro método distinto para crear la matriz. En este caso creamos una matriz llena de ceros y vamos cambiando cada uno de sus elementos a las notas de los alumnos"
   ]
  },
  {
   "cell_type": "code",
   "execution_count": 43,
   "id": "6fe6abbe",
   "metadata": {},
   "outputs": [
    {
     "data": {
      "text/plain": [
       "array([[0., 0.],\n",
       "       [0., 0.],\n",
       "       [0., 0.]])"
      ]
     },
     "execution_count": 43,
     "metadata": {},
     "output_type": "execute_result"
    }
   ],
   "source": [
    "numero_alumnos = 3\n",
    "\n",
    "import numpy as np\n",
    "grades = np.zeros((numero_alumnos, numero_courses))\n",
    "grades"
   ]
  },
  {
   "cell_type": "code",
   "execution_count": 44,
   "id": "a8613097",
   "metadata": {},
   "outputs": [
    {
     "name": "stdout",
     "output_type": "stream",
     "text": [
      "Alumno 1. Nota de Fisica: 7\n",
      "Alumno 1. Nota de Calculo: 8\n",
      "Alumno 2. Nota de Fisica: 5\n",
      "Alumno 2. Nota de Calculo: 4\n",
      "Alumno 3. Nota de Fisica: 9\n",
      "Alumno 3. Nota de Calculo: 7\n"
     ]
    }
   ],
   "source": [
    "for i in range(numero_alumnos):\n",
    "    for j in range(numero_courses):\n",
    "        nota = input(\"Alumno {0}. Nota de {1}: \".format(i+1,courses[j]))\n",
    "        grades[i][j] = nota # Esto nos da error, porque al haber creado la matriz vacía, no tiene posición [i][j] para meterlo"
   ]
  },
  {
   "cell_type": "code",
   "execution_count": 45,
   "id": "36683be9",
   "metadata": {},
   "outputs": [
    {
     "data": {
      "text/plain": [
       "array([[7., 8.],\n",
       "       [5., 4.],\n",
       "       [9., 7.]])"
      ]
     },
     "execution_count": 45,
     "metadata": {},
     "output_type": "execute_result"
    }
   ],
   "source": [
    "grades"
   ]
  },
  {
   "cell_type": "markdown",
   "id": "78bd2ab1",
   "metadata": {},
   "source": [
    "Una vez creada la matriz, hacemos el programa pedido"
   ]
  },
  {
   "cell_type": "code",
   "execution_count": 46,
   "id": "028bdc68",
   "metadata": {},
   "outputs": [],
   "source": [
    "def print_Menu():\n",
    "    print(\"\\n=== MENU ===\")\n",
    "    print(\"1. Course Average\")\n",
    "    print(\"2. Student Average\")\n",
    "    print(\"3. Show grades\")\n",
    "    print(\"4. Exit\")\n",
    "    opcion = int(input(\"Introduzca la opción escogida: \"))\n",
    "    return opcion"
   ]
  },
  {
   "cell_type": "markdown",
   "id": "5b7f3b24",
   "metadata": {},
   "source": [
    "Necesitamos hacer 3 funciones distintas:"
   ]
  },
  {
   "cell_type": "code",
   "execution_count": 47,
   "id": "6225317d",
   "metadata": {},
   "outputs": [
    {
     "name": "stdout",
     "output_type": "stream",
     "text": [
      "\n",
      "=== MENU ===\n",
      "1. Course Average\n",
      "2. Student Average\n",
      "3. Show grades\n",
      "4. Exit\n",
      "Introduzca la opción escogida: 4\n",
      "Cerrando programa...\n"
     ]
    }
   ],
   "source": [
    "# Por ahora (antes de programar las funciones), si no escogemos la opión 4 aquí, nos va a dar error porque aun no están programadas\n",
    "opcion = 0\n",
    "while opcion != 4:\n",
    "    opcion = print_Menu()\n",
    "    if opcion == 1:\n",
    "        courseAverage()\n",
    "    elif opcion == 2:\n",
    "        studentAverage()\n",
    "    elif opcion == 3:\n",
    "        studentGrades()\n",
    "    elif opcion == 4:\n",
    "        print(\"Cerrando programa...\")\n",
    "    else:\n",
    "        print(\"Escoja una opción válida\")"
   ]
  },
  {
   "cell_type": "code",
   "execution_count": 48,
   "id": "681dc44a",
   "metadata": {},
   "outputs": [],
   "source": [
    "def courseAverage():\n",
    "    notas_curso = []\n",
    "    for fila in grades:\n",
    "        \n",
    "    print(\"Hello\")"
   ]
  },
  {
   "cell_type": "code",
   "execution_count": null,
   "id": "be49424d",
   "metadata": {},
   "outputs": [],
   "source": []
  }
 ],
 "metadata": {
  "kernelspec": {
   "display_name": "Python 3 (ipykernel)",
   "language": "python",
   "name": "python3"
  },
  "language_info": {
   "codemirror_mode": {
    "name": "ipython",
    "version": 3
   },
   "file_extension": ".py",
   "mimetype": "text/x-python",
   "name": "python",
   "nbconvert_exporter": "python",
   "pygments_lexer": "ipython3",
   "version": "3.7.8rc1"
  }
 },
 "nbformat": 4,
 "nbformat_minor": 5
}
