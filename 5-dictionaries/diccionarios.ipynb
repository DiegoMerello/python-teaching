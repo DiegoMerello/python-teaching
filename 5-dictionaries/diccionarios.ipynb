{
 "cells": [
  {
   "cell_type": "markdown",
   "id": "c99c6822",
   "metadata": {},
   "source": [
    "# Program 1 - Primero hecho con listas"
   ]
  },
  {
   "cell_type": "markdown",
   "id": "3460cae4",
   "metadata": {},
   "source": [
    "Queremos una matriz de estudiantes y notas:\n",
    "\n",
    "$$\\begin{bmatrix}  & Asignatura 1 & Asignatura 2 & ...\\\\ Alumno 1 & 7 & 8 & ...\\\\ Alumno 2 & 8 & 6 & ...\\\\ ... & ... & ... & ... \\end{bmatrix}$$"
   ]
  },
  {
   "cell_type": "markdown",
   "id": "e86df454",
   "metadata": {},
   "source": [
    "Lo único que al final vamos a guardar en la matriz son los números (7, 8, 8, 6...)\n"
   ]
  },
  {
   "cell_type": "markdown",
   "id": "93cdade3",
   "metadata": {},
   "source": [
    "Primero estamos definiendo las columnas de la matriz"
   ]
  },
  {
   "cell_type": "code",
   "execution_count": 6,
   "id": "5ddf2d48",
   "metadata": {},
   "outputs": [
    {
     "name": "stdout",
     "output_type": "stream",
     "text": [
      "Introduzca número de clases: 2\n",
      "Introduzca el nombre de la clase: Física\n",
      "Introduzca el nombre de la clase: Cálculo\n"
     ]
    }
   ],
   "source": [
    "numero_courses = int(input(\"Introduzca número de clases: \"))\n",
    "courses = [] # Inicializamos lista vacía de courses\n",
    "\n",
    "for i in range(numero_courses):\n",
    "    name = input(\"Introduzca el nombre de la clase: \")\n",
    "    courses.append(name)"
   ]
  },
  {
   "cell_type": "code",
   "execution_count": 7,
   "id": "e065c562",
   "metadata": {},
   "outputs": [
    {
     "data": {
      "text/plain": [
       "['Física', 'Cálculo']"
      ]
     },
     "execution_count": 7,
     "metadata": {},
     "output_type": "execute_result"
    }
   ],
   "source": [
    "courses"
   ]
  },
  {
   "cell_type": "code",
   "execution_count": 8,
   "id": "b3cc9397",
   "metadata": {},
   "outputs": [
    {
     "name": "stdout",
     "output_type": "stream",
     "text": [
      "Introduzca número de alumnos: 3\n",
      "Introduzca el nombre del alumno: María\n",
      "Introduzca el nombre del alumno: Pedro\n",
      "Introduzca el nombre del alumno: Cris\n"
     ]
    }
   ],
   "source": [
    "numero_alumnos = int(input(\"Introduzca número de alumnos: \"))\n",
    "alumnos = [] # Inicializamos lista vacía de courses\n",
    "\n",
    "for i in range(numero_alumnos):\n",
    "    name = input(\"Introduzca el nombre del alumno: \") \n",
    "    alumnos.append(name)"
   ]
  },
  {
   "cell_type": "markdown",
   "id": "34d2ea43",
   "metadata": {},
   "source": [
    "Este sería un método para crear la matriz"
   ]
  },
  {
   "cell_type": "code",
   "execution_count": 27,
   "id": "2a273e47",
   "metadata": {},
   "outputs": [
    {
     "name": "stdout",
     "output_type": "stream",
     "text": [
      "\n",
      "Alumno: María\n",
      "Nota de Física: 4\n",
      "Nota de Cálculo: 9\n",
      "\n",
      "Alumno: Pedro\n",
      "Nota de Física: 5\n",
      "Nota de Cálculo: 8\n",
      "\n",
      "Alumno: Cris\n",
      "Nota de Física: 6\n",
      "Nota de Cálculo: 7\n"
     ]
    }
   ],
   "source": [
    "grades = []\n",
    "\n",
    "for i in range(numero_alumnos):\n",
    "    notas_alumno = [] # Primero creamos un vector vacío. Esto sera una \"fila\" de nuestra matriz final\n",
    "    print(\"\\nAlumno: {0}\".format(alumnos[i]))\n",
    "    for j in range(numero_courses):\n",
    "        nota = int(input(\"Nota de {0}: \".format(courses[j])))\n",
    "        notas_alumno.append(nota) # Ahora vamos rellenando cada una de las casillas de esa fila vacía que hemos creado\n",
    "        #grades[i][j] = nota # Esto nos da error, porque al haber creado la matriz vacía, no tiene posición [i][j] para meterlo\n",
    "    grades.append(notas_alumno) # Añadimos la fila a la matriz general"
   ]
  },
  {
   "cell_type": "code",
   "execution_count": 28,
   "id": "0feff9e3",
   "metadata": {},
   "outputs": [
    {
     "name": "stdout",
     "output_type": "stream",
     "text": [
      "[[4, 9], [5, 8], [6, 7]]\n"
     ]
    }
   ],
   "source": [
    "print(grades)"
   ]
  },
  {
   "cell_type": "markdown",
   "id": "2ce98e6a",
   "metadata": {},
   "source": [
    "Este sería otro método distinto para crear la matriz. En este caso creamos una matriz llena de ceros y vamos cambiando cada uno de sus elementos a las notas de los alumnos"
   ]
  },
  {
   "cell_type": "code",
   "execution_count": 29,
   "id": "f8222cf0",
   "metadata": {},
   "outputs": [
    {
     "data": {
      "text/plain": [
       "array([[0., 0.],\n",
       "       [0., 0.],\n",
       "       [0., 0.]])"
      ]
     },
     "execution_count": 29,
     "metadata": {},
     "output_type": "execute_result"
    }
   ],
   "source": [
    "import numpy as np\n",
    "grades_numpy = np.zeros((numero_alumnos, numero_courses))\n",
    "grades_numpy"
   ]
  },
  {
   "cell_type": "code",
   "execution_count": 18,
   "id": "1b19c465",
   "metadata": {},
   "outputs": [
    {
     "name": "stdout",
     "output_type": "stream",
     "text": [
      "\n",
      "Alumno: María\n",
      "Nota de Física: 4\n",
      "Nota de Cálculo: 8\n",
      "\n",
      "Alumno: Pedro\n",
      "Nota de Física: 5\n",
      "Nota de Cálculo: 6\n",
      "\n",
      "Alumno: Cris\n",
      "Nota de Física: 8\n",
      "Nota de Cálculo: 5\n"
     ]
    }
   ],
   "source": [
    "for i in range(numero_alumnos):\n",
    "    print(\"\\nAlumno: {0}\".format(alumnos[i]))\n",
    "    for j in range(numero_courses):\n",
    "        nota = int(input(\"Nota de {0}: \".format(courses[j])))\n",
    "        grades_numpy[i][j] = nota \n",
    "        # Esto ya no da error. Hemos creado al principio una matriz de ceros. Por lo tanto la posición [i][j] SI existe"
   ]
  },
  {
   "cell_type": "code",
   "execution_count": 19,
   "id": "f897ee04",
   "metadata": {},
   "outputs": [
    {
     "data": {
      "text/plain": [
       "array([[4., 8.],\n",
       "       [5., 6.],\n",
       "       [8., 5.]])"
      ]
     },
     "execution_count": 19,
     "metadata": {},
     "output_type": "execute_result"
    }
   ],
   "source": [
    "grades_numpy"
   ]
  },
  {
   "cell_type": "markdown",
   "id": "9d99445f",
   "metadata": {},
   "source": [
    "Una vez creada la matriz, hacemos el programa pedido"
   ]
  },
  {
   "cell_type": "code",
   "execution_count": 30,
   "id": "1b20d2fc",
   "metadata": {},
   "outputs": [],
   "source": [
    "def print_Menu():\n",
    "    print(\"\\n=== MENU ===\")\n",
    "    print(\"1. Course Average\")\n",
    "    print(\"2. Student Average\")\n",
    "    print(\"3. Show grades\")\n",
    "    print(\"4. Exit\")\n",
    "    opcion = int(input(\"Introduzca la opción escogida: \"))\n",
    "    return opcion"
   ]
  },
  {
   "cell_type": "markdown",
   "id": "49750267",
   "metadata": {},
   "source": [
    "Necesitamos hacer 3 funciones distintas:"
   ]
  },
  {
   "cell_type": "code",
   "execution_count": 31,
   "id": "7dfd5dce",
   "metadata": {},
   "outputs": [
    {
     "name": "stdout",
     "output_type": "stream",
     "text": [
      "\n",
      "=== MENU ===\n",
      "1. Course Average\n",
      "2. Student Average\n",
      "3. Show grades\n",
      "4. Exit\n",
      "Introduzca la opción escogida: 4\n",
      "Cerrando programa...\n"
     ]
    }
   ],
   "source": [
    "# Por ahora (antes de programar las funciones), si no escogemos la opión 4 aquí, nos va a dar error porque aun no están programadas\n",
    "opcion = 0\n",
    "while opcion != 4:\n",
    "    opcion = print_Menu()\n",
    "    if opcion == 1:\n",
    "        courseAverage()\n",
    "    elif opcion == 2:\n",
    "        studentAverage()\n",
    "    elif opcion == 3:\n",
    "        studentGrades()\n",
    "    elif opcion == 4:\n",
    "        print(\"Cerrando programa...\")\n",
    "    else:\n",
    "        print(\"Escoja una opción válida\")"
   ]
  },
  {
   "cell_type": "code",
   "execution_count": 32,
   "id": "a8330106",
   "metadata": {},
   "outputs": [
    {
     "data": {
      "text/plain": [
       "['Física', 'Cálculo']"
      ]
     },
     "execution_count": 32,
     "metadata": {},
     "output_type": "execute_result"
    }
   ],
   "source": [
    "courses"
   ]
  },
  {
   "cell_type": "code",
   "execution_count": 33,
   "id": "5f6a5fc4",
   "metadata": {},
   "outputs": [
    {
     "data": {
      "text/plain": [
       "0"
      ]
     },
     "execution_count": 33,
     "metadata": {},
     "output_type": "execute_result"
    }
   ],
   "source": [
    "courses.index(\"Física\")"
   ]
  },
  {
   "cell_type": "code",
   "execution_count": 34,
   "id": "96a9490c",
   "metadata": {},
   "outputs": [],
   "source": [
    "def courseAverage():\n",
    "    # Para poder aplicar la función mean, es necesario que la matriz sea una matriz numpy. \n",
    "    # Por si acaso, la transformo a np.array \n",
    "    grades_numpy = np.array(grades)\n",
    "    medias = grades_numpy.mean(0) # Con un 0 nos hace la media de cada columna (asignatura)\n",
    "    \n",
    "    nombre = input(\"Introduca nombre de la asignatura: \")\n",
    "    indice = courses.index(nombre) # Ver ejemplo de la celda anterior para entender esta línea\n",
    "    media_asignatura = medias[indice]\n",
    "    \n",
    "    print(\"Media de {0} es: {1}\".format(nombre, media_asignatura))\n",
    "    "
   ]
  },
  {
   "cell_type": "code",
   "execution_count": 35,
   "id": "96817657",
   "metadata": {},
   "outputs": [
    {
     "name": "stdout",
     "output_type": "stream",
     "text": [
      "Introduca nombre de la asignatura: Física\n",
      "Media de Física es: 5.0\n"
     ]
    }
   ],
   "source": [
    "courseAverage()"
   ]
  },
  {
   "cell_type": "code",
   "execution_count": 36,
   "id": "06ddeaa8",
   "metadata": {},
   "outputs": [
    {
     "data": {
      "text/plain": [
       "[[4, 9], [5, 8], [6, 7]]"
      ]
     },
     "execution_count": 36,
     "metadata": {},
     "output_type": "execute_result"
    }
   ],
   "source": [
    "grades"
   ]
  },
  {
   "cell_type": "code",
   "execution_count": 37,
   "id": "088c5cde",
   "metadata": {},
   "outputs": [],
   "source": [
    "def studentAverage():\n",
    "    grades_numpy = np.array(grades)\n",
    "    medias = grades_numpy.mean(1) # Con un 1 nos hace la media de cada fila (alumno)\n",
    "    \n",
    "    nombre = input(\"Introduca nombre del alumno: \")\n",
    "    indice = alumnos.index(nombre) # Ver ejemplo de la celda anterior para entender esta línea\n",
    "    media_alumno = medias[indice]\n",
    "    \n",
    "    print(\"Media de {0} es: {1}\".format(nombre, media_alumno))"
   ]
  },
  {
   "cell_type": "code",
   "execution_count": 38,
   "id": "869aa5e5",
   "metadata": {},
   "outputs": [
    {
     "name": "stdout",
     "output_type": "stream",
     "text": [
      "Introduca nombre del alumno: Cris\n",
      "Media de Cris es: 6.5\n"
     ]
    }
   ],
   "source": [
    "studentAverage()"
   ]
  },
  {
   "cell_type": "code",
   "execution_count": 39,
   "id": "ea54f6a7",
   "metadata": {},
   "outputs": [
    {
     "data": {
      "text/plain": [
       "['María', 'Pedro', 'Cris']"
      ]
     },
     "execution_count": 39,
     "metadata": {},
     "output_type": "execute_result"
    }
   ],
   "source": [
    "alumnos"
   ]
  },
  {
   "cell_type": "code",
   "execution_count": 40,
   "id": "3be81f0b",
   "metadata": {},
   "outputs": [
    {
     "data": {
      "text/plain": [
       "[[4, 9], [5, 8], [6, 7]]"
      ]
     },
     "execution_count": 40,
     "metadata": {},
     "output_type": "execute_result"
    }
   ],
   "source": [
    "grades"
   ]
  },
  {
   "cell_type": "markdown",
   "id": "881ce086",
   "metadata": {},
   "source": [
    "Dos maneras de hacer la impresión de notas. La primera más simple y para entender lo que hacemos. La segunda para que salga el resultado según piden en la práctica"
   ]
  },
  {
   "cell_type": "code",
   "execution_count": 41,
   "id": "d188931f",
   "metadata": {},
   "outputs": [],
   "source": [
    "def studentGrades():    \n",
    "    for i in range(numero_alumnos):\n",
    "        print(\"{0}\".format(alumnos[i]))\n",
    "        # i es la posición de alumno. Al hacer alumnos[i] sacamos el nombre almacenado en la poción i del vector alumnos\n",
    "        \n",
    "        for j in range(numero_courses):\n",
    "            print(\"\\t {0} \\t {1}\".format(courses[j], grades[i][j]))\n",
    "            # j es la posición dentro del vector de courses. Al hacer courses[j] sacamos el nombre almacenado en la posición j\n",
    "            # del vector courses\n",
    "            # i es la posición de alumno. grades[i][j] indica el alumno i, asignatura j\n",
    "            # \\t es para hacer \"Tabulador\", hace que todo se imprima a la misma altura"
   ]
  },
  {
   "cell_type": "code",
   "execution_count": 42,
   "id": "cae97f3f",
   "metadata": {},
   "outputs": [
    {
     "name": "stdout",
     "output_type": "stream",
     "text": [
      "María\n",
      "\t Física \t 4\n",
      "\t Cálculo \t 9\n",
      "Pedro\n",
      "\t Física \t 5\n",
      "\t Cálculo \t 8\n",
      "Cris\n",
      "\t Física \t 6\n",
      "\t Cálculo \t 7\n"
     ]
    }
   ],
   "source": [
    "studentGrades()"
   ]
  },
  {
   "cell_type": "markdown",
   "id": "65c99897",
   "metadata": {},
   "source": [
    "Ahora como piden en la práctica"
   ]
  },
  {
   "cell_type": "code",
   "execution_count": 55,
   "id": "f0f929e4",
   "metadata": {},
   "outputs": [
    {
     "name": "stdout",
     "output_type": "stream",
     "text": [
      "\tFísica\tCálculo\n"
     ]
    }
   ],
   "source": [
    "primera_linea = \"\\t\" + \"\\t\".join(courses)\n",
    "print(primera_linea) # Hay maneras más elegantes de hacer esto pero no hace falta romperse la cabeza\n"
   ]
  },
  {
   "cell_type": "code",
   "execution_count": 56,
   "id": "523149d3",
   "metadata": {},
   "outputs": [],
   "source": [
    "def studentGrades():    \n",
    "\n",
    "    primera_linea = \"\\t\" + \"\\t\".join(courses)\n",
    "    print(primera_linea) # Hay maneras más elegantes de hacer esto pero no hace falta romperse la cabeza\n",
    "\n",
    "    for i in range(numero_alumnos):        \n",
    "        alumno = alumnos[i]\n",
    "        string_notas = \"\"\n",
    "        for j in range(numero_courses):\n",
    "            nota = str(grades[i][j])\n",
    "            string_notas = string_notas + \"\\t\"+ nota # Añadimos el espacio (\\t) y la nota extraida\n",
    "        linea = alumno + string_notas # Construimos la línea\n",
    "        print(linea)"
   ]
  },
  {
   "cell_type": "code",
   "execution_count": 57,
   "id": "1ee28a92",
   "metadata": {},
   "outputs": [
    {
     "name": "stdout",
     "output_type": "stream",
     "text": [
      "\tFísica\tCálculo\n",
      "María\t4\t9\n",
      "Pedro\t5\t8\n",
      "Cris\t6\t7\n"
     ]
    }
   ],
   "source": [
    "studentGrades()"
   ]
  },
  {
   "cell_type": "markdown",
   "id": "73bf7645",
   "metadata": {},
   "source": [
    "## Unimos todo lo anterior para hacer el programa final"
   ]
  },
  {
   "cell_type": "code",
   "execution_count": 60,
   "id": "7e4bc498",
   "metadata": {},
   "outputs": [
    {
     "name": "stdout",
     "output_type": "stream",
     "text": [
      "Introduzca número de clases: 3\n",
      "Introduzca el nombre de la clase: Física\n",
      "Introduzca el nombre de la clase: Cálculo\n",
      "Introduzca el nombre de la clase: Álgebra\n",
      "Introduzca número de alumnos: 4\n",
      "Introduzca el nombre del alumno: María\n",
      "Introduzca el nombre del alumno: Pedro\n",
      "Introduzca el nombre del alumno: Cris\n",
      "Introduzca el nombre del alumno: Nico\n",
      "\n",
      "Alumno: María\n",
      "Nota de Física: 4\n",
      "Nota de Cálculo: 6\n",
      "Nota de Álgebra: 8\n",
      "\n",
      "Alumno: Pedro\n",
      "Nota de Física: 5\n",
      "Nota de Cálculo: 7\n",
      "Nota de Álgebra: 9\n",
      "\n",
      "Alumno: Cris\n",
      "Nota de Física: 6\n",
      "Nota de Cálculo: 8\n",
      "Nota de Álgebra: 10\n",
      "\n",
      "Alumno: Nico\n",
      "Nota de Física: 7\n",
      "Nota de Cálculo: 8\n",
      "Nota de Álgebra: 9\n"
     ]
    }
   ],
   "source": [
    "# Introducir datos de clases\n",
    "numero_courses = int(input(\"Introduzca número de clases: \"))\n",
    "courses = [] # Inicializamos lista vacía de courses\n",
    "\n",
    "for i in range(numero_courses):\n",
    "    name = input(\"Introduzca el nombre de la clase: \")\n",
    "    courses.append(name)\n",
    "    \n",
    "# Introducir datos de alumnos\n",
    "numero_alumnos = int(input(\"Introduzca número de alumnos: \"))\n",
    "alumnos = [] # Inicializamos lista vacía de courses\n",
    "\n",
    "for i in range(numero_alumnos):\n",
    "    name = input(\"Introduzca el nombre del alumno: \") \n",
    "    alumnos.append(name)\n",
    "\n",
    "# Introducir notas\n",
    "grades = []\n",
    "\n",
    "for i in range(numero_alumnos):\n",
    "    notas_alumno = [] # Primero creamos un vector vacío. Esto sera una \"fila\" de nuestra matriz final\n",
    "    print(\"\\nAlumno: {0}\".format(alumnos[i]))\n",
    "    for j in range(numero_courses):\n",
    "        nota = int(input(\"Nota de {0}: \".format(courses[j])))\n",
    "        notas_alumno.append(nota) # Ahora vamos rellenando cada una de las casillas de esa fila vacía que hemos creado\n",
    "        #grades[i][j] = nota # Esto nos da error, porque al haber creado la matriz vacía, no tiene posición [i][j] para meterlo\n",
    "    grades.append(notas_alumno) # Añadimos la fila a la matriz general"
   ]
  },
  {
   "cell_type": "code",
   "execution_count": 61,
   "id": "7f63c7cf",
   "metadata": {},
   "outputs": [
    {
     "name": "stdout",
     "output_type": "stream",
     "text": [
      "\n",
      "=== MENU ===\n",
      "1. Course Average\n",
      "2. Student Average\n",
      "3. Show grades\n",
      "4. Exit\n",
      "Introduzca la opción escogida: 1\n",
      "Introduca nombre de la asignatura: Física\n",
      "Media de Física es: 5.5\n",
      "\n",
      "=== MENU ===\n",
      "1. Course Average\n",
      "2. Student Average\n",
      "3. Show grades\n",
      "4. Exit\n",
      "Introduzca la opción escogida: 2\n",
      "Introduca nombre del alumno: María\n",
      "Media de María es: 6.0\n",
      "\n",
      "=== MENU ===\n",
      "1. Course Average\n",
      "2. Student Average\n",
      "3. Show grades\n",
      "4. Exit\n",
      "Introduzca la opción escogida: 3\n",
      "\tFísica\tCálculo\tÁlgebra\n",
      "María\t4\t6\t8\n",
      "Pedro\t5\t7\t9\n",
      "Cris\t6\t8\t10\n",
      "Nico\t7\t8\t9\n",
      "\n",
      "=== MENU ===\n",
      "1. Course Average\n",
      "2. Student Average\n",
      "3. Show grades\n",
      "4. Exit\n",
      "Introduzca la opción escogida: 4\n",
      "Cerrando programa...\n"
     ]
    }
   ],
   "source": [
    "# Correr programa\n",
    "opcion = 0\n",
    "while opcion != 4:\n",
    "    opcion = print_Menu()\n",
    "    if opcion == 1:\n",
    "        courseAverage()\n",
    "    elif opcion == 2:\n",
    "        studentAverage()\n",
    "    elif opcion == 3:\n",
    "        studentGrades()\n",
    "    elif opcion == 4:\n",
    "        print(\"Cerrando programa...\")\n",
    "    else:\n",
    "        print(\"Escoja una opción válida\")"
   ]
  },
  {
   "cell_type": "code",
   "execution_count": null,
   "id": "a288b114",
   "metadata": {},
   "outputs": [],
   "source": []
  }
 ],
 "metadata": {
  "kernelspec": {
   "display_name": "Python 3 (ipykernel)",
   "language": "python",
   "name": "python3"
  },
  "language_info": {
   "codemirror_mode": {
    "name": "ipython",
    "version": 3
   },
   "file_extension": ".py",
   "mimetype": "text/x-python",
   "name": "python",
   "nbconvert_exporter": "python",
   "pygments_lexer": "ipython3",
   "version": "3.7.8rc1"
  }
 },
 "nbformat": 4,
 "nbformat_minor": 5
}
