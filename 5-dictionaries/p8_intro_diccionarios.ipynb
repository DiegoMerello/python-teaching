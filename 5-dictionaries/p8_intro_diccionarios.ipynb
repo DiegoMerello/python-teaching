{
 "cells": [
  {
   "cell_type": "markdown",
   "id": "c99c6822",
   "metadata": {},
   "source": [
    "# Program 1 - Primero hecho con listas"
   ]
  },
  {
   "cell_type": "markdown",
   "id": "3460cae4",
   "metadata": {},
   "source": [
    "Queremos una matriz de estudiantes y notas:\n",
    "\n",
    "$$\\begin{bmatrix}  & Asignatura 1 & Asignatura 2 & ...\\\\ Alumno 1 & 7 & 8 & ...\\\\ Alumno 2 & 8 & 6 & ...\\\\ ... & ... & ... & ... \\end{bmatrix}$$"
   ]
  },
  {
   "cell_type": "markdown",
   "id": "e86df454",
   "metadata": {},
   "source": [
    "Lo único que al final vamos a guardar en la matriz son los números (7, 8, 8, 6...)\n"
   ]
  },
  {
   "cell_type": "markdown",
   "id": "93cdade3",
   "metadata": {},
   "source": [
    "Primero estamos definiendo las columnas de la matriz"
   ]
  },
  {
   "cell_type": "code",
   "execution_count": 6,
   "id": "5ddf2d48",
   "metadata": {},
   "outputs": [
    {
     "name": "stdout",
     "output_type": "stream",
     "text": [
      "Introduzca número de clases: 2\n",
      "Introduzca el nombre de la clase: Física\n",
      "Introduzca el nombre de la clase: Cálculo\n"
     ]
    }
   ],
   "source": [
    "numero_courses = int(input(\"Introduzca número de clases: \"))\n",
    "courses = [] # Inicializamos lista vacía de courses\n",
    "\n",
    "for i in range(numero_courses):\n",
    "    name = input(\"Introduzca el nombre de la clase: \")\n",
    "    courses.append(name)"
   ]
  },
  {
   "cell_type": "code",
   "execution_count": 7,
   "id": "e065c562",
   "metadata": {},
   "outputs": [
    {
     "data": {
      "text/plain": [
       "['Física', 'Cálculo']"
      ]
     },
     "execution_count": 7,
     "metadata": {},
     "output_type": "execute_result"
    }
   ],
   "source": [
    "courses"
   ]
  },
  {
   "cell_type": "code",
   "execution_count": 8,
   "id": "b3cc9397",
   "metadata": {},
   "outputs": [
    {
     "name": "stdout",
     "output_type": "stream",
     "text": [
      "Introduzca número de alumnos: 3\n",
      "Introduzca el nombre del alumno: María\n",
      "Introduzca el nombre del alumno: Pedro\n",
      "Introduzca el nombre del alumno: Cris\n"
     ]
    }
   ],
   "source": [
    "numero_alumnos = int(input(\"Introduzca número de alumnos: \"))\n",
    "alumnos = [] # Inicializamos lista vacía de courses\n",
    "\n",
    "for i in range(numero_alumnos):\n",
    "    name = input(\"Introduzca el nombre del alumno: \") \n",
    "    alumnos.append(name)"
   ]
  },
  {
   "cell_type": "markdown",
   "id": "34d2ea43",
   "metadata": {},
   "source": [
    "Este sería un método para crear la matriz"
   ]
  },
  {
   "cell_type": "code",
   "execution_count": 27,
   "id": "2a273e47",
   "metadata": {},
   "outputs": [
    {
     "name": "stdout",
     "output_type": "stream",
     "text": [
      "\n",
      "Alumno: María\n",
      "Nota de Física: 4\n",
      "Nota de Cálculo: 9\n",
      "\n",
      "Alumno: Pedro\n",
      "Nota de Física: 5\n",
      "Nota de Cálculo: 8\n",
      "\n",
      "Alumno: Cris\n",
      "Nota de Física: 6\n",
      "Nota de Cálculo: 7\n"
     ]
    }
   ],
   "source": [
    "grades = []\n",
    "\n",
    "for i in range(numero_alumnos):\n",
    "    notas_alumno = [] # Primero creamos un vector vacío. Esto sera una \"fila\" de nuestra matriz final\n",
    "    print(\"\\nAlumno: {0}\".format(alumnos[i]))\n",
    "    for j in range(numero_courses):\n",
    "        nota = int(input(\"Nota de {0}: \".format(courses[j])))\n",
    "        notas_alumno.append(nota) # Ahora vamos rellenando cada una de las casillas de esa fila vacía que hemos creado\n",
    "        #grades[i][j] = nota # Esto nos da error, porque al haber creado la matriz vacía, no tiene posición [i][j] para meterlo\n",
    "    grades.append(notas_alumno) # Añadimos la fila a la matriz general"
   ]
  },
  {
   "cell_type": "code",
   "execution_count": 28,
   "id": "0feff9e3",
   "metadata": {},
   "outputs": [
    {
     "name": "stdout",
     "output_type": "stream",
     "text": [
      "[[4, 9], [5, 8], [6, 7]]\n"
     ]
    }
   ],
   "source": [
    "print(grades)"
   ]
  },
  {
   "cell_type": "markdown",
   "id": "2ce98e6a",
   "metadata": {},
   "source": [
    "Este sería otro método distinto para crear la matriz. En este caso creamos una matriz llena de ceros y vamos cambiando cada uno de sus elementos a las notas de los alumnos"
   ]
  },
  {
   "cell_type": "code",
   "execution_count": 29,
   "id": "f8222cf0",
   "metadata": {},
   "outputs": [
    {
     "data": {
      "text/plain": [
       "array([[0., 0.],\n",
       "       [0., 0.],\n",
       "       [0., 0.]])"
      ]
     },
     "execution_count": 29,
     "metadata": {},
     "output_type": "execute_result"
    }
   ],
   "source": [
    "import numpy as np\n",
    "grades_numpy = np.zeros((numero_alumnos, numero_courses))\n",
    "grades_numpy"
   ]
  },
  {
   "cell_type": "code",
   "execution_count": 18,
   "id": "1b19c465",
   "metadata": {},
   "outputs": [
    {
     "name": "stdout",
     "output_type": "stream",
     "text": [
      "\n",
      "Alumno: María\n",
      "Nota de Física: 4\n",
      "Nota de Cálculo: 8\n",
      "\n",
      "Alumno: Pedro\n",
      "Nota de Física: 5\n",
      "Nota de Cálculo: 6\n",
      "\n",
      "Alumno: Cris\n",
      "Nota de Física: 8\n",
      "Nota de Cálculo: 5\n"
     ]
    }
   ],
   "source": [
    "for i in range(numero_alumnos):\n",
    "    print(\"\\nAlumno: {0}\".format(alumnos[i]))\n",
    "    for j in range(numero_courses):\n",
    "        nota = int(input(\"Nota de {0}: \".format(courses[j])))\n",
    "        grades_numpy[i][j] = nota \n",
    "        # Esto ya no da error. Hemos creado al principio una matriz de ceros. Por lo tanto la posición [i][j] SI existe"
   ]
  },
  {
   "cell_type": "code",
   "execution_count": 19,
   "id": "f897ee04",
   "metadata": {},
   "outputs": [
    {
     "data": {
      "text/plain": [
       "array([[4., 8.],\n",
       "       [5., 6.],\n",
       "       [8., 5.]])"
      ]
     },
     "execution_count": 19,
     "metadata": {},
     "output_type": "execute_result"
    }
   ],
   "source": [
    "grades_numpy"
   ]
  },
  {
   "cell_type": "markdown",
   "id": "9d99445f",
   "metadata": {},
   "source": [
    "Una vez creada la matriz, hacemos el programa pedido"
   ]
  },
  {
   "cell_type": "code",
   "execution_count": 30,
   "id": "1b20d2fc",
   "metadata": {},
   "outputs": [],
   "source": [
    "def print_Menu():\n",
    "    print(\"\\n=== MENU ===\")\n",
    "    print(\"1. Course Average\")\n",
    "    print(\"2. Student Average\")\n",
    "    print(\"3. Show grades\")\n",
    "    print(\"4. Exit\")\n",
    "    opcion = int(input(\"Introduzca la opción escogida: \"))\n",
    "    return opcion"
   ]
  },
  {
   "cell_type": "markdown",
   "id": "49750267",
   "metadata": {},
   "source": [
    "Necesitamos hacer 3 funciones distintas:"
   ]
  },
  {
   "cell_type": "code",
   "execution_count": 31,
   "id": "7dfd5dce",
   "metadata": {},
   "outputs": [
    {
     "name": "stdout",
     "output_type": "stream",
     "text": [
      "\n",
      "=== MENU ===\n",
      "1. Course Average\n",
      "2. Student Average\n",
      "3. Show grades\n",
      "4. Exit\n",
      "Introduzca la opción escogida: 4\n",
      "Cerrando programa...\n"
     ]
    }
   ],
   "source": [
    "# Por ahora (antes de programar las funciones), si no escogemos la opión 4 aquí, nos va a dar error porque aun no están programadas\n",
    "opcion = 0\n",
    "while opcion != 4:\n",
    "    opcion = print_Menu()\n",
    "    if opcion == 1:\n",
    "        courseAverage()\n",
    "    elif opcion == 2:\n",
    "        studentAverage()\n",
    "    elif opcion == 3:\n",
    "        studentGrades()\n",
    "    elif opcion == 4:\n",
    "        print(\"Cerrando programa...\")\n",
    "    else:\n",
    "        print(\"Escoja una opción válida\")"
   ]
  },
  {
   "cell_type": "code",
   "execution_count": 32,
   "id": "a8330106",
   "metadata": {},
   "outputs": [
    {
     "data": {
      "text/plain": [
       "['Física', 'Cálculo']"
      ]
     },
     "execution_count": 32,
     "metadata": {},
     "output_type": "execute_result"
    }
   ],
   "source": [
    "courses"
   ]
  },
  {
   "cell_type": "code",
   "execution_count": 33,
   "id": "5f6a5fc4",
   "metadata": {},
   "outputs": [
    {
     "data": {
      "text/plain": [
       "0"
      ]
     },
     "execution_count": 33,
     "metadata": {},
     "output_type": "execute_result"
    }
   ],
   "source": [
    "courses.index(\"Física\")"
   ]
  },
  {
   "cell_type": "code",
   "execution_count": 34,
   "id": "96a9490c",
   "metadata": {},
   "outputs": [],
   "source": [
    "def courseAverage():\n",
    "    # Para poder aplicar la función mean, es necesario que la matriz sea una matriz numpy. \n",
    "    # Por si acaso, la transformo a np.array \n",
    "    grades_numpy = np.array(grades)\n",
    "    medias = grades_numpy.mean(0) # Con un 0 nos hace la media de cada columna (asignatura)\n",
    "    \n",
    "    nombre = input(\"Introduca nombre de la asignatura: \")\n",
    "    indice = courses.index(nombre) # Ver ejemplo de la celda anterior para entender esta línea\n",
    "    media_asignatura = medias[indice]\n",
    "    \n",
    "    print(\"Media de {0} es: {1}\".format(nombre, media_asignatura))\n",
    "    "
   ]
  },
  {
   "cell_type": "code",
   "execution_count": 35,
   "id": "e79a2a3d",
   "metadata": {},
   "outputs": [
    {
     "name": "stdout",
     "output_type": "stream",
     "text": [
      "Introduca nombre de la asignatura: Física\n",
      "Media de Física es: 5.0\n"
     ]
    }
   ],
   "source": [
    "courseAverage()"
   ]
  },
  {
   "cell_type": "code",
   "execution_count": 36,
   "id": "e03257ad",
   "metadata": {},
   "outputs": [
    {
     "data": {
      "text/plain": [
       "[[4, 9], [5, 8], [6, 7]]"
      ]
     },
     "execution_count": 36,
     "metadata": {},
     "output_type": "execute_result"
    }
   ],
   "source": [
    "grades"
   ]
  },
  {
   "cell_type": "code",
   "execution_count": 37,
   "id": "088c5cde",
   "metadata": {},
   "outputs": [],
   "source": [
    "def studentAverage():\n",
    "    grades_numpy = np.array(grades)\n",
    "    medias = grades_numpy.mean(1) # Con un 1 nos hace la media de cada fila (alumno)\n",
    "    \n",
    "    nombre = input(\"Introduca nombre del alumno: \")\n",
    "    indice = alumnos.index(nombre) # Ver ejemplo de la celda anterior para entender esta línea\n",
    "    media_alumno = medias[indice]\n",
    "    \n",
    "    print(\"Media de {0} es: {1}\".format(nombre, media_alumno))"
   ]
  },
  {
   "cell_type": "code",
   "execution_count": 38,
   "id": "36d092b7",
   "metadata": {},
   "outputs": [
    {
     "name": "stdout",
     "output_type": "stream",
     "text": [
      "Introduca nombre del alumno: Cris\n",
      "Media de Cris es: 6.5\n"
     ]
    }
   ],
   "source": [
    "studentAverage()"
   ]
  },
  {
   "cell_type": "code",
   "execution_count": 39,
   "id": "10385937",
   "metadata": {},
   "outputs": [
    {
     "data": {
      "text/plain": [
       "['María', 'Pedro', 'Cris']"
      ]
     },
     "execution_count": 39,
     "metadata": {},
     "output_type": "execute_result"
    }
   ],
   "source": [
    "alumnos"
   ]
  },
  {
   "cell_type": "code",
   "execution_count": 40,
   "id": "124a2756",
   "metadata": {},
   "outputs": [
    {
     "data": {
      "text/plain": [
       "[[4, 9], [5, 8], [6, 7]]"
      ]
     },
     "execution_count": 40,
     "metadata": {},
     "output_type": "execute_result"
    }
   ],
   "source": [
    "grades"
   ]
  },
  {
   "cell_type": "markdown",
   "id": "ec4b1bf9",
   "metadata": {},
   "source": [
    "Dos maneras de hacer la impresión de notas. La primera más simple y para entender lo que hacemos. La segunda para que salga el resultado según piden en la práctica"
   ]
  },
  {
   "cell_type": "code",
   "execution_count": 41,
   "id": "d188931f",
   "metadata": {},
   "outputs": [],
   "source": [
    "def studentGrades():    \n",
    "    for i in range(numero_alumnos):\n",
    "        print(\"{0}\".format(alumnos[i]))\n",
    "        # i es la posición de alumno. Al hacer alumnos[i] sacamos el nombre almacenado en la poción i del vector alumnos\n",
    "        \n",
    "        for j in range(numero_courses):\n",
    "            print(\"\\t {0} \\t {1}\".format(courses[j], grades[i][j]))\n",
    "            # j es la posición dentro del vector de courses. Al hacer courses[j] sacamos el nombre almacenado en la posición j\n",
    "            # del vector courses\n",
    "            # i es la posición de alumno. grades[i][j] indica el alumno i, asignatura j\n",
    "            # \\t es para hacer \"Tabulador\", hace que todo se imprima a la misma altura"
   ]
  },
  {
   "cell_type": "code",
   "execution_count": 42,
   "id": "cae97f3f",
   "metadata": {},
   "outputs": [
    {
     "name": "stdout",
     "output_type": "stream",
     "text": [
      "María\n",
      "\t Física \t 4\n",
      "\t Cálculo \t 9\n",
      "Pedro\n",
      "\t Física \t 5\n",
      "\t Cálculo \t 8\n",
      "Cris\n",
      "\t Física \t 6\n",
      "\t Cálculo \t 7\n"
     ]
    }
   ],
   "source": [
    "studentGrades()"
   ]
  },
  {
   "cell_type": "markdown",
   "id": "f89d17ee",
   "metadata": {},
   "source": [
    "Ahora como piden en la práctica"
   ]
  },
  {
   "cell_type": "code",
   "execution_count": 55,
   "id": "9dd88d08",
   "metadata": {},
   "outputs": [
    {
     "name": "stdout",
     "output_type": "stream",
     "text": [
      "\tFísica\tCálculo\n"
     ]
    }
   ],
   "source": [
    "primera_linea = \"\\t\" + \"\\t\".join(courses)\n",
    "print(primera_linea) # Hay maneras más elegantes de hacer esto pero no hace falta romperse la cabeza\n"
   ]
  },
  {
   "cell_type": "code",
   "execution_count": 56,
   "id": "10415299",
   "metadata": {},
   "outputs": [],
   "source": [
    "def studentGrades():    \n",
    "\n",
    "    primera_linea = \"\\t\" + \"\\t\".join(courses)\n",
    "    print(primera_linea) # Hay maneras más elegantes de hacer esto pero no hace falta romperse la cabeza\n",
    "\n",
    "    for i in range(numero_alumnos):        \n",
    "        alumno = alumnos[i]\n",
    "        string_notas = \"\"\n",
    "        for j in range(numero_courses):\n",
    "            nota = str(grades[i][j])\n",
    "            string_notas = string_notas + \"\\t\"+ nota # Añadimos el espacio (\\t) y la nota extraida\n",
    "        linea = alumno + string_notas # Construimos la línea\n",
    "        print(linea)"
   ]
  },
  {
   "cell_type": "code",
   "execution_count": 57,
   "id": "384f6bb1",
   "metadata": {},
   "outputs": [
    {
     "name": "stdout",
     "output_type": "stream",
     "text": [
      "\tFísica\tCálculo\n",
      "María\t4\t9\n",
      "Pedro\t5\t8\n",
      "Cris\t6\t7\n"
     ]
    }
   ],
   "source": [
    "studentGrades()"
   ]
  },
  {
   "cell_type": "markdown",
   "id": "73bf7645",
   "metadata": {},
   "source": [
    "## Unimos todo lo anterior para hacer el programa final"
   ]
  },
  {
   "cell_type": "code",
   "execution_count": 60,
   "id": "7e4bc498",
   "metadata": {},
   "outputs": [
    {
     "name": "stdout",
     "output_type": "stream",
     "text": [
      "Introduzca número de clases: 3\n",
      "Introduzca el nombre de la clase: Física\n",
      "Introduzca el nombre de la clase: Cálculo\n",
      "Introduzca el nombre de la clase: Álgebra\n",
      "Introduzca número de alumnos: 4\n",
      "Introduzca el nombre del alumno: María\n",
      "Introduzca el nombre del alumno: Pedro\n",
      "Introduzca el nombre del alumno: Cris\n",
      "Introduzca el nombre del alumno: Nico\n",
      "\n",
      "Alumno: María\n",
      "Nota de Física: 4\n",
      "Nota de Cálculo: 6\n",
      "Nota de Álgebra: 8\n",
      "\n",
      "Alumno: Pedro\n",
      "Nota de Física: 5\n",
      "Nota de Cálculo: 7\n",
      "Nota de Álgebra: 9\n",
      "\n",
      "Alumno: Cris\n",
      "Nota de Física: 6\n",
      "Nota de Cálculo: 8\n",
      "Nota de Álgebra: 10\n",
      "\n",
      "Alumno: Nico\n",
      "Nota de Física: 7\n",
      "Nota de Cálculo: 8\n",
      "Nota de Álgebra: 9\n"
     ]
    }
   ],
   "source": [
    "# Introducir datos de clases\n",
    "numero_courses = int(input(\"Introduzca número de clases: \"))\n",
    "courses = [] # Inicializamos lista vacía de courses\n",
    "\n",
    "for i in range(numero_courses):\n",
    "    name = input(\"Introduzca el nombre de la clase: \")\n",
    "    courses.append(name)\n",
    "    \n",
    "# Introducir datos de alumnos\n",
    "numero_alumnos = int(input(\"Introduzca número de alumnos: \"))\n",
    "alumnos = [] # Inicializamos lista vacía de courses\n",
    "\n",
    "for i in range(numero_alumnos):\n",
    "    name = input(\"Introduzca el nombre del alumno: \") \n",
    "    alumnos.append(name)\n",
    "\n",
    "# Introducir notas\n",
    "grades = []\n",
    "\n",
    "for i in range(numero_alumnos):\n",
    "    notas_alumno = [] # Primero creamos un vector vacío. Esto sera una \"fila\" de nuestra matriz final\n",
    "    print(\"\\nAlumno: {0}\".format(alumnos[i]))\n",
    "    for j in range(numero_courses):\n",
    "        nota = int(input(\"Nota de {0}: \".format(courses[j])))\n",
    "        notas_alumno.append(nota) # Ahora vamos rellenando cada una de las casillas de esa fila vacía que hemos creado\n",
    "        #grades[i][j] = nota # Esto nos da error, porque al haber creado la matriz vacía, no tiene posición [i][j] para meterlo\n",
    "    grades.append(notas_alumno) # Añadimos la fila a la matriz general"
   ]
  },
  {
   "cell_type": "code",
   "execution_count": 61,
   "id": "7f63c7cf",
   "metadata": {},
   "outputs": [
    {
     "name": "stdout",
     "output_type": "stream",
     "text": [
      "\n",
      "=== MENU ===\n",
      "1. Course Average\n",
      "2. Student Average\n",
      "3. Show grades\n",
      "4. Exit\n",
      "Introduzca la opción escogida: 1\n",
      "Introduca nombre de la asignatura: Física\n",
      "Media de Física es: 5.5\n",
      "\n",
      "=== MENU ===\n",
      "1. Course Average\n",
      "2. Student Average\n",
      "3. Show grades\n",
      "4. Exit\n",
      "Introduzca la opción escogida: 2\n",
      "Introduca nombre del alumno: María\n",
      "Media de María es: 6.0\n",
      "\n",
      "=== MENU ===\n",
      "1. Course Average\n",
      "2. Student Average\n",
      "3. Show grades\n",
      "4. Exit\n",
      "Introduzca la opción escogida: 3\n",
      "\tFísica\tCálculo\tÁlgebra\n",
      "María\t4\t6\t8\n",
      "Pedro\t5\t7\t9\n",
      "Cris\t6\t8\t10\n",
      "Nico\t7\t8\t9\n",
      "\n",
      "=== MENU ===\n",
      "1. Course Average\n",
      "2. Student Average\n",
      "3. Show grades\n",
      "4. Exit\n",
      "Introduzca la opción escogida: 4\n",
      "Cerrando programa...\n"
     ]
    }
   ],
   "source": [
    "# Correr programa\n",
    "opcion = 0\n",
    "while opcion != 4:\n",
    "    opcion = print_Menu()\n",
    "    \n",
    "    if opcion == 1:\n",
    "        courseAverage()\n",
    "    elif opcion == 2:\n",
    "        studentAverage()\n",
    "    elif opcion == 3:\n",
    "        studentGrades()\n",
    "    elif opcion == 4:\n",
    "        print(\"Cerrando programa...\")\n",
    "    else:\n",
    "        print(\"Escoja una opción válida\")"
   ]
  },
  {
   "cell_type": "markdown",
   "id": "4521677e",
   "metadata": {},
   "source": [
    "# Program 1 - Ahora con diccionarios"
   ]
  },
  {
   "cell_type": "markdown",
   "id": "1309f8ed",
   "metadata": {},
   "source": [
    "Hay dos maneras de hacer esto:"
   ]
  },
  {
   "cell_type": "markdown",
   "id": "78ddd191",
   "metadata": {},
   "source": [
    "**Opción 1**: Lista de diccionarios"
   ]
  },
  {
   "cell_type": "markdown",
   "id": "ee514874",
   "metadata": {},
   "source": [
    "datos_alumnos = [dict1, dict2, dict3] \n",
    "\n",
    "Cada uno de estos diccionarios tiene los campos correspondientes a cada asignatura:\n",
    "\n",
    "`dict1:\n",
    "    R: 3\n",
    "    Python: 6\n",
    "    Contabilidad: 9`\n",
    "        \n",
    "Podríamos recorrer la lista de diccionarios pidiendo los resultados de cada asignatura:\n",
    "\n",
    "\n",
    "`for diccionario in datos_alumnos:\n",
    "    nota_r = diccionario[\"R\"] \n",
    "    ...`\n",
    "    \n",
    "Lo malo, es que en este caso no tenemos los nombres de los alumnos por ningún lado. Necesitaríamos hacer una lista aprte con los nombres. (También podría añadirse el nombre como una entrada más de dict1)"
   ]
  },
  {
   "cell_type": "markdown",
   "id": "b840f837",
   "metadata": {},
   "source": [
    "**Opción 2**: Diccionario de diccionarios"
   ]
  },
  {
   "cell_type": "markdown",
   "id": "01f6a70c",
   "metadata": {},
   "source": [
    "datos_alumnos = {nombre1: datos1, nombre2: datos2, nombre3: datos3}\n",
    "\n",
    "Cada uno de estos `datos1` es un diccionario en sí mismo con los datos de las asignaturas\n",
    "\n",
    "`datos1:\n",
    "    R: 3\n",
    "    Python: 6\n",
    "    Contabilidad: 9`\n",
    "    \n",
    "    \n",
    "Por lo tanto la estructura global queda así:\n",
    "\n",
    "`datos_alumnos = { \n",
    "            nombre1: {\n",
    "                R:3\n",
    "                Python: 6\n",
    "                Contabilidad: 9}\n",
    "            nombre2: {\n",
    "                R:3\n",
    "                Python: 6\n",
    "                Contabilidad: 9}\n",
    "            nombre3: {\n",
    "                R:3\n",
    "                Python: 6\n",
    "                Contabilidad: 9}\n",
    "          }`\n",
    "\n",
    "        \n",
    "Podríamos obtener datos particulares de la siguiente manera:\n",
    "\n",
    "\n",
    "`nota_R_de_Pedro = datos_alumnos[\"Pedro\"][\"R\"]`\n",
    "    \n",
    "Esto supone una gran ventaja respecto al uso de listas"
   ]
  },
  {
   "cell_type": "markdown",
   "id": "b4905394",
   "metadata": {},
   "source": [
    "**Haremos la práctica con la opción 2 para familiarizarnos más con diccionarios. Al final vienen ejemplos de uso de diccionarios para entender más las ventajas frente a listas**"
   ]
  },
  {
   "cell_type": "code",
   "execution_count": 94,
   "id": "a288b114",
   "metadata": {},
   "outputs": [],
   "source": [
    "def obtenerDatos():\n",
    "    dict_creado = dict() # creamos un diccionario vacío donde van a estar todos los datos\n",
    "\n",
    "    i = 1 # Vamos a seguir añadiendo nombres hasta que nos digan que paremos (i=0)\n",
    "    while (i == 1):\n",
    "        nombre = input(\"\\nIntroduzca nuevo alumno: \")\n",
    "\n",
    "        # Creamos un nuvo par (clave,valor) en el diccionario de datos. La clave es el nombre y los datos van a ser un diccionario\n",
    "        # de (asignaturas, notas). Por ahora este valor es un diccionario vacío\n",
    "        dict_creado[nombre] = dict() \n",
    "\n",
    "        j=1 # Vamos a seguir añadiendo asignaturas hasta que nos digan que paremos (j=0)\n",
    "        while j == 1:\n",
    "            asignatura = input(\"Asignatura: \")\n",
    "            nota = float(input(\"Nota: \"))\n",
    "            dict_creado[nombre][asignatura] = nota\n",
    "\n",
    "            mas_asignaturas = input(\"¿Quiere introducir una nueva asignatura? (y/n): \")\n",
    "            if mas_asignaturas == \"n\":\n",
    "                j =0 # Salimos del while\n",
    "\n",
    "\n",
    "\n",
    "        mas_alumnos = input(\"¿Quiere introducir un nuevo alumno? (y/n): \")\n",
    "        if mas_alumnos == \"n\":\n",
    "            i =0 # Salimos del while\n",
    "            \n",
    "    return dict_creado # IMPORTANTE DEVOLVER EL DICCIONARIO CREADO"
   ]
  },
  {
   "cell_type": "code",
   "execution_count": 95,
   "id": "e50b5dac",
   "metadata": {},
   "outputs": [
    {
     "name": "stdout",
     "output_type": "stream",
     "text": [
      "\n",
      "Introduzca nuevo alumno: María\n",
      "Asignatura: R\n",
      "Nota: 5\n",
      "¿Quiere introducir una nueva asignatura? (y/n): y\n",
      "Asignatura: Python\n",
      "Nota: 6\n",
      "¿Quiere introducir una nueva asignatura? (y/n): y\n",
      "Asignatura: Física\n",
      "Nota: 7\n",
      "¿Quiere introducir una nueva asignatura? (y/n): n\n",
      "¿Quiere introducir un nuevo alumno? (y/n): y\n",
      "\n",
      "Introduzca nuevo alumno: Pedro\n",
      "Asignatura: R\n",
      "Nota: 7\n",
      "¿Quiere introducir una nueva asignatura? (y/n): y\n",
      "Asignatura: Python\n",
      "Nota: 8\n",
      "¿Quiere introducir una nueva asignatura? (y/n): y\n",
      "Asignatura: Física\n",
      "Nota: 9\n",
      "¿Quiere introducir una nueva asignatura? (y/n): n\n",
      "¿Quiere introducir un nuevo alumno? (y/n): n\n"
     ]
    }
   ],
   "source": [
    "datos = obtenerDatos() # IMPORTANTE ASIGNAR A DATOS LO QUE NOS DEVUELVE LA FUNCIÓN"
   ]
  },
  {
   "cell_type": "code",
   "execution_count": 96,
   "id": "953e5d2c",
   "metadata": {},
   "outputs": [
    {
     "data": {
      "text/plain": [
       "{'María': {'R': 5.0, 'Python': 6.0, 'Física': 7.0},\n",
       " 'Pedro': {'R': 7.0, 'Python': 8.0, 'Física': 9.0}}"
      ]
     },
     "execution_count": 96,
     "metadata": {},
     "output_type": "execute_result"
    }
   ],
   "source": [
    "datos"
   ]
  },
  {
   "cell_type": "code",
   "execution_count": 97,
   "id": "1b2bff26",
   "metadata": {},
   "outputs": [],
   "source": [
    "def courseAverage_dict():\n",
    "    clase = input(\"Introduca asignatura: \")\n",
    "    \n",
    "    suma_notas = 0 # Para acumular las notas de todos\n",
    "    num_alumnos = 0\n",
    "    for nombre in datos:\n",
    "        suma_notas = suma_notas  + datos[nombre][clase]\n",
    "        num_alumnos = num_alumnos + 1\n",
    "    media = suma_notas / num_alumnos\n",
    "    print(str(media))"
   ]
  },
  {
   "cell_type": "code",
   "execution_count": 98,
   "id": "d9b582ae",
   "metadata": {},
   "outputs": [
    {
     "name": "stdout",
     "output_type": "stream",
     "text": [
      "Introduca asignatura: R\n",
      "6.0\n"
     ]
    }
   ],
   "source": [
    "courseAverage_dict()"
   ]
  },
  {
   "cell_type": "code",
   "execution_count": 99,
   "id": "f4a92fae",
   "metadata": {},
   "outputs": [],
   "source": [
    "def studentAverage_dict():\n",
    "    nombre = input(\"Introduca nombre: \")\n",
    "    \n",
    "    suma_notas = 0 # Para acumular las notas de todos\n",
    "    num_clases = 0\n",
    "    \n",
    "    for asignatura in datos[nombre]:\n",
    "        suma_notas = suma_notas  + datos[nombre][asignatura]\n",
    "        num_clases = num_clases + 1\n",
    "    media = suma_notas / num_clases\n",
    "    print(str(media))"
   ]
  },
  {
   "cell_type": "code",
   "execution_count": 100,
   "id": "a5e58ead",
   "metadata": {},
   "outputs": [
    {
     "name": "stdout",
     "output_type": "stream",
     "text": [
      "Introduca nombre: María\n",
      "6.0\n"
     ]
    }
   ],
   "source": [
    "studentAverage_dict()"
   ]
  },
  {
   "cell_type": "markdown",
   "id": "543c6b32",
   "metadata": {},
   "source": [
    "Las siguientes celdas explican las primeras líneas de studentGrades()"
   ]
  },
  {
   "cell_type": "code",
   "execution_count": 112,
   "id": "26930b20",
   "metadata": {},
   "outputs": [
    {
     "data": {
      "text/plain": [
       "['María', 'Pedro']"
      ]
     },
     "execution_count": 112,
     "metadata": {},
     "output_type": "execute_result"
    }
   ],
   "source": [
    "list(datos.keys()) # Esto explica las primeras líneas de studentGrades()"
   ]
  },
  {
   "cell_type": "code",
   "execution_count": 114,
   "id": "c8bab923",
   "metadata": {},
   "outputs": [
    {
     "data": {
      "text/plain": [
       "{'R': 5.0, 'Python': 6.0, 'Física': 7.0}"
      ]
     },
     "execution_count": 114,
     "metadata": {},
     "output_type": "execute_result"
    }
   ],
   "source": [
    "nombre_alumnos = list(datos.keys())\n",
    "datos[nombre_alumnos[0]] # Lo mismo que pedir datos de maría datos[\"María\"]"
   ]
  },
  {
   "cell_type": "code",
   "execution_count": 115,
   "id": "0876fb03",
   "metadata": {},
   "outputs": [
    {
     "data": {
      "text/plain": [
       "{'R': 5.0, 'Python': 6.0, 'Física': 7.0}"
      ]
     },
     "execution_count": 115,
     "metadata": {},
     "output_type": "execute_result"
    }
   ],
   "source": [
    "datos[\"María\"]"
   ]
  },
  {
   "cell_type": "code",
   "execution_count": 118,
   "id": "1d109638",
   "metadata": {},
   "outputs": [
    {
     "data": {
      "text/plain": [
       "['R', 'Python', 'Física']"
      ]
     },
     "execution_count": 118,
     "metadata": {},
     "output_type": "execute_result"
    }
   ],
   "source": [
    "list(datos[\"María\"].keys()) # Nos devuelve la lista de asignaturas"
   ]
  },
  {
   "cell_type": "code",
   "execution_count": 121,
   "id": "8fbaa55d",
   "metadata": {},
   "outputs": [
    {
     "data": {
      "text/plain": [
       "['R', 'Python', 'Física']"
      ]
     },
     "execution_count": 121,
     "metadata": {},
     "output_type": "execute_result"
    }
   ],
   "source": [
    "list(datos[nombre_alumnos[0]].keys())"
   ]
  },
  {
   "cell_type": "code",
   "execution_count": 126,
   "id": "7c351723",
   "metadata": {},
   "outputs": [],
   "source": [
    "def studentGrades_dict():    \n",
    "    nombre_alumnos = list(datos.keys()) # Lista de nomrbs de alumnos\n",
    "    nombre_asignaturas = list(datos[nombre_alumnos[0]].keys()) # Lista de asignaturas del primer alumno (ver explicación anterior que lo hace por pasos)\n",
    "    \n",
    "    primera_linea = \"\\t\" + \"\\t\".join(nombre_asignaturas)\n",
    "    print(primera_linea) # Hay maneras más elegantes de hacer esto pero no hace falta romperse la cabeza\n",
    "    \n",
    "    for nombre in datos:\n",
    "        diccionario_notas = datos[nombre]\n",
    "        string_notas = \"\"\n",
    "        for asignatura in diccionario_notas:\n",
    "            nota = str(diccionario_notas[asignatura])  # Esto es lo mismo que decir datos[nombre][asignatura]\n",
    "            string_notas = string_notas + \"\\t\" + nota\n",
    "        linea = nombre + string_notas\n",
    "        print(linea)"
   ]
  },
  {
   "cell_type": "code",
   "execution_count": 127,
   "id": "2c5f25e8",
   "metadata": {},
   "outputs": [
    {
     "name": "stdout",
     "output_type": "stream",
     "text": [
      "\tR\tPython\tFísica\n",
      "María\t5.0\t6.0\t7.0\n",
      "Pedro\t7.0\t8.0\t9.0\n"
     ]
    }
   ],
   "source": [
    "studentGrades_dict()"
   ]
  },
  {
   "cell_type": "markdown",
   "id": "b99e187b",
   "metadata": {},
   "source": [
    "### Unimos todo el código para tenerlo todo junto como lo piden"
   ]
  },
  {
   "cell_type": "code",
   "execution_count": 130,
   "id": "bebfbd40",
   "metadata": {},
   "outputs": [
    {
     "name": "stdout",
     "output_type": "stream",
     "text": [
      "\n",
      "Introduzca nuevo alumno: Felipe\n",
      "Asignatura: Matemáticas\n",
      "Nota: 6\n",
      "¿Quiere introducir una nueva asignatura? (y/n): y\n",
      "Asignatura: Lengua\n",
      "Nota: 8\n",
      "¿Quiere introducir una nueva asignatura? (y/n): y\n",
      "Asignatura: Bilogía\n",
      "Nota: 9\n",
      "¿Quiere introducir una nueva asignatura? (y/n): n\n",
      "¿Quiere introducir un nuevo alumno? (y/n): y\n",
      "\n",
      "Introduzca nuevo alumno: Carmen\n",
      "Asignatura: Matemáticas\n",
      "Nota: 7\n",
      "¿Quiere introducir una nueva asignatura? (y/n): y\n",
      "Asignatura: Lengua\n",
      "Nota: 5\n",
      "¿Quiere introducir una nueva asignatura? (y/n): y\n",
      "Asignatura: Bilogía\n",
      "Nota: 8\n",
      "¿Quiere introducir una nueva asignatura? (y/n): n\n",
      "¿Quiere introducir un nuevo alumno? (y/n): n\n"
     ]
    }
   ],
   "source": [
    "datos = obtenerDatos()"
   ]
  },
  {
   "cell_type": "code",
   "execution_count": 131,
   "id": "8cd7443e",
   "metadata": {},
   "outputs": [
    {
     "name": "stdout",
     "output_type": "stream",
     "text": [
      "\n",
      "=== MENU ===\n",
      "1. Course Average\n",
      "2. Student Average\n",
      "3. Show grades\n",
      "4. Exit\n",
      "Introduzca la opción escogida: 1\n",
      "Introduca asignatura: Matemáticas\n",
      "6.5\n",
      "\n",
      "=== MENU ===\n",
      "1. Course Average\n",
      "2. Student Average\n",
      "3. Show grades\n",
      "4. Exit\n",
      "Introduzca la opción escogida: 2\n",
      "Introduca nombre: Felipe\n",
      "7.666666666666667\n",
      "\n",
      "=== MENU ===\n",
      "1. Course Average\n",
      "2. Student Average\n",
      "3. Show grades\n",
      "4. Exit\n",
      "Introduzca la opción escogida: 3\n",
      "\tMatemáticas\tLengua\tBilogía\n",
      "Felipe\t6.0\t8.0\t9.0\n",
      "Carmen\t7.0\t5.0\t8.0\n",
      "\n",
      "=== MENU ===\n",
      "1. Course Average\n",
      "2. Student Average\n",
      "3. Show grades\n",
      "4. Exit\n",
      "Introduzca la opción escogida: 4\n",
      "Cerrando programa...\n"
     ]
    }
   ],
   "source": [
    "# Correr programa\n",
    "opcion = 0\n",
    "while opcion != 4:\n",
    "    opcion = print_Menu()\n",
    "    if opcion == 1:\n",
    "        courseAverage_dict()\n",
    "    elif opcion == 2:\n",
    "        studentAverage_dict()\n",
    "    elif opcion == 3:\n",
    "        studentGrades_dict()\n",
    "    elif opcion == 4:\n",
    "        print(\"Cerrando programa...\")\n",
    "    else:\n",
    "        print(\"Escoja una opción válida\")"
   ]
  },
  {
   "cell_type": "markdown",
   "id": "84db95da",
   "metadata": {},
   "source": [
    "### ¿Por qué son tan útiles? Algunos ejemplos de uso..."
   ]
  },
  {
   "cell_type": "markdown",
   "id": "5e149f21",
   "metadata": {},
   "source": [
    "Nos fijamos que podemos tener a un alumno con más asignaturas que otro"
   ]
  },
  {
   "cell_type": "code",
   "execution_count": 138,
   "id": "1cf7326c",
   "metadata": {},
   "outputs": [
    {
     "name": "stdout",
     "output_type": "stream",
     "text": [
      "\n",
      "Introduzca nuevo alumno: Nico\n",
      "Asignatura: R\n",
      "Nota: 7\n",
      "¿Quiere introducir una nueva asignatura? (y/n): y\n",
      "Asignatura: Python\n",
      "Nota: 8\n",
      "¿Quiere introducir una nueva asignatura? (y/n): n\n",
      "¿Quiere introducir un nuevo alumno? (y/n): y\n",
      "\n",
      "Introduzca nuevo alumno: Cris\n",
      "Asignatura: R\n",
      "Nota: 9\n",
      "¿Quiere introducir una nueva asignatura? (y/n): y\n",
      "Asignatura: Python\n",
      "Nota: 7\n",
      "¿Quiere introducir una nueva asignatura? (y/n): y\n",
      "Asignatura: Contabilidad\n",
      "Nota: 10\n",
      "¿Quiere introducir una nueva asignatura? (y/n): n\n",
      "¿Quiere introducir un nuevo alumno? (y/n): n\n"
     ]
    }
   ],
   "source": [
    "datos = obtenerDatos()"
   ]
  },
  {
   "cell_type": "code",
   "execution_count": 139,
   "id": "775f2d3d",
   "metadata": {},
   "outputs": [
    {
     "data": {
      "text/plain": [
       "{'Nico': {'R': 7.0, 'Python': 8.0},\n",
       " 'Cris': {'R': 9.0, 'Python': 7.0, 'Contabilidad': 10.0}}"
      ]
     },
     "execution_count": 139,
     "metadata": {},
     "output_type": "execute_result"
    }
   ],
   "source": [
    "datos"
   ]
  },
  {
   "cell_type": "code",
   "execution_count": 140,
   "id": "d1f14dc8",
   "metadata": {},
   "outputs": [
    {
     "name": "stdout",
     "output_type": "stream",
     "text": [
      "Nico\n",
      "Cris\n"
     ]
    }
   ],
   "source": [
    "# Imprimo las claves del diccionario de nombres\n",
    "for elemento in datos:\n",
    "    print(elemento)"
   ]
  },
  {
   "cell_type": "code",
   "execution_count": 141,
   "id": "7d2f5c70",
   "metadata": {},
   "outputs": [
    {
     "name": "stdout",
     "output_type": "stream",
     "text": [
      "{'R': 7.0, 'Python': 8.0}\n",
      "{'R': 9.0, 'Python': 7.0, 'Contabilidad': 10.0}\n"
     ]
    }
   ],
   "source": [
    "# Imprimo los valores del diccionario de nombres. Estos valores son los dicc. asociados a cada alumno\n",
    "for elemento in datos:\n",
    "    print(datos[elemento])"
   ]
  },
  {
   "cell_type": "code",
   "execution_count": 142,
   "id": "7c6f16a7",
   "metadata": {},
   "outputs": [
    {
     "data": {
      "text/plain": [
       "{'R': 7.0, 'Python': 8.0}"
      ]
     },
     "execution_count": 142,
     "metadata": {},
     "output_type": "execute_result"
    }
   ],
   "source": [
    "datos[\"Nico\"]"
   ]
  },
  {
   "cell_type": "markdown",
   "id": "1f360fb7",
   "metadata": {},
   "source": [
    "Y puedo coger todas las notas de un alumno con una asignatura específica de manera muy fácil"
   ]
  },
  {
   "cell_type": "code",
   "execution_count": 143,
   "id": "616f228d",
   "metadata": {},
   "outputs": [
    {
     "name": "stdout",
     "output_type": "stream",
     "text": [
      "8.0\n",
      "7.0\n"
     ]
    }
   ],
   "source": [
    "for elemento in datos:\n",
    "    diccionario_de_notas = datos[elemento]\n",
    "    print(diccionario_de_notas['Python'])"
   ]
  },
  {
   "cell_type": "code",
   "execution_count": 144,
   "id": "1874eb14",
   "metadata": {},
   "outputs": [
    {
     "ename": "KeyError",
     "evalue": "'Contabilidad'",
     "output_type": "error",
     "traceback": [
      "\u001b[1;31m---------------------------------------------------------------------------\u001b[0m",
      "\u001b[1;31mKeyError\u001b[0m                                  Traceback (most recent call last)",
      "\u001b[1;32m~\\AppData\\Local\\Temp/ipykernel_8316/1723734753.py\u001b[0m in \u001b[0;36m<module>\u001b[1;34m\u001b[0m\n\u001b[0;32m      1\u001b[0m \u001b[1;32mfor\u001b[0m \u001b[0melemento\u001b[0m \u001b[1;32min\u001b[0m \u001b[0mdatos\u001b[0m\u001b[1;33m:\u001b[0m\u001b[1;33m\u001b[0m\u001b[1;33m\u001b[0m\u001b[0m\n\u001b[0;32m      2\u001b[0m     \u001b[0mdiccionario_de_notas\u001b[0m \u001b[1;33m=\u001b[0m \u001b[0mdatos\u001b[0m\u001b[1;33m[\u001b[0m\u001b[0melemento\u001b[0m\u001b[1;33m]\u001b[0m\u001b[1;33m\u001b[0m\u001b[1;33m\u001b[0m\u001b[0m\n\u001b[1;32m----> 3\u001b[1;33m     \u001b[0mprint\u001b[0m\u001b[1;33m(\u001b[0m\u001b[0mdiccionario_de_notas\u001b[0m\u001b[1;33m[\u001b[0m\u001b[1;34m'Contabilidad'\u001b[0m\u001b[1;33m]\u001b[0m\u001b[1;33m)\u001b[0m \u001b[1;31m# Da error porque no hay contabilidad en \"Nic\"\u001b[0m\u001b[1;33m\u001b[0m\u001b[1;33m\u001b[0m\u001b[0m\n\u001b[0m",
      "\u001b[1;31mKeyError\u001b[0m: 'Contabilidad'"
     ]
    }
   ],
   "source": [
    "for elemento in datos:\n",
    "    diccionario_de_notas = datos[elemento]\n",
    "    print(diccionario_de_notas['Contabilidad']) # Da error porque no hay contabilidad en \"Nic\""
   ]
  },
  {
   "cell_type": "markdown",
   "id": "29ce0d23",
   "metadata": {},
   "source": [
    "Para evitar este error, podemos utilizar el get"
   ]
  },
  {
   "cell_type": "code",
   "execution_count": 145,
   "id": "88f8266a",
   "metadata": {},
   "outputs": [
    {
     "name": "stdout",
     "output_type": "stream",
     "text": [
      "No cursada\n",
      "10.0\n"
     ]
    }
   ],
   "source": [
    "for elemento in datos:\n",
    "    diccionario_de_notas = datos[elemento]\n",
    "    print(diccionario_de_notas.get('Contabilidad', \"No cursada\"))"
   ]
  }
 ],
 "metadata": {
  "kernelspec": {
   "display_name": "Python 3 (ipykernel)",
   "language": "python",
   "name": "python3"
  },
  "language_info": {
   "codemirror_mode": {
    "name": "ipython",
    "version": 3
   },
   "file_extension": ".py",
   "mimetype": "text/x-python",
   "name": "python",
   "nbconvert_exporter": "python",
   "pygments_lexer": "ipython3",
   "version": "3.7.8rc1"
  }
 },
 "nbformat": 4,
 "nbformat_minor": 5
}
