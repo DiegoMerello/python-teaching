{
 "cells": [
  {
   "cell_type": "markdown",
   "id": "5b3b7eab",
   "metadata": {},
   "source": [
    "# Program 1 - Empresa de camiones"
   ]
  },
  {
   "cell_type": "code",
   "execution_count": 102,
   "id": "5f411745",
   "metadata": {},
   "outputs": [],
   "source": [
    "import numpy as np"
   ]
  },
  {
   "cell_type": "code",
   "execution_count": 114,
   "id": "f49fe81b",
   "metadata": {},
   "outputs": [],
   "source": [
    "datos_camiones = {\n",
    "    \"2839EGH\": [2008, 195.345, 2023, [198, 280, 320, 155, 248, 233, 75]],\n",
    "    \"2345GHT\": [2010,  85.345, 2025, [298,  80,  40, 555, 643,  21, 154]],\n",
    "    \"2345BRT\": [2011,  22.365, 2023, [200,  50,  10,  55, 347, 101,  80]]\n",
    "}\n",
    "# Año de fabricación\n",
    "# Km totales recorridos\n",
    "# Año próxima ITV\n",
    "# Lista con km de los 7 últimos días"
   ]
  },
  {
   "cell_type": "code",
   "execution_count": 115,
   "id": "62b3ef3a",
   "metadata": {},
   "outputs": [],
   "source": [
    "def print_Menu():\n",
    "    print(\"\\n=== MENU ===\")\n",
    "    print(\"1. Camiones a pasar ITV en año x\")\n",
    "    print(\"2. Mostrar camión que haya recorrido más km en la última semana\")\n",
    "    print(\"3. Salir\")\n",
    "    opcion = int(input(\"Introduzca la opción escogida: \"))\n",
    "    return opcion"
   ]
  },
  {
   "cell_type": "code",
   "execution_count": 116,
   "id": "6ae0885e",
   "metadata": {},
   "outputs": [],
   "source": [
    "def camionesItvAnoX():\n",
    "    ano_buscado = int(input(\"Introduzca el año de la ITV: \"))\n",
    "    \n",
    "    camiones_con_itv_en_ese_ano = []\n",
    "    for camion, datos_camion in datos_camiones.items():\n",
    "        ano_itv = datos_camion[2]\n",
    "        if ano_itv == ano_buscado:\n",
    "            camiones_con_itv_en_ese_ano.append(camion)\n",
    "    \n",
    "    print(\"Los camiones a pasar la ITV en {0} son: \".format(ano_buscado))\n",
    "    if camiones_con_itv_en_ese_ano == []:\n",
    "        print(\"No hay camiones con la ITV en ese año.\")\n",
    "    else:\n",
    "        for camion in camiones_con_itv_en_ese_ano:\n",
    "            print(camion)\n",
    "            print(\"Año compra: {0}  Año ITV: {1}\".format(datos_camiones[camion][0], datos_camiones[camion][2]))"
   ]
  },
  {
   "cell_type": "code",
   "execution_count": 117,
   "id": "06e82aec",
   "metadata": {},
   "outputs": [],
   "source": [
    "def camionMasKmUltimaSemana():\n",
    "    \n",
    "    # Inicializamos\n",
    "    max_km_ultima_semana = 0\n",
    "    camion_max = \"\"\n",
    "    \n",
    "    for camion, datos_camion in datos_camiones.items():\n",
    "        kms_semana = datos_camion[3]\n",
    "        \n",
    "        # Esto lo hago para sacar los kms tot rápido\n",
    "        kms_semana_np = np.array(kms_semana)\n",
    "        tot_kms = kms_semana_np.sum()\n",
    "        \n",
    "        if tot_kms > max_km_ultima_semana:\n",
    "            max_km_ultima_semana = tot_kms\n",
    "            camion_max = camion\n",
    "    print(\"El camion con más kms es {0} con {1} kms\".format(camion_max,max_km_ultima_semana))"
   ]
  },
  {
   "cell_type": "code",
   "execution_count": 119,
   "id": "7086718f",
   "metadata": {},
   "outputs": [
    {
     "name": "stdout",
     "output_type": "stream",
     "text": [
      "\n",
      "=== MENU ===\n",
      "1. Camiones a pasar ITV en año x\n",
      "2. Mostrar camión que haya recorrido más km en la última semana\n",
      "3. Salir\n",
      "Introduzca la opción escogida: 1\n",
      "Introduzca el año de la ITV: 2023\n",
      "Los camiones a pasar la ITV en 2023 son: \n",
      "2839EGH\n",
      "Año compra: 2008  Año ITV: 2023\n",
      "2345BRT\n",
      "Año compra: 2011  Año ITV: 2023\n",
      "\n",
      "=== MENU ===\n",
      "1. Camiones a pasar ITV en año x\n",
      "2. Mostrar camión que haya recorrido más km en la última semana\n",
      "3. Salir\n",
      "Introduzca la opción escogida: 2\n",
      "El camion con más kms es 2345GHT con 1791 kms\n",
      "\n",
      "=== MENU ===\n",
      "1. Camiones a pasar ITV en año x\n",
      "2. Mostrar camión que haya recorrido más km en la última semana\n",
      "3. Salir\n",
      "Introduzca la opción escogida: 1\n",
      "Introduzca el año de la ITV: 2011\n",
      "Los camiones a pasar la ITV en 2011 son: \n",
      "No hay camiones con la ITV en ese año.\n",
      "\n",
      "=== MENU ===\n",
      "1. Camiones a pasar ITV en año x\n",
      "2. Mostrar camión que haya recorrido más km en la última semana\n",
      "3. Salir\n",
      "Introduzca la opción escogida: 3\n",
      "Cerrando programa...\n"
     ]
    }
   ],
   "source": [
    "# Por ahora (antes de programar las funciones), si no escogemos la opión 4 aquí, nos va a dar error porque aun no están programadas\n",
    "opcion = 0\n",
    "while opcion != 3:\n",
    "    opcion = print_Menu()\n",
    "    if opcion == 1:\n",
    "        camionesItvAnoX()\n",
    "    elif opcion == 2:\n",
    "        camionMasKmUltimaSemana()\n",
    "    elif opcion == 3:\n",
    "        print(\"Cerrando programa...\")\n",
    "    else:\n",
    "        print(\"Escoja una opción válida\")"
   ]
  },
  {
   "cell_type": "markdown",
   "id": "0d548b6c",
   "metadata": {},
   "source": [
    "# Program 2 - Fruit Shop"
   ]
  },
  {
   "cell_type": "code",
   "execution_count": 47,
   "id": "f9ff24c1",
   "metadata": {},
   "outputs": [],
   "source": [
    "frutas = {\"Apple\":[100, 1.69], \"Watermelon\": [350, 0.48], \"Orange\": [250,26.9]}\n",
    "# Es un diccionario. \n",
    "# La clave es el nombre de la fruta y el valor es una lista con dos posiciones\n",
    "# La primera posición son los kilos de fruta disponibles\n",
    "# la segunda posición es el precio por kilo\n",
    "# Los precios por kilo los he buscado en internet"
   ]
  },
  {
   "cell_type": "markdown",
   "id": "6fb73970",
   "metadata": {},
   "source": [
    "Las funciones se utilizan en el código de debajo"
   ]
  },
  {
   "cell_type": "code",
   "execution_count": 48,
   "id": "5bdda912",
   "metadata": {},
   "outputs": [],
   "source": [
    "def clientOrder():\n",
    "    fruta_deseada = input(\"Fruta a comprar: \")\n",
    "    datos_fruta = frutas.get(fruta_deseada, \"NA\")\n",
    "    \n",
    "    # Si la fruta no existe, se devuelve NA\n",
    "    if datos_fruta != \"NA\":\n",
    "        precio = float(input(\"Introduzca precio por kilo. (anteriormente {0}€/kg) : \".format(datos_fruta[1])))\n",
    "        kilos_deseados = float(input(\"Introduzca la cantidad deseada (kg): \"))\n",
    "    else:\n",
    "        # Códigos error\n",
    "        fruta_deseada = \"NA\"\n",
    "        precio = -1\n",
    "        kilos_deseados = -1\n",
    "    \n",
    "    return fruta_deseada, kilos_deseados, precio"
   ]
  },
  {
   "cell_type": "code",
   "execution_count": 49,
   "id": "12acf7e5",
   "metadata": {},
   "outputs": [],
   "source": [
    "def orderIsAchievable(fruta, kilos_deseados):\n",
    "    kilos_fruta_stock = frutas.get(fruta)[0]\n",
    "    \n",
    "    order_ok = False\n",
    "    if kilos_deseados <= kilos_fruta_stock:\n",
    "        order_ok = True\n",
    "        \n",
    "    return order_ok"
   ]
  },
  {
   "cell_type": "code",
   "execution_count": 50,
   "id": "a4ba655d",
   "metadata": {},
   "outputs": [],
   "source": [
    "def actualizarFrutas(fruta, kilos_deseados, precio_introducido):\n",
    "    # Actualizamos los datos de la fruta\n",
    "    \n",
    "    # Primero los kg\n",
    "    frutas[fruta][0] = frutas[fruta][0] - kilos_deseados\n",
    "    \n",
    "    # Ahora el precio introducido\n",
    "    frutas[fruta][1] = precio_introducido"
   ]
  },
  {
   "cell_type": "code",
   "execution_count": 51,
   "id": "fe53fa7c",
   "metadata": {},
   "outputs": [
    {
     "name": "stdout",
     "output_type": "stream",
     "text": [
      "Fruta a comprar: Apple\n",
      "Introduzca precio por kilo. (anteriormente 1.69€/kg) : 1.70\n",
      "Introduzca la cantidad deseada (kg): 10\n",
      "Se han vendido 10.0 kg de Apple a un precio de 1.7€/kg por un total de 17.0€\n",
      "Continue operations? (y/n): y\n",
      "Fruta a comprar: Apple\n",
      "Introduzca precio por kilo. (anteriormente 1.7€/kg) : 2\n",
      "Introduzca la cantidad deseada (kg): 5\n",
      "Se han vendido 5.0 kg de Apple a un precio de 2.0€/kg por un total de 10.0€\n",
      "Continue operations? (y/n): y\n",
      "Fruta a comprar: Water\n",
      "La fruta escogida no está disponible\n",
      "Continue operations? (y/n): n\n"
     ]
    }
   ],
   "source": [
    "shop_is_open = \"y\"\n",
    "while shop_is_open==\"y\":\n",
    "    \n",
    "    # Prmiero se obtiene toda la información necesaria del pedido del cliente\n",
    "    fruta, kilos, precio = clientOrder()\n",
    "    \n",
    "    # Si la fruta no existe, ni preguntamos más\n",
    "    if fruta != \"NA\":                \n",
    "        \n",
    "        # Comprobamos si los kilos pedidos cuadran con lo pedido\n",
    "        order_ok = orderIsAchievable(fruta, kilos)\n",
    "    \n",
    "        # Actualizamos los datos de los kilos disponibles si order ok\n",
    "        if order_ok:\n",
    "            actualizarFrutas(fruta, kilos, precio)\n",
    "            print(\"Se han vendido {0} kg de {1} a un precio de {2}€/kg por un total de {3}€\".format(kilos, fruta, precio, precio*kilos))\n",
    "        else:\n",
    "            print(\"No se puede comprar más fruta de que hay en stock.\")\n",
    "    else:\n",
    "        print(\"La fruta escogida no está disponible\")\n",
    "    \n",
    "    shop_is_open = input(\"Continue operations? (y/n): \")"
   ]
  },
  {
   "cell_type": "code",
   "execution_count": 52,
   "id": "006f6615",
   "metadata": {},
   "outputs": [
    {
     "data": {
      "text/plain": [
       "{'Apple': [85.0, 2.0], 'Watermelon': [350, 0.48], 'Orange': [250, 26.9]}"
      ]
     },
     "execution_count": 52,
     "metadata": {},
     "output_type": "execute_result"
    }
   ],
   "source": [
    "frutas"
   ]
  },
  {
   "cell_type": "markdown",
   "id": "e6e13dd3",
   "metadata": {},
   "source": [
    "# Program 3 - Student's course"
   ]
  },
  {
   "cell_type": "code",
   "execution_count": 54,
   "id": "148df814",
   "metadata": {},
   "outputs": [],
   "source": [
    "datos_alumno = {\"Name\": \"Felipe\", \"Number\": 2301 }\n",
    "datos_academicos = {\"Course_year\": 2021, \"Num_courses\": 5, \"Grades\":[5,6,7,8,9] }"
   ]
  },
  {
   "cell_type": "code",
   "execution_count": 64,
   "id": "5d230f31",
   "metadata": {},
   "outputs": [
    {
     "data": {
      "text/plain": [
       "{'Name': 'Felipe',\n",
       " 'Number': 2301,\n",
       " 'Course_year': 2021,\n",
       " 'Num_courses': 5,\n",
       " 'Grades': [5, 6, 7, 8, 9]}"
      ]
     },
     "execution_count": 64,
     "metadata": {},
     "output_type": "execute_result"
    }
   ],
   "source": [
    "datos_combined = {**datos_alumno,  **datos_academicos}\n",
    "datos_combined"
   ]
  },
  {
   "cell_type": "code",
   "execution_count": 63,
   "id": "02181c9c",
   "metadata": {},
   "outputs": [
    {
     "data": {
      "text/plain": [
       "7.0"
      ]
     },
     "execution_count": 63,
     "metadata": {},
     "output_type": "execute_result"
    }
   ],
   "source": [
    "import numpy as np\n",
    "# Guardamos la lista de notas como un array numpy\n",
    "notas_numpy = np.array(datos_combined[\"Grades\"])\n",
    "# Porque podemos hacer esto directamente:\n",
    "notas_numpy.mean()"
   ]
  },
  {
   "cell_type": "markdown",
   "id": "a8344e00",
   "metadata": {},
   "source": [
    "# Program 4 -  Client bank account"
   ]
  },
  {
   "cell_type": "code",
   "execution_count": 70,
   "id": "ce7af69e",
   "metadata": {},
   "outputs": [
    {
     "name": "stdout",
     "output_type": "stream",
     "text": [
      "Introduzca nombre: Nico\n",
      "Introduzca telefono: 68735275\n",
      "Introduzca acc. number: 212445\n",
      "Introduzca balance: 204\n"
     ]
    }
   ],
   "source": [
    "nombre = input(\"Introduzca nombre: \")\n",
    "tfno = input(\"Introduzca telefono: \")\n",
    "acc_number = input(\"Introduzca acc. number: \")\n",
    "balance = float(input(\"Introduzca balance: \"))\n",
    "datos_cliente = (nombre, tfno)\n",
    "datos_banco = (acc_number, balance)"
   ]
  },
  {
   "cell_type": "code",
   "execution_count": 71,
   "id": "7286f507",
   "metadata": {},
   "outputs": [
    {
     "data": {
      "text/plain": [
       "('Nico', '68735275')"
      ]
     },
     "execution_count": 71,
     "metadata": {},
     "output_type": "execute_result"
    }
   ],
   "source": [
    "datos_cliente"
   ]
  },
  {
   "cell_type": "code",
   "execution_count": 72,
   "id": "8b66cb9b",
   "metadata": {},
   "outputs": [
    {
     "data": {
      "text/plain": [
       "('212445', 204.0)"
      ]
     },
     "execution_count": 72,
     "metadata": {},
     "output_type": "execute_result"
    }
   ],
   "source": [
    "datos_banco"
   ]
  },
  {
   "cell_type": "code",
   "execution_count": 73,
   "id": "7549e141",
   "metadata": {},
   "outputs": [],
   "source": [
    "datos_totales = (datos_cliente, datos_banco)"
   ]
  },
  {
   "cell_type": "code",
   "execution_count": 74,
   "id": "9ce14844",
   "metadata": {},
   "outputs": [
    {
     "data": {
      "text/plain": [
       "(('Nico', '68735275'), ('212445', 204.0))"
      ]
     },
     "execution_count": 74,
     "metadata": {},
     "output_type": "execute_result"
    }
   ],
   "source": [
    "datos_totales"
   ]
  },
  {
   "cell_type": "code",
   "execution_count": 78,
   "id": "462957c7",
   "metadata": {},
   "outputs": [
    {
     "data": {
      "text/plain": [
       "('212445', 204.0)"
      ]
     },
     "execution_count": 78,
     "metadata": {},
     "output_type": "execute_result"
    }
   ],
   "source": [
    "datos_totales[1]"
   ]
  },
  {
   "cell_type": "code",
   "execution_count": 79,
   "id": "8da48e0b",
   "metadata": {},
   "outputs": [
    {
     "data": {
      "text/plain": [
       "204.0"
      ]
     },
     "execution_count": 79,
     "metadata": {},
     "output_type": "execute_result"
    }
   ],
   "source": [
    "datos_totales[1][1]"
   ]
  },
  {
   "cell_type": "code",
   "execution_count": 81,
   "id": "17881f18",
   "metadata": {},
   "outputs": [
    {
     "name": "stdout",
     "output_type": "stream",
     "text": [
      "Introduzca nuevo balance: 204\n"
     ]
    },
    {
     "ename": "TypeError",
     "evalue": "'tuple' object does not support item assignment",
     "output_type": "error",
     "traceback": [
      "\u001b[1;31m---------------------------------------------------------------------------\u001b[0m",
      "\u001b[1;31mTypeError\u001b[0m                                 Traceback (most recent call last)",
      "\u001b[1;32m~\\AppData\\Local\\Temp/ipykernel_19140/3099097679.py\u001b[0m in \u001b[0;36m<module>\u001b[1;34m\u001b[0m\n\u001b[0;32m      1\u001b[0m \u001b[0mnuevo_balance\u001b[0m \u001b[1;33m=\u001b[0m \u001b[0mfloat\u001b[0m\u001b[1;33m(\u001b[0m\u001b[0minput\u001b[0m\u001b[1;33m(\u001b[0m\u001b[1;34m\"Introduzca nuevo balance: \"\u001b[0m\u001b[1;33m)\u001b[0m\u001b[1;33m)\u001b[0m\u001b[1;33m\u001b[0m\u001b[1;33m\u001b[0m\u001b[0m\n\u001b[1;32m----> 2\u001b[1;33m \u001b[0mdatos_totales\u001b[0m\u001b[1;33m[\u001b[0m\u001b[1;36m1\u001b[0m\u001b[1;33m]\u001b[0m\u001b[1;33m[\u001b[0m\u001b[1;36m1\u001b[0m\u001b[1;33m]\u001b[0m \u001b[1;33m=\u001b[0m \u001b[0mnuevo_balance\u001b[0m\u001b[1;33m\u001b[0m\u001b[1;33m\u001b[0m\u001b[0m\n\u001b[0m",
      "\u001b[1;31mTypeError\u001b[0m: 'tuple' object does not support item assignment"
     ]
    }
   ],
   "source": [
    "nuevo_balance = float(input(\"Introduzca nuevo balance: \"))\n",
    "datos_totales[1][1] = nuevo_balance"
   ]
  },
  {
   "cell_type": "markdown",
   "id": "b1d5fcf0",
   "metadata": {},
   "source": [
    "Sale un error porque no puedes actualizar valores de una tupla"
   ]
  },
  {
   "cell_type": "markdown",
   "id": "521be689",
   "metadata": {},
   "source": [
    "Tienes que crear la tupla entera de nuevo"
   ]
  },
  {
   "cell_type": "code",
   "execution_count": 83,
   "id": "2eeeb224",
   "metadata": {},
   "outputs": [
    {
     "data": {
      "text/plain": [
       "(('Nico', '68735275'), ('212445', 204.0))"
      ]
     },
     "execution_count": 83,
     "metadata": {},
     "output_type": "execute_result"
    }
   ],
   "source": [
    "datos_totales = (  (datos_totales[0][0],datos_totales[0][1]), (datos_totales[1][0], nuevo_balance))\n",
    "datos_totales"
   ]
  },
  {
   "cell_type": "markdown",
   "id": "04ca49f4",
   "metadata": {},
   "source": [
    "# Program 5 -  Sales of a company"
   ]
  },
  {
   "cell_type": "code",
   "execution_count": 84,
   "id": "7f56349c",
   "metadata": {},
   "outputs": [],
   "source": [
    "datos_sales = {\"Salesperson1\":(\"Nombre1\", 230), \n",
    "               \"Salesperson2\":(\"Nombre2\", 250), \n",
    "               \"Salesperson3\":(\"Nombre3\", 240)}"
   ]
  },
  {
   "cell_type": "code",
   "execution_count": 87,
   "id": "c98dab52",
   "metadata": {},
   "outputs": [
    {
     "name": "stdout",
     "output_type": "stream",
     "text": [
      "Nombre2 tiene el máximo de ventas: 250\n"
     ]
    }
   ],
   "source": [
    "max_sales = 0\n",
    "nombre = \"\"\n",
    "for sales_persona in datos_sales:\n",
    "    ventas_salespersona = datos_sales[sales_persona][1]\n",
    "    \n",
    "    if ventas_salespersona > max_sales:\n",
    "        max_sales = ventas_salespersona\n",
    "        nombre = datos_sales[sales_persona][0]\n",
    "print(\"{0} tiene el máximo de ventas: {1}\".format(nombre, max_sales))"
   ]
  },
  {
   "cell_type": "code",
   "execution_count": null,
   "id": "fcea32b9",
   "metadata": {},
   "outputs": [],
   "source": []
  }
 ],
 "metadata": {
  "kernelspec": {
   "display_name": "Python 3 (ipykernel)",
   "language": "python",
   "name": "python3"
  },
  "language_info": {
   "codemirror_mode": {
    "name": "ipython",
    "version": 3
   },
   "file_extension": ".py",
   "mimetype": "text/x-python",
   "name": "python",
   "nbconvert_exporter": "python",
   "pygments_lexer": "ipython3",
   "version": "3.7.8rc1"
  }
 },
 "nbformat": 4,
 "nbformat_minor": 5
}
