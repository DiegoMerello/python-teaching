{
 "cells": [
  {
   "cell_type": "code",
   "execution_count": 1,
   "id": "89095958",
   "metadata": {},
   "outputs": [],
   "source": [
    "datos_camiones = {\n",
    "    \"2839EGH\": [2008, 195.345, 2023, [198, 280, 320, 155, 248, 233, 75]],\n",
    "    \"2345GHT\": [2010,  85.345, 2025, [298,  80,  40, 555, 643,  21, 154]],\n",
    "    \"2345BRT\": [2011,  22.365, 2023, [200,  50,  10,  55, 347, 101,  80]]\n",
    "}\n"
   ]
  },
  {
   "cell_type": "code",
   "execution_count": 10,
   "id": "cc06c458",
   "metadata": {},
   "outputs": [
    {
     "data": {
      "text/plain": [
       "155"
      ]
     },
     "execution_count": 10,
     "metadata": {},
     "output_type": "execute_result"
    }
   ],
   "source": [
    "datos_camiones[\"2839EGH\"][3][3]"
   ]
  },
  {
   "cell_type": "code",
   "execution_count": 13,
   "id": "aea7d683",
   "metadata": {},
   "outputs": [
    {
     "name": "stdout",
     "output_type": "stream",
     "text": [
      "2839EGH\n",
      "[2008, 195.345, 2023, [198, 280, 320, 155, 248, 233, 75]]\n",
      "2008\n",
      "195.345\n",
      "2023\n",
      "[198, 280, 320, 155, 248, 233, 75]\n",
      "2345GHT\n",
      "[2010, 85.345, 2025, [298, 80, 40, 555, 643, 21, 154]]\n",
      "2010\n",
      "85.345\n",
      "2025\n",
      "[298, 80, 40, 555, 643, 21, 154]\n",
      "2345BRT\n",
      "[2011, 22.365, 2023, [200, 50, 10, 55, 347, 101, 80]]\n",
      "2011\n",
      "22.365\n",
      "2023\n",
      "[200, 50, 10, 55, 347, 101, 80]\n"
     ]
    }
   ],
   "source": [
    "for clave, valor in datos_camiones.items():\n",
    "    print(clave)\n",
    "    print(valor)\n",
    "    for elemento in valor:\n",
    "        print(elemento)"
   ]
  },
  {
   "cell_type": "code",
   "execution_count": 22,
   "id": "d02ed032",
   "metadata": {},
   "outputs": [
    {
     "name": "stdout",
     "output_type": "stream",
     "text": [
      "2839EGH\n",
      "2345GHT\n",
      "2345BRT\n"
     ]
    }
   ],
   "source": [
    "for elemento in datos_camiones:\n",
    "    print(elemento)\n",
    "    datos_camiones[elemento]"
   ]
  },
  {
   "cell_type": "code",
   "execution_count": 18,
   "id": "56f30ca2",
   "metadata": {},
   "outputs": [
    {
     "data": {
      "text/plain": [
       "[2008, 195.345, 2023, [198, 280, 320, 155, 248, 233, 75]]"
      ]
     },
     "execution_count": 18,
     "metadata": {},
     "output_type": "execute_result"
    }
   ],
   "source": [
    "datos_camiones[\"2839EGH\"]"
   ]
  },
  {
   "cell_type": "code",
   "execution_count": 24,
   "id": "c5b16d6d",
   "metadata": {},
   "outputs": [
    {
     "ename": "TypeError",
     "evalue": "'dict' object cannot be interpreted as an integer",
     "output_type": "error",
     "traceback": [
      "\u001b[1;31m---------------------------------------------------------------------------\u001b[0m",
      "\u001b[1;31mTypeError\u001b[0m                                 Traceback (most recent call last)",
      "\u001b[1;32m~\\AppData\\Local\\Temp/ipykernel_11480/3455011734.py\u001b[0m in \u001b[0;36m<module>\u001b[1;34m\u001b[0m\n\u001b[1;32m----> 1\u001b[1;33m \u001b[1;32mfor\u001b[0m \u001b[0melemento\u001b[0m \u001b[1;32min\u001b[0m \u001b[0mrange\u001b[0m\u001b[1;33m(\u001b[0m\u001b[0mdatos_camiones\u001b[0m\u001b[1;33m)\u001b[0m\u001b[1;33m:\u001b[0m\u001b[1;33m\u001b[0m\u001b[1;33m\u001b[0m\u001b[0m\n\u001b[0m\u001b[0;32m      2\u001b[0m     \u001b[0mprint\u001b[0m\u001b[1;33m(\u001b[0m\u001b[0melemento\u001b[0m\u001b[1;33m)\u001b[0m\u001b[1;33m\u001b[0m\u001b[1;33m\u001b[0m\u001b[0m\n",
      "\u001b[1;31mTypeError\u001b[0m: 'dict' object cannot be interpreted as an integer"
     ]
    }
   ],
   "source": [
    "for elemento in range(datos_camiones):\n",
    "    print(elemento)"
   ]
  },
  {
   "cell_type": "code",
   "execution_count": 27,
   "id": "d57569d8",
   "metadata": {},
   "outputs": [
    {
     "name": "stdout",
     "output_type": "stream",
     "text": [
      "2839EGH\n",
      "[2008, 195.345, 2023, [198, 280, 320, 155, 248, 233, 75]]\n",
      "2345GHT\n",
      "[2010, 85.345, 2025, [298, 80, 40, 555, 643, 21, 154]]\n",
      "2345BRT\n",
      "[2011, 22.365, 2023, [200, 50, 10, 55, 347, 101, 80]]\n"
     ]
    }
   ],
   "source": [
    "for clave, valor in datos_camiones.items():\n",
    "    print(clave)\n",
    "    print(valor)"
   ]
  },
  {
   "cell_type": "markdown",
   "id": "87887cf4",
   "metadata": {},
   "source": [
    "# Program 2"
   ]
  },
  {
   "cell_type": "code",
   "execution_count": 28,
   "id": "f9ff24c1",
   "metadata": {},
   "outputs": [],
   "source": [
    "frutas = {\"Apple\":[100, 1.69], \"Watermelon\": [350, 0.48], \"Orange\": [250,26.9]}\n",
    "# Es un diccionario. \n",
    "# La clave es el nombre de la fruta y el valor es una lista con dos posiciones\n",
    "# La primera posición son los kilos de fruta disponibles\n",
    "# la segunda posición es el precio por kilo\n",
    "# Los precios por kilo los he buscado en internet"
   ]
  },
  {
   "cell_type": "code",
   "execution_count": 29,
   "id": "99e8c64e",
   "metadata": {},
   "outputs": [
    {
     "data": {
      "text/plain": [
       "{'Apple': [100, 1.69], 'Watermelon': [350, 0.48], 'Orange': [250, 26.9]}"
      ]
     },
     "execution_count": 29,
     "metadata": {},
     "output_type": "execute_result"
    }
   ],
   "source": [
    "frutas"
   ]
  },
  {
   "cell_type": "markdown",
   "id": "6fb73970",
   "metadata": {},
   "source": [
    "Las funciones se utilizan en el código de debajo"
   ]
  },
  {
   "cell_type": "code",
   "execution_count": 39,
   "id": "5bdda912",
   "metadata": {},
   "outputs": [],
   "source": [
    "def clientOrder():\n",
    "    fruta_deseada = input(\"Fruta a comprar: \")\n",
    "    datos_fruta = frutas.get(fruta_deseada, \"NA\")\n",
    "    \n",
    "    # Si la fruta no existe, se devuelve NA\n",
    "    if datos_fruta != \"NA\":\n",
    "        precio = float(input(\"Introduzca precio por kilo. (anteriormente {0}€/kg) : \".format(datos_fruta[1])))\n",
    "        kilos_deseados = float(input(\"Introduzca la cantidad deseada (kg): \"))\n",
    "    else:\n",
    "        # Códigos error\n",
    "        fruta_deseada = \"NA\"\n",
    "        precio = -1\n",
    "        kilos_deseados = -1\n",
    "    \n",
    "    return fruta_deseada, kilos_deseados, precio"
   ]
  },
  {
   "cell_type": "code",
   "execution_count": 40,
   "id": "12acf7e5",
   "metadata": {},
   "outputs": [],
   "source": [
    "def orderIsAchievable(fruta, kilos_deseados):\n",
    "    kilos_fruta_stock = frutas.get(fruta)[0]\n",
    "    \n",
    "    order_ok = False\n",
    "    if kilos_deseados <= kilos_fruta_stock:\n",
    "        order_ok = True\n",
    "        \n",
    "    return order_ok"
   ]
  },
  {
   "cell_type": "code",
   "execution_count": 41,
   "id": "a4ba655d",
   "metadata": {},
   "outputs": [],
   "source": [
    "def actualizarFrutas(fruta, kilos_deseados, precio_introducido):\n",
    "    # Actualizamos los datos de la fruta\n",
    "    \n",
    "    # Primero los kg\n",
    "    frutas[fruta][0] = frutas[fruta][0] - kilos_deseados\n",
    "    \n",
    "    # Ahora el precio introducido\n",
    "    frutas[fruta][1] = precio_introducido"
   ]
  },
  {
   "cell_type": "code",
   "execution_count": 42,
   "id": "fe53fa7c",
   "metadata": {},
   "outputs": [
    {
     "name": "stdout",
     "output_type": "stream",
     "text": [
      "Fruta a comprar: Apple\n",
      "Introduzca precio por kilo. (anteriormente 1.69€/kg) : 1.7\n",
      "Introduzca la cantidad deseada (kg): 10\n",
      "Se han vendido 10.0 kg de Apple a un precio de 1.7€/kg por un total de 17.0€\n",
      "Continue operations? (y/n): n\n"
     ]
    }
   ],
   "source": [
    "shop_is_open = \"y\"\n",
    "while shop_is_open==\"y\":\n",
    "    \n",
    "    # Prmiero se obtiene toda la información necesaria del pedido del cliente\n",
    "    fruta, kilos, precio = clientOrder()\n",
    "    \n",
    "    # Si la fruta no existe, ni preguntamos más\n",
    "    if fruta != \"NA\":                \n",
    "        \n",
    "        # Comprobamos si los kilos pedidos cuadran con lo el stock\n",
    "        order_ok = orderIsAchievable(fruta, kilos)\n",
    "    \n",
    "        # Actualizamos los datos de los kilos disponibles si order ok\n",
    "        if order_ok:\n",
    "            actualizarFrutas(fruta, kilos, precio)\n",
    "            print(\"Se han vendido {0} kg de {1} a un precio de {2}€/kg por un total de {3}€\".format(kilos, fruta, precio, precio*kilos))\n",
    "        else:\n",
    "            print(\"No se puede comprar más fruta de que hay en stock.\")\n",
    "    else:\n",
    "        print(\"La fruta escogida no está disponible\")\n",
    "    \n",
    "    shop_is_open = input(\"Continue operations? (y/n): \")"
   ]
  },
  {
   "cell_type": "code",
   "execution_count": 43,
   "id": "006f6615",
   "metadata": {},
   "outputs": [
    {
     "data": {
      "text/plain": [
       "{'Apple': [90.0, 1.7], 'Watermelon': [350, 0.48], 'Orange': [250, 26.9]}"
      ]
     },
     "execution_count": 43,
     "metadata": {},
     "output_type": "execute_result"
    }
   ],
   "source": [
    "frutas"
   ]
  },
  {
   "cell_type": "markdown",
   "id": "a8344e00",
   "metadata": {},
   "source": [
    "# Program 4 -  Client bank account"
   ]
  },
  {
   "cell_type": "code",
   "execution_count": 63,
   "id": "ce7af69e",
   "metadata": {},
   "outputs": [
    {
     "name": "stdout",
     "output_type": "stream",
     "text": [
      "Introduzca nombre: Nico\n",
      "Introduzca telefono: 12312421\n",
      "Introduzca acc. number: 13342\n",
      "Introduzca balance: 23312\n"
     ]
    }
   ],
   "source": [
    "nombre = input(\"Introduzca nombre: \")\n",
    "tfno = input(\"Introduzca telefono: \")\n",
    "acc_number = input(\"Introduzca acc. number: \")\n",
    "balance = float(input(\"Introduzca balance: \"))\n",
    "datos_cliente = (nombre, tfno)\n",
    "datos_banco = (acc_number, balance)"
   ]
  },
  {
   "cell_type": "code",
   "execution_count": 64,
   "id": "7286f507",
   "metadata": {},
   "outputs": [
    {
     "data": {
      "text/plain": [
       "('Nico', '12312421')"
      ]
     },
     "execution_count": 64,
     "metadata": {},
     "output_type": "execute_result"
    }
   ],
   "source": [
    "datos_cliente"
   ]
  },
  {
   "cell_type": "code",
   "execution_count": 65,
   "id": "8b66cb9b",
   "metadata": {},
   "outputs": [
    {
     "data": {
      "text/plain": [
       "('13342', 23312.0)"
      ]
     },
     "execution_count": 65,
     "metadata": {},
     "output_type": "execute_result"
    }
   ],
   "source": [
    "datos_banco"
   ]
  },
  {
   "cell_type": "code",
   "execution_count": 66,
   "id": "7549e141",
   "metadata": {},
   "outputs": [],
   "source": [
    "datos_totales = (datos_cliente, datos_banco)"
   ]
  },
  {
   "cell_type": "code",
   "execution_count": 67,
   "id": "9ce14844",
   "metadata": {},
   "outputs": [
    {
     "data": {
      "text/plain": [
       "(('Nico', '12312421'), ('13342', 23312.0))"
      ]
     },
     "execution_count": 67,
     "metadata": {},
     "output_type": "execute_result"
    }
   ],
   "source": [
    "datos_totales"
   ]
  },
  {
   "cell_type": "code",
   "execution_count": 68,
   "id": "462957c7",
   "metadata": {},
   "outputs": [
    {
     "data": {
      "text/plain": [
       "('13342', 23312.0)"
      ]
     },
     "execution_count": 68,
     "metadata": {},
     "output_type": "execute_result"
    }
   ],
   "source": [
    "datos_totales[1]"
   ]
  },
  {
   "cell_type": "code",
   "execution_count": 69,
   "id": "8da48e0b",
   "metadata": {},
   "outputs": [
    {
     "data": {
      "text/plain": [
       "23312.0"
      ]
     },
     "execution_count": 69,
     "metadata": {},
     "output_type": "execute_result"
    }
   ],
   "source": [
    "datos_totales[1][1]"
   ]
  },
  {
   "cell_type": "code",
   "execution_count": 71,
   "id": "17881f18",
   "metadata": {},
   "outputs": [
    {
     "name": "stdout",
     "output_type": "stream",
     "text": [
      "Introduzca nuevo balance: 10000\n"
     ]
    },
    {
     "ename": "TypeError",
     "evalue": "'tuple' object does not support item assignment",
     "output_type": "error",
     "traceback": [
      "\u001b[1;31m---------------------------------------------------------------------------\u001b[0m",
      "\u001b[1;31mTypeError\u001b[0m                                 Traceback (most recent call last)",
      "\u001b[1;32m~\\AppData\\Local\\Temp/ipykernel_11480/3099097679.py\u001b[0m in \u001b[0;36m<module>\u001b[1;34m\u001b[0m\n\u001b[0;32m      1\u001b[0m \u001b[0mnuevo_balance\u001b[0m \u001b[1;33m=\u001b[0m \u001b[0mfloat\u001b[0m\u001b[1;33m(\u001b[0m\u001b[0minput\u001b[0m\u001b[1;33m(\u001b[0m\u001b[1;34m\"Introduzca nuevo balance: \"\u001b[0m\u001b[1;33m)\u001b[0m\u001b[1;33m)\u001b[0m\u001b[1;33m\u001b[0m\u001b[1;33m\u001b[0m\u001b[0m\n\u001b[1;32m----> 2\u001b[1;33m \u001b[0mdatos_totales\u001b[0m\u001b[1;33m[\u001b[0m\u001b[1;36m1\u001b[0m\u001b[1;33m]\u001b[0m\u001b[1;33m[\u001b[0m\u001b[1;36m1\u001b[0m\u001b[1;33m]\u001b[0m \u001b[1;33m=\u001b[0m \u001b[0mnuevo_balance\u001b[0m\u001b[1;33m\u001b[0m\u001b[1;33m\u001b[0m\u001b[0m\n\u001b[0m",
      "\u001b[1;31mTypeError\u001b[0m: 'tuple' object does not support item assignment"
     ]
    }
   ],
   "source": [
    "nuevo_balance = float(input(\"Introduzca nuevo balance: \"))\n",
    "datos_totales[1][1] = nuevo_balance"
   ]
  },
  {
   "cell_type": "markdown",
   "id": "b1d5fcf0",
   "metadata": {},
   "source": [
    "Sale un error porque no puedes actualizar valores de una tupla"
   ]
  },
  {
   "cell_type": "markdown",
   "id": "521be689",
   "metadata": {},
   "source": [
    "Tienes que crear la tupla entera de nuevo"
   ]
  },
  {
   "cell_type": "code",
   "execution_count": 72,
   "id": "2eeeb224",
   "metadata": {},
   "outputs": [
    {
     "data": {
      "text/plain": [
       "(('Nico', '12312421'), ('13342', 10000.0))"
      ]
     },
     "execution_count": 72,
     "metadata": {},
     "output_type": "execute_result"
    }
   ],
   "source": [
    "datos_totales = (  (datos_totales[0][0],datos_totales[0][1]), (datos_totales[1][0], nuevo_balance))\n",
    "datos_totales"
   ]
  },
  {
   "cell_type": "markdown",
   "id": "e6e13dd3",
   "metadata": {},
   "source": [
    "# Program 3 - Student's course"
   ]
  },
  {
   "cell_type": "code",
   "execution_count": 74,
   "id": "148df814",
   "metadata": {},
   "outputs": [],
   "source": [
    "datos_alumno = {\"Name\": \"Felipe\", \"Number\": 2301 }\n",
    "datos_academicos = {\"Course_year\": 2021, \"Num_courses\": 5, \"Grades\":[5,6,7,8,9] }"
   ]
  },
  {
   "cell_type": "code",
   "execution_count": 75,
   "id": "9e0d5208",
   "metadata": {},
   "outputs": [
    {
     "data": {
      "text/plain": [
       "{'Name': 'Felipe', 'Number': 2301}"
      ]
     },
     "execution_count": 75,
     "metadata": {},
     "output_type": "execute_result"
    }
   ],
   "source": [
    "datos_alumno[\"Apellido\"] = "
   ]
  },
  {
   "cell_type": "code",
   "execution_count": null,
   "id": "4d460035",
   "metadata": {},
   "outputs": [],
   "source": [
    "dicc_combined = dict()"
   ]
  },
  {
   "cell_type": "code",
   "execution_count": null,
   "id": "b9493713",
   "metadata": {},
   "outputs": [],
   "source": [
    "for clave, valor in datos_alumno:\n",
    "    dicc_combined[clave] = valor"
   ]
  },
  {
   "cell_type": "code",
   "execution_count": null,
   "id": "0fa2baf8",
   "metadata": {},
   "outputs": [],
   "source": [
    "for clave, valor in datos_academicos:\n",
    "    dicc_combined[clave] = valor"
   ]
  },
  {
   "cell_type": "code",
   "execution_count": 64,
   "id": "5d230f31",
   "metadata": {},
   "outputs": [
    {
     "data": {
      "text/plain": [
       "{'Name': 'Felipe',\n",
       " 'Number': 2301,\n",
       " 'Course_year': 2021,\n",
       " 'Num_courses': 5,\n",
       " 'Grades': [5, 6, 7, 8, 9]}"
      ]
     },
     "execution_count": 64,
     "metadata": {},
     "output_type": "execute_result"
    }
   ],
   "source": [
    "datos_combined = {**datos_alumno,  **datos_academicos}\n",
    "datos_combined"
   ]
  },
  {
   "cell_type": "code",
   "execution_count": 63,
   "id": "02181c9c",
   "metadata": {},
   "outputs": [
    {
     "data": {
      "text/plain": [
       "7.0"
      ]
     },
     "execution_count": 63,
     "metadata": {},
     "output_type": "execute_result"
    }
   ],
   "source": [
    "import numpy as np\n",
    "# Guardamos la lista de notas como un array numpy\n",
    "notas_numpy = np.array(datos_combined[\"Grades\"])\n",
    "# Porque podemos hacer esto directamente:\n",
    "notas_numpy.mean()"
   ]
  },
  {
   "cell_type": "code",
   "execution_count": 89,
   "id": "4cff0adb",
   "metadata": {},
   "outputs": [],
   "source": [
    "datos_alumno = {\"nota\":2}"
   ]
  },
  {
   "cell_type": "code",
   "execution_count": 121,
   "id": "99b84bb6",
   "metadata": {},
   "outputs": [
    {
     "data": {
      "text/plain": [
       "{'nota': 2}"
      ]
     },
     "execution_count": 121,
     "metadata": {},
     "output_type": "execute_result"
    }
   ],
   "source": [
    "datos_alumno"
   ]
  },
  {
   "cell_type": "code",
   "execution_count": 173,
   "id": "773cc8f7",
   "metadata": {},
   "outputs": [],
   "source": [
    "def nueva_funcion(lista_interna, numero1 = 1, numero2= 0 , quieres_que_sume=True):\n",
    "    \n",
    "    c = 2\n",
    "    \n",
    "    lista_interna.append(\"Dentro Funcion\")\n",
    "    \n",
    "    if quieres_que_sume:\n",
    "        resultado = numero1 + numero2\n",
    "    else:\n",
    "        resultado = numero1 - numero2\n",
    "    \n",
    "    return resultado, lista_interna\n",
    "    "
   ]
  },
  {
   "cell_type": "code",
   "execution_count": 134,
   "id": "ffaee6e2",
   "metadata": {},
   "outputs": [
    {
     "name": "stdout",
     "output_type": "stream",
     "text": [
      "3\n"
     ]
    }
   ],
   "source": [
    "res = nueva_funcion(numero1 = 3, quieres_que_sume=False);"
   ]
  },
  {
   "cell_type": "code",
   "execution_count": 136,
   "id": "2ed85006",
   "metadata": {},
   "outputs": [
    {
     "name": "stdout",
     "output_type": "stream",
     "text": [
      "None\n"
     ]
    }
   ],
   "source": [
    "print(res)"
   ]
  },
  {
   "cell_type": "code",
   "execution_count": 139,
   "id": "73e8e28d",
   "metadata": {},
   "outputs": [],
   "source": [
    "num1 = 4"
   ]
  },
  {
   "cell_type": "code",
   "execution_count": 140,
   "id": "cc367b38",
   "metadata": {},
   "outputs": [],
   "source": [
    "num2 = 6"
   ]
  },
  {
   "cell_type": "code",
   "execution_count": 165,
   "id": "e210024d",
   "metadata": {},
   "outputs": [],
   "source": [
    "resultado = 4\n",
    "lista = [2, 3]"
   ]
  },
  {
   "cell_type": "code",
   "execution_count": 175,
   "id": "b74d9c0c",
   "metadata": {},
   "outputs": [],
   "source": [
    "caja_devuelta, lista = nueva_funcion(lista, 3,4)"
   ]
  },
  {
   "cell_type": "code",
   "execution_count": 176,
   "id": "d60283ce",
   "metadata": {},
   "outputs": [
    {
     "data": {
      "text/plain": [
       "7"
      ]
     },
     "execution_count": 176,
     "metadata": {},
     "output_type": "execute_result"
    }
   ],
   "source": [
    "caja_devuelta"
   ]
  },
  {
   "cell_type": "code",
   "execution_count": 177,
   "id": "d8d84cb0",
   "metadata": {},
   "outputs": [
    {
     "data": {
      "text/plain": [
       "4"
      ]
     },
     "execution_count": 177,
     "metadata": {},
     "output_type": "execute_result"
    }
   ],
   "source": [
    "resultado"
   ]
  },
  {
   "cell_type": "code",
   "execution_count": 178,
   "id": "15571e3f",
   "metadata": {},
   "outputs": [
    {
     "data": {
      "text/plain": [
       "[2, 3, 'Dentro Funcion', 'Dentro Funcion', 'Dentro Funcion', 'Dentro Funcion']"
      ]
     },
     "execution_count": 178,
     "metadata": {},
     "output_type": "execute_result"
    }
   ],
   "source": [
    "lista"
   ]
  },
  {
   "cell_type": "code",
   "execution_count": null,
   "id": "792c0edd",
   "metadata": {},
   "outputs": [],
   "source": []
  },
  {
   "cell_type": "markdown",
   "id": "dcb62523",
   "metadata": {},
   "source": [
    "# Exceptions"
   ]
  },
  {
   "cell_type": "code",
   "execution_count": 204,
   "id": "5add01f6",
   "metadata": {},
   "outputs": [
    {
     "name": "stdout",
     "output_type": "stream",
     "text": [
      "Introduzca el dinero a pagar: asasfasfd\n",
      "Ha habido error A\n"
     ]
    }
   ],
   "source": [
    "try:\n",
    "    dinero_2 = float(input(\"Introduzca el dinero a pagar: \"))\n",
    "    \n",
    "    \"adsdsa\" +2\n",
    "    \n",
    "    \n",
    "except ValueError:\n",
    "    \n",
    "    print(\"Ha habido error A\")\n",
    "    \n",
    "except TypeError: \n",
    "    print(\"Ha habido error B\")    \n",
    "\n",
    "except:\n",
    "    print(\"Ha habido otro error\")    "
   ]
  },
  {
   "cell_type": "code",
   "execution_count": 200,
   "id": "4dcd7e4e",
   "metadata": {},
   "outputs": [
    {
     "data": {
      "text/plain": [
       "-1"
      ]
     },
     "execution_count": 200,
     "metadata": {},
     "output_type": "execute_result"
    }
   ],
   "source": [
    "if dinero != -1:\n",
    "    continua"
   ]
  },
  {
   "cell_type": "code",
   "execution_count": 201,
   "id": "315cc9f1",
   "metadata": {},
   "outputs": [
    {
     "name": "stdout",
     "output_type": "stream",
     "text": [
      "Introduzca el dinero a pagar: aasd\n"
     ]
    },
    {
     "ename": "ValueError",
     "evalue": "could not convert string to float: 'aasd'",
     "output_type": "error",
     "traceback": [
      "\u001b[1;31m---------------------------------------------------------------------------\u001b[0m",
      "\u001b[1;31mValueError\u001b[0m                                Traceback (most recent call last)",
      "\u001b[1;32m~\\AppData\\Local\\Temp/ipykernel_11480/1590768785.py\u001b[0m in \u001b[0;36m<module>\u001b[1;34m\u001b[0m\n\u001b[1;32m----> 1\u001b[1;33m \u001b[0mdinero_2\u001b[0m \u001b[1;33m=\u001b[0m \u001b[0mfloat\u001b[0m\u001b[1;33m(\u001b[0m\u001b[0minput\u001b[0m\u001b[1;33m(\u001b[0m\u001b[1;34m\"Introduzca el dinero a pagar: \"\u001b[0m\u001b[1;33m)\u001b[0m\u001b[1;33m)\u001b[0m\u001b[1;33m\u001b[0m\u001b[1;33m\u001b[0m\u001b[0m\n\u001b[0m",
      "\u001b[1;31mValueError\u001b[0m: could not convert string to float: 'aasd'"
     ]
    }
   ],
   "source": [
    "dinero_2 = float(input(\"Introduzca el dinero a pagar: \"))"
   ]
  },
  {
   "cell_type": "code",
   "execution_count": 202,
   "id": "bb6023da",
   "metadata": {},
   "outputs": [
    {
     "ename": "TypeError",
     "evalue": "can only concatenate str (not \"int\") to str",
     "output_type": "error",
     "traceback": [
      "\u001b[1;31m---------------------------------------------------------------------------\u001b[0m",
      "\u001b[1;31mTypeError\u001b[0m                                 Traceback (most recent call last)",
      "\u001b[1;32m~\\AppData\\Local\\Temp/ipykernel_11480/3507865923.py\u001b[0m in \u001b[0;36m<module>\u001b[1;34m\u001b[0m\n\u001b[1;32m----> 1\u001b[1;33m \u001b[1;34m\"adsdsa\"\u001b[0m \u001b[1;33m+\u001b[0m\u001b[1;36m2\u001b[0m\u001b[1;33m\u001b[0m\u001b[1;33m\u001b[0m\u001b[0m\n\u001b[0m",
      "\u001b[1;31mTypeError\u001b[0m: can only concatenate str (not \"int\") to str"
     ]
    }
   ],
   "source": [
    "\"adsdsa\" +2"
   ]
  },
  {
   "cell_type": "code",
   "execution_count": null,
   "id": "b4faf5b8",
   "metadata": {},
   "outputs": [],
   "source": []
  }
 ],
 "metadata": {
  "kernelspec": {
   "display_name": "Python 3 (ipykernel)",
   "language": "python",
   "name": "python3"
  },
  "language_info": {
   "codemirror_mode": {
    "name": "ipython",
    "version": 3
   },
   "file_extension": ".py",
   "mimetype": "text/x-python",
   "name": "python",
   "nbconvert_exporter": "python",
   "pygments_lexer": "ipython3",
   "version": "3.7.8rc1"
  }
 },
 "nbformat": 4,
 "nbformat_minor": 5
}
