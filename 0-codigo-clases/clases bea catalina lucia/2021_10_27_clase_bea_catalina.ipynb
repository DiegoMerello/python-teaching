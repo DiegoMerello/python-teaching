{
 "cells": [
  {
   "cell_type": "markdown",
   "id": "f22434f3",
   "metadata": {},
   "source": [
    "# Introducción a listas"
   ]
  },
  {
   "cell_type": "code",
   "execution_count": 1,
   "id": "f80b92c2",
   "metadata": {},
   "outputs": [],
   "source": [
    "a = 3"
   ]
  },
  {
   "cell_type": "code",
   "execution_count": 2,
   "id": "8824baf9",
   "metadata": {},
   "outputs": [
    {
     "data": {
      "text/plain": [
       "3"
      ]
     },
     "execution_count": 2,
     "metadata": {},
     "output_type": "execute_result"
    }
   ],
   "source": [
    "a"
   ]
  },
  {
   "cell_type": "code",
   "execution_count": 5,
   "id": "6e9f7e8d",
   "metadata": {},
   "outputs": [],
   "source": [
    "a = '3'"
   ]
  },
  {
   "cell_type": "code",
   "execution_count": 6,
   "id": "841a92c4",
   "metadata": {},
   "outputs": [
    {
     "data": {
      "text/plain": [
       "'3'"
      ]
     },
     "execution_count": 6,
     "metadata": {},
     "output_type": "execute_result"
    }
   ],
   "source": [
    "a"
   ]
  },
  {
   "cell_type": "code",
   "execution_count": 26,
   "id": "3473abd6",
   "metadata": {},
   "outputs": [
    {
     "data": {
      "text/plain": [
       "[22, 180, 2017]"
      ]
     },
     "execution_count": 26,
     "metadata": {},
     "output_type": "execute_result"
    }
   ],
   "source": [
    "datos_nico = [22, 180, 2017]\n",
    "datos_nico"
   ]
  },
  {
   "cell_type": "code",
   "execution_count": 17,
   "id": "00c8e272",
   "metadata": {},
   "outputs": [
    {
     "data": {
      "text/plain": [
       "2017"
      ]
     },
     "execution_count": 17,
     "metadata": {},
     "output_type": "execute_result"
    }
   ],
   "source": [
    "datos_nico[2]"
   ]
  },
  {
   "cell_type": "code",
   "execution_count": 18,
   "id": "e5209fc1",
   "metadata": {},
   "outputs": [],
   "source": [
    "a = 1"
   ]
  },
  {
   "cell_type": "code",
   "execution_count": 19,
   "id": "6035aaef",
   "metadata": {},
   "outputs": [
    {
     "data": {
      "text/plain": [
       "180"
      ]
     },
     "execution_count": 19,
     "metadata": {},
     "output_type": "execute_result"
    }
   ],
   "source": [
    "datos_nico[a]"
   ]
  },
  {
   "cell_type": "code",
   "execution_count": 28,
   "id": "f16c31c2",
   "metadata": {},
   "outputs": [
    {
     "data": {
      "text/plain": [
       "180"
      ]
     },
     "execution_count": 28,
     "metadata": {},
     "output_type": "execute_result"
    }
   ],
   "source": [
    "datos_nico[1]"
   ]
  },
  {
   "cell_type": "code",
   "execution_count": 29,
   "id": "604dcec2",
   "metadata": {},
   "outputs": [],
   "source": [
    "a = 2"
   ]
  },
  {
   "cell_type": "code",
   "execution_count": 30,
   "id": "ccade30c",
   "metadata": {},
   "outputs": [
    {
     "data": {
      "text/plain": [
       "2017"
      ]
     },
     "execution_count": 30,
     "metadata": {},
     "output_type": "execute_result"
    }
   ],
   "source": [
    "datos_nico[a]"
   ]
  },
  {
   "cell_type": "code",
   "execution_count": 31,
   "id": "a15a6ebd",
   "metadata": {},
   "outputs": [],
   "source": [
    "edades = [23, 25, 26]\n",
    "alturas = [180, 168, 173]"
   ]
  },
  {
   "cell_type": "code",
   "execution_count": 35,
   "id": "cedda61e",
   "metadata": {},
   "outputs": [],
   "source": [
    "n_persona = 0"
   ]
  },
  {
   "cell_type": "code",
   "execution_count": 36,
   "id": "0e6b0c27",
   "metadata": {},
   "outputs": [
    {
     "data": {
      "text/plain": [
       "23"
      ]
     },
     "execution_count": 36,
     "metadata": {},
     "output_type": "execute_result"
    }
   ],
   "source": [
    "edades[n_persona]"
   ]
  },
  {
   "cell_type": "code",
   "execution_count": 37,
   "id": "a87106c6",
   "metadata": {},
   "outputs": [
    {
     "data": {
      "text/plain": [
       "180"
      ]
     },
     "execution_count": 37,
     "metadata": {},
     "output_type": "execute_result"
    }
   ],
   "source": [
    "alturas[n_persona]"
   ]
  },
  {
   "cell_type": "code",
   "execution_count": 38,
   "id": "6632f998",
   "metadata": {},
   "outputs": [
    {
     "data": {
      "text/plain": [
       "203"
      ]
     },
     "execution_count": 38,
     "metadata": {},
     "output_type": "execute_result"
    }
   ],
   "source": [
    "edades[n_persona] + alturas[n_persona]"
   ]
  },
  {
   "cell_type": "code",
   "execution_count": 39,
   "id": "57a261da",
   "metadata": {},
   "outputs": [],
   "source": [
    "cata = [edades[n_persona], alturas[n_persona]]"
   ]
  },
  {
   "cell_type": "code",
   "execution_count": 40,
   "id": "87970e1d",
   "metadata": {},
   "outputs": [
    {
     "data": {
      "text/plain": [
       "[23, 180]"
      ]
     },
     "execution_count": 40,
     "metadata": {},
     "output_type": "execute_result"
    }
   ],
   "source": [
    "cata"
   ]
  },
  {
   "cell_type": "code",
   "execution_count": 44,
   "id": "2a3b4bde",
   "metadata": {},
   "outputs": [
    {
     "data": {
      "text/plain": [
       "180"
      ]
     },
     "execution_count": 44,
     "metadata": {},
     "output_type": "execute_result"
    }
   ],
   "source": [
    "cata[1]"
   ]
  },
  {
   "cell_type": "code",
   "execution_count": 46,
   "id": "3df3d26e",
   "metadata": {},
   "outputs": [
    {
     "name": "stdout",
     "output_type": "stream",
     "text": [
      "Los datos de cata son:\n",
      "Edad: 23 Altura: 180\n"
     ]
    }
   ],
   "source": [
    "print(\"Los datos de cata son:\\nEdad: {0} Altura: {1}\".format( cata[0], cata[1]   ))"
   ]
  },
  {
   "cell_type": "code",
   "execution_count": 56,
   "id": "f9723b4d",
   "metadata": {},
   "outputs": [],
   "source": [
    "cata_datos = [\"Cata\", 19, 8.3, [\"obj1\", \"obj2\"] ]"
   ]
  },
  {
   "cell_type": "code",
   "execution_count": 57,
   "id": "349024b9",
   "metadata": {},
   "outputs": [
    {
     "data": {
      "text/plain": [
       "['Cata', 19, 8.3, ['obj1', 'obj2']]"
      ]
     },
     "execution_count": 57,
     "metadata": {},
     "output_type": "execute_result"
    }
   ],
   "source": [
    "cata_datos"
   ]
  },
  {
   "cell_type": "code",
   "execution_count": 62,
   "id": "4d7972a4",
   "metadata": {},
   "outputs": [
    {
     "data": {
      "text/plain": [
       "['obj1', 'obj2']"
      ]
     },
     "execution_count": 62,
     "metadata": {},
     "output_type": "execute_result"
    }
   ],
   "source": [
    "lista_esta = cata_datos[3]\n",
    "lista_esta"
   ]
  },
  {
   "cell_type": "code",
   "execution_count": 61,
   "id": "d61f5a8b",
   "metadata": {},
   "outputs": [
    {
     "data": {
      "text/plain": [
       "'obj1'"
      ]
     },
     "execution_count": 61,
     "metadata": {},
     "output_type": "execute_result"
    }
   ],
   "source": [
    "lista_esta[0]"
   ]
  },
  {
   "cell_type": "code",
   "execution_count": 78,
   "id": "f58d6dfd",
   "metadata": {},
   "outputs": [
    {
     "data": {
      "text/plain": [
       "'obj1'"
      ]
     },
     "execution_count": 78,
     "metadata": {},
     "output_type": "execute_result"
    }
   ],
   "source": [
    "cata_datos[3][0]"
   ]
  },
  {
   "cell_type": "code",
   "execution_count": 68,
   "id": "d77f5ebc",
   "metadata": {},
   "outputs": [],
   "source": [
    "a = \"palabra\""
   ]
  },
  {
   "cell_type": "code",
   "execution_count": 70,
   "id": "0043338e",
   "metadata": {},
   "outputs": [
    {
     "data": {
      "text/plain": [
       "'p'"
      ]
     },
     "execution_count": 70,
     "metadata": {},
     "output_type": "execute_result"
    }
   ],
   "source": [
    "a[0]"
   ]
  },
  {
   "cell_type": "code",
   "execution_count": 71,
   "id": "63a61330",
   "metadata": {},
   "outputs": [
    {
     "data": {
      "text/plain": [
       "'a'"
      ]
     },
     "execution_count": 71,
     "metadata": {},
     "output_type": "execute_result"
    }
   ],
   "source": [
    "a[1]"
   ]
  },
  {
   "cell_type": "code",
   "execution_count": 73,
   "id": "6490f5a3",
   "metadata": {},
   "outputs": [
    {
     "data": {
      "text/plain": [
       "'l'"
      ]
     },
     "execution_count": 73,
     "metadata": {},
     "output_type": "execute_result"
    }
   ],
   "source": [
    "a[2]"
   ]
  },
  {
   "cell_type": "markdown",
   "id": "df330761",
   "metadata": {},
   "source": [
    "# Explicación bucles \"for\""
   ]
  },
  {
   "cell_type": "code",
   "execution_count": 79,
   "id": "e61748bf",
   "metadata": {},
   "outputs": [],
   "source": [
    "gastos_semana = [20, 30, 32, 4]"
   ]
  },
  {
   "cell_type": "code",
   "execution_count": 80,
   "id": "8e8ec937",
   "metadata": {},
   "outputs": [
    {
     "data": {
      "text/plain": [
       "4"
      ]
     },
     "execution_count": 80,
     "metadata": {},
     "output_type": "execute_result"
    }
   ],
   "source": [
    "len(gastos_semana)"
   ]
  },
  {
   "cell_type": "code",
   "execution_count": 81,
   "id": "2947b954",
   "metadata": {},
   "outputs": [
    {
     "data": {
      "text/plain": [
       "20"
      ]
     },
     "execution_count": 81,
     "metadata": {},
     "output_type": "execute_result"
    }
   ],
   "source": [
    "gastos_semana[0]"
   ]
  },
  {
   "cell_type": "code",
   "execution_count": 82,
   "id": "db51c6f5",
   "metadata": {},
   "outputs": [
    {
     "data": {
      "text/plain": [
       "30"
      ]
     },
     "execution_count": 82,
     "metadata": {},
     "output_type": "execute_result"
    }
   ],
   "source": [
    "gastos_semana[1]"
   ]
  },
  {
   "cell_type": "code",
   "execution_count": 97,
   "id": "61fcbe27",
   "metadata": {},
   "outputs": [
    {
     "data": {
      "text/plain": [
       "4"
      ]
     },
     "execution_count": 97,
     "metadata": {},
     "output_type": "execute_result"
    }
   ],
   "source": [
    "indice = 3\n",
    "gastos_semana[indice]"
   ]
  },
  {
   "cell_type": "code",
   "execution_count": 101,
   "id": "50938a1e",
   "metadata": {},
   "outputs": [
    {
     "data": {
      "text/plain": [
       "[0, 1, 2, 3]"
      ]
     },
     "execution_count": 101,
     "metadata": {},
     "output_type": "execute_result"
    }
   ],
   "source": [
    "posiciones_a_recorrer =[0, 1, 2, 3]\n",
    "posiciones_a_recorrer"
   ]
  },
  {
   "cell_type": "code",
   "execution_count": 108,
   "id": "ea0c8bf6",
   "metadata": {},
   "outputs": [
    {
     "name": "stdout",
     "output_type": "stream",
     "text": [
      "[0, 1, 2, 3]\n"
     ]
    }
   ],
   "source": [
    "print(posiciones_a_recorrer)"
   ]
  },
  {
   "cell_type": "code",
   "execution_count": 112,
   "id": "28c60a6c",
   "metadata": {},
   "outputs": [
    {
     "name": "stdout",
     "output_type": "stream",
     "text": [
      "Una vuelta\n",
      "0\n",
      "Una vuelta\n",
      "1\n",
      "Una vuelta\n",
      "2\n",
      "Una vuelta\n",
      "3\n"
     ]
    }
   ],
   "source": [
    "for i in posiciones_a_recorrer:\n",
    "    print(\"Una vuelta\")\n",
    "    print(i)"
   ]
  },
  {
   "cell_type": "code",
   "execution_count": 125,
   "id": "21c0879f",
   "metadata": {},
   "outputs": [
    {
     "data": {
      "text/plain": [
       "[0, 1, 2, 3]"
      ]
     },
     "execution_count": 125,
     "metadata": {},
     "output_type": "execute_result"
    }
   ],
   "source": [
    "posiciones_a_recorrer = [0,1,2,3]\n",
    "posiciones_a_recorrer"
   ]
  },
  {
   "cell_type": "code",
   "execution_count": 126,
   "id": "d7c26b5e",
   "metadata": {},
   "outputs": [
    {
     "data": {
      "text/plain": [
       "[20, 30, 32, 4]"
      ]
     },
     "execution_count": 126,
     "metadata": {},
     "output_type": "execute_result"
    }
   ],
   "source": [
    "gastos_semana"
   ]
  },
  {
   "cell_type": "code",
   "execution_count": 127,
   "id": "f885833b",
   "metadata": {},
   "outputs": [
    {
     "name": "stdout",
     "output_type": "stream",
     "text": [
      "Una vuelta\n",
      "0\n",
      "20\n",
      "Una vuelta\n",
      "1\n",
      "30\n",
      "Una vuelta\n",
      "2\n",
      "32\n",
      "Una vuelta\n",
      "3\n",
      "4\n"
     ]
    }
   ],
   "source": [
    "for i in posiciones_a_recorrer:\n",
    "    print(\"Una vuelta\")\n",
    "    print(i)\n",
    "    print(gastos_semana[i])"
   ]
  },
  {
   "cell_type": "code",
   "execution_count": 129,
   "id": "f75830f6",
   "metadata": {},
   "outputs": [
    {
     "name": "stdout",
     "output_type": "stream",
     "text": [
      "20\n",
      "30\n",
      "32\n",
      "4\n"
     ]
    }
   ],
   "source": [
    "for elemento in gastos_semana:\n",
    "    print(elemento)"
   ]
  },
  {
   "cell_type": "code",
   "execution_count": 133,
   "id": "9672501f",
   "metadata": {},
   "outputs": [
    {
     "data": {
      "text/plain": [
       "[0, 1, 2, 3, 4]"
      ]
     },
     "execution_count": 133,
     "metadata": {},
     "output_type": "execute_result"
    }
   ],
   "source": [
    "list(range(20))"
   ]
  },
  {
   "cell_type": "code",
   "execution_count": 131,
   "id": "3c8bd273",
   "metadata": {},
   "outputs": [
    {
     "name": "stdout",
     "output_type": "stream",
     "text": [
      "0\n",
      "1\n",
      "2\n",
      "3\n",
      "4\n"
     ]
    }
   ],
   "source": [
    "for i in range(5):\n",
    "    print(i)"
   ]
  },
  {
   "cell_type": "code",
   "execution_count": 159,
   "id": "00a93a9e",
   "metadata": {},
   "outputs": [
    {
     "name": "stdout",
     "output_type": "stream",
     "text": [
      "[3.0, 4.0, 1.0, 2.0, 0.5]\n",
      "0.5\n",
      "5\n"
     ]
    }
   ],
   "source": [
    "# Somos 5 en la familia\n",
    "# Este es nuestros ahorros\n",
    "ahorros = [30, 40, 10, 20, 5]\n",
    "# Todos perdemos un 10% de nuestros ahorros\n",
    "# Cuanto pierde cada uno?\n",
    "lista_perdidas = []\n",
    "for ahorro in ahorros:\n",
    "    perdida = ahorro * 0.1\n",
    "    lista_perdidas.append(perdida)\n",
    "print(lista_perdidas)\n",
    "print(perdida)\n",
    "print(ahorro)"
   ]
  },
  {
   "cell_type": "code",
   "execution_count": 160,
   "id": "d9e1e970",
   "metadata": {},
   "outputs": [
    {
     "name": "stdout",
     "output_type": "stream",
     "text": [
      "3.0\n",
      "[3.0]\n",
      "4.0\n",
      "[3.0, 4.0]\n",
      "1.0\n",
      "[3.0, 4.0, 1.0]\n",
      "2.0\n",
      "[3.0, 4.0, 1.0, 2.0]\n",
      "0.5\n",
      "[3.0, 4.0, 1.0, 2.0, 0.5]\n"
     ]
    }
   ],
   "source": [
    "# Somos 5 en la familia\n",
    "# Este es nuestros ahorros\n",
    "ahorros = [30, 40, 10, 20, 5]\n",
    "# Todos perdemos un 10% de nuestros ahorros\n",
    "# Cuanto pierde cada uno?\n",
    "lista_perdidas = []\n",
    "for ahorro in ahorros:\n",
    "    perdida = ahorro * 0.1\n",
    "    lista_perdidas.append(perdida)\n",
    "    print(perdida)\n",
    "    print(lista_perdidas)"
   ]
  },
  {
   "cell_type": "code",
   "execution_count": 146,
   "id": "f49e5243",
   "metadata": {},
   "outputs": [
    {
     "data": {
      "text/plain": [
       "[2, 3]"
      ]
     },
     "execution_count": 146,
     "metadata": {},
     "output_type": "execute_result"
    }
   ],
   "source": [
    "lsita_ejemplo = [2,3]\n",
    "lsita_ejemplo"
   ]
  },
  {
   "cell_type": "code",
   "execution_count": 149,
   "id": "ac7365df",
   "metadata": {},
   "outputs": [
    {
     "data": {
      "text/plain": [
       "[2, 3, 5, 5, 10]"
      ]
     },
     "execution_count": 149,
     "metadata": {},
     "output_type": "execute_result"
    }
   ],
   "source": [
    "lsita_ejemplo.append(10)\n",
    "lsita_ejemplo"
   ]
  },
  {
   "cell_type": "markdown",
   "id": "5ff66c31",
   "metadata": {},
   "source": [
    "# Explicación bucles \"while\""
   ]
  },
  {
   "cell_type": "markdown",
   "id": "5eb202b1",
   "metadata": {},
   "source": [
    "Solo entras en el while si quieres"
   ]
  },
  {
   "cell_type": "code",
   "execution_count": 168,
   "id": "f8b1bf03",
   "metadata": {},
   "outputs": [
    {
     "name": "stdout",
     "output_type": "stream",
     "text": [
      "Quieres seguir?1\n",
      "Estoy en el while\n",
      "Quieres seguir 2?1\n",
      "Estoy en el while\n",
      "Quieres seguir 2?0\n",
      "Salgo del while\n"
     ]
    }
   ],
   "source": [
    "quiero_seguir = int(input(\"Quieres seguir?\"))\n",
    "while quiero_seguir == 1:\n",
    "    \n",
    "    \n",
    "    print(\"Estoy en el while\")\n",
    "    # Hacer todo esto\n",
    "    quiero_seguir = int(input(\"Quieres seguir 2?\"))\n",
    "\n",
    "print(\"Salgo del while\")"
   ]
  },
  {
   "cell_type": "markdown",
   "id": "2e82f5bc",
   "metadata": {},
   "source": [
    "Siempre entras en el while AL MENOS una vez"
   ]
  },
  {
   "cell_type": "code",
   "execution_count": 169,
   "id": "734cd621",
   "metadata": {},
   "outputs": [
    {
     "name": "stdout",
     "output_type": "stream",
     "text": [
      "Estoy en el while\n",
      "Quieres seguir 2?1\n",
      "Estoy en el while\n",
      "Quieres seguir 2?0\n",
      "Salgo del while\n"
     ]
    }
   ],
   "source": [
    "quiero_seguir = 1\n",
    "while quiero_seguir == 1:\n",
    "    \n",
    "    \n",
    "    print(\"Estoy en el while\")\n",
    "    # Hacer todo esto\n",
    "    quiero_seguir = int(input(\"Quieres seguir 2?\"))\n",
    "\n",
    "print(\"Salgo del while\")"
   ]
  },
  {
   "cell_type": "markdown",
   "id": "6973ab42",
   "metadata": {},
   "source": [
    "# Recorrer listas"
   ]
  },
  {
   "cell_type": "code",
   "execution_count": 170,
   "id": "1d56efc1",
   "metadata": {},
   "outputs": [],
   "source": [
    "nombres = [\"Juan\", \"Pepe\", \"Lucía\"]\n",
    "notas = [8.3, 4, 9.2]"
   ]
  },
  {
   "cell_type": "code",
   "execution_count": 180,
   "id": "4d1a5b73",
   "metadata": {},
   "outputs": [
    {
     "name": "stdout",
     "output_type": "stream",
     "text": [
      "Juan\n",
      "Pepe\n",
      "Lucía\n"
     ]
    }
   ],
   "source": [
    "for nombre in nombres:\n",
    "    print(nombre)"
   ]
  },
  {
   "cell_type": "code",
   "execution_count": 179,
   "id": "c4b210bc",
   "metadata": {},
   "outputs": [
    {
     "name": "stdout",
     "output_type": "stream",
     "text": [
      "8.3\n",
      "4\n",
      "9.2\n"
     ]
    }
   ],
   "source": [
    "for nota in notas:\n",
    "    print(nota)"
   ]
  },
  {
   "cell_type": "code",
   "execution_count": 182,
   "id": "14957cb0",
   "metadata": {},
   "outputs": [
    {
     "data": {
      "text/plain": [
       "3"
      ]
     },
     "execution_count": 182,
     "metadata": {},
     "output_type": "execute_result"
    }
   ],
   "source": [
    "len(nombres)"
   ]
  },
  {
   "cell_type": "code",
   "execution_count": 183,
   "id": "33bc897d",
   "metadata": {},
   "outputs": [
    {
     "data": {
      "text/plain": [
       "[0, 1, 2]"
      ]
     },
     "execution_count": 183,
     "metadata": {},
     "output_type": "execute_result"
    }
   ],
   "source": [
    "list(range(len(nombres)))"
   ]
  },
  {
   "cell_type": "code",
   "execution_count": 181,
   "id": "a8ba52b8",
   "metadata": {},
   "outputs": [
    {
     "name": "stdout",
     "output_type": "stream",
     "text": [
      "0\n",
      "Juan\n",
      "8.3\n",
      "1\n",
      "Pepe\n",
      "4\n",
      "2\n",
      "Lucía\n",
      "9.2\n"
     ]
    }
   ],
   "source": [
    "for i in range(len(nombres)):\n",
    "    print(i)\n",
    "    print(nombres[i])\n",
    "    print(notas[i])"
   ]
  },
  {
   "cell_type": "code",
   "execution_count": 172,
   "id": "683b25f8",
   "metadata": {},
   "outputs": [
    {
     "name": "stdout",
     "output_type": "stream",
     "text": [
      "8.3\n",
      "4\n",
      "9.2\n"
     ]
    }
   ],
   "source": [
    "for nota in notas:\n",
    "    print(nota)"
   ]
  },
  {
   "cell_type": "code",
   "execution_count": 176,
   "id": "3e07fe0a",
   "metadata": {},
   "outputs": [],
   "source": [
    "# Sumas los valores de las notas\n",
    "    # Cojo el primer valor\n",
    "    # Cojo el segundo valor\n",
    "    # Sumo el primero más el segundo\n",
    "    \n",
    "    # Cojo el tercero \n",
    "    # Sumo el \"3\" al resultado \n",
    "    # Cojo el cuarto\n",
    "    # Sumo el \"4\" al resultado \n",
    "    # Cojo el \"5\"\n",
    "    # Sumo el \"5\" al resultado \n",
    "\n",
    "# Divides entre el número de notas\n",
    "    # divido entre la longitud de la lista"
   ]
  },
  {
   "cell_type": "code",
   "execution_count": 194,
   "id": "37e1b05c",
   "metadata": {},
   "outputs": [],
   "source": [
    "suma_de_todo = 0\n",
    "for nota in notas:\n",
    "    suma_de_todo = nota + suma_de_todo"
   ]
  },
  {
   "cell_type": "code",
   "execution_count": 188,
   "id": "b0624779",
   "metadata": {},
   "outputs": [
    {
     "data": {
      "text/plain": [
       "21.5"
      ]
     },
     "execution_count": 188,
     "metadata": {},
     "output_type": "execute_result"
    }
   ],
   "source": [
    "notas[0] + notas[1] + notas[2]"
   ]
  },
  {
   "cell_type": "code",
   "execution_count": 187,
   "id": "4d708f20",
   "metadata": {},
   "outputs": [
    {
     "data": {
      "text/plain": [
       "21.5"
      ]
     },
     "execution_count": 187,
     "metadata": {},
     "output_type": "execute_result"
    }
   ],
   "source": [
    "suma_de_todo"
   ]
  },
  {
   "cell_type": "code",
   "execution_count": 189,
   "id": "e155fd88",
   "metadata": {},
   "outputs": [],
   "source": [
    "media = suma_de_todo / len(notas)"
   ]
  },
  {
   "cell_type": "code",
   "execution_count": 190,
   "id": "01e5d9c2",
   "metadata": {},
   "outputs": [
    {
     "data": {
      "text/plain": [
       "7.166666666666667"
      ]
     },
     "execution_count": 190,
     "metadata": {},
     "output_type": "execute_result"
    }
   ],
   "source": [
    "media"
   ]
  },
  {
   "cell_type": "code",
   "execution_count": null,
   "id": "d866f053",
   "metadata": {},
   "outputs": [],
   "source": []
  }
 ],
 "metadata": {
  "kernelspec": {
   "display_name": "Python 3 (ipykernel)",
   "language": "python",
   "name": "python3"
  },
  "language_info": {
   "codemirror_mode": {
    "name": "ipython",
    "version": 3
   },
   "file_extension": ".py",
   "mimetype": "text/x-python",
   "name": "python",
   "nbconvert_exporter": "python",
   "pygments_lexer": "ipython3",
   "version": "3.7.8rc1"
  }
 },
 "nbformat": 4,
 "nbformat_minor": 5
}
