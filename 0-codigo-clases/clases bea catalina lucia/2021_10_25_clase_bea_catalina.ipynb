{
 "cells": [
  {
   "cell_type": "code",
   "execution_count": null,
   "id": "9a63d164",
   "metadata": {},
   "outputs": [],
   "source": [
    "# Pedimos el valor de r\n",
    "\n",
    "# Ecuación del círculo PI*r^2\n",
    "\n",
    "# Devolvemos el valor"
   ]
  },
  {
   "cell_type": "code",
   "execution_count": 47,
   "id": "6015c8ce",
   "metadata": {},
   "outputs": [
    {
     "name": "stdout",
     "output_type": "stream",
     "text": [
      "Introduzca el radio: 4\n",
      "El area es: 50.24\n"
     ]
    }
   ],
   "source": [
    "radio = float(input(\"Introduzca el radio: \") )\n",
    "area = 3.14 * radio * radio\n",
    "print(\"El area es: {0}\".format(area))"
   ]
  },
  {
   "cell_type": "code",
   "execution_count": 49,
   "id": "478804b2",
   "metadata": {},
   "outputs": [
    {
     "name": "stdout",
     "output_type": "stream",
     "text": [
      "El area es: \n",
      "50.24\n"
     ]
    }
   ],
   "source": [
    "print(\"El area es: \")\n",
    "print(area)"
   ]
  },
  {
   "cell_type": "code",
   "execution_count": null,
   "id": "e06d2d60",
   "metadata": {},
   "outputs": [],
   "source": [
    "print(\"El area es: \")\n",
    "print(area)"
   ]
  },
  {
   "cell_type": "code",
   "execution_count": 54,
   "id": "1edf54d9",
   "metadata": {},
   "outputs": [
    {
     "data": {
      "text/plain": [
       "50.24"
      ]
     },
     "execution_count": 54,
     "metadata": {},
     "output_type": "execute_result"
    }
   ],
   "source": [
    "area"
   ]
  },
  {
   "cell_type": "code",
   "execution_count": 56,
   "id": "b6fed8f8",
   "metadata": {},
   "outputs": [
    {
     "name": "stdout",
     "output_type": "stream",
     "text": [
      "El area es 50.24\n"
     ]
    }
   ],
   "source": [
    "print(\"El area es \" + str(area))"
   ]
  },
  {
   "cell_type": "code",
   "execution_count": 57,
   "id": "54421dfe",
   "metadata": {},
   "outputs": [],
   "source": [
    "perimetro = 2"
   ]
  },
  {
   "cell_type": "code",
   "execution_count": 61,
   "id": "2f1a4c49",
   "metadata": {},
   "outputs": [
    {
     "name": "stdout",
     "output_type": "stream",
     "text": [
      "El area es: 50.24. El perímetro es: 2\n"
     ]
    }
   ],
   "source": [
    "print(\"El area es: {0}. El perímetro es: {1}\".format(area,perimetro))"
   ]
  },
  {
   "cell_type": "code",
   "execution_count": 62,
   "id": "8ffb807c",
   "metadata": {},
   "outputs": [],
   "source": [
    "color = \"rojo\""
   ]
  },
  {
   "cell_type": "code",
   "execution_count": 64,
   "id": "a1dd800a",
   "metadata": {},
   "outputs": [
    {
     "name": "stdout",
     "output_type": "stream",
     "text": [
      "El area es: 50.24. El perímetro es: 2. El color es: rojo\n"
     ]
    }
   ],
   "source": [
    "print(\"El area es: {0}. El perímetro es: {1}. El color es: {2}\".format(area,perimetro,color))"
   ]
  },
  {
   "cell_type": "code",
   "execution_count": 66,
   "id": "cde8ada6",
   "metadata": {},
   "outputs": [
    {
     "name": "stdout",
     "output_type": "stream",
     "text": [
      "El area es 50.24 El perímetro es: 2 El color es: rojo\n"
     ]
    }
   ],
   "source": [
    "print(\"El area es \" + str(area) + \" El perímetro es: \" + str(perimetro) + \" El color es: \" + color)"
   ]
  },
  {
   "cell_type": "code",
   "execution_count": 67,
   "id": "46693f5d",
   "metadata": {},
   "outputs": [
    {
     "name": "stdout",
     "output_type": "stream",
     "text": [
      "El area es: 50.242rojo\n"
     ]
    }
   ],
   "source": [
    "print(\"El area es: {0}{1}{2}\".format(area,perimetro,color))"
   ]
  },
  {
   "cell_type": "code",
   "execution_count": 51,
   "id": "48b3e041",
   "metadata": {},
   "outputs": [],
   "source": [
    "a = \"hola\"\n",
    "b = \"adios\""
   ]
  },
  {
   "cell_type": "code",
   "execution_count": 52,
   "id": "2de2ee21",
   "metadata": {},
   "outputs": [
    {
     "data": {
      "text/plain": [
       "'holaadios'"
      ]
     },
     "execution_count": 52,
     "metadata": {},
     "output_type": "execute_result"
    }
   ],
   "source": [
    "a+b"
   ]
  },
  {
   "cell_type": "code",
   "execution_count": 36,
   "id": "468c9f5e",
   "metadata": {},
   "outputs": [],
   "source": [
    "import math"
   ]
  },
  {
   "cell_type": "code",
   "execution_count": 38,
   "id": "d28ce0aa",
   "metadata": {},
   "outputs": [
    {
     "data": {
      "text/plain": [
       "5.0"
      ]
     },
     "execution_count": 38,
     "metadata": {},
     "output_type": "execute_result"
    }
   ],
   "source": [
    "math.sqrt(25)"
   ]
  },
  {
   "cell_type": "code",
   "execution_count": 37,
   "id": "5d4c0326",
   "metadata": {},
   "outputs": [
    {
     "data": {
      "text/plain": [
       "9.0"
      ]
     },
     "execution_count": 37,
     "metadata": {},
     "output_type": "execute_result"
    }
   ],
   "source": [
    "math.pow(radio,2)"
   ]
  },
  {
   "cell_type": "code",
   "execution_count": 16,
   "id": "6823d4fb",
   "metadata": {},
   "outputs": [
    {
     "data": {
      "text/plain": [
       "2"
      ]
     },
     "execution_count": 16,
     "metadata": {},
     "output_type": "execute_result"
    }
   ],
   "source": [
    "a = 2\n",
    "a"
   ]
  },
  {
   "cell_type": "code",
   "execution_count": 10,
   "id": "8ebfdcaf",
   "metadata": {},
   "outputs": [
    {
     "data": {
      "text/plain": [
       "int"
      ]
     },
     "execution_count": 10,
     "metadata": {},
     "output_type": "execute_result"
    }
   ],
   "source": [
    "type(a)"
   ]
  },
  {
   "cell_type": "code",
   "execution_count": null,
   "id": "8223d74a",
   "metadata": {},
   "outputs": [],
   "source": []
  },
  {
   "cell_type": "code",
   "execution_count": 13,
   "id": "6dfe881d",
   "metadata": {},
   "outputs": [
    {
     "data": {
      "text/plain": [
       "'2a'"
      ]
     },
     "execution_count": 13,
     "metadata": {},
     "output_type": "execute_result"
    }
   ],
   "source": [
    "b = \"2a\"\n",
    "b"
   ]
  },
  {
   "cell_type": "code",
   "execution_count": 14,
   "id": "e7e9e072",
   "metadata": {},
   "outputs": [
    {
     "data": {
      "text/plain": [
       "str"
      ]
     },
     "execution_count": 14,
     "metadata": {},
     "output_type": "execute_result"
    }
   ],
   "source": [
    "type(b)"
   ]
  },
  {
   "cell_type": "code",
   "execution_count": 18,
   "id": "101261a6",
   "metadata": {},
   "outputs": [
    {
     "data": {
      "text/plain": [
       "2.0"
      ]
     },
     "execution_count": 18,
     "metadata": {},
     "output_type": "execute_result"
    }
   ],
   "source": [
    "c = 2.0\n",
    "c"
   ]
  },
  {
   "cell_type": "code",
   "execution_count": 19,
   "id": "4437b529",
   "metadata": {},
   "outputs": [
    {
     "data": {
      "text/plain": [
       "float"
      ]
     },
     "execution_count": 19,
     "metadata": {},
     "output_type": "execute_result"
    }
   ],
   "source": [
    "type(c)"
   ]
  },
  {
   "cell_type": "markdown",
   "id": "dcaa15be",
   "metadata": {},
   "source": [
    "# Menu"
   ]
  },
  {
   "cell_type": "code",
   "execution_count": 90,
   "id": "5b526b84",
   "metadata": {},
   "outputs": [
    {
     "name": "stdout",
     "output_type": "stream",
     "text": [
      "==== MENU ====\n",
      "1. OpciónA \n",
      "2. OpciónB\n",
      "Introduce la opción: 3\n"
     ]
    }
   ],
   "source": [
    "print(\"==== MENU ====\")\n",
    "print(\"1. OpciónA \")\n",
    "print(\"2. OpciónB\")\n",
    "opc = int(input(\"Introduce la opción: \"))"
   ]
  },
  {
   "cell_type": "code",
   "execution_count": 91,
   "id": "76350e83",
   "metadata": {},
   "outputs": [],
   "source": [
    "# Recoger la opción\n",
    "\n",
    "# Comparar la opción con alternativas ¿Es opcion = 1?\n",
    "\n",
    "# Dependiendo de la opción... hacer una cosa u otra"
   ]
  },
  {
   "cell_type": "code",
   "execution_count": 92,
   "id": "2e48641c",
   "metadata": {},
   "outputs": [
    {
     "data": {
      "text/plain": [
       "3"
      ]
     },
     "execution_count": 92,
     "metadata": {},
     "output_type": "execute_result"
    }
   ],
   "source": [
    "opc"
   ]
  },
  {
   "cell_type": "code",
   "execution_count": 93,
   "id": "08657eac",
   "metadata": {},
   "outputs": [
    {
     "data": {
      "text/plain": [
       "False"
      ]
     },
     "execution_count": 93,
     "metadata": {},
     "output_type": "execute_result"
    }
   ],
   "source": [
    "opc == 1"
   ]
  },
  {
   "cell_type": "code",
   "execution_count": 94,
   "id": "e62453f1",
   "metadata": {},
   "outputs": [
    {
     "name": "stdout",
     "output_type": "stream",
     "text": [
      "Has escogido opc 2\n",
      "es impar\n",
      "Hemos terminado el else\n",
      "Hemos terminado\n"
     ]
    }
   ],
   "source": [
    "if opc == 1:\n",
    "    # Calculamos el área\n",
    "    print(\"Has escogido la opción 1\")\n",
    "else:\n",
    "#\n",
    "    print(\"Has escogido opc 2\")\n",
    "    if opc%2 == 0:\n",
    "        print(\"Es par\")\n",
    "    else:\n",
    "        print(\"es impar\")   \n",
    "    print(\"Hemos terminado el else\")\n",
    "#   \n",
    "\n",
    "print(\"Hemos terminado\")"
   ]
  },
  {
   "cell_type": "code",
   "execution_count": 102,
   "id": "63c63c02",
   "metadata": {},
   "outputs": [
    {
     "name": "stdout",
     "output_type": "stream",
     "text": [
      "==== MENU ====\n",
      "1. OpciónA \n",
      "2. OpciónB\n",
      "Introduce la opción: 4\n"
     ]
    }
   ],
   "source": [
    "print(\"==== MENU ====\")\n",
    "print(\"1. OpciónA \")\n",
    "print(\"2. OpciónB\")\n",
    "opc = int(input(\"Introduce la opción: \"))"
   ]
  },
  {
   "cell_type": "code",
   "execution_count": 103,
   "id": "10e6d3ae",
   "metadata": {},
   "outputs": [
    {
     "name": "stdout",
     "output_type": "stream",
     "text": [
      "Error\n",
      "Hemos terminado\n"
     ]
    }
   ],
   "source": [
    "if opc == 1:\n",
    "    # Calculamos el área\n",
    "    print(\"Has escogido la opción 1\")\n",
    "\n",
    "elif opc == 2:\n",
    "    print(\"Has escogido la opción 2\")\n",
    "    \n",
    "else:\n",
    "    print(\"Error\")\n",
    "   \n",
    "print(\"Hemos terminado\")"
   ]
  },
  {
   "cell_type": "code",
   "execution_count": 105,
   "id": "3a7ba525",
   "metadata": {},
   "outputs": [
    {
     "name": "stdout",
     "output_type": "stream",
     "text": [
      "==== MENU ====\n",
      "1. Calcula area \n",
      "2. Calcula perimetro\n",
      "Introduce la opción: 1\n",
      "Introduzca el radio: 4\n",
      "El area es: 50.24\n"
     ]
    }
   ],
   "source": [
    "print(\"==== MENU ====\")\n",
    "print(\"1. Calcula area \")\n",
    "print(\"2. Calcula perimetro\")\n",
    "opc = int(input(\"Introduce la opción: \"))\n",
    "\n",
    "if opc == 1:\n",
    "    # Calculamos el área\n",
    "    radio = float(input(\"Introduzca el radio: \") )\n",
    "    area = 3.14 * radio * radio\n",
    "    print(\"El area es: {0}\".format(area))\n",
    "    \n",
    "\n",
    "elif opc == 2:\n",
    "    # Calculamos el perímetro\n",
    "    radio = float(input(\"Introduzca el radio: \") )\n",
    "    perimetro = 3.14 * radio * 2\n",
    "    print(\"El perímetro es: {0}\".format(perimetro))\n",
    "    \n",
    "else:\n",
    "    print(\"Error\")"
   ]
  },
  {
   "cell_type": "code",
   "execution_count": 106,
   "id": "d7af992a",
   "metadata": {},
   "outputs": [
    {
     "ename": "NameError",
     "evalue": "name 'calculaAreaCirculo' is not defined",
     "output_type": "error",
     "traceback": [
      "\u001b[1;31m---------------------------------------------------------------------------\u001b[0m",
      "\u001b[1;31mNameError\u001b[0m                                 Traceback (most recent call last)",
      "\u001b[1;32m~\\AppData\\Local\\Temp/ipykernel_24140/1205356827.py\u001b[0m in \u001b[0;36m<module>\u001b[1;34m\u001b[0m\n\u001b[1;32m----> 1\u001b[1;33m \u001b[0mcalculaAreaCirculo\u001b[0m\u001b[1;33m(\u001b[0m\u001b[0mradio\u001b[0m\u001b[1;33m)\u001b[0m\u001b[1;33m\u001b[0m\u001b[1;33m\u001b[0m\u001b[0m\n\u001b[0m",
      "\u001b[1;31mNameError\u001b[0m: name 'calculaAreaCirculo' is not defined"
     ]
    }
   ],
   "source": [
    "calculaAreaCirculo(radio)"
   ]
  },
  {
   "cell_type": "code",
   "execution_count": null,
   "id": "afd25609",
   "metadata": {},
   "outputs": [],
   "source": [
    "mcm(num1, num2)"
   ]
  },
  {
   "cell_type": "code",
   "execution_count": 113,
   "id": "9267ae56",
   "metadata": {},
   "outputs": [],
   "source": [
    "def calculaAreaCirculo(radio):\n",
    "    area = 3.14 * radio * radio\n",
    "    return area"
   ]
  },
  {
   "cell_type": "code",
   "execution_count": 114,
   "id": "cd645dcf",
   "metadata": {},
   "outputs": [
    {
     "name": "stdout",
     "output_type": "stream",
     "text": [
      "==== MENU ====\n",
      "1. Calcula area \n",
      "2. Calcula perimetro\n",
      "Introduce la opción: 1\n",
      "Introduzca el radio: 3\n",
      "El area es: 28.259999999999998\n"
     ]
    }
   ],
   "source": [
    "print(\"==== MENU ====\")\n",
    "print(\"1. Calcula area \")\n",
    "print(\"2. Calcula perimetro\")\n",
    "opc = int(input(\"Introduce la opción: \"))\n",
    "\n",
    "if opc == 1:\n",
    "    # Calculamos el área\n",
    "    radio = float(input(\"Introduzca el radio: \") )\n",
    "    area = calculaAreaCirculo(radio)\n",
    "    print(\"El area es: {0}\".format(area))\n",
    "    \n",
    "\n",
    "elif opc == 2:\n",
    "    # Calculamos el perímetro\n",
    "    radio = float(input(\"Introduzca el radio: \") )\n",
    "    perimetro = 3.14 * radio * 2\n",
    "    print(\"El perímetro es: {0}\".format(perimetro))\n",
    "    \n",
    "else:\n",
    "    print(\"Error\")"
   ]
  },
  {
   "cell_type": "markdown",
   "id": "689cadc6",
   "metadata": {},
   "source": [
    "# While"
   ]
  },
  {
   "cell_type": "code",
   "execution_count": 117,
   "id": "cc8c8350",
   "metadata": {},
   "outputs": [
    {
     "name": "stdout",
     "output_type": "stream",
     "text": [
      "==== MENU ====\n",
      "1. Calcula area \n",
      "2. Calcula perimetro\n",
      "3. Cerrar programa\n",
      "Introduce la opción: 5\n",
      "Error\n"
     ]
    }
   ],
   "source": [
    "print(\"==== MENU ====\")\n",
    "print(\"1. Calcula area \")\n",
    "print(\"2. Calcula perimetro\")\n",
    "print(\"3. Cerrar programa\")\n",
    "opc = int(input(\"Introduce la opción: \"))\n",
    "\n",
    "if opc == 1:\n",
    "    # Calculamos el área\n",
    "    radio = float(input(\"Introduzca el radio: \") )\n",
    "    area = calculaAreaCirculo(radio)\n",
    "    print(\"El area es: {0}\".format(area))\n",
    "    \n",
    "\n",
    "elif opc == 2:\n",
    "    # Calculamos el perímetro\n",
    "    radio = float(input(\"Introduzca el radio: \") )\n",
    "    perimetro = 3.14 * radio * 2\n",
    "    print(\"El perímetro es: {0}\".format(perimetro))\n",
    "elif opc == 3:\n",
    "    print(\"Saliendo programa...\")   \n",
    "else:\n",
    "    print(\"Error\")"
   ]
  },
  {
   "cell_type": "code",
   "execution_count": 122,
   "id": "ccff169f",
   "metadata": {},
   "outputs": [
    {
     "data": {
      "text/plain": [
       "3"
      ]
     },
     "execution_count": 122,
     "metadata": {},
     "output_type": "execute_result"
    }
   ],
   "source": [
    "opc"
   ]
  },
  {
   "cell_type": "code",
   "execution_count": 127,
   "id": "435c5d54",
   "metadata": {},
   "outputs": [
    {
     "name": "stdout",
     "output_type": "stream",
     "text": [
      "==== MENU ====\n",
      "1. Calcula area \n",
      "2. Calcula perimetro\n",
      "3. Cerrar programa\n",
      "Introduce la opción: 1\n",
      "Introduzca el radio: 5\n",
      "El area es: 78.5\n",
      "==== MENU ====\n",
      "1. Calcula area \n",
      "2. Calcula perimetro\n",
      "3. Cerrar programa\n",
      "Introduce la opción: 4\n",
      "Error\n",
      "==== MENU ====\n",
      "1. Calcula area \n",
      "2. Calcula perimetro\n",
      "3. Cerrar programa\n",
      "Introduce la opción: 3\n",
      "Saliendo programa...\n"
     ]
    }
   ],
   "source": [
    "opcion = 0\n",
    "while opcion != 3:\n",
    "    print(\"==== MENU ====\")\n",
    "    print(\"1. Calcula area \")\n",
    "    print(\"2. Calcula perimetro\")\n",
    "    print(\"3. Cerrar programa\")\n",
    "    opcion = int(input(\"Introduce la opción: \"))\n",
    "\n",
    "    if opcion == 1:\n",
    "        # Calculamos el área\n",
    "        radio = float(input(\"Introduzca el radio: \") )\n",
    "        area = calculaAreaCirculo(radio)\n",
    "        print(\"El area es: {0}\".format(area))\n",
    "\n",
    "    elif opcion == 2:\n",
    "        # Calculamos el perímetro\n",
    "        radio = float(input(\"Introduzca el radio: \") )\n",
    "        perimetro = 3.14 * radio * 2\n",
    "        print(\"El perímetro es: {0}\".format(perimetro))\n",
    "    elif opcion == 3:\n",
    "        print(\"Saliendo programa...\")   \n",
    "    else:\n",
    "        print(\"Error\")"
   ]
  },
  {
   "cell_type": "markdown",
   "id": "b748374d",
   "metadata": {},
   "source": [
    "# Listas"
   ]
  },
  {
   "cell_type": "code",
   "execution_count": null,
   "id": "d0c35e3b",
   "metadata": {},
   "outputs": [],
   "source": []
  }
 ],
 "metadata": {
  "kernelspec": {
   "display_name": "Python 3 (ipykernel)",
   "language": "python",
   "name": "python3"
  },
  "language_info": {
   "codemirror_mode": {
    "name": "ipython",
    "version": 3
   },
   "file_extension": ".py",
   "mimetype": "text/x-python",
   "name": "python",
   "nbconvert_exporter": "python",
   "pygments_lexer": "ipython3",
   "version": "3.7.8rc1"
  }
 },
 "nbformat": 4,
 "nbformat_minor": 5
}
