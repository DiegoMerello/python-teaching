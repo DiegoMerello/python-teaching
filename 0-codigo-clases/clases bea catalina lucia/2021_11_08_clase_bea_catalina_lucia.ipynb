{
 "cells": [
  {
   "cell_type": "markdown",
   "id": "3460cae4",
   "metadata": {},
   "source": [
    "Queremos una matriz de estudiantes y notas:\n",
    "\n",
    "$$\\begin{bmatrix}  & Asignatura 1 & Asignatura 2 & ...\\\\ Alumno 1 & 7 & 8 & ...\\\\ Alumno 2 & 8 & 6 & ...\\\\ ... & ... & ... & ... \\end{bmatrix}$$"
   ]
  },
  {
   "cell_type": "code",
   "execution_count": 1,
   "id": "0af98ffd",
   "metadata": {},
   "outputs": [],
   "source": [
    "# Creamos la matriz"
   ]
  },
  {
   "cell_type": "code",
   "execution_count": 3,
   "id": "1acf268f",
   "metadata": {},
   "outputs": [
    {
     "name": "stdout",
     "output_type": "stream",
     "text": [
      "Introduzca número de clases: 2\n",
      "Introduzca el nombre de la clase: Física\n",
      "Introduzca el nombre de la clase: Calculo\n"
     ]
    }
   ],
   "source": [
    "numero_courses = int(input(\"Introduzca número de clases: \"))\n",
    "courses = [] # Inicializamos lista vacía de courses\n",
    "\n",
    "for i in range(numero_courses):\n",
    "    name = input(\"Introduzca el nombre de la clase: \")\n",
    "    courses.append(name)"
   ]
  },
  {
   "cell_type": "code",
   "execution_count": 4,
   "id": "cdf0cbab",
   "metadata": {},
   "outputs": [
    {
     "data": {
      "text/plain": [
       "['Física', 'Calculo']"
      ]
     },
     "execution_count": 4,
     "metadata": {},
     "output_type": "execute_result"
    }
   ],
   "source": [
    "courses"
   ]
  },
  {
   "cell_type": "code",
   "execution_count": 5,
   "id": "e336a412",
   "metadata": {},
   "outputs": [
    {
     "name": "stdout",
     "output_type": "stream",
     "text": [
      "Introduzca número de alumnos: 3\n",
      "Introduzca el nombre del alumno: María\n",
      "Introduzca el nombre del alumno: Pedro\n",
      "Introduzca el nombre del alumno: Cris\n"
     ]
    }
   ],
   "source": [
    "numero_alumnos = int(input(\"Introduzca número de alumnos: \"))\n",
    "alumnos = [] # Inicializamos lista vacía de courses\n",
    "\n",
    "for i in range(numero_alumnos):\n",
    "    name = input(\"Introduzca el nombre del alumno: \") \n",
    "    alumnos.append(name)"
   ]
  },
  {
   "cell_type": "code",
   "execution_count": 6,
   "id": "ca8d7add",
   "metadata": {},
   "outputs": [
    {
     "data": {
      "text/plain": [
       "['María', 'Pedro', 'Cris']"
      ]
     },
     "execution_count": 6,
     "metadata": {},
     "output_type": "execute_result"
    }
   ],
   "source": [
    "alumnos"
   ]
  },
  {
   "cell_type": "code",
   "execution_count": 9,
   "id": "68af074a",
   "metadata": {},
   "outputs": [],
   "source": [
    "# Crear matriz de notas vacía\n",
    "# Recorrer alumnos\n",
    "    # Para cada alumno recorro todas las asignaturas\n",
    "        # Pedimos nota\n",
    "        # Añado nota de asignatura"
   ]
  },
  {
   "cell_type": "code",
   "execution_count": 12,
   "id": "b14e05b8",
   "metadata": {},
   "outputs": [
    {
     "data": {
      "text/plain": [
       "2"
      ]
     },
     "execution_count": 12,
     "metadata": {},
     "output_type": "execute_result"
    }
   ],
   "source": [
    "numero_courses"
   ]
  },
  {
   "cell_type": "code",
   "execution_count": 13,
   "id": "54812bb2",
   "metadata": {},
   "outputs": [],
   "source": [
    "grades = [  [3,5,7]   , [6,8,9], [3,8,9] ]"
   ]
  },
  {
   "cell_type": "code",
   "execution_count": 14,
   "id": "f49837c3",
   "metadata": {},
   "outputs": [
    {
     "data": {
      "text/plain": [
       "[3, 5, 7]"
      ]
     },
     "execution_count": 14,
     "metadata": {},
     "output_type": "execute_result"
    }
   ],
   "source": [
    "grades[0]"
   ]
  },
  {
   "cell_type": "code",
   "execution_count": null,
   "id": "df16bad9",
   "metadata": {},
   "outputs": [],
   "source": [
    "grades = [  [3], [5], [7] ...]"
   ]
  },
  {
   "cell_type": "code",
   "execution_count": 63,
   "id": "8d4cd57f",
   "metadata": {},
   "outputs": [
    {
     "name": "stdout",
     "output_type": "stream",
     "text": [
      "Alumno: María: \n",
      "Nota de Física: 1\n",
      "Nota de Calculo: 2\n",
      "Alumno: Pedro: \n",
      "Nota de Física: 3\n",
      "Nota de Calculo: 4\n",
      "Alumno: Cris: \n",
      "Nota de Física: 5\n",
      "Nota de Calculo: 6\n"
     ]
    }
   ],
   "source": [
    "grades = []\n",
    "for i in range(numero_alumnos):\n",
    "    print(\"Alumno: {0}: \".format( alumnos[i] ))\n",
    "    \n",
    "    notas_alumno = []\n",
    "    for j in range(numero_courses):\n",
    "        nota = float(input(\"Nota de {0}: \".format( courses[j] )))\n",
    "        notas_alumno.append(nota)\n",
    "        \n",
    "    grades.append(notas_alumno)"
   ]
  },
  {
   "cell_type": "code",
   "execution_count": null,
   "id": "65650b77",
   "metadata": {},
   "outputs": [],
   "source": [
    "grades[i][j] = nota"
   ]
  },
  {
   "cell_type": "code",
   "execution_count": 26,
   "id": "77388abc",
   "metadata": {},
   "outputs": [
    {
     "data": {
      "text/plain": [
       "[[7.0, 8.0], [5.0, 6.0], [8.0, 4.0]]"
      ]
     },
     "execution_count": 26,
     "metadata": {},
     "output_type": "execute_result"
    }
   ],
   "source": [
    "grades"
   ]
  },
  {
   "cell_type": "code",
   "execution_count": 20,
   "id": "97960404",
   "metadata": {},
   "outputs": [
    {
     "data": {
      "text/plain": [
       "array([[7., 8.],\n",
       "       [5., 6.],\n",
       "       [8., 4.]])"
      ]
     },
     "execution_count": 20,
     "metadata": {},
     "output_type": "execute_result"
    }
   ],
   "source": [
    "import numpy as np\n",
    "np.array(grades)"
   ]
  },
  {
   "cell_type": "code",
   "execution_count": 25,
   "id": "8759103e",
   "metadata": {},
   "outputs": [
    {
     "data": {
      "text/plain": [
       "8.0"
      ]
     },
     "execution_count": 25,
     "metadata": {},
     "output_type": "execute_result"
    }
   ],
   "source": [
    "grades[2][0] "
   ]
  },
  {
   "cell_type": "code",
   "execution_count": 53,
   "id": "e670aa84",
   "metadata": {},
   "outputs": [],
   "source": [
    "grades  = [[0,0]] * numero_alumnos"
   ]
  },
  {
   "cell_type": "code",
   "execution_count": 54,
   "id": "44ce4e21",
   "metadata": {},
   "outputs": [
    {
     "data": {
      "text/plain": [
       "[[0, 0], [0, 0], [0, 0]]"
      ]
     },
     "execution_count": 54,
     "metadata": {},
     "output_type": "execute_result"
    }
   ],
   "source": [
    "grades"
   ]
  },
  {
   "cell_type": "code",
   "execution_count": 55,
   "id": "d55a3d3b",
   "metadata": {},
   "outputs": [
    {
     "data": {
      "text/plain": [
       "0"
      ]
     },
     "execution_count": 55,
     "metadata": {},
     "output_type": "execute_result"
    }
   ],
   "source": [
    "grades[1][0]"
   ]
  },
  {
   "cell_type": "code",
   "execution_count": 56,
   "id": "c853dd81",
   "metadata": {},
   "outputs": [
    {
     "data": {
      "text/plain": [
       "[[0, 0], [0, 0], [0, 0]]"
      ]
     },
     "execution_count": 56,
     "metadata": {},
     "output_type": "execute_result"
    }
   ],
   "source": [
    "grades"
   ]
  },
  {
   "cell_type": "code",
   "execution_count": null,
   "id": "8717a685",
   "metadata": {},
   "outputs": [],
   "source": [
    "grades[i][j] = nota"
   ]
  },
  {
   "cell_type": "code",
   "execution_count": 57,
   "id": "d3231339",
   "metadata": {},
   "outputs": [
    {
     "name": "stdout",
     "output_type": "stream",
     "text": [
      "Alumno: María: \n",
      "Nota de Física: 1\n",
      "Nota de Calculo: 2\n",
      "Alumno: Pedro: \n",
      "Nota de Física: 3\n",
      "Nota de Calculo: 4\n",
      "Alumno: Cris: \n",
      "Nota de Física: 5\n",
      "Nota de Calculo: 6\n"
     ]
    }
   ],
   "source": [
    "grades = [[0,0]] * numero_alumnos\n",
    "for i in range(numero_alumnos):\n",
    "    print(\"Alumno: {0}: \".format( alumnos[i] ))\n",
    "    \n",
    "    for j in range(numero_courses):\n",
    "        nota = float(input(\"Nota de {0}: \".format( courses[j] )))\n",
    "        grades[i][j] = nota"
   ]
  },
  {
   "cell_type": "code",
   "execution_count": 58,
   "id": "afa29ed8",
   "metadata": {},
   "outputs": [
    {
     "data": {
      "text/plain": [
       "[[5.0, 6.0], [5.0, 6.0], [5.0, 6.0]]"
      ]
     },
     "execution_count": 58,
     "metadata": {},
     "output_type": "execute_result"
    }
   ],
   "source": [
    "grades"
   ]
  },
  {
   "cell_type": "code",
   "execution_count": 61,
   "id": "2d6eb6a7",
   "metadata": {},
   "outputs": [],
   "source": [
    "grades[0][1] = 2"
   ]
  },
  {
   "cell_type": "code",
   "execution_count": 62,
   "id": "276a2b15",
   "metadata": {},
   "outputs": [
    {
     "data": {
      "text/plain": [
       "[[5.0, 2], [5.0, 2], [5.0, 2]]"
      ]
     },
     "execution_count": 62,
     "metadata": {},
     "output_type": "execute_result"
    }
   ],
   "source": [
    "grades"
   ]
  },
  {
   "cell_type": "markdown",
   "id": "82c30849",
   "metadata": {},
   "source": [
    "Nuevo grades"
   ]
  },
  {
   "cell_type": "code",
   "execution_count": 64,
   "id": "df9be539",
   "metadata": {},
   "outputs": [
    {
     "data": {
      "text/plain": [
       "[[1.0, 2.0], [3.0, 4.0], [5.0, 6.0]]"
      ]
     },
     "execution_count": 64,
     "metadata": {},
     "output_type": "execute_result"
    }
   ],
   "source": [
    "grades"
   ]
  },
  {
   "cell_type": "markdown",
   "id": "b0b5f516",
   "metadata": {},
   "source": [
    "Media alumnos"
   ]
  },
  {
   "cell_type": "code",
   "execution_count": 66,
   "id": "b395219d",
   "metadata": {},
   "outputs": [
    {
     "data": {
      "text/plain": [
       "array([[1., 2.],\n",
       "       [3., 4.],\n",
       "       [5., 6.]])"
      ]
     },
     "execution_count": 66,
     "metadata": {},
     "output_type": "execute_result"
    }
   ],
   "source": [
    "grades_numpy = np.array(grades)\n",
    "grades_numpy"
   ]
  },
  {
   "cell_type": "code",
   "execution_count": 67,
   "id": "a17863eb",
   "metadata": {},
   "outputs": [
    {
     "data": {
      "text/plain": [
       "array([1.5, 3.5, 5.5])"
      ]
     },
     "execution_count": 67,
     "metadata": {},
     "output_type": "execute_result"
    }
   ],
   "source": [
    "medias = grades_numpy.mean(1) # Con un 1 nos hace la media de cada fila (alumno)\n",
    "medias"
   ]
  },
  {
   "cell_type": "code",
   "execution_count": 68,
   "id": "eca02015",
   "metadata": {},
   "outputs": [
    {
     "data": {
      "text/plain": [
       "['María', 'Pedro', 'Cris']"
      ]
     },
     "execution_count": 68,
     "metadata": {},
     "output_type": "execute_result"
    }
   ],
   "source": [
    "alumnos"
   ]
  },
  {
   "cell_type": "code",
   "execution_count": 69,
   "id": "329f8d48",
   "metadata": {},
   "outputs": [
    {
     "name": "stdout",
     "output_type": "stream",
     "text": [
      "Introduca nombre del alumno: María\n",
      "Media de María es: 1.5\n"
     ]
    }
   ],
   "source": [
    "nombre = input(\"Introduca nombre del alumno: \")\n",
    "indice = alumnos.index(nombre) # Ver ejemplo de la celda anterior para entender esta línea\n",
    "media_alumno = medias[indice]\n",
    "    \n",
    "print(\"Media de {0} es: {1}\".format(nombre, media_alumno))"
   ]
  },
  {
   "cell_type": "markdown",
   "id": "67842b5b",
   "metadata": {},
   "source": [
    "Media asignaturas"
   ]
  },
  {
   "cell_type": "code",
   "execution_count": 70,
   "id": "544d7dd8",
   "metadata": {},
   "outputs": [
    {
     "data": {
      "text/plain": [
       "array([3., 4.])"
      ]
     },
     "execution_count": 70,
     "metadata": {},
     "output_type": "execute_result"
    }
   ],
   "source": [
    "# Para poder aplicar la función mean, es necesario que la matriz sea una matriz numpy. \n",
    "# Por si acaso, la transformo a np.array \n",
    "grades_numpy = np.array(grades)\n",
    "medias = grades_numpy.mean(0) # Con un 0 nos hace la media de cada columna (asignatura)\n",
    "medias"
   ]
  },
  {
   "cell_type": "code",
   "execution_count": 71,
   "id": "c63b8a60",
   "metadata": {},
   "outputs": [
    {
     "name": "stdout",
     "output_type": "stream",
     "text": [
      "Introduca nombre de la asignatura: Calculo\n",
      "Media de Calculo es: 4.0\n"
     ]
    }
   ],
   "source": [
    "nombre = input(\"Introduca nombre de la asignatura: \")\n",
    "indice = courses.index(nombre) # Ver ejemplo de la celda anterior para entender esta línea\n",
    "media_asignatura = medias[indice]\n",
    "    \n",
    "print(\"Media de {0} es: {1}\".format(nombre, media_asignatura))\n",
    "    "
   ]
  },
  {
   "cell_type": "code",
   "execution_count": 72,
   "id": "93394fec",
   "metadata": {},
   "outputs": [
    {
     "data": {
      "text/plain": [
       "['María', 'Pedro', 'Cris']"
      ]
     },
     "execution_count": 72,
     "metadata": {},
     "output_type": "execute_result"
    }
   ],
   "source": [
    "alumnos"
   ]
  },
  {
   "cell_type": "code",
   "execution_count": 86,
   "id": "393c022f",
   "metadata": {},
   "outputs": [
    {
     "name": "stdout",
     "output_type": "stream",
     "text": [
      "\tFísica\tCalculo\n",
      "María\t1.0\t2.0\n",
      "Pedro\t3.0\t4.0\n",
      "Cris\t5.0\t6.0\n"
     ]
    }
   ],
   "source": [
    "primera_linea = \"\\t\" + \"\\t\".join(courses)\n",
    "print(primera_linea) # Hay maneras más elegantes de hacer esto pero no hace falta romperse la cabeza\n",
    "#print(\"\\t\" +  courses[0]+ \"\\t\"+courses[1])\n",
    "for i in range(numero_alumnos):        \n",
    "    alumno = alumnos[i]\n",
    "    string_notas = \"\"\n",
    "    for j in range(numero_courses):\n",
    "        nota = str(grades[i][j])\n",
    "        string_notas = string_notas + \"\\t\"+ nota # Añadimos el espacio (\\t) y la nota extraida\n",
    "    linea = alumno + string_notas # Construimos la línea\n",
    "    print(linea)"
   ]
  },
  {
   "cell_type": "code",
   "execution_count": 75,
   "id": "bca36206",
   "metadata": {},
   "outputs": [
    {
     "data": {
      "text/plain": [
       "['Física', 'Calculo']"
      ]
     },
     "execution_count": 75,
     "metadata": {},
     "output_type": "execute_result"
    }
   ],
   "source": [
    "courses"
   ]
  },
  {
   "cell_type": "code",
   "execution_count": 83,
   "id": "41814518",
   "metadata": {},
   "outputs": [
    {
     "data": {
      "text/plain": [
       "'Física\\tCalculo'"
      ]
     },
     "execution_count": 83,
     "metadata": {},
     "output_type": "execute_result"
    }
   ],
   "source": [
    "\"\\t\".join(courses)"
   ]
  },
  {
   "cell_type": "code",
   "execution_count": 84,
   "id": "ed8c2231",
   "metadata": {},
   "outputs": [
    {
     "data": {
      "text/plain": [
       "'\\tFísica\\tCalculo'"
      ]
     },
     "execution_count": 84,
     "metadata": {},
     "output_type": "execute_result"
    }
   ],
   "source": [
    "\"\\t\"+\"\\t\".join(courses)"
   ]
  },
  {
   "cell_type": "code",
   "execution_count": 85,
   "id": "e0e80d37",
   "metadata": {},
   "outputs": [
    {
     "name": "stdout",
     "output_type": "stream",
     "text": [
      "\tFísica\tCalculo\n"
     ]
    }
   ],
   "source": [
    "print(\"\\t\"+\"\\t\".join(courses))"
   ]
  },
  {
   "cell_type": "code",
   "execution_count": 88,
   "id": "0777623e",
   "metadata": {},
   "outputs": [],
   "source": [
    "datos_al1 = {'R': 5.0, 'Python': 6.0, 'Física': 7.0}\n",
    "datos_al2 = {'R': 3.0, 'Python': 7.0, 'Física': 8.0}"
   ]
  },
  {
   "cell_type": "code",
   "execution_count": 97,
   "id": "2a7ffa6a",
   "metadata": {},
   "outputs": [],
   "source": [
    "nombres_alumnos = [\"María\", \"Pedro\"]\n",
    "datos_alumnos  = [datos_al1, datos_al2]"
   ]
  },
  {
   "cell_type": "code",
   "execution_count": 98,
   "id": "cbe040ba",
   "metadata": {},
   "outputs": [
    {
     "data": {
      "text/plain": [
       "5.0"
      ]
     },
     "execution_count": 98,
     "metadata": {},
     "output_type": "execute_result"
    }
   ],
   "source": [
    "datos_alumnos[0][\"R\"]"
   ]
  },
  {
   "cell_type": "code",
   "execution_count": 99,
   "id": "cc7b679f",
   "metadata": {},
   "outputs": [
    {
     "data": {
      "text/plain": [
       "'María'"
      ]
     },
     "execution_count": 99,
     "metadata": {},
     "output_type": "execute_result"
    }
   ],
   "source": [
    "nombres_alumnos[0]"
   ]
  },
  {
   "cell_type": "code",
   "execution_count": 101,
   "id": "60adacc7",
   "metadata": {},
   "outputs": [],
   "source": [
    "datos_alumnos = {'María': {'R': 5.0, 'Python': 6.0, 'Física': 7.0},\n",
    "                 'Pedro': {'R': 7.0, 'Python': 8.0, 'Física': 9.0}}"
   ]
  },
  {
   "cell_type": "code",
   "execution_count": 102,
   "id": "86b700d2",
   "metadata": {},
   "outputs": [
    {
     "data": {
      "text/plain": [
       "5.0"
      ]
     },
     "execution_count": 102,
     "metadata": {},
     "output_type": "execute_result"
    }
   ],
   "source": [
    "datos_alumnos[\"María\"][\"R\"]"
   ]
  },
  {
   "cell_type": "code",
   "execution_count": 104,
   "id": "96fb3917",
   "metadata": {},
   "outputs": [],
   "source": [
    "notas_nico = [1,2,3]"
   ]
  },
  {
   "cell_type": "code",
   "execution_count": 105,
   "id": "eee31242",
   "metadata": {},
   "outputs": [],
   "source": [
    "datos_alumnos = {'María': [5.0, 6.0, 7.0],\n",
    "                 'Pedro': [7.0, 8.0, 9.0],\n",
    "                'Nico':notas_nico}"
   ]
  },
  {
   "cell_type": "code",
   "execution_count": 106,
   "id": "5833e9b5",
   "metadata": {},
   "outputs": [
    {
     "data": {
      "text/plain": [
       "{'María': [5.0, 6.0, 7.0], 'Pedro': [7.0, 8.0, 9.0], 'Nico': [1, 2, 3]}"
      ]
     },
     "execution_count": 106,
     "metadata": {},
     "output_type": "execute_result"
    }
   ],
   "source": [
    "datos_alumnos"
   ]
  },
  {
   "cell_type": "code",
   "execution_count": 107,
   "id": "73a54a85",
   "metadata": {},
   "outputs": [],
   "source": [
    "datos_alumnos = {'María': {'R': 5.0, 'Python': 6.0, 'Física': 7.0},\n",
    "                 'Pedro': {'R': 7.0, 'Python': 8.0, 'Física': 9.0}}"
   ]
  },
  {
   "cell_type": "code",
   "execution_count": 109,
   "id": "b7b981a5",
   "metadata": {},
   "outputs": [
    {
     "name": "stdout",
     "output_type": "stream",
     "text": [
      "Introduca asignatura: R\n"
     ]
    }
   ],
   "source": [
    "clase = input(\"Introduca asignatura: \")"
   ]
  },
  {
   "cell_type": "code",
   "execution_count": 110,
   "id": "89dd241f",
   "metadata": {},
   "outputs": [
    {
     "ename": "KeyError",
     "evalue": "0",
     "output_type": "error",
     "traceback": [
      "\u001b[1;31m---------------------------------------------------------------------------\u001b[0m",
      "\u001b[1;31mKeyError\u001b[0m                                  Traceback (most recent call last)",
      "\u001b[1;32m~\\AppData\\Local\\Temp/ipykernel_19848/1474335734.py\u001b[0m in \u001b[0;36m<module>\u001b[1;34m\u001b[0m\n\u001b[0;32m      3\u001b[0m \u001b[1;32mfor\u001b[0m \u001b[0mclave\u001b[0m\u001b[1;33m,\u001b[0m \u001b[0mvalor\u001b[0m \u001b[1;32min\u001b[0m \u001b[0mdatos_alumnos\u001b[0m\u001b[1;33m.\u001b[0m\u001b[0mitems\u001b[0m\u001b[1;33m(\u001b[0m\u001b[1;33m)\u001b[0m\u001b[1;33m:\u001b[0m\u001b[1;33m\u001b[0m\u001b[1;33m\u001b[0m\u001b[0m\n\u001b[0;32m      4\u001b[0m \u001b[1;33m\u001b[0m\u001b[0m\n\u001b[1;32m----> 5\u001b[1;33m     \u001b[0msuma_notas\u001b[0m \u001b[1;33m=\u001b[0m \u001b[0msuma_notas\u001b[0m \u001b[1;33m+\u001b[0m \u001b[0mvalor\u001b[0m\u001b[1;33m[\u001b[0m\u001b[1;36m0\u001b[0m\u001b[1;33m]\u001b[0m\u001b[1;33m\u001b[0m\u001b[1;33m\u001b[0m\u001b[0m\n\u001b[0m\u001b[0;32m      6\u001b[0m \u001b[1;33m\u001b[0m\u001b[0m\n\u001b[0;32m      7\u001b[0m \u001b[1;33m\u001b[0m\u001b[0m\n",
      "\u001b[1;31mKeyError\u001b[0m: 0"
     ]
    }
   ],
   "source": [
    "\n",
    "\n",
    "suma_notas = 0 # Para acumular las notas de todos\n",
    "num_alumnos = 0\n",
    "for clave, valor in datos_alumnos.items():\n",
    "    \n",
    "    suma_notas = suma_notas + valor[clase]\n",
    "    \n",
    "    "
   ]
  },
  {
   "cell_type": "code",
   "execution_count": null,
   "id": "10182b20",
   "metadata": {},
   "outputs": [],
   "source": []
  }
 ],
 "metadata": {
  "kernelspec": {
   "display_name": "Python 3 (ipykernel)",
   "language": "python",
   "name": "python3"
  },
  "language_info": {
   "codemirror_mode": {
    "name": "ipython",
    "version": 3
   },
   "file_extension": ".py",
   "mimetype": "text/x-python",
   "name": "python",
   "nbconvert_exporter": "python",
   "pygments_lexer": "ipython3",
   "version": "3.7.8rc1"
  }
 },
 "nbformat": 4,
 "nbformat_minor": 5
}
