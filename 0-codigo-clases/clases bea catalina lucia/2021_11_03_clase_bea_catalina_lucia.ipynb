{
 "cells": [
  {
   "cell_type": "markdown",
   "id": "a872ada5",
   "metadata": {},
   "source": [
    "### Ejercicio 2  Recorrer un rango (2 puntos)\n",
    "Obtener el número impar que ocupa la posición 127 entre los números 25340 y 58765 ambos incluídos.  \n",
    "Nota: El programa debe funcionar para cualquier rango de valores, no sólo para este ejemplo.  "
   ]
  },
  {
   "cell_type": "code",
   "execution_count": null,
   "id": "0a673c16",
   "metadata": {},
   "outputs": [],
   "source": [
    "# Pedir los números lim_inf y lim_sup\n",
    "\n",
    "# Ir recorriendo numeros de lim_inf a lim_sup\n",
    "\n",
    "    # Si x es número impar\n",
    "        # Sumo 1 a posicion_impar\n",
    "        \n",
    "        # Si posicion_impar == 127\n",
    "            #numero_buscado = x\n",
    "\n",
    "# ==========\n",
    "# Resultado: num_buscado"
   ]
  },
  {
   "cell_type": "code",
   "execution_count": null,
   "id": "000ad8a5",
   "metadata": {},
   "outputs": [],
   "source": [
    "1 2 3 4 5 6 7 8 9 10"
   ]
  },
  {
   "cell_type": "code",
   "execution_count": 24,
   "id": "650ce5d2",
   "metadata": {},
   "outputs": [
    {
     "name": "stdout",
     "output_type": "stream",
     "text": [
      "Num inferior 1\n",
      "Num superior 10\n"
     ]
    }
   ],
   "source": [
    "lim_inf = int(input(\"Num inferior \"))\n",
    "lim_sup = int(input(\"Num superior \"))"
   ]
  },
  {
   "cell_type": "code",
   "execution_count": 28,
   "id": "da859f78",
   "metadata": {},
   "outputs": [
    {
     "name": "stdout",
     "output_type": "stream",
     "text": [
      "7\n"
     ]
    }
   ],
   "source": [
    "posicion_impar = 0\n",
    "numero_buscado = 0\n",
    "for numero_recorrido in range(lim_inf, lim_sup+1):\n",
    "    \n",
    "    if numero_recorrido%2 == 1: # Es impar\n",
    "        posicion_impar = posicion_impar + 1\n",
    "        \n",
    "        if posicion_impar == 4:\n",
    "            numero_buscado = numero_recorrido\n",
    "\n",
    "if numero_buscado == 0:\n",
    "    print(\"Error\")\n",
    "else:\n",
    "    print(numero_buscado)"
   ]
  },
  {
   "cell_type": "code",
   "execution_count": null,
   "id": "3d1d2956",
   "metadata": {},
   "outputs": [],
   "source": []
  },
  {
   "cell_type": "code",
   "execution_count": 8,
   "id": "71cc6dc6",
   "metadata": {},
   "outputs": [
    {
     "name": "stdout",
     "output_type": "stream",
     "text": [
      "1\n",
      "2\n",
      "3\n",
      "4\n"
     ]
    }
   ],
   "source": [
    "for num in range(1,4+1):\n",
    "    print(num)"
   ]
  },
  {
   "cell_type": "code",
   "execution_count": 9,
   "id": "a1d50b27",
   "metadata": {},
   "outputs": [
    {
     "data": {
      "text/plain": [
       "1"
      ]
     },
     "execution_count": 9,
     "metadata": {},
     "output_type": "execute_result"
    }
   ],
   "source": [
    "10%3"
   ]
  },
  {
   "cell_type": "code",
   "execution_count": 11,
   "id": "7afa02d4",
   "metadata": {},
   "outputs": [
    {
     "data": {
      "text/plain": [
       "1"
      ]
     },
     "execution_count": 11,
     "metadata": {},
     "output_type": "execute_result"
    }
   ],
   "source": [
    "11%2"
   ]
  },
  {
   "cell_type": "code",
   "execution_count": 12,
   "id": "72005e8d",
   "metadata": {},
   "outputs": [],
   "source": [
    "lista_numeros = [ 2, 3, 4, 5, 6, 32, 45, 67 ]"
   ]
  },
  {
   "cell_type": "code",
   "execution_count": null,
   "id": "afed6219",
   "metadata": {},
   "outputs": [],
   "source": [
    "# Recorrer lista (i in range)\n",
    "# Si es par: \n",
    "    # "
   ]
  },
  {
   "cell_type": "code",
   "execution_count": 16,
   "id": "f1724caf",
   "metadata": {},
   "outputs": [
    {
     "name": "stdout",
     "output_type": "stream",
     "text": [
      "4\n"
     ]
    }
   ],
   "source": [
    "count = 0\n",
    "for num in lista_numeros:\n",
    "    if num%2 == 0:\n",
    "        count = count + 1\n",
    "print(count)"
   ]
  },
  {
   "cell_type": "code",
   "execution_count": 18,
   "id": "5cd23f7c",
   "metadata": {},
   "outputs": [
    {
     "name": "stdout",
     "output_type": "stream",
     "text": [
      "2\n",
      "3\n",
      "4\n",
      "5\n",
      "6\n",
      "7\n",
      "8\n",
      "9\n"
     ]
    }
   ],
   "source": [
    "for i in range(2, 10):\n",
    "    print(i)"
   ]
  },
  {
   "cell_type": "code",
   "execution_count": 20,
   "id": "9f806d71",
   "metadata": {},
   "outputs": [
    {
     "data": {
      "text/plain": [
       "[2, 3, 4, 5, 6, 7, 8, 9]"
      ]
     },
     "execution_count": 20,
     "metadata": {},
     "output_type": "execute_result"
    }
   ],
   "source": [
    "mi_lista = list(range(2,10))\n",
    "mi_lista"
   ]
  },
  {
   "cell_type": "code",
   "execution_count": 22,
   "id": "a878512c",
   "metadata": {},
   "outputs": [
    {
     "name": "stdout",
     "output_type": "stream",
     "text": [
      "2\n",
      "3\n",
      "4\n",
      "5\n",
      "6\n",
      "7\n",
      "8\n",
      "9\n"
     ]
    }
   ],
   "source": [
    "for elemento in mi_lista:\n",
    "    print(elemento)"
   ]
  },
  {
   "cell_type": "markdown",
   "id": "5c5d5bd4",
   "metadata": {},
   "source": [
    "### Ejercicio 3 Carta de productos y sabores (2,5 puntos)\n",
    "Supongamos que tenemos una lista de *productos*: caramelo, piruleta, chicle y chupachups y otra lista de *sabores*: fresa, cereza, limón, naranja y piña. Se pide mostrar todas las combinaciones posibles, de forma automática, como por ejemplo:  \n",
    "caramelo de fresa  \n",
    "piruleta de fresa  \n",
    "...  \n",
    "chicle de piña  \n",
    "chupachups de piña  \n",
    "Nota: El programa debe funcionar para cualquier listas, no sólo para este ejemplo.  "
   ]
  },
  {
   "cell_type": "code",
   "execution_count": 41,
   "id": "62ebcc80",
   "metadata": {},
   "outputs": [],
   "source": [
    "productos=[\"Caramelo\",\"Piruleta\", \"Chicle\", \"Chupachups\"]\n",
    "sabores=[\"fresa\", \"cereza\",\"limon\",\"naranja\",\"piña\"]"
   ]
  },
  {
   "cell_type": "code",
   "execution_count": 42,
   "id": "7f04ed59",
   "metadata": {},
   "outputs": [],
   "source": [
    "lista_combinaciones = []"
   ]
  },
  {
   "cell_type": "code",
   "execution_count": 43,
   "id": "5ed3d587",
   "metadata": {},
   "outputs": [],
   "source": [
    "# Recorremos lista productos\n",
    "    # Tenemos producto\n",
    "    # Recorremos lista sabores\n",
    "        # Añadimos producto-sabor a lista_combinaciones"
   ]
  },
  {
   "cell_type": "code",
   "execution_count": 44,
   "id": "015ec541",
   "metadata": {},
   "outputs": [],
   "source": [
    "#productos = [\"a\", \"b\", \"c\"]\n",
    "#sabores = [\"1\", \"2\", \"3\"]"
   ]
  },
  {
   "cell_type": "code",
   "execution_count": 49,
   "id": "38ddad4e",
   "metadata": {},
   "outputs": [
    {
     "name": "stdout",
     "output_type": "stream",
     "text": [
      "['Caramelo de fresa', 'Caramelo de cereza', 'Caramelo de limon', 'Caramelo de naranja', 'Caramelo de piña', 'Piruleta de fresa', 'Piruleta de cereza', 'Piruleta de limon', 'Piruleta de naranja', 'Piruleta de piña', 'Chicle de fresa', 'Chicle de cereza', 'Chicle de limon', 'Chicle de naranja', 'Chicle de piña', 'Chupachups de fresa', 'Chupachups de cereza', 'Chupachups de limon', 'Chupachups de naranja', 'Chupachups de piña']\n"
     ]
    }
   ],
   "source": [
    "lista_combinaciones = []\n",
    "for producto in productos:  # Producto = \"b\"\n",
    "    for sabor in sabores:   # Sabor = 1\n",
    "        combinacion = producto + \" de \" + sabor\n",
    "        lista_combinaciones.append(combinacion)\n",
    "print(lista_combinaciones)"
   ]
  },
  {
   "cell_type": "code",
   "execution_count": null,
   "id": "8df40be7",
   "metadata": {},
   "outputs": [],
   "source": []
  },
  {
   "cell_type": "code",
   "execution_count": 36,
   "id": "f0a0e0ed",
   "metadata": {},
   "outputs": [
    {
     "name": "stdout",
     "output_type": "stream",
     "text": [
      "Vuelta\n",
      "Caramelo\n",
      "Vuelta\n",
      "Piruleta\n",
      "Vuelta\n",
      "Chicle\n",
      "Vuelta\n",
      "Chupachups\n",
      "Fuera del for\n"
     ]
    }
   ],
   "source": [
    "for producto in productos:\n",
    "    print(\"Vuelta\")\n",
    "    print(producto)\n"
   ]
  },
  {
   "cell_type": "code",
   "execution_count": 34,
   "id": "2aa4af40",
   "metadata": {},
   "outputs": [],
   "source": [
    "a  =\"Producto\"\n",
    "b = \"Sabor\""
   ]
  },
  {
   "cell_type": "code",
   "execution_count": 35,
   "id": "252ee8d0",
   "metadata": {},
   "outputs": [
    {
     "data": {
      "text/plain": [
       "'Producto de Sabor'"
      ]
     },
     "execution_count": 35,
     "metadata": {},
     "output_type": "execute_result"
    }
   ],
   "source": [
    "a + \" de \" + b"
   ]
  },
  {
   "cell_type": "markdown",
   "id": "2f93852a",
   "metadata": {},
   "source": [
    "### Ejercicio 4 Creación de una lista (3,5 puntos)\n",
    "Dada la lista de cadenas, *milista1*, se desea crear otra lista *milista2* con aquellos elementos de la lista *milista1* que tengan más de dos caracteres y que su primer y último caracter sean iguales.\n",
    "\n",
    "Ejemplo:   \n",
    "Si *milista1* contiene las cadenas: 'abca', 'def', 'z' y 'wtyw'\n",
    "  \n",
    "Al ejecutar el programa se obtiene la lista *milista2* con 'abca' y 'wtyw'\n",
    "  \n",
    "NOTA: El programa debe funcionar para cualquier lista."
   ]
  },
  {
   "cell_type": "code",
   "execution_count": 50,
   "id": "4b0c883a",
   "metadata": {},
   "outputs": [],
   "source": [
    "milista1 = [\"abca\", \"def\", \"z\", \"wtyw\"]\n",
    "milista2 = []"
   ]
  },
  {
   "cell_type": "code",
   "execution_count": null,
   "id": "7886e5d2",
   "metadata": {},
   "outputs": [],
   "source": [
    "# Recorremos milista_1\n",
    "    # Elemento tiene más de dos caracteres?\n",
    "        # Elemento_letra_ultima == Elemento_letra_primera?\n",
    "            # Añado a milista2"
   ]
  },
  {
   "cell_type": "code",
   "execution_count": null,
   "id": "30b26b93",
   "metadata": {},
   "outputs": [],
   "source": []
  },
  {
   "cell_type": "code",
   "execution_count": 52,
   "id": "61ff6327",
   "metadata": {},
   "outputs": [
    {
     "name": "stdout",
     "output_type": "stream",
     "text": [
      "['abca', 'wtyw', 'abca', 'wtyw']\n"
     ]
    }
   ],
   "source": [
    "milista2 = []\n",
    "for elemento in milista1:\n",
    "    if len(elemento) > 2:\n",
    "        if elemento[0] == elemento[-1]:\n",
    "            milista2.append(elemento)\n",
    "\n",
    "print(milista2)"
   ]
  },
  {
   "cell_type": "code",
   "execution_count": 55,
   "id": "12cc9a76",
   "metadata": {},
   "outputs": [],
   "source": [
    "milista2 = []\n",
    "for elemento in milista1:\n",
    "    if (len(elemento) > 2) and  (elemento[0] == elemento[-1]):\n",
    "        milista2.append(elemento)"
   ]
  },
  {
   "cell_type": "code",
   "execution_count": 56,
   "id": "d5c9b434",
   "metadata": {},
   "outputs": [
    {
     "data": {
      "text/plain": [
       "['abca', 'wtyw']"
      ]
     },
     "execution_count": 56,
     "metadata": {},
     "output_type": "execute_result"
    }
   ],
   "source": [
    "milista2"
   ]
  },
  {
   "cell_type": "code",
   "execution_count": null,
   "id": "ebbb94d5",
   "metadata": {},
   "outputs": [],
   "source": [
    "# abcd\n",
    "# efg\n",
    "\n",
    "# Si longitud es par: \n",
    "    # mitad = longitud/2\n",
    "    # Letra_en_medio_1 = cadena[mitad-1]\n",
    "    # Letra_en_medio_2 = cadena[mitad]\n",
    "    \n",
    "# Si longitud es impar:\n",
    "    # mitad = longitud/2 \n",
    "    # Ajusto \"mitad\" para que sea un numero entero\n",
    "    # Letra_en_medio = cadena[mitad]"
   ]
  },
  {
   "cell_type": "code",
   "execution_count": 57,
   "id": "1c51a1bb",
   "metadata": {},
   "outputs": [],
   "source": [
    "cad = \"abcd\""
   ]
  },
  {
   "cell_type": "code",
   "execution_count": 59,
   "id": "c082ad87",
   "metadata": {},
   "outputs": [
    {
     "data": {
      "text/plain": [
       "'c'"
      ]
     },
     "execution_count": 59,
     "metadata": {},
     "output_type": "execute_result"
    }
   ],
   "source": [
    "cad[2]"
   ]
  },
  {
   "cell_type": "code",
   "execution_count": 71,
   "id": "98c1d345",
   "metadata": {},
   "outputs": [
    {
     "data": {
      "text/plain": [
       "3"
      ]
     },
     "execution_count": 71,
     "metadata": {},
     "output_type": "execute_result"
    }
   ],
   "source": [
    "int(5/2 + 0.5)"
   ]
  },
  {
   "cell_type": "code",
   "execution_count": 73,
   "id": "40ae2bef",
   "metadata": {},
   "outputs": [
    {
     "data": {
      "text/plain": [
       "3"
      ]
     },
     "execution_count": 73,
     "metadata": {},
     "output_type": "execute_result"
    }
   ],
   "source": [
    "round(5/2)+1"
   ]
  },
  {
   "cell_type": "code",
   "execution_count": 79,
   "id": "c3f47d9e",
   "metadata": {},
   "outputs": [
    {
     "name": "stdout",
     "output_type": "stream",
     "text": [
      "Introduce frase: Esta frase es largaa\n"
     ]
    }
   ],
   "source": [
    "frase = input(\"Introduce frase: \")"
   ]
  },
  {
   "cell_type": "code",
   "execution_count": 89,
   "id": "5be2c7de",
   "metadata": {},
   "outputs": [
    {
     "data": {
      "text/plain": [
       "20"
      ]
     },
     "execution_count": 89,
     "metadata": {},
     "output_type": "execute_result"
    }
   ],
   "source": [
    "len(frase)"
   ]
  },
  {
   "cell_type": "code",
   "execution_count": 87,
   "id": "3db9fa3d",
   "metadata": {},
   "outputs": [
    {
     "data": {
      "text/plain": [
       "2"
      ]
     },
     "execution_count": 87,
     "metadata": {},
     "output_type": "execute_result"
    }
   ],
   "source": [
    "5//2\n"
   ]
  },
  {
   "cell_type": "code",
   "execution_count": null,
   "id": "d42998c5",
   "metadata": {},
   "outputs": [],
   "source": []
  },
  {
   "cell_type": "code",
   "execution_count": 91,
   "id": "9cd3d62e",
   "metadata": {},
   "outputs": [
    {
     "name": "stdout",
     "output_type": "stream",
     "text": [
      "Primera letra: \n",
      "e\n",
      "Segunda letra: \n",
      " \n"
     ]
    }
   ],
   "source": [
    "if len(frase)%2 == 0:\n",
    "    \n",
    "    mitad = len(frase)//2 # Las dos barras son para que devuelva un int\n",
    "    Letra_en_medio_1 = frase[mitad-1]\n",
    "    Letra_en_medio_2 = frase[mitad]\n",
    "    print(\"Primera letra: \")\n",
    "    print(Letra_en_medio_1)\n",
    "    print(\"Segunda letra: \")\n",
    "    print(Letra_en_medio_2)\n",
    "    \n",
    "else:\n",
    "    mitad = len(frase)//2 \n",
    "    mitad = mitad+1\n",
    "    Letra_en_medio = frase[mitad]\n",
    "    print(Letra_en_medio)"
   ]
  },
  {
   "cell_type": "code",
   "execution_count": 92,
   "id": "4bb57433",
   "metadata": {},
   "outputs": [
    {
     "data": {
      "text/plain": [
       "'lajdlkjasldskj'"
      ]
     },
     "execution_count": 92,
     "metadata": {},
     "output_type": "execute_result"
    }
   ],
   "source": [
    "\"lajdlkjasldskj\""
   ]
  },
  {
   "cell_type": "code",
   "execution_count": 93,
   "id": "67d30265",
   "metadata": {},
   "outputs": [
    {
     "data": {
      "text/plain": [
       "[2, 3, 6]"
      ]
     },
     "execution_count": 93,
     "metadata": {},
     "output_type": "execute_result"
    }
   ],
   "source": [
    "[2, 3, 6]"
   ]
  },
  {
   "cell_type": "code",
   "execution_count": 94,
   "id": "99e585e8",
   "metadata": {},
   "outputs": [
    {
     "data": {
      "text/plain": [
       "['alksdja', 'aksjads', 'ak']"
      ]
     },
     "execution_count": 94,
     "metadata": {},
     "output_type": "execute_result"
    }
   ],
   "source": [
    "[\"alksdja\", \"aksjads\", \"ak\"]"
   ]
  },
  {
   "cell_type": "code",
   "execution_count": 95,
   "id": "fce9ebe2",
   "metadata": {},
   "outputs": [],
   "source": [
    "a = \"lajdlkjasldskj\""
   ]
  },
  {
   "cell_type": "code",
   "execution_count": 97,
   "id": "28e06487",
   "metadata": {},
   "outputs": [
    {
     "data": {
      "text/plain": [
       "'a'"
      ]
     },
     "execution_count": 97,
     "metadata": {},
     "output_type": "execute_result"
    }
   ],
   "source": [
    "a[1]"
   ]
  },
  {
   "cell_type": "code",
   "execution_count": null,
   "id": "bc179f68",
   "metadata": {},
   "outputs": [],
   "source": []
  }
 ],
 "metadata": {
  "kernelspec": {
   "display_name": "Python 3 (ipykernel)",
   "language": "python",
   "name": "python3"
  },
  "language_info": {
   "codemirror_mode": {
    "name": "ipython",
    "version": 3
   },
   "file_extension": ".py",
   "mimetype": "text/x-python",
   "name": "python",
   "nbconvert_exporter": "python",
   "pygments_lexer": "ipython3",
   "version": "3.7.8rc1"
  }
 },
 "nbformat": 4,
 "nbformat_minor": 5
}
