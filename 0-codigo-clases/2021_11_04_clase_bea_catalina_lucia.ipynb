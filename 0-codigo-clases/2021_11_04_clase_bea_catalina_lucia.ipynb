{
 "cells": [
  {
   "cell_type": "markdown",
   "id": "f19bac34",
   "metadata": {},
   "source": [
    "**1. Write a Python program to sum all the items in a list.**"
   ]
  },
  {
   "cell_type": "code",
   "execution_count": 3,
   "id": "141e12e6",
   "metadata": {},
   "outputs": [],
   "source": [
    "lista = [1, 2, 3]\n",
    "lista_rara = [1, '2', \"a\", 3]"
   ]
  },
  {
   "cell_type": "code",
   "execution_count": 16,
   "id": "a8c873fe",
   "metadata": {},
   "outputs": [
    {
     "name": "stdout",
     "output_type": "stream",
     "text": [
      "6\n"
     ]
    }
   ],
   "source": [
    "acumulador = 0\n",
    "for elemento in lista:\n",
    "    \n",
    "    if elemento != str(elemento):\n",
    "        acumulador = acumulador + elemento\n",
    "\n",
    "print(suma)"
   ]
  },
  {
   "cell_type": "code",
   "execution_count": 15,
   "id": "64b964c4",
   "metadata": {},
   "outputs": [
    {
     "name": "stdout",
     "output_type": "stream",
     "text": [
      "6\n"
     ]
    }
   ],
   "source": [
    "suma = 0\n",
    "for elemento in lista:\n",
    "    \n",
    "    if type(elemento) != str:\n",
    "        suma = suma + elemento\n",
    "    \n",
    "print(suma)"
   ]
  },
  {
   "cell_type": "markdown",
   "id": "d5a9bdb8",
   "metadata": {},
   "source": [
    "**2. Write a Python program to get the largest number from a list.**"
   ]
  },
  {
   "cell_type": "code",
   "execution_count": 17,
   "id": "4549f9d0",
   "metadata": {},
   "outputs": [
    {
     "data": {
      "text/plain": [
       "3"
      ]
     },
     "execution_count": 17,
     "metadata": {},
     "output_type": "execute_result"
    }
   ],
   "source": [
    "max(lista)"
   ]
  },
  {
   "cell_type": "code",
   "execution_count": 19,
   "id": "ebafbc3a",
   "metadata": {},
   "outputs": [],
   "source": [
    "lista = [50, 67, 12, 65]"
   ]
  },
  {
   "cell_type": "code",
   "execution_count": null,
   "id": "c84b342a",
   "metadata": {},
   "outputs": [],
   "source": [
    "max_num = lista[0] # asumimos que el primer numero es el maximo\n",
    "\n",
    "for elemento in lista:\n",
    "    \n",
    "    if elemento > max_num: # para cada elemento comprobamos si es mayor que el máximo actual\n",
    "        max_num = elemento # Si es mayor lo guardamos como máximo\n",
    "\n",
    "print(max_num)"
   ]
  },
  {
   "cell_type": "markdown",
   "id": "140902f3",
   "metadata": {},
   "source": [
    "**3. Write a Python function that takes two lists and returns True if they have at least one common member.**"
   ]
  },
  {
   "cell_type": "code",
   "execution_count": 20,
   "id": "a16f3d12",
   "metadata": {},
   "outputs": [],
   "source": [
    "lista1 = [1,5,7,9]\n",
    "lista2 = [23, 34, 1]\n",
    "lista3 = [0, 2, 8]"
   ]
  },
  {
   "cell_type": "code",
   "execution_count": 25,
   "id": "c33504f8",
   "metadata": {},
   "outputs": [],
   "source": [
    "elemento_en_comun_2 = False\n",
    "for elemento_1 in lista1:\n",
    "    for elemento_2 in lista3:\n",
    "        if elemento_1 == elemento_2:\n",
    "            elemento_en_comun_2 = True"
   ]
  },
  {
   "cell_type": "code",
   "execution_count": null,
   "id": "66b3f075",
   "metadata": {},
   "outputs": [],
   "source": [
    "elemento_en_comun_2 = False\n",
    "for elemento_1 in lista1:\n",
    "    if elemento_1 in lista2:\n",
    "        elemento_en_comun_2 = True"
   ]
  },
  {
   "cell_type": "markdown",
   "id": "fa3f2fcb",
   "metadata": {},
   "source": [
    "**6. Write a Python program to move up one position all elements in a list**"
   ]
  },
  {
   "cell_type": "code",
   "execution_count": 31,
   "id": "1858b3ec",
   "metadata": {},
   "outputs": [],
   "source": [
    "lista_inicial = [1, \"a\", 23, 5.6, \"ad\"]\n",
    "resultado_esperado = [\"ad\", 1, \"a\", 23, 5.6]"
   ]
  },
  {
   "cell_type": "markdown",
   "id": "4658b4e6",
   "metadata": {},
   "source": [
    "Mover \"ad\" al principio"
   ]
  },
  {
   "cell_type": "code",
   "execution_count": 45,
   "id": "837d04d6",
   "metadata": {},
   "outputs": [
    {
     "data": {
      "text/plain": [
       "'ad'"
      ]
     },
     "execution_count": 45,
     "metadata": {},
     "output_type": "execute_result"
    }
   ],
   "source": [
    "lista_inicial = [1, \"a\", 23, 5.6, \"ad\"]\n",
    "ultimo_elemento = lista_inicial.pop(-1)\n",
    "ultimo_elemento"
   ]
  },
  {
   "cell_type": "code",
   "execution_count": 46,
   "id": "44e2d510",
   "metadata": {},
   "outputs": [
    {
     "data": {
      "text/plain": [
       "[1, 'a', 23, 5.6]"
      ]
     },
     "execution_count": 46,
     "metadata": {},
     "output_type": "execute_result"
    }
   ],
   "source": [
    "lista_inicial"
   ]
  },
  {
   "cell_type": "code",
   "execution_count": 47,
   "id": "94afc3c8",
   "metadata": {},
   "outputs": [
    {
     "data": {
      "text/plain": [
       "['ad', 1, 'a', 23, 5.6]"
      ]
     },
     "execution_count": 47,
     "metadata": {},
     "output_type": "execute_result"
    }
   ],
   "source": [
    "lista_inicial.insert(0, ultimo_elemento)\n",
    "lista_inicial"
   ]
  },
  {
   "cell_type": "code",
   "execution_count": 49,
   "id": "76845feb",
   "metadata": {},
   "outputs": [
    {
     "data": {
      "text/plain": [
       "[20000, 1, 'a', 23, 5.6]"
      ]
     },
     "execution_count": 49,
     "metadata": {},
     "output_type": "execute_result"
    }
   ],
   "source": [
    "# Esto sustituye, no inserta\n",
    "lista_inicial[0] = 20000\n",
    "lista_inicial"
   ]
  },
  {
   "cell_type": "markdown",
   "id": "32429f54",
   "metadata": {},
   "source": [
    "Mover 1 al final"
   ]
  },
  {
   "cell_type": "code",
   "execution_count": 39,
   "id": "a2eb17a1",
   "metadata": {},
   "outputs": [
    {
     "data": {
      "text/plain": [
       "1"
      ]
     },
     "execution_count": 39,
     "metadata": {},
     "output_type": "execute_result"
    }
   ],
   "source": [
    "lista_inicial = [1, \"a\", 23, 5.6, \"ad\"]\n",
    "primer_elemento = lista_inicial.pop(0)\n",
    "primer_elemento"
   ]
  },
  {
   "cell_type": "code",
   "execution_count": 40,
   "id": "d715f5b4",
   "metadata": {},
   "outputs": [
    {
     "data": {
      "text/plain": [
       "['a', 23, 5.6, 'ad']"
      ]
     },
     "execution_count": 40,
     "metadata": {},
     "output_type": "execute_result"
    }
   ],
   "source": [
    "lista_inicial"
   ]
  },
  {
   "cell_type": "code",
   "execution_count": 41,
   "id": "6d489623",
   "metadata": {},
   "outputs": [
    {
     "data": {
      "text/plain": [
       "['a', 23, 5.6, 'ad', 1]"
      ]
     },
     "execution_count": 41,
     "metadata": {},
     "output_type": "execute_result"
    }
   ],
   "source": [
    "lista_inicial.append(primer_elemento)\n",
    "lista_inicial"
   ]
  },
  {
   "cell_type": "markdown",
   "id": "2fdfe529",
   "metadata": {},
   "source": [
    "# Diccionarios"
   ]
  },
  {
   "cell_type": "code",
   "execution_count": 60,
   "id": "d819e78a",
   "metadata": {},
   "outputs": [],
   "source": [
    "listas = [\"asd\", \"asdlja\", \"asldjasd\"]"
   ]
  },
  {
   "cell_type": "code",
   "execution_count": 61,
   "id": "664f3118",
   "metadata": {},
   "outputs": [
    {
     "data": {
      "text/plain": [
       "'asd'"
      ]
     },
     "execution_count": 61,
     "metadata": {},
     "output_type": "execute_result"
    }
   ],
   "source": [
    "listas[0]"
   ]
  },
  {
   "cell_type": "code",
   "execution_count": 57,
   "id": "98f63c54",
   "metadata": {},
   "outputs": [],
   "source": [
    "matriz = [ [1, 1, 2, 5] , [2, 5, 7, 1], [8, 9, 0, 1]]"
   ]
  },
  {
   "cell_type": "code",
   "execution_count": 65,
   "id": "43665860",
   "metadata": {},
   "outputs": [
    {
     "data": {
      "text/plain": [
       "[1, 1, 2, 5]"
      ]
     },
     "execution_count": 65,
     "metadata": {},
     "output_type": "execute_result"
    }
   ],
   "source": [
    "primera_fila = matriz[0]\n",
    "primera_fila"
   ]
  },
  {
   "cell_type": "code",
   "execution_count": 64,
   "id": "6910e265",
   "metadata": {},
   "outputs": [
    {
     "data": {
      "text/plain": [
       "5"
      ]
     },
     "execution_count": 64,
     "metadata": {},
     "output_type": "execute_result"
    }
   ],
   "source": [
    "primera_fila[3]"
   ]
  },
  {
   "cell_type": "code",
   "execution_count": 66,
   "id": "084283d4",
   "metadata": {},
   "outputs": [
    {
     "data": {
      "text/plain": [
       "5"
      ]
     },
     "execution_count": 66,
     "metadata": {},
     "output_type": "execute_result"
    }
   ],
   "source": [
    "matriz[0][3]"
   ]
  },
  {
   "cell_type": "code",
   "execution_count": 68,
   "id": "d9a98f62",
   "metadata": {},
   "outputs": [
    {
     "name": "stdout",
     "output_type": "stream",
     "text": [
      "[1, 1, 2, 5]\n",
      "[2, 5, 7, 1]\n",
      "[8, 9, 0, 1]\n"
     ]
    }
   ],
   "source": [
    "for fila in matriz:\n",
    "    print(fila)"
   ]
  },
  {
   "cell_type": "code",
   "execution_count": 69,
   "id": "5b527623",
   "metadata": {},
   "outputs": [
    {
     "name": "stdout",
     "output_type": "stream",
     "text": [
      "1\n",
      "1\n",
      "2\n",
      "5\n",
      "2\n",
      "5\n",
      "7\n",
      "1\n",
      "8\n",
      "9\n",
      "0\n",
      "1\n"
     ]
    }
   ],
   "source": [
    "for fila in matriz:\n",
    "    for numero in fila:\n",
    "        print(numero)"
   ]
  },
  {
   "cell_type": "code",
   "execution_count": 72,
   "id": "da26f435",
   "metadata": {},
   "outputs": [],
   "source": [
    "datos_estudiantes = [   [21, \"Nombre_estudiante_1\", 6.8] ,  [20, \"Nombre_estudiante_2\", 7.8] ]"
   ]
  },
  {
   "cell_type": "code",
   "execution_count": 73,
   "id": "3cc50430",
   "metadata": {},
   "outputs": [
    {
     "data": {
      "text/plain": [
       "[21, 'Nombre_estudiante_1', 6.8]"
      ]
     },
     "execution_count": 73,
     "metadata": {},
     "output_type": "execute_result"
    }
   ],
   "source": [
    "datos_estudiantes[0]"
   ]
  },
  {
   "cell_type": "code",
   "execution_count": 75,
   "id": "cb941d27",
   "metadata": {},
   "outputs": [],
   "source": [
    "alumnos = dict(alumno1=[1,2,3], alumno2=[6,7,8])"
   ]
  },
  {
   "cell_type": "code",
   "execution_count": 78,
   "id": "f8d05100",
   "metadata": {},
   "outputs": [],
   "source": [
    "notas_alumnos_lista = [8.5, 9.2]\n",
    "nombres_alumnos_lista = [\"Nico\", \"Felipe\"]"
   ]
  },
  {
   "cell_type": "code",
   "execution_count": 81,
   "id": "fdd310e7",
   "metadata": {},
   "outputs": [
    {
     "name": "stdout",
     "output_type": "stream",
     "text": [
      "Nico\n",
      "8.5\n",
      "9.2\n",
      "Felipe\n",
      "8.5\n",
      "9.2\n"
     ]
    }
   ],
   "source": [
    "for nombre in nombres_alumnos_lista:\n",
    "    print(nombre)\n",
    "    for nota in notas_alumnos_lista:\n",
    "        print(nota)"
   ]
  },
  {
   "cell_type": "code",
   "execution_count": 91,
   "id": "4ff35336",
   "metadata": {},
   "outputs": [
    {
     "data": {
      "text/plain": [
       "[0, 1]"
      ]
     },
     "execution_count": 91,
     "metadata": {},
     "output_type": "execute_result"
    }
   ],
   "source": [
    "list(range(len(notas_alumnos_lista)))"
   ]
  },
  {
   "cell_type": "code",
   "execution_count": 92,
   "id": "1cfded75",
   "metadata": {},
   "outputs": [
    {
     "name": "stdout",
     "output_type": "stream",
     "text": [
      "Vuelta\n",
      "Nico\n",
      "8.5\n",
      "Vuelta\n",
      "Felipe\n",
      "9.2\n"
     ]
    }
   ],
   "source": [
    "for i in range(len(notas_alumnos_lista)):\n",
    "    print(\"Vuelta\")\n",
    "    print(nombres_alumnos_lista[i])\n",
    "    print(notas_alumnos_lista[i])"
   ]
  },
  {
   "cell_type": "code",
   "execution_count": 95,
   "id": "495dac8f",
   "metadata": {},
   "outputs": [
    {
     "name": "stdout",
     "output_type": "stream",
     "text": [
      "Nico\n",
      "8.5\n"
     ]
    }
   ],
   "source": [
    "print(nombres_alumnos_lista[0])\n",
    "print(notas_alumnos_lista[0])"
   ]
  },
  {
   "cell_type": "code",
   "execution_count": 96,
   "id": "7985c8f0",
   "metadata": {},
   "outputs": [
    {
     "name": "stdout",
     "output_type": "stream",
     "text": [
      "Felipe\n",
      "9.2\n"
     ]
    }
   ],
   "source": [
    "print(nombres_alumnos_lista[1])\n",
    "print(notas_alumnos_lista[1])"
   ]
  },
  {
   "cell_type": "code",
   "execution_count": 97,
   "id": "27d2fd99",
   "metadata": {},
   "outputs": [],
   "source": [
    "notas_alumnos = {\"Nico\":8.5,\n",
    "                \"Felipe\":9.2}"
   ]
  },
  {
   "cell_type": "code",
   "execution_count": 99,
   "id": "6ef20271",
   "metadata": {},
   "outputs": [
    {
     "data": {
      "text/plain": [
       "9.2"
      ]
     },
     "execution_count": 99,
     "metadata": {},
     "output_type": "execute_result"
    }
   ],
   "source": [
    "notas_alumnos['Felipe']"
   ]
  },
  {
   "cell_type": "code",
   "execution_count": 101,
   "id": "260a3809",
   "metadata": {},
   "outputs": [
    {
     "name": "stdout",
     "output_type": "stream",
     "text": [
      "Nico\n",
      "Felipe\n"
     ]
    }
   ],
   "source": [
    "for cosa in notas_alumnos:\n",
    "    print(cosa)"
   ]
  },
  {
   "cell_type": "code",
   "execution_count": 102,
   "id": "23ed4aad",
   "metadata": {},
   "outputs": [
    {
     "name": "stdout",
     "output_type": "stream",
     "text": [
      "Nico\n",
      "Felipe\n"
     ]
    }
   ],
   "source": [
    "for cosa in notas_alumnos.keys():\n",
    "    print(cosa)"
   ]
  },
  {
   "cell_type": "code",
   "execution_count": 106,
   "id": "a185733d",
   "metadata": {},
   "outputs": [
    {
     "name": "stdout",
     "output_type": "stream",
     "text": [
      "8.5\n",
      "9.2\n"
     ]
    }
   ],
   "source": [
    "for cosa in notas_alumnos.values():\n",
    "    print(cosa)"
   ]
  },
  {
   "cell_type": "code",
   "execution_count": 105,
   "id": "a9ac327c",
   "metadata": {},
   "outputs": [
    {
     "data": {
      "text/plain": [
       "[8.5, 9.2]"
      ]
     },
     "execution_count": 105,
     "metadata": {},
     "output_type": "execute_result"
    }
   ],
   "source": [
    "list(notas_alumnos.values())"
   ]
  },
  {
   "cell_type": "code",
   "execution_count": 108,
   "id": "f7d04894",
   "metadata": {},
   "outputs": [
    {
     "name": "stdout",
     "output_type": "stream",
     "text": [
      "Nico\n",
      "8.5\n",
      "Felipe\n",
      "9.2\n"
     ]
    }
   ],
   "source": [
    "for a,b in notas_alumnos.items():\n",
    "    print(a)\n",
    "    print(b)"
   ]
  },
  {
   "cell_type": "code",
   "execution_count": 109,
   "id": "2c330696",
   "metadata": {},
   "outputs": [
    {
     "data": {
      "text/plain": [
       "[('Nico', 8.5), ('Felipe', 9.2)]"
      ]
     },
     "execution_count": 109,
     "metadata": {},
     "output_type": "execute_result"
    }
   ],
   "source": [
    "list(notas_alumnos.items())"
   ]
  },
  {
   "cell_type": "code",
   "execution_count": 113,
   "id": "96ccaa5c",
   "metadata": {},
   "outputs": [
    {
     "name": "stdout",
     "output_type": "stream",
     "text": [
      "Nico\n",
      "8.5\n",
      "Felipe\n",
      "9.2\n"
     ]
    }
   ],
   "source": [
    "for clave, valor in notas_alumnos.items():\n",
    "    print(clave)\n",
    "    print(valor)\n",
    "    "
   ]
  },
  {
   "cell_type": "markdown",
   "id": "c5f08c74",
   "metadata": {},
   "source": [
    "Más lio - no utilizar"
   ]
  },
  {
   "cell_type": "code",
   "execution_count": 118,
   "id": "9873d634",
   "metadata": {},
   "outputs": [
    {
     "name": "stdout",
     "output_type": "stream",
     "text": [
      "8.5\n",
      "9.2\n"
     ]
    }
   ],
   "source": [
    "for clave in notas_alumnos.keys():\n",
    "    print(notas_alumnos[clave])"
   ]
  },
  {
   "cell_type": "code",
   "execution_count": 116,
   "id": "358b7c78",
   "metadata": {},
   "outputs": [
    {
     "data": {
      "text/plain": [
       "8.5"
      ]
     },
     "execution_count": 116,
     "metadata": {},
     "output_type": "execute_result"
    }
   ],
   "source": [
    "notas_alumnos[\"Nico\"]"
   ]
  },
  {
   "cell_type": "code",
   "execution_count": 119,
   "id": "6575624f",
   "metadata": {},
   "outputs": [
    {
     "data": {
      "text/plain": [
       "9.2"
      ]
     },
     "execution_count": 119,
     "metadata": {},
     "output_type": "execute_result"
    }
   ],
   "source": [
    "notas_alumnos[\"Felipe\"]"
   ]
  },
  {
   "cell_type": "markdown",
   "id": "487cd397",
   "metadata": {},
   "source": [
    "Añadir elementos a diccionarios"
   ]
  },
  {
   "cell_type": "code",
   "execution_count": 120,
   "id": "146ff374",
   "metadata": {},
   "outputs": [],
   "source": [
    "notas_alumnos['Marta'] = 3.4"
   ]
  },
  {
   "cell_type": "code",
   "execution_count": 121,
   "id": "343caf6f",
   "metadata": {},
   "outputs": [
    {
     "data": {
      "text/plain": [
       "{'Nico': 8.5, 'Felipe': 9.2, 'Marta': 3.4}"
      ]
     },
     "execution_count": 121,
     "metadata": {},
     "output_type": "execute_result"
    }
   ],
   "source": [
    "notas_alumnos"
   ]
  },
  {
   "cell_type": "code",
   "execution_count": 124,
   "id": "55081737",
   "metadata": {},
   "outputs": [],
   "source": [
    "notas_alumnos['Felipe'] = [5.7, 5.9]"
   ]
  },
  {
   "cell_type": "code",
   "execution_count": 125,
   "id": "5474048f",
   "metadata": {},
   "outputs": [
    {
     "data": {
      "text/plain": [
       "{'Nico': 8.5, 'Felipe': [5.7, 5.9], 'Marta': 3.4}"
      ]
     },
     "execution_count": 125,
     "metadata": {},
     "output_type": "execute_result"
    }
   ],
   "source": [
    "notas_alumnos"
   ]
  },
  {
   "cell_type": "code",
   "execution_count": 126,
   "id": "ca478994",
   "metadata": {},
   "outputs": [
    {
     "data": {
      "text/plain": [
       "[5.7, 5.9]"
      ]
     },
     "execution_count": 126,
     "metadata": {},
     "output_type": "execute_result"
    }
   ],
   "source": [
    "notas_alumnos['Felipe']"
   ]
  },
  {
   "cell_type": "code",
   "execution_count": 127,
   "id": "38337e8f",
   "metadata": {},
   "outputs": [],
   "source": [
    "datos_alumnos = {\"Nico\":[\"Calle A\", 22, 1.85],\n",
    "                \"Felipe\":[\"Calle B\", 21, 1.87]}"
   ]
  },
  {
   "cell_type": "code",
   "execution_count": 129,
   "id": "406267f4",
   "metadata": {},
   "outputs": [
    {
     "data": {
      "text/plain": [
       "['Calle A', 22, 1.85]"
      ]
     },
     "execution_count": 129,
     "metadata": {},
     "output_type": "execute_result"
    }
   ],
   "source": [
    "datos_alumnos[\"Nico\"]"
   ]
  },
  {
   "cell_type": "code",
   "execution_count": 130,
   "id": "b2aa880a",
   "metadata": {},
   "outputs": [],
   "source": [
    "datos_alumnos = {\"Nico\": {\"Calle\":\"CalleA\",   \"Edad\":22},\n",
    "                 \"Felipe\":{\"Calle\":\"CalleBCD\", \"Edad\":21}}"
   ]
  },
  {
   "cell_type": "code",
   "execution_count": 132,
   "id": "6ddc3af1",
   "metadata": {},
   "outputs": [
    {
     "name": "stdout",
     "output_type": "stream",
     "text": [
      "Nico\n",
      "{'Calle': 'CalleA', 'Edad': 22}\n",
      "Felipe\n",
      "{'Calle': 'CalleBCD', 'Edad': 21}\n"
     ]
    }
   ],
   "source": [
    "for clave, valor in datos_alumnos.items():\n",
    "    print(clave)\n",
    "    print(valor)"
   ]
  },
  {
   "cell_type": "code",
   "execution_count": 135,
   "id": "4b43ddb4",
   "metadata": {},
   "outputs": [
    {
     "data": {
      "text/plain": [
       "{'Calle': 'CalleA', 'Edad': 22}"
      ]
     },
     "execution_count": 135,
     "metadata": {},
     "output_type": "execute_result"
    }
   ],
   "source": [
    "datos_nico = datos_alumnos[\"Nico\"]\n",
    "datos_nico"
   ]
  },
  {
   "cell_type": "code",
   "execution_count": 136,
   "id": "2039b1e5",
   "metadata": {},
   "outputs": [
    {
     "data": {
      "text/plain": [
       "22"
      ]
     },
     "execution_count": 136,
     "metadata": {},
     "output_type": "execute_result"
    }
   ],
   "source": [
    "datos_nico[\"Edad\"]"
   ]
  },
  {
   "cell_type": "code",
   "execution_count": 137,
   "id": "f92f08ce",
   "metadata": {},
   "outputs": [
    {
     "data": {
      "text/plain": [
       "22"
      ]
     },
     "execution_count": 137,
     "metadata": {},
     "output_type": "execute_result"
    }
   ],
   "source": [
    "datos_alumnos[\"Nico\"][\"Edad\"]"
   ]
  },
  {
   "cell_type": "markdown",
   "id": "ae0366e7",
   "metadata": {},
   "source": [
    "Muestra las edades de todos los alumnos"
   ]
  },
  {
   "cell_type": "code",
   "execution_count": 138,
   "id": "930668e6",
   "metadata": {},
   "outputs": [
    {
     "name": "stdout",
     "output_type": "stream",
     "text": [
      "22\n",
      "21\n"
     ]
    }
   ],
   "source": [
    "for clave in datos_alumnos.keys():\n",
    "    print(datos_alumnos[clave][\"Edad\"])"
   ]
  },
  {
   "cell_type": "code",
   "execution_count": 140,
   "id": "7627f473",
   "metadata": {},
   "outputs": [
    {
     "name": "stdout",
     "output_type": "stream",
     "text": [
      "22\n",
      "21\n"
     ]
    }
   ],
   "source": [
    "for valor in datos_alumnos.values():\n",
    "    print(valor[\"Edad\"])"
   ]
  },
  {
   "cell_type": "code",
   "execution_count": 142,
   "id": "75814588",
   "metadata": {},
   "outputs": [
    {
     "name": "stdout",
     "output_type": "stream",
     "text": [
      "Nico\n",
      "{'Calle': 'CalleA', 'Edad': 22}\n",
      "22\n",
      "Felipe\n",
      "{'Calle': 'CalleBCD', 'Edad': 21}\n",
      "21\n"
     ]
    }
   ],
   "source": [
    "for clave, valor in datos_alumnos.items():\n",
    "    print(clave)\n",
    "    print(valor)\n",
    "    print(valor[\"Edad\"])"
   ]
  },
  {
   "cell_type": "code",
   "execution_count": null,
   "id": "b6ce796b",
   "metadata": {},
   "outputs": [],
   "source": [
    "verdadero_falso = []"
   ]
  }
 ],
 "metadata": {
  "kernelspec": {
   "display_name": "Python 3 (ipykernel)",
   "language": "python",
   "name": "python3"
  },
  "language_info": {
   "codemirror_mode": {
    "name": "ipython",
    "version": 3
   },
   "file_extension": ".py",
   "mimetype": "text/x-python",
   "name": "python",
   "nbconvert_exporter": "python",
   "pygments_lexer": "ipython3",
   "version": "3.7.8rc1"
  }
 },
 "nbformat": 4,
 "nbformat_minor": 5
}
