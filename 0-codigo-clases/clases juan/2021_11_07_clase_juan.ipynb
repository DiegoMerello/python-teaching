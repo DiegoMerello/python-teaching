{
 "cells": [
  {
   "cell_type": "markdown",
   "id": "f7d19e26",
   "metadata": {},
   "source": [
    "# Aclaración funciones"
   ]
  },
  {
   "cell_type": "code",
   "execution_count": 24,
   "id": "d81c4000",
   "metadata": {},
   "outputs": [],
   "source": [
    "def funcion_suma(a,b):\n",
    "    resultado = a+b\n",
    "    print(\"Operacion realizada\")\n",
    "    return resultado"
   ]
  },
  {
   "cell_type": "code",
   "execution_count": 25,
   "id": "5de329f7",
   "metadata": {},
   "outputs": [
    {
     "name": "stdout",
     "output_type": "stream",
     "text": [
      "Operacion realizada\n"
     ]
    },
    {
     "data": {
      "text/plain": [
       "5"
      ]
     },
     "execution_count": 25,
     "metadata": {},
     "output_type": "execute_result"
    }
   ],
   "source": [
    "funcion_suma(2,3)"
   ]
  },
  {
   "cell_type": "code",
   "execution_count": 26,
   "id": "975e5274",
   "metadata": {},
   "outputs": [
    {
     "name": "stdout",
     "output_type": "stream",
     "text": [
      "Operacion realizada\n"
     ]
    }
   ],
   "source": [
    "caja_recibida_suma = funcion_suma(2,3)"
   ]
  },
  {
   "cell_type": "code",
   "execution_count": 27,
   "id": "35f234fa",
   "metadata": {},
   "outputs": [
    {
     "data": {
      "text/plain": [
       "5"
      ]
     },
     "execution_count": 27,
     "metadata": {},
     "output_type": "execute_result"
    }
   ],
   "source": [
    "caja_recibida_suma"
   ]
  },
  {
   "cell_type": "code",
   "execution_count": 28,
   "id": "7bda4705",
   "metadata": {},
   "outputs": [],
   "source": [
    "def funcion_resta(a,b):\n",
    "    resultado = a-b\n",
    "    print(\"Operacion realizada\")\n",
    "    print(resultado)"
   ]
  },
  {
   "cell_type": "code",
   "execution_count": 29,
   "id": "394c1992",
   "metadata": {},
   "outputs": [
    {
     "name": "stdout",
     "output_type": "stream",
     "text": [
      "Operacion realizada\n",
      "-1\n"
     ]
    }
   ],
   "source": [
    "funcion_resta(2,3)"
   ]
  },
  {
   "cell_type": "code",
   "execution_count": 30,
   "id": "12e4c38a",
   "metadata": {},
   "outputs": [
    {
     "name": "stdout",
     "output_type": "stream",
     "text": [
      "Operacion realizada\n",
      "-1\n"
     ]
    }
   ],
   "source": [
    "caja_recibida_resta = funcion_resta(2,3)"
   ]
  },
  {
   "cell_type": "code",
   "execution_count": 35,
   "id": "453177c6",
   "metadata": {},
   "outputs": [],
   "source": [
    "caja_recibida_resta"
   ]
  },
  {
   "cell_type": "code",
   "execution_count": 36,
   "id": "290db1d2",
   "metadata": {},
   "outputs": [
    {
     "name": "stdout",
     "output_type": "stream",
     "text": [
      "None\n"
     ]
    }
   ],
   "source": [
    "print(caja_recibida_resta)"
   ]
  },
  {
   "cell_type": "code",
   "execution_count": 33,
   "id": "e5297f67",
   "metadata": {},
   "outputs": [
    {
     "data": {
      "text/plain": [
       "NoneType"
      ]
     },
     "execution_count": 33,
     "metadata": {},
     "output_type": "execute_result"
    }
   ],
   "source": [
    "type(caja_recibida_resta)"
   ]
  },
  {
   "cell_type": "markdown",
   "id": "6b724d44",
   "metadata": {},
   "source": [
    "# Problema 1"
   ]
  },
  {
   "cell_type": "code",
   "execution_count": 37,
   "id": "363b837b",
   "metadata": {},
   "outputs": [],
   "source": [
    "d_sospechosos = {\n",
    "    1023: [\"Pedro Delincuente\", \"Robo con fuerza\",         \"51728345K\", \"Calle A\", 601750163],\n",
    "    1045: [\"Lucas Delincuente\", \"Hurto\",                   \"50421224G\", \"Calle B\", 687175223],\n",
    "    1006: [\"Cris Delincuente\",  \"Blanqueo de capitales\",   \"36737841A\", \"Calle C\", 682871456],\n",
    "    3481: [\"María Delincuente\", \"Agresión contra policía\", \"51710462P\", \"Calle D\", 743401912],\n",
    "}"
   ]
  },
  {
   "cell_type": "code",
   "execution_count": 38,
   "id": "b71f2d99",
   "metadata": {},
   "outputs": [
    {
     "data": {
      "text/plain": [
       "'51728345K'"
      ]
     },
     "execution_count": 38,
     "metadata": {},
     "output_type": "execute_result"
    }
   ],
   "source": [
    "d_sospechosos[1023][2]"
   ]
  },
  {
   "cell_type": "code",
   "execution_count": 39,
   "id": "153240d7",
   "metadata": {},
   "outputs": [],
   "source": [
    "# Leer de fichero (no es el caso)\n",
    "# Recorrer diccionario\n",
    "    # Cojo string del DNI\n",
    "    # Quito ultima posición - separarNumero(string_dni) returns int_dni_sin_letra\n",
    "    # Calcular letra:   - calcularLetra(int_dni_sin_letra) returns dni_correcto \n",
    "        # Dividir numero entre 23\n",
    "        # Asignar el modulo a la lista de letras\n",
    "        # Unir letra al string\n",
    "    # Meterla en el diccionario\n",
    "# Escribir en fichero (no es el caso)"
   ]
  },
  {
   "cell_type": "code",
   "execution_count": 41,
   "id": "515db809",
   "metadata": {},
   "outputs": [
    {
     "data": {
      "text/plain": [
       "'51728345K'"
      ]
     },
     "execution_count": 41,
     "metadata": {},
     "output_type": "execute_result"
    }
   ],
   "source": [
    "ejemplo = d_sospechosos[1023][2]\n",
    "ejemplo"
   ]
  },
  {
   "cell_type": "code",
   "execution_count": 46,
   "id": "4ff33e43",
   "metadata": {},
   "outputs": [],
   "source": [
    "def separarNumero(dni_recibido):\n",
    "    string_numero_dni = dni_recibido[:-1]\n",
    "    return string_numero_dni"
   ]
  },
  {
   "cell_type": "code",
   "execution_count": 47,
   "id": "599b6d50",
   "metadata": {},
   "outputs": [
    {
     "data": {
      "text/plain": [
       "'51728345'"
      ]
     },
     "execution_count": 47,
     "metadata": {},
     "output_type": "execute_result"
    }
   ],
   "source": [
    "separarNumero(ejemplo)"
   ]
  },
  {
   "cell_type": "code",
   "execution_count": 82,
   "id": "1f53a0b4",
   "metadata": {},
   "outputs": [],
   "source": [
    "letras_correspondientes = [\"T\", \"R\", \"W\", \"A\", \"G\", \"M\", \"Y\", \"F\", \"P\", \"D\", \"X\", \"B\", \"N\", \"J\", \"Z\", \"S\", \"Q\", \"V\", \"H\", \"L\", \"C\", \"K\", \"E\"]"
   ]
  },
  {
   "cell_type": "code",
   "execution_count": 90,
   "id": "fd6d3628",
   "metadata": {},
   "outputs": [],
   "source": [
    "def calcularLetra(int_dni_sin_letra):\n",
    "    resto = int_dni_sin_letra%23\n",
    "    \n",
    "    letra_correcta = letras_correspondientes[resto]\n",
    "    \n",
    "    dni_correcto = str(int_dni_sin_letra) + letra_correcta\n",
    "    \n",
    "    return dni_correcto"
   ]
  },
  {
   "cell_type": "markdown",
   "id": "01cf8915",
   "metadata": {},
   "source": [
    "OJO si los índices a buscar son distintos o busco clave-valor"
   ]
  },
  {
   "cell_type": "code",
   "execution_count": 59,
   "id": "87e70121",
   "metadata": {},
   "outputs": [],
   "source": [
    "cartas ={\n",
    "\"0\": 1,\n",
    "\"1\": 2,\n",
    "\"9\": 0.5,\n",
    "\"10\": 0.5,\n",
    "\"11\": 0.5}"
   ]
  },
  {
   "cell_type": "code",
   "execution_count": 60,
   "id": "744190cb",
   "metadata": {},
   "outputs": [
    {
     "data": {
      "text/plain": [
       "0.5"
      ]
     },
     "execution_count": 60,
     "metadata": {},
     "output_type": "execute_result"
    }
   ],
   "source": [
    "cartas['11']"
   ]
  },
  {
   "cell_type": "code",
   "execution_count": 64,
   "id": "656cf8af",
   "metadata": {},
   "outputs": [],
   "source": [
    "# Leer de fichero (no es el caso)\n",
    "# Recorrer diccionario\n",
    "    # Cojo string del DNI\n",
    "    # Quito ultima posición - separarNumero(string_dni) returns int_dni_sin_letra\n",
    "    # Calcular letra:   - calcularLetra(int_dni_sin_letra) returns dni_correcto \n",
    "        # Dividir numero entre 23\n",
    "        # Asignar el modulo a la lista de letras\n",
    "        # Unir letra al string\n",
    "    # Meterla en el diccionario\n",
    "# Escribir en fichero (no es el caso)"
   ]
  },
  {
   "cell_type": "code",
   "execution_count": 87,
   "id": "591b009a",
   "metadata": {},
   "outputs": [],
   "source": [
    "d_sospechosos = {\n",
    "    1023: [\"Pedro Delincuente\", \"Robo con fuerza\",         \"51728345K\", \"Calle A\", 601750163],\n",
    "    1045: [\"Lucas Delincuente\", \"Hurto\",                   \"50421224G\", \"Calle B\", 687175223],\n",
    "    1006: [\"Cris Delincuente\",  \"Blanqueo de capitales\",   \"36737841A\", \"Calle C\", 682871456],\n",
    "    3481: [\"María Delincuente\", \"Agresión contra policía\", \"51710462P\", \"Calle D\", 743401912],\n",
    "}\n",
    "\n",
    "for clave, valor in d_sospechosos.items():\n",
    "    dni_erroneo_string = valor[2]\n",
    "    \n",
    "    str_dni_sin_letra = separarNumero(dni_erroneo_string)\n",
    "    \n",
    "    dni_correcto = calcularLetra(int(str_dni_sin_letra))\n",
    "    \n",
    "    d_sospechosos[clave][2] = dni_correcto\n",
    "    #valor[2] = dni_correcto # podría valer PERO cuidado"
   ]
  },
  {
   "cell_type": "code",
   "execution_count": 89,
   "id": "94943098",
   "metadata": {},
   "outputs": [
    {
     "name": "stdout",
     "output_type": "stream",
     "text": [
      "{1023: ['Pedro Delincuente', 'Robo con fuerza', '51728345B', 'Calle A', 601750163], 1045: ['Lucas Delincuente', 'Hurto', '50421224A', 'Calle B', 687175223], 1006: ['Cris Delincuente', 'Blanqueo de capitales', '36737841X', 'Calle C', 682871456], 3481: ['María Delincuente', 'Agresión contra policía', '51710462E', 'Calle D', 743401912]}\n"
     ]
    }
   ],
   "source": [
    "print(d_sospechosos)"
   ]
  },
  {
   "cell_type": "markdown",
   "id": "361400d6",
   "metadata": {},
   "source": [
    "Explicació iteración listas"
   ]
  },
  {
   "cell_type": "code",
   "execution_count": 71,
   "id": "7bf5d2fe",
   "metadata": {},
   "outputs": [
    {
     "name": "stdout",
     "output_type": "stream",
     "text": [
      "Inicial\n",
      "1\n",
      "Final\n",
      "2\n",
      "Inicial\n",
      "2\n",
      "Final\n",
      "3\n",
      "Inicial\n",
      "3\n",
      "Final\n",
      "4\n"
     ]
    }
   ],
   "source": [
    "lista = [1,2,3]\n",
    "for elemento in lista:\n",
    "    print(\"Inicial\")\n",
    "    print(elemento)\n",
    "    elemento = elemento +1\n",
    "    print(\"Final\")\n",
    "    print(elemento)"
   ]
  },
  {
   "cell_type": "code",
   "execution_count": 75,
   "id": "6f655636",
   "metadata": {},
   "outputs": [
    {
     "data": {
      "text/plain": [
       "[0, 1, 2]"
      ]
     },
     "execution_count": 75,
     "metadata": {},
     "output_type": "execute_result"
    }
   ],
   "source": [
    "list(range(0,3))"
   ]
  },
  {
   "cell_type": "code",
   "execution_count": 79,
   "id": "044d6581",
   "metadata": {},
   "outputs": [
    {
     "name": "stdout",
     "output_type": "stream",
     "text": [
      "Inicial\n",
      "1\n",
      "Final\n",
      "2\n",
      "Inicial\n",
      "2\n",
      "Final\n",
      "3\n",
      "Inicial\n",
      "3\n",
      "Final\n",
      "4\n"
     ]
    }
   ],
   "source": [
    "lista = [1,2,3]\n",
    "for i in range(len(lista)):\n",
    "    print(\"Inicial\")\n",
    "    print(lista[i])\n",
    "    lista[i] = lista[i] +1\n",
    "    print(\"Final\")\n",
    "    print(lista[i])"
   ]
  },
  {
   "cell_type": "markdown",
   "id": "b2dcc82d",
   "metadata": {},
   "source": [
    "# Introducción a ficheros"
   ]
  },
  {
   "cell_type": "code",
   "execution_count": 97,
   "id": "270a11c9",
   "metadata": {},
   "outputs": [
    {
     "data": {
      "text/plain": [
       "{'autor_A': 'libro_A', 'autor_B': 'libro_B', 'autor_C': 'libro_C'}"
      ]
     },
     "execution_count": 97,
     "metadata": {},
     "output_type": "execute_result"
    }
   ],
   "source": [
    "libros_ya_guardados"
   ]
  },
  {
   "cell_type": "code",
   "execution_count": 91,
   "id": "76b83b0e",
   "metadata": {},
   "outputs": [
    {
     "name": "stdout",
     "output_type": "stream",
     "text": [
      "Introduzca el número de libros: 3\n"
     ]
    }
   ],
   "source": [
    "num = int(input(\"Introduzca el número de libros: \"))"
   ]
  },
  {
   "cell_type": "code",
   "execution_count": 94,
   "id": "0f72636e",
   "metadata": {},
   "outputs": [
    {
     "name": "stdout",
     "output_type": "stream",
     "text": [
      "Introduzca autor: autor_A\n",
      "Introduzca título: libro_A\n",
      "Introduzca autor: autor_B\n",
      "Introduzca título: libro_B\n",
      "Introduzca autor: autor_C\n",
      "Introduzca título: libro_C\n"
     ]
    }
   ],
   "source": [
    "books = {}\n",
    "for i in range(num):\n",
    "    autor = input(\"Introduzca autor: \")\n",
    "    titulo = input(\"Introduzca título: \")\n",
    "    books[autor] = titulo"
   ]
  },
  {
   "cell_type": "code",
   "execution_count": 98,
   "id": "7eaee1c3",
   "metadata": {},
   "outputs": [
    {
     "data": {
      "text/plain": [
       "{'autor_A': 'libro_A', 'autor_B': 'libro_B', 'autor_C': 'libro_C'}"
      ]
     },
     "execution_count": 98,
     "metadata": {},
     "output_type": "execute_result"
    }
   ],
   "source": [
    "books"
   ]
  },
  {
   "cell_type": "code",
   "execution_count": 102,
   "id": "aa674da3",
   "metadata": {},
   "outputs": [],
   "source": [
    "file=open(\"books.txt\", \"a\")\n",
    "\n",
    "file.write(\"Hola\")\n",
    "\n",
    "file.close()"
   ]
  },
  {
   "cell_type": "code",
   "execution_count": 133,
   "id": "b768f8fb",
   "metadata": {},
   "outputs": [],
   "source": [
    "file=open(\"books.txt\", \"w\")\n",
    "for clave, valor in books.items():\n",
    "    autor = clave\n",
    "    libro = valor\n",
    "    file.write(autor + \", \" + libro + \"\\n\")\n",
    "\n",
    "file.close()"
   ]
  },
  {
   "cell_type": "code",
   "execution_count": 120,
   "id": "9133ecbd",
   "metadata": {},
   "outputs": [
    {
     "data": {
      "text/plain": [
       "['autor_A, libro_A\\n', 'autor_B, libro_B\\n', 'autor_C, libro_C\\n']"
      ]
     },
     "execution_count": 120,
     "metadata": {},
     "output_type": "execute_result"
    }
   ],
   "source": [
    "file = open(\"books.txt\", \"r\")\n",
    "list(file)\n",
    "file.close()"
   ]
  },
  {
   "cell_type": "code",
   "execution_count": 125,
   "id": "5b338472",
   "metadata": {},
   "outputs": [
    {
     "data": {
      "text/plain": [
       "['autor_A, libro_A\\n', 'autor_B, libro_B\\n', 'autor_C, libro_C\\n']"
      ]
     },
     "execution_count": 125,
     "metadata": {},
     "output_type": "execute_result"
    }
   ],
   "source": [
    "file = open(\"books.txt\", \"r\")\n",
    "lineas_file = list(file)\n",
    "lineas_file\n",
    "file.close()"
   ]
  },
  {
   "cell_type": "code",
   "execution_count": 126,
   "id": "583cc66a",
   "metadata": {},
   "outputs": [
    {
     "data": {
      "text/plain": [
       "'autor_A, libro_A\\n'"
      ]
     },
     "execution_count": 126,
     "metadata": {},
     "output_type": "execute_result"
    }
   ],
   "source": [
    "elemento = lineas_file[0]\n",
    "elemento"
   ]
  },
  {
   "cell_type": "code",
   "execution_count": 124,
   "id": "a7003508",
   "metadata": {},
   "outputs": [
    {
     "data": {
      "text/plain": [
       "['autor_A', ' libro_A\\n']"
      ]
     },
     "execution_count": 124,
     "metadata": {},
     "output_type": "execute_result"
    }
   ],
   "source": [
    "elemento.split(\",\")"
   ]
  },
  {
   "cell_type": "code",
   "execution_count": 134,
   "id": "86ce064d",
   "metadata": {},
   "outputs": [],
   "source": [
    "file = open(\"books.txt\", \"r\")\n",
    "libros_del_archivo = {}\n",
    "for elemento in file:\n",
    "    autor = elemento.split(\",\")[0]\n",
    "    libro = elemento.split(\",\")[1]\n",
    "    libros_del_archivo[autor] = libro\n",
    "file.close()"
   ]
  },
  {
   "cell_type": "code",
   "execution_count": 135,
   "id": "cc4f76e8",
   "metadata": {},
   "outputs": [
    {
     "data": {
      "text/plain": [
       "{'autor_A': ' libro_A\\n', 'autor_B': ' libro_B\\n', 'autor_C': ' libro_C\\n'}"
      ]
     },
     "execution_count": 135,
     "metadata": {},
     "output_type": "execute_result"
    }
   ],
   "source": [
    "libros_del_archivo"
   ]
  },
  {
   "cell_type": "markdown",
   "id": "e5230325",
   "metadata": {},
   "source": [
    "Ahora más correcta la lectura"
   ]
  },
  {
   "cell_type": "code",
   "execution_count": 144,
   "id": "9d39b0ca",
   "metadata": {},
   "outputs": [],
   "source": [
    "file=open(\"books.txt\", \"w\")\n",
    "for clave, valor in books.items():\n",
    "    autor = clave\n",
    "    libro = valor\n",
    "    file.write(autor + \",\" + libro + \"\\n\")\n",
    "\n",
    "file.close()"
   ]
  },
  {
   "cell_type": "code",
   "execution_count": 140,
   "id": "2f11da8d",
   "metadata": {},
   "outputs": [],
   "source": [
    "file = open(\"books.txt\", \"r\")\n",
    "libros_del_archivo = {}\n",
    "for elemento in file:\n",
    "    autor = elemento.split(\",\")[0]\n",
    "    libro = elemento.split(\",\")[1][:-1]\n",
    "    libros_del_archivo[autor] = libro\n",
    "file.close()"
   ]
  },
  {
   "cell_type": "code",
   "execution_count": 141,
   "id": "a8af96e1",
   "metadata": {},
   "outputs": [
    {
     "data": {
      "text/plain": [
       "{'autor_A': 'libro_A', 'autor_B': 'libro_B', 'autor_C': 'libro_C'}"
      ]
     },
     "execution_count": 141,
     "metadata": {},
     "output_type": "execute_result"
    }
   ],
   "source": [
    "libros_del_archivo"
   ]
  },
  {
   "cell_type": "markdown",
   "id": "0524e429",
   "metadata": {},
   "source": [
    "Con otras funciones"
   ]
  },
  {
   "cell_type": "code",
   "execution_count": 153,
   "id": "9ef39fb1",
   "metadata": {},
   "outputs": [
    {
     "data": {
      "text/plain": [
       "[('autor_A', 'libro_A'), ('autor_B', 'libro_B'), ('autor_C', 'libro_C')]"
      ]
     },
     "execution_count": 153,
     "metadata": {},
     "output_type": "execute_result"
    }
   ],
   "source": [
    "list(books.items())"
   ]
  },
  {
   "cell_type": "code",
   "execution_count": 157,
   "id": "2bdab392",
   "metadata": {},
   "outputs": [],
   "source": [
    "file=open(\"books.txt\", \"w\")\n",
    "for clave, valor in books.items():\n",
    "    autor = clave\n",
    "    libro = valor\n",
    "    file.write(autor + \",\" + libro + \"\\n\")\n",
    "\n",
    "file.close()"
   ]
  },
  {
   "cell_type": "code",
   "execution_count": 158,
   "id": "dc107f6c",
   "metadata": {},
   "outputs": [
    {
     "name": "stdout",
     "output_type": "stream",
     "text": [
      "autor_A,libro_A\n",
      "\n",
      "autor_B,libro_B\n",
      "\n",
      "autor_C,libro_C\n",
      "\n"
     ]
    }
   ],
   "source": [
    "file = open(\"books.txt\", \"r\")\n",
    "linea = file.readline()\n",
    "while linea != \"\":\n",
    "    print(linea)\n",
    "    linea = file.readline()\n",
    "file.close()  "
   ]
  },
  {
   "cell_type": "code",
   "execution_count": 160,
   "id": "b9dee2e1",
   "metadata": {},
   "outputs": [
    {
     "name": "stdout",
     "output_type": "stream",
     "text": [
      "['autor_A,libro_A\\n', 'autor_B,libro_B\\n', 'autor_C,libro_C\\n']\n"
     ]
    }
   ],
   "source": [
    "file = open(\"books.txt\", \"r\")\n",
    "lineas = file.readlines()\n",
    "print(lineas)\n",
    "file.close()"
   ]
  },
  {
   "cell_type": "code",
   "execution_count": null,
   "id": "4ae2bee7",
   "metadata": {},
   "outputs": [],
   "source": []
  }
 ],
 "metadata": {
  "kernelspec": {
   "display_name": "Python 3 (ipykernel)",
   "language": "python",
   "name": "python3"
  },
  "language_info": {
   "codemirror_mode": {
    "name": "ipython",
    "version": 3
   },
   "file_extension": ".py",
   "mimetype": "text/x-python",
   "name": "python",
   "nbconvert_exporter": "python",
   "pygments_lexer": "ipython3",
   "version": "3.7.8rc1"
  }
 },
 "nbformat": 4,
 "nbformat_minor": 5
}
