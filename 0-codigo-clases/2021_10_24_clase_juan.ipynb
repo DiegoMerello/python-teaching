{
 "cells": [
  {
   "cell_type": "markdown",
   "id": "01b59608",
   "metadata": {},
   "source": [
    "# Program 1 - Primero hecho con listas"
   ]
  },
  {
   "cell_type": "markdown",
   "id": "f2fa789d",
   "metadata": {},
   "source": [
    "Queremos una matriz de estudiantes y notas:\n",
    "\n",
    "$$\\begin{bmatrix}  & Asignatura 1 & Asignatura 2 & ...\\\\ Alumno 1 & 7 & 8 & ...\\\\ Alumno 2 & 8 & 6 & ...\\\\ ... & ... & ... & ... \\end{bmatrix}$$"
   ]
  },
  {
   "cell_type": "markdown",
   "id": "e1a10f9b",
   "metadata": {},
   "source": [
    "Primero creamos las listas de alumnos y asignaturas"
   ]
  },
  {
   "cell_type": "code",
   "execution_count": 4,
   "id": "6078e684",
   "metadata": {},
   "outputs": [
    {
     "name": "stdout",
     "output_type": "stream",
     "text": [
      "Introduzca el número de clases: 3\n",
      "Introduzca el número de alumnos: 4\n"
     ]
    }
   ],
   "source": [
    "numero_asignaturas = int(input(\"Introduzca el número de clases: \"))\n",
    "numero_alumnos = int(input(\"Introduzca el número de alumnos: \"))"
   ]
  },
  {
   "cell_type": "code",
   "execution_count": 5,
   "id": "bf5b6012",
   "metadata": {},
   "outputs": [
    {
     "name": "stdout",
     "output_type": "stream",
     "text": [
      "Introduzca el nombres del alumno: Pedro\n",
      "Introduzca el nombres del alumno: Felipe\n",
      "Introduzca el nombres del alumno: Maria\n",
      "Introduzca el nombres del alumno: Cris\n"
     ]
    }
   ],
   "source": [
    "alumnos = []\n",
    "for i in range(numero_alumnos):\n",
    "    alumno = input(\"Introduzca el nombres del alumno: \")\n",
    "    alumnos.append(alumno)"
   ]
  },
  {
   "cell_type": "code",
   "execution_count": 7,
   "id": "4da414c4",
   "metadata": {},
   "outputs": [
    {
     "name": "stdout",
     "output_type": "stream",
     "text": [
      "Introduzca el nombre de asignatura: R\n",
      "Introduzca el nombre de asignatura: Python\n",
      "Introduzca el nombre de asignatura: Contabilidad\n"
     ]
    }
   ],
   "source": [
    "asignaturas = []\n",
    "for i in range(numero_asignaturas):\n",
    "    asignatura = input(\"Introduzca el nombre de asignatura: \")\n",
    "    asignaturas.append(asignatura)"
   ]
  },
  {
   "cell_type": "markdown",
   "id": "2b2c83ce",
   "metadata": {},
   "source": [
    "Otra manera, con funciones"
   ]
  },
  {
   "cell_type": "code",
   "execution_count": 6,
   "id": "4d6507f8",
   "metadata": {},
   "outputs": [],
   "source": [
    "def rellenarLista(lista_a_rellenar, numero_componentes):\n",
    "    for i in range(numero_componentes):\n",
    "        valor = input(\"Introduzca el siguiente componente: \")\n",
    "        lista_a_rellenar.append(valor)\n",
    "    "
   ]
  },
  {
   "cell_type": "code",
   "execution_count": 8,
   "id": "60b298f1",
   "metadata": {},
   "outputs": [
    {
     "name": "stdout",
     "output_type": "stream",
     "text": [
      "Introduzca el siguiente componente: Pedro\n",
      "Introduzca el siguiente componente: Felipe\n",
      "Introduzca el siguiente componente: Maria\n",
      "Introduzca el siguiente componente: Cris\n"
     ]
    }
   ],
   "source": [
    "alumnos = []\n",
    "rellenarLista(alumnos, 4)"
   ]
  },
  {
   "cell_type": "markdown",
   "id": "5aadb7c5",
   "metadata": {},
   "source": [
    "Ahora creamos la lista de notas"
   ]
  },
  {
   "cell_type": "code",
   "execution_count": 38,
   "id": "827cc5ea",
   "metadata": {},
   "outputs": [
    {
     "name": "stdout",
     "output_type": "stream",
     "text": [
      "\n",
      "Alumno: Pedro\n",
      "Asignatura R: 6\n",
      "Asignatura Python: 7\n",
      "Asignatura Contabilidad: 8\n",
      "\n",
      "Alumno: Felipe\n",
      "Asignatura R: 6\n",
      "Asignatura Python: 5\n",
      "Asignatura Contabilidad: 6\n",
      "\n",
      "Alumno: Maria\n",
      "Asignatura R: 7\n",
      "Asignatura Python: 9\n",
      "Asignatura Contabilidad: 9\n",
      "\n",
      "Alumno: Cris\n",
      "Asignatura R: 8\n",
      "Asignatura Python: 7\n",
      "Asignatura Contabilidad: 6\n"
     ]
    }
   ],
   "source": [
    "notas = []\n",
    "for fila in range(numero_alumnos):\n",
    "    notas.append([0]*numero_asignaturas)\n",
    "    print(\"\\nAlumno: {0}\".format(alumnos[fila]))\n",
    "    for columna in range(numero_asignaturas):\n",
    "        nota = float(input(\"Asignatura {0}: \".format(asignaturas[columna])))\n",
    "        notas[fila][columna] = nota"
   ]
  },
  {
   "cell_type": "code",
   "execution_count": 39,
   "id": "20d81903",
   "metadata": {},
   "outputs": [
    {
     "data": {
      "text/plain": [
       "[[6.0, 7.0, 8.0], [6.0, 5.0, 6.0], [7.0, 9.0, 9.0], [8.0, 7.0, 6.0]]"
      ]
     },
     "execution_count": 39,
     "metadata": {},
     "output_type": "execute_result"
    }
   ],
   "source": [
    "notas"
   ]
  },
  {
   "cell_type": "markdown",
   "id": "c90ca7ab",
   "metadata": {},
   "source": [
    "#### Explicación de `notas.append([0]*numero_asignaturas)`"
   ]
  },
  {
   "cell_type": "code",
   "execution_count": 24,
   "id": "76dd85f8",
   "metadata": {},
   "outputs": [
    {
     "data": {
      "text/plain": [
       "[0, 0, 0]"
      ]
     },
     "execution_count": 24,
     "metadata": {},
     "output_type": "execute_result"
    }
   ],
   "source": [
    "lista_aux"
   ]
  },
  {
   "cell_type": "code",
   "execution_count": 20,
   "id": "b66ad8cb",
   "metadata": {},
   "outputs": [],
   "source": [
    "lista_aux[2] = 4"
   ]
  },
  {
   "cell_type": "code",
   "execution_count": 21,
   "id": "49569595",
   "metadata": {},
   "outputs": [
    {
     "data": {
      "text/plain": [
       "[0, 0, 4]"
      ]
     },
     "execution_count": 21,
     "metadata": {},
     "output_type": "execute_result"
    }
   ],
   "source": [
    "lista_aux"
   ]
  },
  {
   "cell_type": "code",
   "execution_count": 25,
   "id": "0c4695e1",
   "metadata": {},
   "outputs": [],
   "source": [
    "matrix_aux = []"
   ]
  },
  {
   "cell_type": "code",
   "execution_count": null,
   "id": "45308ba8",
   "metadata": {},
   "outputs": [],
   "source": [
    "primer_elemento = [0] * 3\n",
    "segundo_elemento = [0] * 3"
   ]
  },
  {
   "cell_type": "code",
   "execution_count": 23,
   "id": "0bf402ba",
   "metadata": {},
   "outputs": [],
   "source": [
    "lista_aux = [0] * 3"
   ]
  },
  {
   "cell_type": "code",
   "execution_count": null,
   "id": "104edd14",
   "metadata": {},
   "outputs": [],
   "source": [
    "matrix_aux = [primer_elemento, segundo_elemento]"
   ]
  },
  {
   "cell_type": "code",
   "execution_count": null,
   "id": "7b269479",
   "metadata": {},
   "outputs": [],
   "source": [
    "notas = []\n",
    "for filas in range(numero_alumnos):\n",
    "    notas.append([0]*numero_asignaturas)"
   ]
  },
  {
   "cell_type": "code",
   "execution_count": 29,
   "id": "cb8348d8",
   "metadata": {},
   "outputs": [],
   "source": [
    "notas = [0] * numero_alumnos\n",
    "for filas in range(numero_alumnos):\n",
    "    notas[filas] =  [0] * numero_asignaturas"
   ]
  },
  {
   "cell_type": "code",
   "execution_count": 30,
   "id": "50a08d36",
   "metadata": {},
   "outputs": [
    {
     "data": {
      "text/plain": [
       "[[0, 0, 0], [0, 0, 0], [0, 0, 0], [0, 0, 0]]"
      ]
     },
     "execution_count": 30,
     "metadata": {},
     "output_type": "execute_result"
    }
   ],
   "source": [
    "notas"
   ]
  },
  {
   "cell_type": "code",
   "execution_count": 32,
   "id": "a3ffa06d",
   "metadata": {},
   "outputs": [],
   "source": [
    "import numpy as np"
   ]
  },
  {
   "cell_type": "code",
   "execution_count": 34,
   "id": "db8ed6a1",
   "metadata": {},
   "outputs": [
    {
     "data": {
      "text/plain": [
       "array([[0., 0., 0.],\n",
       "       [0., 0., 0.]])"
      ]
     },
     "execution_count": 34,
     "metadata": {},
     "output_type": "execute_result"
    }
   ],
   "source": [
    "np.zeros((2,3))"
   ]
  },
  {
   "cell_type": "markdown",
   "id": "3edad55f",
   "metadata": {},
   "source": [
    "Fin explicación de `notas.append([0]*numero_asignaturas)`"
   ]
  },
  {
   "cell_type": "code",
   "execution_count": 40,
   "id": "a4bfb0bd",
   "metadata": {},
   "outputs": [],
   "source": [
    "def print_Menu():\n",
    "    print(\"\\n=== MENU ===\")\n",
    "    print(\"1. Course Average\")\n",
    "    print(\"2. Student Average\")\n",
    "    print(\"3. Show grades\")\n",
    "    print(\"4. Exit\")\n",
    "    opcion = int(input(\"Introduzca la opción escogida: \"))\n",
    "    return opcion"
   ]
  },
  {
   "cell_type": "code",
   "execution_count": 43,
   "id": "0f2309df",
   "metadata": {},
   "outputs": [
    {
     "name": "stdout",
     "output_type": "stream",
     "text": [
      "\n",
      "=== MENU ===\n",
      "1. Course Average\n",
      "2. Student Average\n",
      "3. Show grades\n",
      "4. Exit\n",
      "Introduzca la opción escogida: 4\n",
      "Cerrando programa...\n"
     ]
    }
   ],
   "source": [
    "# Por ahora (antes de programar las funciones), si no escogemos la opión 4 aquí, nos va a dar error porque aun no están programadas\n",
    "opcion = 0\n",
    "while opcion != 4:\n",
    "    opcion = print_Menu()\n",
    "    if opcion == 1:\n",
    "        courseAverage()\n",
    "    elif opcion == 2:\n",
    "        studentAverage()\n",
    "    elif opcion == 3:\n",
    "        studentGrades()\n",
    "    elif opcion == 4:\n",
    "        print(\"Cerrando programa...\")\n",
    "    else:\n",
    "        print(\"Escoja una opción válida\")"
   ]
  },
  {
   "cell_type": "markdown",
   "id": "c1368937",
   "metadata": {},
   "source": [
    "Media alumnos"
   ]
  },
  {
   "cell_type": "code",
   "execution_count": null,
   "id": "fc0ddb34",
   "metadata": {},
   "outputs": [],
   "source": [
    "# Recorro alumnos\n",
    "    # Inicializo suma a 0\n",
    "    # suma = nota + suma\n",
    "    # media = suma/len(notas)\n",
    "# medias.append(media)"
   ]
  },
  {
   "cell_type": "markdown",
   "id": "7bab467f",
   "metadata": {},
   "source": [
    "Media asignaturas"
   ]
  },
  {
   "cell_type": "code",
   "execution_count": 44,
   "id": "f6dac58d",
   "metadata": {},
   "outputs": [
    {
     "data": {
      "text/plain": [
       "[[6.0, 7.0, 8.0], [6.0, 5.0, 6.0], [7.0, 9.0, 9.0], [8.0, 7.0, 6.0]]"
      ]
     },
     "execution_count": 44,
     "metadata": {},
     "output_type": "execute_result"
    }
   ],
   "source": [
    "notas"
   ]
  },
  {
   "cell_type": "code",
   "execution_count": null,
   "id": "2809720c",
   "metadata": {},
   "outputs": [],
   "source": [
    "# media_asignaturas = []\n",
    "# Recorrer for i in range(asignaturas)\n",
    "    # suma_asinatura = 0\n",
    "    # Recorrer alumnos \n",
    "        # Del primer alumno cojo el primer valor, del segundo cojo el primer valor....\n",
    "        # suma_asignatura = suma_asignatura + valor[alumno][asignatura] asignatura es la \"i\" del primer for\n",
    "        # media_asignatura = suma_asignatura/num_alumnos\n",
    "    # media_asignaturas.append(media_asignatura)"
   ]
  },
  {
   "cell_type": "markdown",
   "id": "ea6cf4d1",
   "metadata": {},
   "source": [
    "Para no meternos en el lío de recorrer columnas, utilizamos numpy"
   ]
  },
  {
   "cell_type": "code",
   "execution_count": 45,
   "id": "55890de5",
   "metadata": {},
   "outputs": [],
   "source": [
    "import numpy as np"
   ]
  },
  {
   "cell_type": "markdown",
   "id": "ed345173",
   "metadata": {},
   "source": [
    "Explicación adicional funciones"
   ]
  },
  {
   "cell_type": "code",
   "execution_count": 49,
   "id": "1d2f5f2f",
   "metadata": {},
   "outputs": [],
   "source": [
    "def funcion_aux(param1=2, param2=4):\n",
    "    print(param1)\n",
    "    print(param2)\n",
    "    "
   ]
  },
  {
   "cell_type": "code",
   "execution_count": 51,
   "id": "35d48abd",
   "metadata": {},
   "outputs": [
    {
     "name": "stdout",
     "output_type": "stream",
     "text": [
      "2\n",
      "4\n"
     ]
    }
   ],
   "source": [
    "funcion_aux()"
   ]
  },
  {
   "cell_type": "code",
   "execution_count": 52,
   "id": "a9ad1552",
   "metadata": {},
   "outputs": [
    {
     "name": "stdout",
     "output_type": "stream",
     "text": [
      "2\n",
      "5\n"
     ]
    }
   ],
   "source": [
    "funcion_aux(2,5)"
   ]
  },
  {
   "cell_type": "code",
   "execution_count": 55,
   "id": "8463ba3d",
   "metadata": {},
   "outputs": [
    {
     "name": "stdout",
     "output_type": "stream",
     "text": [
      "2\n",
      "5\n"
     ]
    }
   ],
   "source": [
    "funcion_aux(param2=5)"
   ]
  },
  {
   "cell_type": "markdown",
   "id": "c2b353d0",
   "metadata": {},
   "source": [
    "Fin explicación adicional funciones"
   ]
  },
  {
   "cell_type": "code",
   "execution_count": 56,
   "id": "7fd8e5a5",
   "metadata": {},
   "outputs": [
    {
     "data": {
      "text/plain": [
       "[[6.0, 7.0, 8.0], [6.0, 5.0, 6.0], [7.0, 9.0, 9.0], [8.0, 7.0, 6.0]]"
      ]
     },
     "execution_count": 56,
     "metadata": {},
     "output_type": "execute_result"
    }
   ],
   "source": [
    "notas"
   ]
  },
  {
   "cell_type": "code",
   "execution_count": 63,
   "id": "5b734397",
   "metadata": {},
   "outputs": [
    {
     "data": {
      "text/plain": [
       "array([[6., 7., 8.],\n",
       "       [6., 5., 6.],\n",
       "       [7., 9., 9.],\n",
       "       [8., 7., 6.]])"
      ]
     },
     "execution_count": 63,
     "metadata": {},
     "output_type": "execute_result"
    }
   ],
   "source": [
    "notas_numpy = np.array(notas)\n",
    "notas_numpy"
   ]
  },
  {
   "cell_type": "code",
   "execution_count": 64,
   "id": "2847a041",
   "metadata": {},
   "outputs": [],
   "source": [
    "media_asignaturas = notas_numpy.mean(0)\n",
    "media_alumnos = notas_numpy.mean(1)"
   ]
  },
  {
   "cell_type": "code",
   "execution_count": 65,
   "id": "1aad648d",
   "metadata": {},
   "outputs": [
    {
     "data": {
      "text/plain": [
       "array([6.75, 7.  , 7.25])"
      ]
     },
     "execution_count": 65,
     "metadata": {},
     "output_type": "execute_result"
    }
   ],
   "source": [
    "media_asignaturas"
   ]
  },
  {
   "cell_type": "code",
   "execution_count": 70,
   "id": "4a0bc155",
   "metadata": {},
   "outputs": [
    {
     "data": {
      "text/plain": [
       "array([7.        , 5.66666667, 8.33333333, 7.        ])"
      ]
     },
     "execution_count": 70,
     "metadata": {},
     "output_type": "execute_result"
    }
   ],
   "source": [
    "media_alumnos"
   ]
  },
  {
   "cell_type": "markdown",
   "id": "dbc48f5e",
   "metadata": {},
   "source": [
    "# Program 1 - Ahora con diccionarios"
   ]
  },
  {
   "cell_type": "markdown",
   "id": "7e7d4fe9",
   "metadata": {},
   "source": [
    "Explicación diccionarios"
   ]
  },
  {
   "cell_type": "code",
   "execution_count": 76,
   "id": "89a3e4ee",
   "metadata": {},
   "outputs": [],
   "source": [
    "alumnos = dict(alumno1=[1,2,3], alumno2=[6,7,8])"
   ]
  },
  {
   "cell_type": "code",
   "execution_count": 77,
   "id": "31d62d0d",
   "metadata": {},
   "outputs": [
    {
     "data": {
      "text/plain": [
       "{'alumno1': [1, 2, 3], 'alumno2': [6, 7, 8]}"
      ]
     },
     "execution_count": 77,
     "metadata": {},
     "output_type": "execute_result"
    }
   ],
   "source": [
    "alumnos"
   ]
  },
  {
   "cell_type": "code",
   "execution_count": 78,
   "id": "3a2c0690",
   "metadata": {},
   "outputs": [],
   "source": [
    "alumnos = {\"alumno1\":[1,2,3], \"alumno2\":[6,7,8]}"
   ]
  },
  {
   "cell_type": "code",
   "execution_count": 79,
   "id": "129d5bfb",
   "metadata": {},
   "outputs": [
    {
     "data": {
      "text/plain": [
       "{'alumno1': [1, 2, 3], 'alumno2': [6, 7, 8]}"
      ]
     },
     "execution_count": 79,
     "metadata": {},
     "output_type": "execute_result"
    }
   ],
   "source": [
    "alumnos"
   ]
  },
  {
   "cell_type": "code",
   "execution_count": 80,
   "id": "7acdbb44",
   "metadata": {},
   "outputs": [
    {
     "data": {
      "text/plain": [
       "[1, 2, 3]"
      ]
     },
     "execution_count": 80,
     "metadata": {},
     "output_type": "execute_result"
    }
   ],
   "source": [
    "alumnos[\"alumno1\"]"
   ]
  },
  {
   "cell_type": "code",
   "execution_count": 81,
   "id": "638cc8d0",
   "metadata": {},
   "outputs": [
    {
     "data": {
      "text/plain": [
       "dict_keys(['alumno1', 'alumno2'])"
      ]
     },
     "execution_count": 81,
     "metadata": {},
     "output_type": "execute_result"
    }
   ],
   "source": [
    "alumnos.keys()"
   ]
  },
  {
   "cell_type": "code",
   "execution_count": 85,
   "id": "7f5a1dbc",
   "metadata": {},
   "outputs": [
    {
     "name": "stdout",
     "output_type": "stream",
     "text": [
      "alumno1\n",
      "alumno2\n"
     ]
    }
   ],
   "source": [
    "for nombre in alumnos.keys():\n",
    "    print(nombre)"
   ]
  },
  {
   "cell_type": "code",
   "execution_count": 86,
   "id": "1912122c",
   "metadata": {},
   "outputs": [],
   "source": [
    "datos_personales= dict(nombre = \" \", edad = 0, calle = \" \")"
   ]
  },
  {
   "cell_type": "code",
   "execution_count": 87,
   "id": "2ca0aed9",
   "metadata": {},
   "outputs": [],
   "source": [
    "datos_pedro = dict(nombre = \"Pedro\", edad = 20, calle = \"A\")\n",
    "datos_juan = dict(nombre = \"Juen\", edad = 18, calle = \" \")"
   ]
  },
  {
   "cell_type": "code",
   "execution_count": 89,
   "id": "91f29544",
   "metadata": {},
   "outputs": [
    {
     "name": "stdout",
     "output_type": "stream",
     "text": [
      "Nombre: Pedro\n",
      "Edad20\n",
      "CalleA\n",
      "Nombre: Felipe\n",
      "Edad30\n",
      "Calle\n"
     ]
    }
   ],
   "source": [
    "num_personas = 2\n",
    "lista_datos_personas = []\n",
    "for i in range(num_personas):\n",
    "    nombre = input(\"Nombre: \")\n",
    "    edad = int(input(\"Edad\"))\n",
    "    calle = input(\"Calle\")\n",
    "    nuevo_dict = dict(nombre = nombre, edad = edad, calle = calle)\n",
    "    lista_datos_personas.append(nuevo_dict)"
   ]
  },
  {
   "cell_type": "code",
   "execution_count": 90,
   "id": "a691beb4",
   "metadata": {},
   "outputs": [
    {
     "name": "stdout",
     "output_type": "stream",
     "text": [
      "[{'nombre': 'Pedro', 'edad': 20, 'calle': 'A'}, {'nombre': 'Felipe', 'edad': 30, 'calle': ''}]\n"
     ]
    }
   ],
   "source": [
    "print(lista_datos_personas)"
   ]
  },
  {
   "cell_type": "code",
   "execution_count": 93,
   "id": "aa01a17c",
   "metadata": {},
   "outputs": [
    {
     "name": "stdout",
     "output_type": "stream",
     "text": [
      "Pedro\n",
      "Felipe\n"
     ]
    }
   ],
   "source": [
    "for diccionario in lista_datos_personas:\n",
    "    print(diccionario['nombre'])"
   ]
  },
  {
   "cell_type": "code",
   "execution_count": 94,
   "id": "e0f2a166",
   "metadata": {},
   "outputs": [],
   "source": [
    "datos_nico = dict(nombre = \"Nico\", edad = 22, calle = \"A\")"
   ]
  },
  {
   "cell_type": "code",
   "execution_count": 96,
   "id": "a96b764c",
   "metadata": {},
   "outputs": [
    {
     "data": {
      "text/plain": [
       "'A'"
      ]
     },
     "execution_count": 96,
     "metadata": {},
     "output_type": "execute_result"
    }
   ],
   "source": [
    "datos_nico['calle']"
   ]
  },
  {
   "cell_type": "markdown",
   "id": "57eef0e3",
   "metadata": {},
   "source": [
    "Fin explicación diccionarios"
   ]
  },
  {
   "cell_type": "code",
   "execution_count": 97,
   "id": "d3ff736a",
   "metadata": {},
   "outputs": [
    {
     "name": "stdout",
     "output_type": "stream",
     "text": [
      "Introduzca el número de alumnos: 3\n",
      "Introduzca el nombres del alumno: Felipe\n",
      "Introduzca el nombres del alumno: Nico\n",
      "Introduzca el nombres del alumno: Cris\n"
     ]
    }
   ],
   "source": [
    "numero_alumnos = int(input(\"Introduzca el número de alumnos: \"))\n",
    "\n",
    "alumnos = []\n",
    "for i in range(numero_alumnos):\n",
    "    alumno = input(\"Introduzca el nombres del alumno: \")\n",
    "    alumnos.append(alumno)"
   ]
  },
  {
   "cell_type": "code",
   "execution_count": 99,
   "id": "419e629c",
   "metadata": {},
   "outputs": [],
   "source": [
    "a = dict(R = 4, Python = 8, Contabilidad = 7.5)"
   ]
  },
  {
   "cell_type": "code",
   "execution_count": 100,
   "id": "75508756",
   "metadata": {},
   "outputs": [],
   "source": [
    "a[\"Estadistica\"] = 6"
   ]
  },
  {
   "cell_type": "code",
   "execution_count": 101,
   "id": "7f3b6268",
   "metadata": {},
   "outputs": [
    {
     "data": {
      "text/plain": [
       "{'R': 4, 'Python': 8, 'Contabilidad': 7.5, 'Estadistica': 6}"
      ]
     },
     "execution_count": 101,
     "metadata": {},
     "output_type": "execute_result"
    }
   ],
   "source": [
    "a"
   ]
  },
  {
   "cell_type": "code",
   "execution_count": 102,
   "id": "530c2c65",
   "metadata": {},
   "outputs": [],
   "source": [
    "lista_asignaturas = [\"R\", \"Python\", \"Contabilidad\"]"
   ]
  },
  {
   "cell_type": "code",
   "execution_count": 107,
   "id": "e6b396fd",
   "metadata": {},
   "outputs": [
    {
     "name": "stdout",
     "output_type": "stream",
     "text": [
      "Alumno: Nico\n",
      "nota R 5\n",
      "nota python 6\n",
      "nota cont 3\n",
      "Alumno: Pedro\n",
      "nota R 6\n",
      "nota python 8\n",
      "nota cont 9\n"
     ]
    }
   ],
   "source": [
    "lista_datos = []\n",
    "numero_alumnos = 2\n",
    "for i in range(numero_alumnos):\n",
    "    notas = dict()\n",
    "    notas['nombre']= input(\"Alumno: \")\n",
    "    notas[lista_asignaturas[0]] = float(input(\"nota R \"))\n",
    "    notas[lista_asignaturas[1]] = float(input(\"nota python \"))\n",
    "    notas[lista_asignaturas[2]] = float(input(\"nota cont \"))\n",
    "    lista_datos.append(notas)"
   ]
  },
  {
   "cell_type": "code",
   "execution_count": 108,
   "id": "ac544eb8",
   "metadata": {},
   "outputs": [
    {
     "data": {
      "text/plain": [
       "[{'nombre': 'Nico', 'R': 5.0, 'Python': 6.0, 'Contabilidad': 3.0},\n",
       " {'nombre': 'Pedro', 'R': 6.0, 'Python': 8.0, 'Contabilidad': 9.0}]"
      ]
     },
     "execution_count": 108,
     "metadata": {},
     "output_type": "execute_result"
    }
   ],
   "source": [
    "lista_datos"
   ]
  },
  {
   "cell_type": "markdown",
   "id": "30f65cf8",
   "metadata": {},
   "source": [
    "[     ]    [      ]     [     ]\n",
    "\n",
    "\n",
    "[     ]\n",
    "    Nombre\n",
    "    R\n",
    "    Python\n",
    "    Contabilidad\n"
   ]
  },
  {
   "cell_type": "code",
   "execution_count": 111,
   "id": "a722e017",
   "metadata": {},
   "outputs": [
    {
     "name": "stdout",
     "output_type": "stream",
     "text": [
      "Nico\n",
      "5.0\n",
      "Pedro\n",
      "6.0\n"
     ]
    }
   ],
   "source": [
    "for elemento in lista_datos:\n",
    "    print(elemento['nombre'])\n",
    "    print(elemento['R'])"
   ]
  },
  {
   "cell_type": "code",
   "execution_count": 114,
   "id": "5a57cce3",
   "metadata": {},
   "outputs": [],
   "source": [
    "lista_datos[0]['R'] = 10"
   ]
  },
  {
   "cell_type": "code",
   "execution_count": 116,
   "id": "9a1c062b",
   "metadata": {},
   "outputs": [
    {
     "data": {
      "text/plain": [
       "[{'nombre': 'Nico', 'R': 10, 'Python': 6.0, 'Contabilidad': 3.0},\n",
       " {'nombre': 'Pedro', 'R': 6.0, 'Python': 8.0, 'Contabilidad': 9.0}]"
      ]
     },
     "execution_count": 116,
     "metadata": {},
     "output_type": "execute_result"
    }
   ],
   "source": [
    "lista_datos"
   ]
  },
  {
   "cell_type": "markdown",
   "id": "ac5b46d0",
   "metadata": {},
   "source": [
    "Manera 2"
   ]
  },
  {
   "cell_type": "code",
   "execution_count": null,
   "id": "bb36e4ed",
   "metadata": {},
   "outputs": [],
   "source": [
    "[nombre1   nombre2   nombre3]\n",
    "\n",
    "nombre1\n",
    "    R\n",
    "    Python\n",
    "    Contabilidad\n",
    "\n",
    "nombre2\n",
    "    R\n",
    "    Pyhon\n",
    "    Contabilidad\n",
    "    "
   ]
  },
  {
   "cell_type": "code",
   "execution_count": null,
   "id": "cfad8b61",
   "metadata": {},
   "outputs": [],
   "source": [
    "# lista_datos[\"Nico\"][\"R\"] = 7"
   ]
  },
  {
   "cell_type": "code",
   "execution_count": 121,
   "id": "e37519bb",
   "metadata": {},
   "outputs": [],
   "source": [
    "lista_datos_nueva = dict(Nico = dict(), Pedro = dict(), Juan = dict())"
   ]
  },
  {
   "cell_type": "code",
   "execution_count": 122,
   "id": "2775d1d7",
   "metadata": {},
   "outputs": [
    {
     "data": {
      "text/plain": [
       "{'Nico': {}, 'Pedro': {}, 'Juan': {}}"
      ]
     },
     "execution_count": 122,
     "metadata": {},
     "output_type": "execute_result"
    }
   ],
   "source": [
    "lista_datos_nueva"
   ]
  },
  {
   "cell_type": "code",
   "execution_count": 123,
   "id": "2ba66dad",
   "metadata": {},
   "outputs": [],
   "source": [
    "lista_datos_nueva['Nico']['R'] = 3"
   ]
  },
  {
   "cell_type": "code",
   "execution_count": 124,
   "id": "dc4634b1",
   "metadata": {},
   "outputs": [
    {
     "data": {
      "text/plain": [
       "{'Nico': {'R': 3}, 'Pedro': {}, 'Juan': {}}"
      ]
     },
     "execution_count": 124,
     "metadata": {},
     "output_type": "execute_result"
    }
   ],
   "source": [
    "lista_datos_nueva"
   ]
  },
  {
   "cell_type": "code",
   "execution_count": 125,
   "id": "c87502fe",
   "metadata": {},
   "outputs": [],
   "source": [
    "lista_datos_nueva[\"María\"] = dict(R=4)"
   ]
  },
  {
   "cell_type": "code",
   "execution_count": 126,
   "id": "d9481fe6",
   "metadata": {},
   "outputs": [
    {
     "data": {
      "text/plain": [
       "{'Nico': {'R': 3}, 'Pedro': {}, 'Juan': {}, 'María': {'R': 4}}"
      ]
     },
     "execution_count": 126,
     "metadata": {},
     "output_type": "execute_result"
    }
   ],
   "source": [
    "lista_datos_nueva"
   ]
  },
  {
   "cell_type": "code",
   "execution_count": 127,
   "id": "372521ea",
   "metadata": {},
   "outputs": [],
   "source": [
    "lista_datos_nueva[\"María\"] = 4"
   ]
  },
  {
   "cell_type": "code",
   "execution_count": 128,
   "id": "563317eb",
   "metadata": {},
   "outputs": [
    {
     "data": {
      "text/plain": [
       "{'Nico': {'R': 3}, 'Pedro': {}, 'Juan': {}, 'María': 4}"
      ]
     },
     "execution_count": 128,
     "metadata": {},
     "output_type": "execute_result"
    }
   ],
   "source": [
    "lista_datos_nueva"
   ]
  },
  {
   "cell_type": "code",
   "execution_count": 133,
   "id": "612ec65d",
   "metadata": {},
   "outputs": [],
   "source": [
    "lista_datos_nueva[\"María\"] = dict(R=4)"
   ]
  },
  {
   "cell_type": "code",
   "execution_count": 139,
   "id": "d41eac85",
   "metadata": {},
   "outputs": [],
   "source": [
    "lista_datos_nueva[\"María\"][\"Python\"] = 6"
   ]
  },
  {
   "cell_type": "code",
   "execution_count": 140,
   "id": "f89e5d21",
   "metadata": {},
   "outputs": [
    {
     "data": {
      "text/plain": [
       "{'Nico': {'R': 3}, 'Pedro': {}, 'Juan': {}, 'María': {'R': 4, 'Python': 6}}"
      ]
     },
     "execution_count": 140,
     "metadata": {},
     "output_type": "execute_result"
    }
   ],
   "source": [
    "lista_datos_nueva"
   ]
  },
  {
   "cell_type": "code",
   "execution_count": 143,
   "id": "ad045eae",
   "metadata": {},
   "outputs": [],
   "source": [
    "lista_datos_nueva[\"Cris\"] = dict(R = 3, Contabilidad = 7)"
   ]
  },
  {
   "cell_type": "code",
   "execution_count": 146,
   "id": "c8a9ab2a",
   "metadata": {},
   "outputs": [
    {
     "data": {
      "text/plain": [
       "{}"
      ]
     },
     "execution_count": 146,
     "metadata": {},
     "output_type": "execute_result"
    }
   ],
   "source": [
    "lista_datos_nueva.pop(\"Juan\")"
   ]
  },
  {
   "cell_type": "code",
   "execution_count": 150,
   "id": "71f2aab4",
   "metadata": {},
   "outputs": [],
   "source": [
    "lista_datos_nueva.pop(\"Pedro\")"
   ]
  },
  {
   "cell_type": "code",
   "execution_count": 151,
   "id": "1bd0d17a",
   "metadata": {},
   "outputs": [
    {
     "data": {
      "text/plain": [
       "{'Nico': {'R': 3},\n",
       " 'María': {'R': 4, 'Python': 6},\n",
       " 'Cris': {'R': 3, 'Contabilidad': 7}}"
      ]
     },
     "execution_count": 151,
     "metadata": {},
     "output_type": "execute_result"
    }
   ],
   "source": [
    "lista_datos_nueva"
   ]
  },
  {
   "cell_type": "code",
   "execution_count": 164,
   "id": "50679837",
   "metadata": {},
   "outputs": [
    {
     "data": {
      "text/plain": [
       "{'R': 4, 'Python': 6}"
      ]
     },
     "execution_count": 164,
     "metadata": {},
     "output_type": "execute_result"
    }
   ],
   "source": [
    "lista_datos_nueva[\"María\"]"
   ]
  },
  {
   "cell_type": "code",
   "execution_count": 166,
   "id": "78c8bd42",
   "metadata": {},
   "outputs": [
    {
     "name": "stdout",
     "output_type": "stream",
     "text": [
      "{'R': 3}\n",
      "{'R': 4, 'Python': 6}\n",
      "{'R': 3, 'Contabilidad': 7}\n"
     ]
    }
   ],
   "source": [
    "for nombre in lista_datos_nueva:\n",
    "    print(lista_datos_nueva[nombre])"
   ]
  },
  {
   "cell_type": "code",
   "execution_count": 176,
   "id": "473d3a05",
   "metadata": {},
   "outputs": [
    {
     "name": "stdout",
     "output_type": "stream",
     "text": [
      "Nico\n",
      "R\n",
      "3\n",
      "María\n",
      "R\n",
      "4\n",
      "Python\n",
      "6\n",
      "Cris\n",
      "R\n",
      "3\n",
      "Contabilidad\n",
      "7\n"
     ]
    }
   ],
   "source": [
    "for nombre in lista_datos_nueva:\n",
    "    print(nombre)\n",
    "    for asignatura in lista_datos_nueva[nombre]:\n",
    "        print(asignatura)\n",
    "        print(lista_datos_nueva[nombre][asignatura])"
   ]
  },
  {
   "cell_type": "code",
   "execution_count": 183,
   "id": "891d50ce",
   "metadata": {},
   "outputs": [
    {
     "name": "stdout",
     "output_type": "stream",
     "text": [
      "Nico\n",
      "{'R': 3}\n",
      "R\n",
      "3\n",
      "María\n",
      "{'R': 4, 'Python': 6}\n",
      "R\n",
      "4\n",
      "Python\n",
      "6\n",
      "Cris\n",
      "{'R': 3, 'Contabilidad': 7}\n",
      "R\n",
      "3\n",
      "Contabilidad\n",
      "7\n"
     ]
    }
   ],
   "source": [
    "for nombre in lista_datos_nueva:\n",
    "    print(nombre)\n",
    "    print(lista_datos_nueva[nombre])\n",
    "    for asignatura in lista_datos_nueva[nombre]:\n",
    "        print(asignatura)\n",
    "        print(lista_datos_nueva[nombre][asignatura])"
   ]
  },
  {
   "cell_type": "code",
   "execution_count": null,
   "id": "c5045bdf",
   "metadata": {},
   "outputs": [],
   "source": []
  }
 ],
 "metadata": {
  "kernelspec": {
   "display_name": "Python 3 (ipykernel)",
   "language": "python",
   "name": "python3"
  },
  "language_info": {
   "codemirror_mode": {
    "name": "ipython",
    "version": 3
   },
   "file_extension": ".py",
   "mimetype": "text/x-python",
   "name": "python",
   "nbconvert_exporter": "python",
   "pygments_lexer": "ipython3",
   "version": "3.7.8rc1"
  }
 },
 "nbformat": 4,
 "nbformat_minor": 5
}
