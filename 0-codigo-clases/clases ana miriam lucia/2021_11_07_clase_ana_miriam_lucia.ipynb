{
 "cells": [
  {
   "cell_type": "markdown",
   "id": "6b5f8028",
   "metadata": {},
   "source": [
    "# Condicionales"
   ]
  },
  {
   "cell_type": "code",
   "execution_count": 1,
   "id": "9783fcbe",
   "metadata": {},
   "outputs": [],
   "source": [
    "lista = [1, 2, 3, 4, 5]"
   ]
  },
  {
   "cell_type": "code",
   "execution_count": 2,
   "id": "4a3ddd3e",
   "metadata": {},
   "outputs": [],
   "source": [
    "a = 3"
   ]
  },
  {
   "cell_type": "code",
   "execution_count": 11,
   "id": "58bcdf39",
   "metadata": {},
   "outputs": [
    {
     "name": "stdout",
     "output_type": "stream",
     "text": [
      "Es impar\n"
     ]
    }
   ],
   "source": [
    "if a%2 == 1: # Es impar?\n",
    "    print(\"Es impar\")\n",
    "else:\n",
    "    print(\"Es par\")"
   ]
  },
  {
   "cell_type": "code",
   "execution_count": 12,
   "id": "19666ec4",
   "metadata": {},
   "outputs": [
    {
     "name": "stdout",
     "output_type": "stream",
     "text": [
      "Es impar\n"
     ]
    }
   ],
   "source": [
    "if a%2 == 0: # Es par?\n",
    "    print(\"Es par\")\n",
    "else:\n",
    "    print(\"Es impar\")"
   ]
  },
  {
   "cell_type": "code",
   "execution_count": 6,
   "id": "0e6c1764",
   "metadata": {},
   "outputs": [
    {
     "data": {
      "text/plain": [
       "0"
      ]
     },
     "execution_count": 6,
     "metadata": {},
     "output_type": "execute_result"
    }
   ],
   "source": [
    "20%2"
   ]
  },
  {
   "cell_type": "code",
   "execution_count": 5,
   "id": "81dd7ebd",
   "metadata": {},
   "outputs": [
    {
     "data": {
      "text/plain": [
       "1"
      ]
     },
     "execution_count": 5,
     "metadata": {},
     "output_type": "execute_result"
    }
   ],
   "source": [
    "21%2"
   ]
  },
  {
   "cell_type": "code",
   "execution_count": 9,
   "id": "6841c683",
   "metadata": {},
   "outputs": [
    {
     "data": {
      "text/plain": [
       "False"
      ]
     },
     "execution_count": 9,
     "metadata": {},
     "output_type": "execute_result"
    }
   ],
   "source": [
    "20%2 == 1"
   ]
  },
  {
   "cell_type": "markdown",
   "id": "6ccf5c81",
   "metadata": {},
   "source": [
    "Numero primo"
   ]
  },
  {
   "cell_type": "code",
   "execution_count": 19,
   "id": "7e2bd389",
   "metadata": {},
   "outputs": [
    {
     "name": "stdout",
     "output_type": "stream",
     "text": [
      "Intoduzca un número: 7\n"
     ]
    }
   ],
   "source": [
    "num_introducido = int(input(\"Intoduzca un número: \"))"
   ]
  },
  {
   "cell_type": "code",
   "execution_count": 21,
   "id": "42e21ca7",
   "metadata": {},
   "outputs": [],
   "source": [
    "# Que sea divisible entre si mismo y la unidad\n",
    "# El uno es primo? 1\n",
    "\n",
    "# 20\n",
    "# 1, 2, 4, 5, 10, 20\n",
    "\n",
    "# 60\n",
    "# 1, ..... 30, ,60\n",
    "\n",
    "# 10\n",
    "\n",
    "# 1, 2, 5, 10\n",
    "\n",
    "# 200\n",
    "# 1, 2, 4.... 100, 200\n",
    "\n",
    "# Hacer una lista de divisores hasta la mitad del numero\n",
    "# Recorremos divisores\n",
    "# Divido el número entre cada divisor\n",
    "\n",
    "# Si el resto es 0 en alguno:\n",
    "    # No es primo"
   ]
  },
  {
   "cell_type": "code",
   "execution_count": 45,
   "id": "93b7f124",
   "metadata": {},
   "outputs": [
    {
     "name": "stdout",
     "output_type": "stream",
     "text": [
      "Intoduzca un número: 34\n"
     ]
    }
   ],
   "source": [
    "num_introducido = int(input(\"Intoduzca un número: \"))"
   ]
  },
  {
   "cell_type": "code",
   "execution_count": 29,
   "id": "8cc081de",
   "metadata": {},
   "outputs": [
    {
     "name": "stdout",
     "output_type": "stream",
     "text": [
      "Vuelta\n",
      "1\n",
      "Vuelta\n",
      "2\n",
      "Vuelta\n",
      "3\n",
      "Vuelta\n",
      "4\n"
     ]
    }
   ],
   "source": [
    "lista_divisores = [1, 2, 3, 4]\n",
    "\n",
    "for cosa in lista_divisores:\n",
    "        print(\"Vuelta\")\n",
    "        print(cosa)\n",
    "        # Pruebas de si es primo"
   ]
  },
  {
   "cell_type": "code",
   "execution_count": 36,
   "id": "ed23653d",
   "metadata": {},
   "outputs": [
    {
     "name": "stdout",
     "output_type": "stream",
     "text": [
      "[1, 2, 3, 4]\n"
     ]
    }
   ],
   "source": [
    "lista = list(range(1,5))\n",
    "print(lista)"
   ]
  },
  {
   "cell_type": "code",
   "execution_count": 40,
   "id": "1f8c8d49",
   "metadata": {},
   "outputs": [
    {
     "name": "stdout",
     "output_type": "stream",
     "text": [
      "Vuelta\n",
      "1\n",
      "Vuelta\n",
      "2\n",
      "Vuelta\n",
      "3\n",
      "Vuelta\n",
      "4\n"
     ]
    }
   ],
   "source": [
    "for elemento in lista:\n",
    "    print(\"Vuelta\")\n",
    "    print(elemento)\n",
    "    "
   ]
  },
  {
   "cell_type": "code",
   "execution_count": 62,
   "id": "dedb3b67",
   "metadata": {},
   "outputs": [
    {
     "name": "stdout",
     "output_type": "stream",
     "text": [
      "Intoduzca un número: 12\n"
     ]
    }
   ],
   "source": [
    "num_introducido = int(input(\"Intoduzca un número: \"))"
   ]
  },
  {
   "cell_type": "code",
   "execution_count": 63,
   "id": "f784c29f",
   "metadata": {},
   "outputs": [
    {
     "data": {
      "text/plain": [
       "6.0"
      ]
     },
     "execution_count": 63,
     "metadata": {},
     "output_type": "execute_result"
    }
   ],
   "source": [
    "num_introducido/2"
   ]
  },
  {
   "cell_type": "code",
   "execution_count": 64,
   "id": "ffe49783",
   "metadata": {},
   "outputs": [
    {
     "data": {
      "text/plain": [
       "6"
      ]
     },
     "execution_count": 64,
     "metadata": {},
     "output_type": "execute_result"
    }
   ],
   "source": [
    "num_introducido//2"
   ]
  },
  {
   "cell_type": "code",
   "execution_count": 87,
   "id": "461a6ae6",
   "metadata": {},
   "outputs": [
    {
     "name": "stdout",
     "output_type": "stream",
     "text": [
      "Intoduzca un número: 13\n"
     ]
    }
   ],
   "source": [
    "num_introducido = int(input(\"Intoduzca un número: \"))"
   ]
  },
  {
   "cell_type": "code",
   "execution_count": 88,
   "id": "72227eef",
   "metadata": {},
   "outputs": [
    {
     "data": {
      "text/plain": [
       "[2, 3, 4, 5, 6]"
      ]
     },
     "execution_count": 88,
     "metadata": {},
     "output_type": "execute_result"
    }
   ],
   "source": [
    "list(range(2,num_introducido//2+1))"
   ]
  },
  {
   "cell_type": "code",
   "execution_count": 89,
   "id": "f93ea751",
   "metadata": {},
   "outputs": [
    {
     "name": "stdout",
     "output_type": "stream",
     "text": [
      "13\n",
      "Si primo\n",
      "Si primo\n",
      "Si primo\n",
      "Si primo\n",
      "Si primo\n"
     ]
    }
   ],
   "source": [
    "print(num_introducido)\n",
    "for posible_divisor in range(2,num_introducido//2+1):\n",
    "    resto = num_introducido%posible_divisor\n",
    "    \n",
    "    if resto == 0:\n",
    "        print(\"No primo\")\n",
    "    else:\n",
    "        print(\"Si primo\")\n",
    "\n",
    "# SI ha entrado alguna vez en resto == 0 -> no es primo\n",
    "# SI no ha entrado -> es primo"
   ]
  },
  {
   "cell_type": "code",
   "execution_count": 90,
   "id": "505aa79e",
   "metadata": {},
   "outputs": [
    {
     "name": "stdout",
     "output_type": "stream",
     "text": [
      "13\n",
      "No he entrado\n",
      "Es primo\n"
     ]
    }
   ],
   "source": [
    "print(num_introducido)\n",
    "primo = 1\n",
    "for posible_divisor in range(2,num_introducido//2+1):\n",
    "    resto = num_introducido%posible_divisor\n",
    "    \n",
    "    if resto == 0:\n",
    "        primo = 0\n",
    "\n",
    "        \n",
    "        \n",
    "\n",
    "if primo == 0:\n",
    "    print(\"He entrado en resto == 0 alguna vez\")\n",
    "    print(\"No es primo\")\n",
    "else:\n",
    "    print(\"No he entrado\")\n",
    "    print(\"Es primo\")\n",
    "        \n",
    "# SI ha entrado alguna vez en resto == 0 -> no es primo\n",
    "# SI no ha entrado -> es primo"
   ]
  },
  {
   "cell_type": "code",
   "execution_count": null,
   "id": "770b1c9b",
   "metadata": {},
   "outputs": [],
   "source": [
    "\n",
    "# while  (condicion sea verdadera):\n",
    "    # Ejecutar codigo\n",
    "    #\n",
    "    # \n",
    "    # \n",
    "    \n",
    "    \n",
    "# La condicion ya no es verdadera -> salgo del while"
   ]
  },
  {
   "cell_type": "code",
   "execution_count": 96,
   "id": "754e6a1b",
   "metadata": {},
   "outputs": [
    {
     "name": "stdout",
     "output_type": "stream",
     "text": [
      "Introduzca numero horas (1): -1\n",
      "Error\n",
      "Introduzca numero horas (2): 2\n",
      "Estoy fuera del while\n"
     ]
    }
   ],
   "source": [
    "numero_horas = int(input(\"Introduzca numero horas (1): \"))\n",
    "while numero_horas < 0:\n",
    "    print(\"Error\")\n",
    "    numero_horas = int(input(\"Introduzca numero horas (2): \"))\n",
    "    \n",
    "print(\"Estoy fuera del while\")"
   ]
  },
  {
   "cell_type": "code",
   "execution_count": 99,
   "id": "c37558a8",
   "metadata": {},
   "outputs": [
    {
     "name": "stdout",
     "output_type": "stream",
     "text": [
      "Introduzca contraseña: 123dd\n"
     ]
    }
   ],
   "source": [
    "contrasena = input(\"Introduzca contraseña: \")\n",
    "# Sigo programa...."
   ]
  },
  {
   "cell_type": "code",
   "execution_count": 101,
   "id": "15a8a378",
   "metadata": {},
   "outputs": [
    {
     "data": {
      "text/plain": [
       "5"
      ]
     },
     "execution_count": 101,
     "metadata": {},
     "output_type": "execute_result"
    }
   ],
   "source": [
    "len(contrasena)"
   ]
  },
  {
   "cell_type": "code",
   "execution_count": 102,
   "id": "f2beebeb",
   "metadata": {},
   "outputs": [
    {
     "name": "stdout",
     "output_type": "stream",
     "text": [
      "Introduzca contraseña (1): adasd\n",
      "Error\n",
      "Introduzca contraseña (2): 12saddjasd\n",
      "Estoy fuera del while\n"
     ]
    }
   ],
   "source": [
    "contrasena = input(\"Introduzca contraseña (1): \")\n",
    "while len(contrasena) < 8:\n",
    "    print(\"Error\")\n",
    "    contrasena = input(\"Introduzca contraseña (2): \")\n",
    "    \n",
    "print(\"Estoy fuera del while\")"
   ]
  },
  {
   "cell_type": "code",
   "execution_count": 106,
   "id": "720e8e73",
   "metadata": {},
   "outputs": [
    {
     "name": "stdout",
     "output_type": "stream",
     "text": [
      "Introduzca edad: -2\n"
     ]
    },
    {
     "ename": "TypeError",
     "evalue": "'<' not supported between instances of 'str' and 'int'",
     "output_type": "error",
     "traceback": [
      "\u001b[1;31m---------------------------------------------------------------------------\u001b[0m",
      "\u001b[1;31mTypeError\u001b[0m                                 Traceback (most recent call last)",
      "\u001b[1;32m~\\AppData\\Local\\Temp/ipykernel_22484/1192005198.py\u001b[0m in \u001b[0;36m<module>\u001b[1;34m\u001b[0m\n\u001b[0;32m      1\u001b[0m \u001b[0medad\u001b[0m \u001b[1;33m=\u001b[0m \u001b[1;33m-\u001b[0m\u001b[1;36m1\u001b[0m\u001b[1;33m\u001b[0m\u001b[1;33m\u001b[0m\u001b[0m\n\u001b[1;32m----> 2\u001b[1;33m \u001b[1;32mwhile\u001b[0m \u001b[0medad\u001b[0m \u001b[1;33m<\u001b[0m \u001b[1;36m0\u001b[0m\u001b[1;33m:\u001b[0m\u001b[1;33m\u001b[0m\u001b[1;33m\u001b[0m\u001b[0m\n\u001b[0m\u001b[0;32m      3\u001b[0m     \u001b[0medad\u001b[0m \u001b[1;33m=\u001b[0m \u001b[0minput\u001b[0m\u001b[1;33m(\u001b[0m\u001b[1;34m\"Introduzca edad: \"\u001b[0m\u001b[1;33m)\u001b[0m\u001b[1;33m\u001b[0m\u001b[1;33m\u001b[0m\u001b[0m\n\u001b[0;32m      4\u001b[0m \u001b[1;33m\u001b[0m\u001b[0m\n\u001b[0;32m      5\u001b[0m \u001b[0mprint\u001b[0m\u001b[1;33m(\u001b[0m\u001b[1;34m\"Estoy fuera del while\"\u001b[0m\u001b[1;33m)\u001b[0m\u001b[1;33m\u001b[0m\u001b[1;33m\u001b[0m\u001b[0m\n",
      "\u001b[1;31mTypeError\u001b[0m: '<' not supported between instances of 'str' and 'int'"
     ]
    }
   ],
   "source": [
    "edad = -1\n",
    "while edad < 0:\n",
    "    edad = input(\"Introduzca edad: \")\n",
    "    \n",
    "print(\"Estoy fuera del while\")"
   ]
  },
  {
   "cell_type": "code",
   "execution_count": null,
   "id": "ddc575b5",
   "metadata": {},
   "outputs": [],
   "source": []
  }
 ],
 "metadata": {
  "kernelspec": {
   "display_name": "Python 3 (ipykernel)",
   "language": "python",
   "name": "python3"
  },
  "language_info": {
   "codemirror_mode": {
    "name": "ipython",
    "version": 3
   },
   "file_extension": ".py",
   "mimetype": "text/x-python",
   "name": "python",
   "nbconvert_exporter": "python",
   "pygments_lexer": "ipython3",
   "version": "3.7.8rc1"
  }
 },
 "nbformat": 4,
 "nbformat_minor": 5
}
