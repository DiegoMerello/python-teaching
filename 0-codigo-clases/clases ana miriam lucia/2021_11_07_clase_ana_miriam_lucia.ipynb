{
 "cells": [
  {
   "cell_type": "markdown",
   "id": "6b5f8028",
   "metadata": {},
   "source": [
    "# Condicionales"
   ]
  },
  {
   "cell_type": "code",
   "execution_count": 1,
   "id": "9783fcbe",
   "metadata": {},
   "outputs": [],
   "source": [
    "lista = [1, 2, 3, 4, 5]"
   ]
  },
  {
   "cell_type": "code",
   "execution_count": 2,
   "id": "4a3ddd3e",
   "metadata": {},
   "outputs": [],
   "source": [
    "a = 3"
   ]
  },
  {
   "cell_type": "code",
   "execution_count": 3,
   "id": "58bcdf39",
   "metadata": {},
   "outputs": [
    {
     "name": "stdout",
     "output_type": "stream",
     "text": [
      "Es impar\n"
     ]
    }
   ],
   "source": [
    "if a%2 == 1: # Es impar?\n",
    "    print(\"Es impar\")\n",
    "else:\n",
    "    print(\"Es par\")"
   ]
  },
  {
   "cell_type": "code",
   "execution_count": 4,
   "id": "19666ec4",
   "metadata": {},
   "outputs": [
    {
     "name": "stdout",
     "output_type": "stream",
     "text": [
      "Es impar\n"
     ]
    }
   ],
   "source": [
    "if a%2 == 0: # Es par?\n",
    "    print(\"Es par\")\n",
    "else:\n",
    "    print(\"Es impar\")"
   ]
  },
  {
   "cell_type": "code",
   "execution_count": 5,
   "id": "0e6c1764",
   "metadata": {},
   "outputs": [
    {
     "data": {
      "text/plain": [
       "0"
      ]
     },
     "execution_count": 5,
     "metadata": {},
     "output_type": "execute_result"
    }
   ],
   "source": [
    "20%2"
   ]
  },
  {
   "cell_type": "code",
   "execution_count": 6,
   "id": "81dd7ebd",
   "metadata": {},
   "outputs": [
    {
     "data": {
      "text/plain": [
       "1"
      ]
     },
     "execution_count": 6,
     "metadata": {},
     "output_type": "execute_result"
    }
   ],
   "source": [
    "21%2"
   ]
  },
  {
   "cell_type": "code",
   "execution_count": 7,
   "id": "6841c683",
   "metadata": {},
   "outputs": [
    {
     "data": {
      "text/plain": [
       "False"
      ]
     },
     "execution_count": 7,
     "metadata": {},
     "output_type": "execute_result"
    }
   ],
   "source": [
    "20%2 == 1"
   ]
  },
  {
   "cell_type": "markdown",
   "id": "6ccf5c81",
   "metadata": {},
   "source": [
    "Numero primo"
   ]
  },
  {
   "cell_type": "code",
   "execution_count": 8,
   "id": "7e2bd389",
   "metadata": {},
   "outputs": [
    {
     "name": "stdout",
     "output_type": "stream",
     "text": [
      "Intoduzca un número: 13\n"
     ]
    }
   ],
   "source": [
    "num_introducido = int(input(\"Intoduzca un número: \"))"
   ]
  },
  {
   "cell_type": "code",
   "execution_count": 9,
   "id": "42e21ca7",
   "metadata": {},
   "outputs": [],
   "source": [
    "# Que sea divisible entre si mismo y la unidad\n",
    "# El uno es primo? 1\n",
    "\n",
    "# 20\n",
    "# 1, 2, 4, 5, 10, 20\n",
    "\n",
    "# 60\n",
    "# 1, ..... 30, ,60\n",
    "\n",
    "# 10\n",
    "\n",
    "# 1, 2, 5, 10\n",
    "\n",
    "# 200\n",
    "# 1, 2, 4.... 100, 200\n",
    "\n",
    "# Hacer una lista de divisores hasta la mitad del numero\n",
    "# Recorremos divisores\n",
    "# Divido el número entre cada divisor\n",
    "\n",
    "# Si el resto es 0 en alguno:\n",
    "    # No es primo"
   ]
  },
  {
   "cell_type": "code",
   "execution_count": 10,
   "id": "93b7f124",
   "metadata": {},
   "outputs": [
    {
     "name": "stdout",
     "output_type": "stream",
     "text": [
      "Intoduzca un número: 13\n"
     ]
    }
   ],
   "source": [
    "num_introducido = int(input(\"Intoduzca un número: \"))"
   ]
  },
  {
   "cell_type": "code",
   "execution_count": 11,
   "id": "8cc081de",
   "metadata": {},
   "outputs": [
    {
     "name": "stdout",
     "output_type": "stream",
     "text": [
      "Vuelta\n",
      "1\n",
      "Vuelta\n",
      "2\n",
      "Vuelta\n",
      "3\n",
      "Vuelta\n",
      "4\n"
     ]
    }
   ],
   "source": [
    "lista_divisores = [1, 2, 3, 4]\n",
    "\n",
    "for cosa in lista_divisores:\n",
    "        print(\"Vuelta\")\n",
    "        print(cosa)\n",
    "        # Pruebas de si es primo"
   ]
  },
  {
   "cell_type": "code",
   "execution_count": 12,
   "id": "ed23653d",
   "metadata": {},
   "outputs": [
    {
     "name": "stdout",
     "output_type": "stream",
     "text": [
      "[1, 2, 3, 4]\n"
     ]
    }
   ],
   "source": [
    "lista = list(range(1,5))\n",
    "print(lista)"
   ]
  },
  {
   "cell_type": "code",
   "execution_count": 13,
   "id": "1f8c8d49",
   "metadata": {},
   "outputs": [
    {
     "name": "stdout",
     "output_type": "stream",
     "text": [
      "Vuelta\n",
      "1\n",
      "Vuelta\n",
      "2\n",
      "Vuelta\n",
      "3\n",
      "Vuelta\n",
      "4\n"
     ]
    }
   ],
   "source": [
    "for elemento in lista:\n",
    "    print(\"Vuelta\")\n",
    "    print(elemento)\n",
    "    "
   ]
  },
  {
   "cell_type": "code",
   "execution_count": 14,
   "id": "dedb3b67",
   "metadata": {},
   "outputs": [
    {
     "name": "stdout",
     "output_type": "stream",
     "text": [
      "Intoduzca un número: 8\n"
     ]
    }
   ],
   "source": [
    "num_introducido = int(input(\"Intoduzca un número: \"))"
   ]
  },
  {
   "cell_type": "code",
   "execution_count": 15,
   "id": "f784c29f",
   "metadata": {},
   "outputs": [
    {
     "data": {
      "text/plain": [
       "4.0"
      ]
     },
     "execution_count": 15,
     "metadata": {},
     "output_type": "execute_result"
    }
   ],
   "source": [
    "num_introducido/2"
   ]
  },
  {
   "cell_type": "code",
   "execution_count": 16,
   "id": "ffe49783",
   "metadata": {},
   "outputs": [
    {
     "data": {
      "text/plain": [
       "4"
      ]
     },
     "execution_count": 16,
     "metadata": {},
     "output_type": "execute_result"
    }
   ],
   "source": [
    "num_introducido//2"
   ]
  },
  {
   "cell_type": "code",
   "execution_count": 17,
   "id": "461a6ae6",
   "metadata": {},
   "outputs": [
    {
     "name": "stdout",
     "output_type": "stream",
     "text": [
      "Intoduzca un número: 9\n"
     ]
    }
   ],
   "source": [
    "num_introducido = int(input(\"Intoduzca un número: \"))"
   ]
  },
  {
   "cell_type": "code",
   "execution_count": 18,
   "id": "72227eef",
   "metadata": {},
   "outputs": [
    {
     "data": {
      "text/plain": [
       "[2, 3, 4]"
      ]
     },
     "execution_count": 18,
     "metadata": {},
     "output_type": "execute_result"
    }
   ],
   "source": [
    "list(range(2,num_introducido//2+1))"
   ]
  },
  {
   "cell_type": "code",
   "execution_count": 19,
   "id": "f93ea751",
   "metadata": {},
   "outputs": [
    {
     "name": "stdout",
     "output_type": "stream",
     "text": [
      "9\n",
      "Si primo\n",
      "No primo\n",
      "Si primo\n"
     ]
    }
   ],
   "source": [
    "print(num_introducido)\n",
    "for posible_divisor in range(2,num_introducido//2+1):\n",
    "    resto = num_introducido%posible_divisor\n",
    "    \n",
    "    if resto == 0:\n",
    "        print(\"No primo\")\n",
    "    else:\n",
    "        print(\"Si primo\")\n",
    "\n",
    "# SI ha entrado alguna vez en resto == 0 -> no es primo\n",
    "# SI no ha entrado -> es primo"
   ]
  },
  {
   "cell_type": "code",
   "execution_count": 20,
   "id": "505aa79e",
   "metadata": {},
   "outputs": [
    {
     "name": "stdout",
     "output_type": "stream",
     "text": [
      "9\n",
      "He entrado en resto == 0 alguna vez\n",
      "No es primo\n"
     ]
    }
   ],
   "source": [
    "print(num_introducido)\n",
    "primo = 1\n",
    "for posible_divisor in range(2,num_introducido//2+1):\n",
    "    resto = num_introducido%posible_divisor\n",
    "    \n",
    "    if resto == 0:\n",
    "        primo = 0\n",
    "\n",
    "        \n",
    "        \n",
    "\n",
    "if primo == 0:\n",
    "    print(\"He entrado en resto == 0 alguna vez\")\n",
    "    print(\"No es primo\")\n",
    "else:\n",
    "    print(\"No he entrado\")\n",
    "    print(\"Es primo\")\n",
    "        \n",
    "# SI ha entrado alguna vez en resto == 0 -> no es primo\n",
    "# SI no ha entrado -> es primo"
   ]
  },
  {
   "cell_type": "code",
   "execution_count": 21,
   "id": "770b1c9b",
   "metadata": {},
   "outputs": [],
   "source": [
    "\n",
    "# while  (condicion sea verdadera):\n",
    "    # Ejecutar codigo\n",
    "    #\n",
    "    # \n",
    "    # \n",
    "    \n",
    "    \n",
    "# La condicion ya no es verdadera -> salgo del while"
   ]
  },
  {
   "cell_type": "code",
   "execution_count": 22,
   "id": "754e6a1b",
   "metadata": {},
   "outputs": [
    {
     "name": "stdout",
     "output_type": "stream",
     "text": [
      "Introduzca numero horas (1): 2\n",
      "Estoy fuera del while\n"
     ]
    }
   ],
   "source": [
    "numero_horas = int(input(\"Introduzca numero horas (1): \"))\n",
    "while numero_horas < 0:\n",
    "    print(\"Error\")\n",
    "    numero_horas = int(input(\"Introduzca numero horas (2): \"))\n",
    "    \n",
    "print(\"Estoy fuera del while\")"
   ]
  },
  {
   "cell_type": "code",
   "execution_count": 23,
   "id": "c37558a8",
   "metadata": {},
   "outputs": [
    {
     "name": "stdout",
     "output_type": "stream",
     "text": [
      "Introduzca contraseña: asdad\n"
     ]
    }
   ],
   "source": [
    "contrasena = input(\"Introduzca contraseña: \")\n",
    "# Sigo programa...."
   ]
  },
  {
   "cell_type": "code",
   "execution_count": 24,
   "id": "15a8a378",
   "metadata": {},
   "outputs": [
    {
     "data": {
      "text/plain": [
       "5"
      ]
     },
     "execution_count": 24,
     "metadata": {},
     "output_type": "execute_result"
    }
   ],
   "source": [
    "len(contrasena)"
   ]
  },
  {
   "cell_type": "code",
   "execution_count": 25,
   "id": "f2beebeb",
   "metadata": {},
   "outputs": [
    {
     "name": "stdout",
     "output_type": "stream",
     "text": [
      "Introduzca contraseña (1): aasd\n",
      "Error\n",
      "Introduzca contraseña (2): asdafgggggg\n",
      "Estoy fuera del while\n"
     ]
    }
   ],
   "source": [
    "contrasena = input(\"Introduzca contraseña (1): \")\n",
    "while len(contrasena) < 8:\n",
    "    print(\"Error\")\n",
    "    contrasena = input(\"Introduzca contraseña (2): \")\n",
    "    \n",
    "print(\"Estoy fuera del while\")"
   ]
  },
  {
   "cell_type": "code",
   "execution_count": 27,
   "id": "720e8e73",
   "metadata": {},
   "outputs": [
    {
     "name": "stdout",
     "output_type": "stream",
     "text": [
      "Introduzca edad: 213\n",
      "Estoy fuera del while\n"
     ]
    }
   ],
   "source": [
    "edad = -1\n",
    "while edad < 0:\n",
    "    edad = int(input(\"Introduzca edad: \"))\n",
    "    \n",
    "print(\"Estoy fuera del while\")"
   ]
  },
  {
   "cell_type": "markdown",
   "id": "42169297",
   "metadata": {},
   "source": [
    "# Explicación .format"
   ]
  },
  {
   "cell_type": "code",
   "execution_count": 41,
   "id": "b5f89a9a",
   "metadata": {},
   "outputs": [
    {
     "name": "stdout",
     "output_type": "stream",
     "text": [
      "3\n"
     ]
    }
   ],
   "source": [
    "# Quiero mostrar con un print() la siguiente variable por pantalla:\n",
    "a = 3\n",
    "# Puedo poner directamente:\n",
    "print(a)"
   ]
  },
  {
   "cell_type": "code",
   "execution_count": 31,
   "id": "1b5b2032",
   "metadata": {},
   "outputs": [
    {
     "ename": "TypeError",
     "evalue": "can only concatenate str (not \"int\") to str",
     "output_type": "error",
     "traceback": [
      "\u001b[1;31m---------------------------------------------------------------------------\u001b[0m",
      "\u001b[1;31mTypeError\u001b[0m                                 Traceback (most recent call last)",
      "\u001b[1;32m~\\AppData\\Local\\Temp/ipykernel_23356/1217152394.py\u001b[0m in \u001b[0;36m<module>\u001b[1;34m\u001b[0m\n\u001b[0;32m      1\u001b[0m \u001b[1;31m# Pero si quiero añadir algo de texto explicativo:\u001b[0m\u001b[1;33m\u001b[0m\u001b[1;33m\u001b[0m\u001b[1;33m\u001b[0m\u001b[0m\n\u001b[1;32m----> 2\u001b[1;33m \u001b[0mprint\u001b[0m\u001b[1;33m(\u001b[0m\u001b[1;34m\"La edad es: \"\u001b[0m \u001b[1;33m+\u001b[0m \u001b[0ma\u001b[0m\u001b[1;33m)\u001b[0m\u001b[1;33m\u001b[0m\u001b[1;33m\u001b[0m\u001b[0m\n\u001b[0m",
      "\u001b[1;31mTypeError\u001b[0m: can only concatenate str (not \"int\") to str"
     ]
    }
   ],
   "source": [
    "# Pero si quiero añadir algo de texto explicativo falla:\n",
    "print(\"La edad es: \" + a)"
   ]
  },
  {
   "cell_type": "code",
   "execution_count": 33,
   "id": "86ba5505",
   "metadata": {},
   "outputs": [
    {
     "name": "stdout",
     "output_type": "stream",
     "text": [
      "La edad es: 3\n"
     ]
    }
   ],
   "source": [
    "# No se puede concatenar un int (la variable \"a\") con un string (\"La edad es: \")\n",
    "# Si quisiera hacerlo, tendría que convertirlo a string de la siguiente manera:\n",
    "print(\"La edad es: \" + str(a))"
   ]
  },
  {
   "cell_type": "code",
   "execution_count": 42,
   "id": "dd18b362",
   "metadata": {},
   "outputs": [
    {
     "name": "stdout",
     "output_type": "stream",
     "text": [
      "La edad es: 3\n"
     ]
    }
   ],
   "source": [
    "# Esto es fácil con pocas variables, pero cuando empezamos a añadir más, empieza a ser un lío de paréntesis, \"+\" y str(). \n",
    "# Por eso se utiliza el .format\n",
    "\n",
    "# Indicas con { } los lugares donde introducir las variables que ponemos dentro del format\n",
    "print(\"La edad es: {0}\".format(a))"
   ]
  },
  {
   "cell_type": "code",
   "execution_count": 43,
   "id": "72a6a5a6",
   "metadata": {},
   "outputs": [
    {
     "name": "stdout",
     "output_type": "stream",
     "text": [
      "La edad es: 3. El precio es: 40.3\n"
     ]
    }
   ],
   "source": [
    "# Si tengo varias variables, hago dos posiciones {0} y {1}, ahí entrarán (en orden) las dos cosas que ponga en el .format()\n",
    "# No me tengo que preocupar de si son string, float o cualquier otro tipo\n",
    "b = 40.3\n",
    "print(\"La edad es: {0}. El precio es: {1}\".format(a, b))"
   ]
  },
  {
   "cell_type": "code",
   "execution_count": null,
   "id": "bc17fc0f",
   "metadata": {},
   "outputs": [],
   "source": []
  }
 ],
 "metadata": {
  "kernelspec": {
   "display_name": "Python 3 (ipykernel)",
   "language": "python",
   "name": "python3"
  },
  "language_info": {
   "codemirror_mode": {
    "name": "ipython",
    "version": 3
   },
   "file_extension": ".py",
   "mimetype": "text/x-python",
   "name": "python",
   "nbconvert_exporter": "python",
   "pygments_lexer": "ipython3",
   "version": "3.7.8rc1"
  }
 },
 "nbformat": 4,
 "nbformat_minor": 5
}
