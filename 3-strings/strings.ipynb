{
 "cells": [
  {
   "cell_type": "markdown",
   "id": "a06e1560",
   "metadata": {},
   "source": [
    "# Programa 1"
   ]
  },
  {
   "cell_type": "code",
   "execution_count": 4,
   "id": "1a344edc",
   "metadata": {},
   "outputs": [],
   "source": [
    "def eliminar_vocales(palabra):\n",
    "    vocales = ('a', 'e', 'i', 'o', 'u')\n",
    "    for letra in palabra:\n",
    "        if letra in vocales:\n",
    "            palabra = palabra.replace(letra,\"\")\n",
    "    return palabra"
   ]
  },
  {
   "cell_type": "code",
   "execution_count": 6,
   "id": "5f309579",
   "metadata": {},
   "outputs": [
    {
     "data": {
      "text/plain": [
       "'Est s n cdn d txt'"
      ]
     },
     "execution_count": 6,
     "metadata": {},
     "output_type": "execute_result"
    }
   ],
   "source": [
    "eliminar_vocales(\"Esta es una cadena de texto\")"
   ]
  },
  {
   "cell_type": "markdown",
   "id": "905c0d77",
   "metadata": {},
   "source": [
    "# Programa 2"
   ]
  },
  {
   "cell_type": "code",
   "execution_count": 1,
   "id": "2b49dbe0",
   "metadata": {},
   "outputs": [
    {
     "name": "stdout",
     "output_type": "stream",
     "text": [
      "Introduzca una frase: Esta es una frase larga\n"
     ]
    }
   ],
   "source": [
    "linea_de_texto = input(\"Introduzca una frase: \")"
   ]
  },
  {
   "cell_type": "code",
   "execution_count": 2,
   "id": "a89aae20",
   "metadata": {},
   "outputs": [
    {
     "data": {
      "text/plain": [
       "['Esta', 'es', 'una', 'frase', 'larga']"
      ]
     },
     "execution_count": 2,
     "metadata": {},
     "output_type": "execute_result"
    }
   ],
   "source": [
    "lista_de_palabras = linea_de_texto.split(\" \")\n",
    "lista_de_palabras"
   ]
  },
  {
   "cell_type": "code",
   "execution_count": 3,
   "id": "2547823b",
   "metadata": {},
   "outputs": [],
   "source": [
    "segunda_palabra = lista_de_palabras[1]"
   ]
  },
  {
   "cell_type": "code",
   "execution_count": 4,
   "id": "30add128",
   "metadata": {},
   "outputs": [
    {
     "name": "stdout",
     "output_type": "stream",
     "text": [
      "Las dos cadenas son: \n",
      "['Esta', 'es', 'una', 'frase', 'larga']\n",
      "es\n"
     ]
    }
   ],
   "source": [
    "print(\"Las dos cadenas son: \")\n",
    "print(lista_de_palabras)\n",
    "print(segunda_palabra)"
   ]
  },
  {
   "cell_type": "markdown",
   "id": "502eba4b",
   "metadata": {},
   "source": [
    "# Programa 3"
   ]
  },
  {
   "cell_type": "markdown",
   "id": "9ece3c5a",
   "metadata": {},
   "source": [
    "**1.**"
   ]
  },
  {
   "cell_type": "code",
   "execution_count": 5,
   "id": "d0c1cd2b",
   "metadata": {},
   "outputs": [
    {
     "name": "stdout",
     "output_type": "stream",
     "text": [
      "Introduzca una frase: Esta es otra frase larga\n"
     ]
    }
   ],
   "source": [
    "linea_de_texto = input(\"Introduzca una frase: \")"
   ]
  },
  {
   "cell_type": "code",
   "execution_count": 7,
   "id": "b5d1974d",
   "metadata": {},
   "outputs": [
    {
     "name": "stdout",
     "output_type": "stream",
     "text": [
      "             Esta es otra frase larga             \n"
     ]
    }
   ],
   "source": [
    "centrado = linea_de_texto.center(50)\n",
    "print(centrado)"
   ]
  },
  {
   "cell_type": "markdown",
   "id": "cbaa25af",
   "metadata": {},
   "source": [
    "**2.**"
   ]
  },
  {
   "cell_type": "code",
   "execution_count": 9,
   "id": "90216c09",
   "metadata": {},
   "outputs": [
    {
     "name": "stdout",
     "output_type": "stream",
     "text": [
      "Longitud: 24\n"
     ]
    }
   ],
   "source": [
    "print(\"Longitud: \" + str(len(linea_de_texto)))"
   ]
  },
  {
   "cell_type": "markdown",
   "id": "8f8ff788",
   "metadata": {},
   "source": [
    "**3.**"
   ]
  },
  {
   "cell_type": "code",
   "execution_count": 13,
   "id": "116f31f3",
   "metadata": {},
   "outputs": [
    {
     "name": "stdout",
     "output_type": "stream",
     "text": [
      "ESTA ES OTRA FRASE LARGA\n"
     ]
    }
   ],
   "source": [
    "print(linea_de_texto.upper())"
   ]
  },
  {
   "cell_type": "markdown",
   "id": "07b7c3da",
   "metadata": {},
   "source": [
    "**4.**"
   ]
  },
  {
   "cell_type": "code",
   "execution_count": 37,
   "id": "952a5077",
   "metadata": {},
   "outputs": [
    {
     "name": "stdout",
     "output_type": "stream",
     "text": [
      "Introduzca la palabra a buscar: otra\n"
     ]
    }
   ],
   "source": [
    "palabra_a_buscar = input(\"Introduzca la palabra a buscar: \")"
   ]
  },
  {
   "cell_type": "code",
   "execution_count": 38,
   "id": "d68193db",
   "metadata": {},
   "outputs": [
    {
     "data": {
      "text/plain": [
       "['Esta', 'es', 'otra', 'frase', 'larga']"
      ]
     },
     "execution_count": 38,
     "metadata": {},
     "output_type": "execute_result"
    }
   ],
   "source": [
    "lista_de_palabras = linea_de_texto.split(\" \")\n",
    "lista_de_palabras"
   ]
  },
  {
   "cell_type": "code",
   "execution_count": 40,
   "id": "1dcf591d",
   "metadata": {},
   "outputs": [
    {
     "data": {
      "text/plain": [
       "2"
      ]
     },
     "execution_count": 40,
     "metadata": {},
     "output_type": "execute_result"
    }
   ],
   "source": [
    "posicion = lista_de_palabras.index(palabra_a_buscar)\n",
    "posicion"
   ]
  },
  {
   "cell_type": "code",
   "execution_count": 42,
   "id": "bd760c38",
   "metadata": {},
   "outputs": [
    {
     "name": "stdout",
     "output_type": "stream",
     "text": [
      "La palabra 'otra' está en la posición 2\n"
     ]
    }
   ],
   "source": [
    "print(\"La palabra '\" + palabra_a_buscar + \"' está en la posición \" + str(posicion))"
   ]
  },
  {
   "cell_type": "markdown",
   "id": "861a2307",
   "metadata": {},
   "source": [
    "# Programa 4"
   ]
  },
  {
   "cell_type": "code",
   "execution_count": 76,
   "id": "e560b237",
   "metadata": {},
   "outputs": [
    {
     "name": "stdout",
     "output_type": "stream",
     "text": [
      "Introduzca la frase: Esta es Una terCEra FRase\n"
     ]
    }
   ],
   "source": [
    "frase_introducida = input(\"Introduzca la frase: \")"
   ]
  },
  {
   "cell_type": "markdown",
   "id": "b1f78237",
   "metadata": {},
   "source": [
    "Primero separamos por palabras"
   ]
  },
  {
   "cell_type": "code",
   "execution_count": 77,
   "id": "99bcd4f6",
   "metadata": {},
   "outputs": [
    {
     "data": {
      "text/plain": [
       "['Esta', 'es', 'Una', 'terCEra', 'FRase']"
      ]
     },
     "execution_count": 77,
     "metadata": {},
     "output_type": "execute_result"
    }
   ],
   "source": [
    "lista_de_palabras = frase_introducida.split(\" \")\n",
    "lista_de_palabras"
   ]
  },
  {
   "cell_type": "markdown",
   "id": "af3e2c85",
   "metadata": {},
   "source": [
    "Ahora recorremos cada palabra comprobando si es "
   ]
  },
  {
   "cell_type": "code",
   "execution_count": 82,
   "id": "7155c25f",
   "metadata": {},
   "outputs": [],
   "source": [
    "siglas = \"\"\n",
    "for palabra in lista_de_palabras:\n",
    "    if palabra[0] == palabra[0].upper():\n",
    "        siglas = siglas + palabra[0]"
   ]
  },
  {
   "cell_type": "code",
   "execution_count": 83,
   "id": "3920c9a0",
   "metadata": {},
   "outputs": [
    {
     "data": {
      "text/plain": [
       "'EUF'"
      ]
     },
     "execution_count": 83,
     "metadata": {},
     "output_type": "execute_result"
    }
   ],
   "source": [
    "siglas"
   ]
  },
  {
   "cell_type": "markdown",
   "id": "bfff86bc",
   "metadata": {},
   "source": [
    "# Programa 5"
   ]
  },
  {
   "cell_type": "code",
   "execution_count": 84,
   "id": "7f540996",
   "metadata": {},
   "outputs": [
    {
     "name": "stdout",
     "output_type": "stream",
     "text": [
      "Introduzca la frase: La última frase de la práctica\n"
     ]
    }
   ],
   "source": [
    "frase_introducida = input(\"Introduzca la frase: \")"
   ]
  },
  {
   "cell_type": "markdown",
   "id": "a9efef86",
   "metadata": {},
   "source": [
    "Primero separamos por palabras"
   ]
  },
  {
   "cell_type": "code",
   "execution_count": 85,
   "id": "4ad25414",
   "metadata": {},
   "outputs": [
    {
     "data": {
      "text/plain": [
       "['La', 'última', 'frase', 'de', 'la', 'práctica']"
      ]
     },
     "execution_count": 85,
     "metadata": {},
     "output_type": "execute_result"
    }
   ],
   "source": [
    "lista_de_palabras = frase_introducida.split(\" \")\n",
    "lista_de_palabras"
   ]
  },
  {
   "cell_type": "code",
   "execution_count": 86,
   "id": "84b1730e",
   "metadata": {},
   "outputs": [
    {
     "name": "stdout",
     "output_type": "stream",
     "text": [
      "L\n",
      "Ú\n",
      "F\n",
      "D\n",
      "L\n",
      "P\n"
     ]
    }
   ],
   "source": [
    "for palabra in lista_de_palabras:\n",
    "    print(palabra[0].upper())"
   ]
  },
  {
   "cell_type": "code",
   "execution_count": null,
   "id": "b2fdd82b",
   "metadata": {},
   "outputs": [],
   "source": []
  }
 ],
 "metadata": {
  "kernelspec": {
   "display_name": "Python 3 (ipykernel)",
   "language": "python",
   "name": "python3"
  },
  "language_info": {
   "codemirror_mode": {
    "name": "ipython",
    "version": 3
   },
   "file_extension": ".py",
   "mimetype": "text/x-python",
   "name": "python",
   "nbconvert_exporter": "python",
   "pygments_lexer": "ipython3",
   "version": "3.7.8rc1"
  }
 },
 "nbformat": 4,
 "nbformat_minor": 5
}
